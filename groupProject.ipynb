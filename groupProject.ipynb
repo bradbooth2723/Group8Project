{
 "cells": [
  {
   "cell_type": "markdown",
   "id": "7ac742b7",
   "metadata": {},
   "source": [
    "1.  Name:\t    Name of the country concerned\n",
    "2.  Landmass:\t1=N.America, 2=S.America, 3=Europe, 4=Africa, 4=Asia, 6=Oceania\n",
    "3.  Zone:\t    Geographic quadrant, based on Greenwich and the Equator: 1=NE, 2=SE, 3=SW, 4=NW\n",
    "4.  Area:\t    in thousands of square km\n",
    "5.  Population:\tin round millions\n",
    "6.  Language     1=English, 2=Spanish, 3=French, 4=German, 5=Slavic, 6=Other Indo-European, 7=Chinese, 8=Arabic, 9=Japanese/Turkish/Finnish/Magyar, 10=Others\n",
    "7.  Religion     0=Catholic, 1=Other Christian, 2=Muslim, 3=Buddhist, 4=Hindu, 5=Ethnic, 6=Marxist, 7=Others\n",
    "8.  Bars         Number of vertical bars in the flag\n",
    "9.  Stripes      Number of horizontal stripes in the flag\n",
    "10. Colours      Number of different colours in the flag\n",
    "11. Red          0 if red absent, 1 if red present in the flag\n",
    "12. Green        same for green\n",
    "13. Blue         same for blue\n",
    "14. Gold         same for gold (also yellow)\n",
    "15. White        same for white\n",
    "16. Black        same for black\n",
    "17. Orange       same for orange (also brown)\n",
    "18. Mainhue      predominant colour in the flag (tie-breaks decided by taking the topmost hue, if that fails then the most central hue, and if that fails the leftmost hue)\n",
    "19. Circles      Number of circles in the flag\n",
    "20. Crosses      Number of (upright) crosses\n",
    "21. Saltires     Number of diagonal crosses\n",
    "22. Quarters     Number of quartered sections\n",
    "23. Sunstars     Number of sun or star symbols\n",
    "24. Crescent     1 if a crescent moon symbol present, else 0\n",
    "25. Triangle     1 if any triangles present, 0 otherwise\n",
    "26. Icon         1 if an inanimate image present (e.g., a boat), otherwise 0\n",
    "27. Animate      1 if an animate image (e.g., an eagle, a tree, a human hand) present, 0 otherwise\n",
    "28. Text         1 if any letters or writing on the flag (e.g., a motto or slogan), 0 otherwise\n",
    "29. Topleft      Colour in the top-left corner (moving right to decide tie-breaks)\n",
    "30. Botright     Colour in the bottom-left corner (moving left to decide tie-breaks)\n"
   ]
  },
  {
   "cell_type": "code",
   "execution_count": 19,
   "id": "bea35230",
   "metadata": {
    "scrolled": false
   },
   "outputs": [
    {
     "name": "stdout",
     "output_type": "stream",
     "text": [
      "               Name  Landmass  Zone  Area  Population  Language  Religion  \\\n",
      "0       Afghanistan         5     1   648          16        10         2   \n",
      "1           Albania         3     1    29           3         6         6   \n",
      "2           Algeria         4     1  2388          20         8         2   \n",
      "3    American-Samoa         6     3     0           0         1         1   \n",
      "4           Andorra         3     1     0           0         6         0   \n",
      "..              ...       ...   ...   ...         ...       ...       ...   \n",
      "189   Western-Samoa         6     3     3           0         1         1   \n",
      "190      Yugoslavia         3     1   256          22         6         6   \n",
      "191           Zaire         4     2   905          28        10         5   \n",
      "192          Zambia         4     2   753           6        10         5   \n",
      "193        Zimbabwe         4     2   391           8        10         5   \n",
      "\n",
      "     Bars  Stripes  Colours  ...  Saltires  Quarters  Sunstars  Crescent  \\\n",
      "0       0        3        5  ...         0         0         1         0   \n",
      "1       0        0        3  ...         0         0         1         0   \n",
      "2       2        0        3  ...         0         0         1         1   \n",
      "3       0        0        5  ...         0         0         0         0   \n",
      "4       3        0        3  ...         0         0         0         0   \n",
      "..    ...      ...      ...  ...       ...       ...       ...       ...   \n",
      "189     0        0        3  ...         0         1         5         0   \n",
      "190     0        3        4  ...         0         0         1         0   \n",
      "191     0        0        4  ...         0         0         0         0   \n",
      "192     3        0        4  ...         0         0         0         0   \n",
      "193     0        7        5  ...         0         0         1         0   \n",
      "\n",
      "     Triangle  Icon  Animate Text  Topleft  Botright  \n",
      "0           0     1        0    0    black     green  \n",
      "1           0     0        1    0      red       red  \n",
      "2           0     0        0    0    green     white  \n",
      "3           1     1        1    0     blue       red  \n",
      "4           0     0        0    0     blue       red  \n",
      "..        ...   ...      ...  ...      ...       ...  \n",
      "189         0     0        0    0     blue       red  \n",
      "190         0     0        0    0     blue       red  \n",
      "191         0     1        1    0    green     green  \n",
      "192         0     0        1    0    green     brown  \n",
      "193         1     1        1    0    green     green  \n",
      "\n",
      "[194 rows x 30 columns]\n"
     ]
    }
   ],
   "source": [
    "import pandas as pd\n",
    "import numpy as np\n",
    "flags = pd.read_csv('./flag(1).data', sep=',')\n",
    "print(flags)"
   ]
  },
  {
   "cell_type": "markdown",
   "id": "0da1ee35",
   "metadata": {},
   "source": [
    "I think Name is an unimportant column so I think we will drop that.\n",
    "\n",
    "Columns with labels are Landmass, Zone, Language and Religion.  So those need to be encoded.\n",
    "\n",
    "For classifying output, I think I will do all of the columns with labels...I don't want landmass predicting religion or anything like that...this is simply about flags."
   ]
  },
  {
   "cell_type": "code",
   "execution_count": 20,
   "id": "45f657ae",
   "metadata": {},
   "outputs": [
    {
     "name": "stdout",
     "output_type": "stream",
     "text": [
      "Index(['Name', 'Landmass', 'Zone', 'Area', 'Population', 'Language',\n",
      "       'Religion', 'Bars', 'Stripes', 'Colours', 'Red', 'Green', 'Blue',\n",
      "       'Gold', 'White', 'Black', 'Orange', 'Mainhue', 'Circles', 'Crosses',\n",
      "       'Saltires', 'Quarters', 'Sunstars', 'Crescent', 'Triangle', 'Icon',\n",
      "       'Animate', 'Text', 'Topleft', 'Botright'],\n",
      "      dtype='object')\n"
     ]
    }
   ],
   "source": [
    "print(flags.columns)"
   ]
  },
  {
   "cell_type": "code",
   "execution_count": 67,
   "id": "0f1c606c",
   "metadata": {
    "scrolled": false
   },
   "outputs": [
    {
     "name": "stdout",
     "output_type": "stream",
     "text": [
      "[[0 0 0 0 1 0]\n",
      " [0 0 1 0 0 0]\n",
      " [0 0 0 1 0 0]\n",
      " ...\n",
      " [0 0 0 1 0 0]\n",
      " [0 0 0 1 0 0]\n",
      " [0 0 0 1 0 0]]\n",
      "[[0 0 0 ... 0 0 1]\n",
      " [0 0 0 ... 0 0 0]\n",
      " [0 0 0 ... 1 0 0]\n",
      " ...\n",
      " [0 0 0 ... 0 0 1]\n",
      " [0 0 0 ... 0 0 1]\n",
      " [0 0 0 ... 0 0 1]]\n"
     ]
    }
   ],
   "source": [
    "from sklearn.preprocessing import MinMaxScaler\n",
    "\n",
    "pd.set_option('display.max_columns', None)\n",
    "\n",
    "flagsOut = flags.drop('Name', axis = 1)\n",
    "\n",
    "landmass = pd.get_dummies(flagsOut.Landmass)\n",
    "language = pd.get_dummies(flagsOut.Language)\n",
    "religion = pd.get_dummies(flagsOut.Religion)\n",
    "zone = pd.get_dummies(flagsOut.Zone)\n",
    "\n",
    "flagsOut = flagsOut.drop('Landmass', axis = 1)\n",
    "flagsOut = flagsOut.drop('Language', axis = 1)\n",
    "flagsOut = flagsOut.drop('Religion', axis = 1)\n",
    "flagsOut = flagsOut.drop('Zone', axis = 1)\n",
    "\n",
    "x = pd.get_dummies(flagsOut.Topleft, prefix='topleft')\n",
    "y = pd.get_dummies(flagsOut.Botright, prefix = 'botright')\n",
    "z = pd.get_dummies(flagsOut.Mainhue, prefix = 'mainhue')\n",
    "\n",
    "flagsOut = flagsOut.drop('Botright', axis=1)\n",
    "flagsOut = flagsOut.drop('Topleft', axis=1)\n",
    "flagsOut = flagsOut.drop('Mainhue', axis=1)\n",
    "\n",
    "flagsOut = flagsOut.join(w)\n",
    "flagsOut = flagsOut.join(x)\n",
    "flagsOut = flagsOut.join(y)\n",
    "flagsOut = flagsOut.join(z)\n",
    "\n",
    "scaler = MinMaxScaler()\n",
    "flagsScaled = scaler.fit_transform(flagsOut)  #flagsScaled is a numpy array\n",
    "land = landmass.to_numpy()\n",
    "lang = language.to_numpy()\n",
    "rlgn = religion.to_numpy()\n",
    "zn = zone.to_numpy()\n",
    "\n",
    "print(land)\n",
    "print(lang)"
   ]
  },
  {
   "cell_type": "markdown",
   "id": "a930d024",
   "metadata": {},
   "source": [
    "# Fun With Flags Episode 1: Can flag metrics predict land mass?\n",
    "*Hint: They do not"
   ]
  },
  {
   "cell_type": "code",
   "execution_count": 61,
   "id": "868ce09f",
   "metadata": {},
   "outputs": [],
   "source": [
    "from tensorflow.keras.models import Sequential\n",
    "from tensorflow.keras.layers import Dense\n",
    "from tensorflow.keras.optimizers import SGD\n",
    "\n",
    "model = Sequential()\n",
    "\n",
    "layers = [\n",
    "    Dense(18, activation='sigmoid', name='layer1'),\n",
    "    Dense(9, activation='sigmoid', name='layer2'),\n",
    "    Dense(6, activation='sigmoid', name='Output')\n",
    "]\n",
    "\n",
    "for layer in layers:\n",
    "    model.add(layer)\n",
    "\n",
    "model.compile(optimizer=SGD(learning_rate=.3), loss='mse', metrics=['accuracy'])\n",
    "hist = model.fit(flagsScaled, land, validation_split=.2, epochs=500, verbose=0)"
   ]
  },
  {
   "cell_type": "code",
   "execution_count": 62,
   "id": "1457a19a",
   "metadata": {},
   "outputs": [
    {
     "name": "stdout",
     "output_type": "stream",
     "text": [
      "Training Error: 0.134\n",
      "Training Accuracy: 0.265\n"
     ]
    }
   ],
   "source": [
    "from sklearn.model_selection import train_test_split\n",
    "\n",
    "flagsTrain, flagsTest, landTrain, landTest = train_test_split(flagsScaled, land, test_size = 0.20, random_state=5)\n",
    "\n",
    "pred_train= model.predict(flagsTrain)\n",
    "score, acc = model.evaluate(flagsTrain, landTrain, verbose=0)\n",
    "print('Training Error: %.3f' % score)\n",
    "print('Training Accuracy: %.3f' % acc)"
   ]
  },
  {
   "cell_type": "code",
   "execution_count": 65,
   "id": "720bc094",
   "metadata": {},
   "outputs": [
    {
     "name": "stdout",
     "output_type": "stream",
     "text": [
      "Test Error: 0.133\n",
      "Test Accuracy: 0.282\n"
     ]
    }
   ],
   "source": [
    "pred_train= model.predict(flagsTest)\n",
    "score, acc = model.evaluate(flagsTest, landTest, verbose=0)\n",
    "print('Test Error: %.3f' % score)\n",
    "print('Test Accuracy: %.3f' % acc)"
   ]
  },
  {
   "cell_type": "code",
   "execution_count": 63,
   "id": "b2859ee6",
   "metadata": {},
   "outputs": [
    {
     "data": {
      "image/png": "[encoded data removed]",
      "text/plain": [
       "<Figure size 432x288 with 1 Axes>"
      ]
     },
     "metadata": {
      "needs_background": "light"
     },
     "output_type": "display_data"
    }
   ],
   "source": [
    "import matplotlib.pyplot as plt\n",
    "\n",
    "plt.plot(hist.history['loss'])\n",
    "plt.plot(hist.history['val_loss'])\n",
    "plt.title('Model Loss Curve')\n",
    "plt.ylabel('Loss')\n",
    "plt.xlabel('Epoch')\n",
    "plt.legend(['train', 'test'], loc='upper right')\n",
    "plt.show()"
   ]
  },
  {
   "cell_type": "code",
   "execution_count": 64,
   "id": "3211f97a",
   "metadata": {},
   "outputs": [
    {
     "data": {
      "image/png": "[encoded data removed]",
      "text/plain": [
       "<Figure size 432x288 with 1 Axes>"
      ]
     },
     "metadata": {
      "needs_background": "light"
     },
     "output_type": "display_data"
    }
   ],
   "source": [
    "plt.plot(hist.history['accuracy'])\n",
    "plt.plot(hist.history['val_accuracy'])\n",
    "plt.title('Model Accuracy')\n",
    "plt.ylabel('Accuracy')\n",
    "plt.xlabel('Epochs')\n",
    "plt.legend(['train', 'test'], loc='upper left')\n",
    "plt.show()"
   ]
  },
  {
   "cell_type": "markdown",
   "id": "842c9342",
   "metadata": {},
   "source": [
    "# TODO//Do hyper tension to see if we can get better results\n",
    "As of now, elements of a flag are not a good characterist to see what landmass the flag is from.  Stay tuned for another episode of fun with flags."
   ]
  },
  {
   "cell_type": "markdown",
   "id": "ea3df003",
   "metadata": {},
   "source": [
    "# Fun With Flags Episode 2: Can flag metrics predict language?\n",
    "Probably not lol"
   ]
  },
  {
   "cell_type": "code",
   "execution_count": 74,
   "id": "e86c28b4",
   "metadata": {},
   "outputs": [],
   "source": [
    "from tensorflow.keras.models import Sequential\n",
    "from tensorflow.keras.layers import Dense\n",
    "from tensorflow.keras.optimizers import SGD\n",
    "\n",
    "model = Sequential()\n",
    "\n",
    "layers = [\n",
    "    Dense(20, activation='sigmoid', name='layer1'),\n",
    "    Dense(15, activation='sigmoid', name='layer2'),\n",
    "    Dense(10, activation='sigmoid', name='Output')\n",
    "]\n",
    "\n",
    "for layer in layers:\n",
    "    model.add(layer)\n",
    "\n",
    "model.compile(optimizer=SGD(learning_rate=.3), loss='mse', metrics=['accuracy'])\n",
    "hist = model.fit(flagsScaled, lang, validation_split=.2, epochs=50, verbose=0)"
   ]
  },
  {
   "cell_type": "code",
   "execution_count": 75,
   "id": "39087648",
   "metadata": {},
   "outputs": [
    {
     "name": "stdout",
     "output_type": "stream",
     "text": [
      "Training Error: 0.086\n",
      "Training Accuracy: 0.239\n"
     ]
    }
   ],
   "source": [
    "from sklearn.model_selection import train_test_split\n",
    "\n",
    "flagsTrain, flagsTest, langTrain, langTest = train_test_split(flagsScaled, lang, test_size = 0.20, random_state=5)\n",
    "\n",
    "pred_train= model.predict(flagsTrain)\n",
    "score, acc = model.evaluate(flagsTrain, langTrain, verbose=0)\n",
    "print('Training Error: %.3f' % score)\n",
    "print('Training Accuracy: %.3f' % acc)"
   ]
  },
  {
   "cell_type": "code",
   "execution_count": 76,
   "id": "4004cccb",
   "metadata": {},
   "outputs": [
    {
     "name": "stdout",
     "output_type": "stream",
     "text": [
      "Test Error: 0.085\n",
      "Test Accuracy: 0.231\n"
     ]
    }
   ],
   "source": [
    "pred_train= model.predict(flagsTest)\n",
    "score, acc = model.evaluate(flagsTest, langTest, verbose=0)\n",
    "print('Test Error: %.3f' % score)\n",
    "print('Test Accuracy: %.3f' % acc)"
   ]
  },
  {
   "cell_type": "code",
   "execution_count": 77,
   "id": "5f3d67c2",
   "metadata": {},
   "outputs": [
    {
     "data": {
      "image/png": "[encoded data removed]",
      "text/plain": [
       "<Figure size 432x288 with 1 Axes>"
      ]
     },
     "metadata": {
      "needs_background": "light"
     },
     "output_type": "display_data"
    }
   ],
   "source": [
    "import matplotlib.pyplot as plt\n",
    "\n",
    "plt.plot(hist.history['loss'])\n",
    "plt.plot(hist.history['val_loss'])\n",
    "plt.title('Model Loss Curve')\n",
    "plt.ylabel('Loss')\n",
    "plt.xlabel('Epoch')\n",
    "plt.legend(['train', 'test'], loc='upper right')\n",
    "plt.show()"
   ]
  },
  {
   "cell_type": "code",
   "execution_count": 78,
   "id": "39af62c2",
   "metadata": {},
   "outputs": [
    {
     "data": {
      "image/png": "[encoded data removed]",
      "text/plain": [
       "<Figure size 432x288 with 1 Axes>"
      ]
     },
     "metadata": {
      "needs_background": "light"
     },
     "output_type": "display_data"
    }
   ],
   "source": [
    "plt.plot(hist.history['accuracy'])\n",
    "plt.plot(hist.history['val_accuracy'])\n",
    "plt.title('Model Accuracy')\n",
    "plt.ylabel('Accuracy')\n",
    "plt.xlabel('Epochs')\n",
    "plt.legend(['train', 'test'], loc='upper left')\n",
    "plt.show()"
   ]
  },
  {
   "cell_type": "markdown",
   "id": "9ce4589a",
   "metadata": {},
   "source": [
    "# Fun With Flags episode 3: Religion"
   ]
  },
  {
   "cell_type": "code",
   "execution_count": 79,
   "id": "5a3d6cc9",
   "metadata": {},
   "outputs": [],
   "source": [
    "from tensorflow.keras.models import Sequential\n",
    "from tensorflow.keras.layers import Dense\n",
    "from tensorflow.keras.optimizers import SGD\n",
    "\n",
    "model = Sequential()\n",
    "\n",
    "layers = [\n",
    "    Dense(20, activation='sigmoid', name='layer1'),\n",
    "    Dense(15, activation='sigmoid', name='layer2'),\n",
    "    Dense(8, activation='sigmoid', name='Output')\n",
    "]\n",
    "\n",
    "for layer in layers:\n",
    "    model.add(layer)\n",
    "\n",
    "model.compile(optimizer=SGD(learning_rate=.3), loss='mse', metrics=['accuracy'])\n",
    "hist = model.fit(flagsScaled, rlgn, validation_split=.2, epochs=50, verbose=0)"
   ]
  },
  {
   "cell_type": "code",
   "execution_count": 81,
   "id": "bfbe4f0a",
   "metadata": {},
   "outputs": [
    {
     "name": "stdout",
     "output_type": "stream",
     "text": [
      "Training Error: 0.101\n",
      "Training Accuracy: 0.303\n"
     ]
    }
   ],
   "source": [
    "from sklearn.model_selection import train_test_split\n",
    "\n",
    "flagsTrain, flagsTest, rlgnTrain, rlgnTest = train_test_split(flagsScaled, rlgn, test_size = 0.20, random_state=5)\n",
    "\n",
    "pred_train= model.predict(flagsTrain)\n",
    "score, acc = model.evaluate(flagsTrain, rlgnTrain, verbose=0)\n",
    "print('Training Error: %.3f' % score)\n",
    "print('Training Accuracy: %.3f' % acc)"
   ]
  },
  {
   "cell_type": "code",
   "execution_count": 82,
   "id": "9e55a66e",
   "metadata": {},
   "outputs": [
    {
     "name": "stdout",
     "output_type": "stream",
     "text": [
      "Test Error: 0.101\n",
      "Test Accuracy: 0.333\n"
     ]
    }
   ],
   "source": [
    "pred_train= model.predict(flagsTest)\n",
    "score, acc = model.evaluate(flagsTest, rlgnTest, verbose=0)\n",
    "print('Test Error: %.3f' % score)\n",
    "print('Test Accuracy: %.3f' % acc)"
   ]
  },
  {
   "cell_type": "code",
   "execution_count": 83,
   "id": "b8bf0bd4",
   "metadata": {},
   "outputs": [
    {
     "data": {
      "image/png": "[encoded data removed]",
      "text/plain": [
       "<Figure size 432x288 with 1 Axes>"
      ]
     },
     "metadata": {
      "needs_background": "light"
     },
     "output_type": "display_data"
    }
   ],
   "source": [
    "plt.plot(hist.history['loss'])\n",
    "plt.plot(hist.history['val_loss'])\n",
    "plt.title('Model Loss Curve')\n",
    "plt.ylabel('Loss')\n",
    "plt.xlabel('Epoch')\n",
    "plt.legend(['train', 'test'], loc='upper right')\n",
    "plt.show()"
   ]
  },
  {
   "cell_type": "code",
   "execution_count": 84,
   "id": "20e7f6e3",
   "metadata": {},
   "outputs": [
    {
     "data": {
      "image/png": "[encoded data removed]",
      "text/plain": [
       "<Figure size 432x288 with 1 Axes>"
      ]
     },
     "metadata": {
      "needs_background": "light"
     },
     "output_type": "display_data"
    }
   ],
   "source": [
    "plt.plot(hist.history['accuracy'])\n",
    "plt.plot(hist.history['val_accuracy'])\n",
    "plt.title('Model Accuracy')\n",
    "plt.ylabel('Accuracy')\n",
    "plt.xlabel('Epochs')\n",
    "plt.legend(['train', 'test'], loc='upper left')\n",
    "plt.show()"
   ]
  },
  {
   "cell_type": "code",
   "execution_count": null,
   "id": "446e512d",
   "metadata": {},
   "outputs": [],
   "source": []
  }
 ],
 "metadata": {
  "kernelspec": {
   "display_name": "Python 3 (ipykernel)",
   "language": "python",
   "name": "python3"
  },
  "language_info": {
   "codemirror_mode": {
    "name": "ipython",
    "version": 3
   },
   "file_extension": ".py",
   "mimetype": "text/x-python",
   "name": "python",
   "nbconvert_exporter": "python",
   "pygments_lexer": "ipython3",
   "version": "3.9.7"
  }
 },
 "nbformat": 4,
 "nbformat_minor": 5
}
