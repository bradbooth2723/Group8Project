{
 "cells": [
  {
   "cell_type": "markdown",
   "id": "7ac742b7",
   "metadata": {},
   "source": [
    "1.  Name:\t    Name of the country concerned\n",
    "2.  Landmass:\t1=N.America, 2=S.America, 3=Europe, 4=Africa, 4=Asia, 6=Oceania\n",
    "3.  Zone:\t    Geographic quadrant, based on Greenwich and the Equator: 1=NE, 2=SE, 3=SW, 4=NW\n",
    "4.  Area:\t    in thousands of square km\n",
    "5.  Population:\tin round millions\n",
    "6.  Language     1=English, 2=Spanish, 3=French, 4=German, 5=Slavic, 6=Other Indo-European, 7=Chinese, 8=Arabic, 9=Japanese/Turkish/Finnish/Magyar, 10=Others\n",
    "7.  Religion     0=Catholic, 1=Other Christian, 2=Muslim, 3=Buddhist, 4=Hindu, 5=Ethnic, 6=Marxist, 7=Others\n",
    "8.  Bars         Number of vertical bars in the flag\n",
    "9.  Stripes      Number of horizontal stripes in the flag\n",
    "10. Colours      Number of different colours in the flag\n",
    "11. Red          0 if red absent, 1 if red present in the flag\n",
    "12. Green        same for green\n",
    "13. Blue         same for blue\n",
    "14. Gold         same for gold (also yellow)\n",
    "15. White        same for white\n",
    "16. Black        same for black\n",
    "17. Orange       same for orange (also brown)\n",
    "18. Mainhue      predominant colour in the flag (tie-breaks decided by taking the topmost hue, if that fails then the most central hue, and if that fails the leftmost hue)\n",
    "19. Circles      Number of circles in the flag\n",
    "20. Crosses      Number of (upright) crosses\n",
    "21. Saltires     Number of diagonal crosses\n",
    "22. Quarters     Number of quartered sections\n",
    "23. Sunstars     Number of sun or star symbols\n",
    "24. Crescent     1 if a crescent moon symbol present, else 0\n",
    "25. Triangle     1 if any triangles present, 0 otherwise\n",
    "26. Icon         1 if an inanimate image present (e.g., a boat), otherwise 0\n",
    "27. Animate      1 if an animate image (e.g., an eagle, a tree, a human hand) present, 0 otherwise\n",
    "28. Text         1 if any letters or writing on the flag (e.g., a motto or slogan), 0 otherwise\n",
    "29. Topleft      Colour in the top-left corner (moving right to decide tie-breaks)\n",
    "30. Botright     Colour in the bottom-left corner (moving left to decide tie-breaks)\n"
   ]
  },
  {
   "cell_type": "code",
   "execution_count": 72,
   "id": "bea35230",
   "metadata": {
    "scrolled": false
   },
   "outputs": [
    {
     "name": "stdout",
     "output_type": "stream",
     "text": [
      "               Name  Landmass  Zone  Area  Population  Language  Religion  \\\n",
      "0       Afghanistan         5     1   648          16        10         2   \n",
      "1           Albania         3     1    29           3         6         6   \n",
      "2           Algeria         4     1  2388          20         8         2   \n",
      "3    American-Samoa         6     3     0           0         1         1   \n",
      "4           Andorra         3     1     0           0         6         0   \n",
      "..              ...       ...   ...   ...         ...       ...       ...   \n",
      "189   Western-Samoa         6     3     3           0         1         1   \n",
      "190      Yugoslavia         3     1   256          22         6         6   \n",
      "191           Zaire         4     2   905          28        10         5   \n",
      "192          Zambia         4     2   753           6        10         5   \n",
      "193        Zimbabwe         4     2   391           8        10         5   \n",
      "\n",
      "     Bars  Stripes  Colours  Red  Green  Blue  Gold  White  Black  Orange  \\\n",
      "0       0        3        5    1      1     0     1      1      1       0   \n",
      "1       0        0        3    1      0     0     1      0      1       0   \n",
      "2       2        0        3    1      1     0     0      1      0       0   \n",
      "3       0        0        5    1      0     1     1      1      0       1   \n",
      "4       3        0        3    1      0     1     1      0      0       0   \n",
      "..    ...      ...      ...  ...    ...   ...   ...    ...    ...     ...   \n",
      "189     0        0        3    1      0     1     0      1      0       0   \n",
      "190     0        3        4    1      0     1     1      1      0       0   \n",
      "191     0        0        4    1      1     0     1      0      0       1   \n",
      "192     3        0        4    1      1     0     0      0      1       1   \n",
      "193     0        7        5    1      1     0     1      1      1       0   \n",
      "\n",
      "    Mainhue  Circles  Crosses  Saltires  Quarters  Sunstars  Crescent  \\\n",
      "0     green        0        0         0         0         1         0   \n",
      "1       red        0        0         0         0         1         0   \n",
      "2     green        0        0         0         0         1         1   \n",
      "3      blue        0        0         0         0         0         0   \n",
      "4      gold        0        0         0         0         0         0   \n",
      "..      ...      ...      ...       ...       ...       ...       ...   \n",
      "189     red        0        0         0         1         5         0   \n",
      "190     red        0        0         0         0         1         0   \n",
      "191   green        1        0         0         0         0         0   \n",
      "192   green        0        0         0         0         0         0   \n",
      "193   green        0        0         0         0         1         0   \n",
      "\n",
      "     Triangle  Icon  Animate  Text Topleft Botright  \n",
      "0           0     1        0     0   black    green  \n",
      "1           0     0        1     0     red      red  \n",
      "2           0     0        0     0   green    white  \n",
      "3           1     1        1     0    blue      red  \n",
      "4           0     0        0     0    blue      red  \n",
      "..        ...   ...      ...   ...     ...      ...  \n",
      "189         0     0        0     0    blue      red  \n",
      "190         0     0        0     0    blue      red  \n",
      "191         0     1        1     0   green    green  \n",
      "192         0     0        1     0   green    brown  \n",
      "193         1     1        1     0   green    green  \n",
      "\n",
      "[194 rows x 30 columns]\n"
     ]
    }
   ],
   "source": [
    "import pandas as pd\n",
    "import numpy as np\n",
    "flags = pd.read_csv('./flag(1).data', sep=',')\n",
    "print(flags)"
   ]
  },
  {
   "cell_type": "markdown",
   "id": "0da1ee35",
   "metadata": {},
   "source": [
    "I think Name is an unimportant column so I think we will drop that.\n",
    "\n",
    "Columns with labels are Landmass, Zone, Language and Religion.  So those need to be encoded.\n",
    "\n",
    "For classifying output, I think I will do all of the columns with labels...I don't want landmass predicting religion or anything like that...this is simply about flags."
   ]
  },
  {
   "cell_type": "code",
   "execution_count": 73,
   "id": "45f657ae",
   "metadata": {},
   "outputs": [
    {
     "name": "stdout",
     "output_type": "stream",
     "text": [
      "Index(['Name', 'Landmass', 'Zone', 'Area', 'Population', 'Language',\n",
      "       'Religion', 'Bars', 'Stripes', 'Colours', 'Red', 'Green', 'Blue',\n",
      "       'Gold', 'White', 'Black', 'Orange', 'Mainhue', 'Circles', 'Crosses',\n",
      "       'Saltires', 'Quarters', 'Sunstars', 'Crescent', 'Triangle', 'Icon',\n",
      "       'Animate', 'Text', 'Topleft', 'Botright'],\n",
      "      dtype='object')\n"
     ]
    }
   ],
   "source": [
    "print(flags.columns)"
   ]
  },
  {
   "cell_type": "code",
   "execution_count": 74,
   "id": "0f1c606c",
   "metadata": {
    "scrolled": false
   },
   "outputs": [
    {
     "name": "stdout",
     "output_type": "stream",
     "text": [
      "[[0 0 0 0 1 0]\n",
      " [0 0 1 0 0 0]\n",
      " [0 0 0 1 0 0]\n",
      " ...\n",
      " [0 0 0 1 0 0]\n",
      " [0 0 0 1 0 0]\n",
      " [0 0 0 1 0 0]]\n",
      "[[0 0 0 ... 0 0 1]\n",
      " [0 0 0 ... 0 0 0]\n",
      " [0 0 0 ... 1 0 0]\n",
      " ...\n",
      " [0 0 0 ... 0 0 1]\n",
      " [0 0 0 ... 0 0 1]\n",
      " [0 0 0 ... 0 0 1]]\n"
     ]
    }
   ],
   "source": [
    "from sklearn.preprocessing import MinMaxScaler\n",
    "\n",
    "pd.set_option('display.max_columns', None)\n",
    "\n",
    "flagsOut = flags.drop('Name', axis = 1)\n",
    "\n",
    "landmass = pd.get_dummies(flagsOut.Landmass)\n",
    "language = pd.get_dummies(flagsOut.Language)\n",
    "religion = pd.get_dummies(flagsOut.Religion)\n",
    "zone = pd.get_dummies(flagsOut.Zone)\n",
    "\n",
    "flagsOut = flagsOut.drop('Landmass', axis = 1)\n",
    "flagsOut = flagsOut.drop('Language', axis = 1)\n",
    "flagsOut = flagsOut.drop('Religion', axis = 1)\n",
    "flagsOut = flagsOut.drop('Zone', axis = 1)\n",
    "\n",
    "x = pd.get_dummies(flagsOut.Topleft, prefix='topleft')\n",
    "y = pd.get_dummies(flagsOut.Botright, prefix = 'botright')\n",
    "z = pd.get_dummies(flagsOut.Mainhue, prefix = 'mainhue')\n",
    "\n",
    "flagsOut = flagsOut.drop('Botright', axis=1)\n",
    "flagsOut = flagsOut.drop('Topleft', axis=1)\n",
    "flagsOut = flagsOut.drop('Mainhue', axis=1)\n",
    "\n",
    "#flagsOut = flagsOut.join(w)\n",
    "flagsOut = flagsOut.join(x)\n",
    "flagsOut = flagsOut.join(y)\n",
    "flagsOut = flagsOut.join(z)\n",
    "\n",
    "scaler = MinMaxScaler()\n",
    "flagsScaled = scaler.fit_transform(flagsOut)  #flagsScaled is a numpy array\n",
    "land = landmass.to_numpy()\n",
    "lang = language.to_numpy()\n",
    "rlgn = religion.to_numpy()\n",
    "zn = zone.to_numpy()\n",
    "\n",
    "print(land)\n",
    "print(lang)"
   ]
  },
  {
   "cell_type": "markdown",
   "id": "a930d024",
   "metadata": {},
   "source": [
    "# Fun With Flags Episode 1: Can flag metrics predict land mass?\n",
    "*Hint: They do not"
   ]
  },
  {
   "cell_type": "code",
   "execution_count": 75,
   "id": "868ce09f",
   "metadata": {},
   "outputs": [],
   "source": [
    "from tensorflow.keras.models import Sequential\n",
    "from tensorflow.keras.layers import Dense\n",
    "from tensorflow.keras.optimizers import SGD\n",
    "\n",
    "model = Sequential()\n",
    "\n",
    "layers = [\n",
    "    Dense(20, activation='relu', name='layer1'),\n",
    "    Dense(10, activation='relu', name='layer2'),\n",
    "    Dense(6, activation='sigmoid', name='Output')\n",
    "]\n",
    "\n",
    "for layer in layers:\n",
    "    model.add(layer)\n",
    "\n",
    "model.compile(optimizer=SGD(learning_rate=.01), loss='mse', metrics=['accuracy'])\n",
    "hist = model.fit(flagsScaled, land, validation_split=.2, epochs=500, verbose=0)"
   ]
  },
  {
   "cell_type": "code",
   "execution_count": 76,
   "id": "1457a19a",
   "metadata": {},
   "outputs": [
    {
     "name": "stdout",
     "output_type": "stream",
     "text": [
      "Training Error: 0.139\n",
      "Training Accuracy: 0.206\n"
     ]
    }
   ],
   "source": [
    "from sklearn.model_selection import train_test_split\n",
    "\n",
    "flagsTrain, flagsTest, landTrain, landTest = train_test_split(flagsScaled, land, test_size = 0.20, random_state=5)\n",
    "\n",
    "pred_train= model.predict(flagsTrain)\n",
    "score, acc = model.evaluate(flagsTrain, landTrain, verbose=0)\n",
    "print('Training Error: %.3f' % score)\n",
    "print('Training Accuracy: %.3f' % acc)"
   ]
  },
  {
   "cell_type": "code",
   "execution_count": 77,
   "id": "720bc094",
   "metadata": {},
   "outputs": [
    {
     "name": "stdout",
     "output_type": "stream",
     "text": [
      "Test Error: 0.137\n",
      "Test Accuracy: 0.205\n"
     ]
    }
   ],
   "source": [
    "pred_train= model.predict(flagsTest)\n",
    "score, acc = model.evaluate(flagsTest, landTest, verbose=0)\n",
    "print('Test Error: %.3f' % score)\n",
    "print('Test Accuracy: %.3f' % acc)"
   ]
  },
  {
   "cell_type": "code",
   "execution_count": 78,
   "id": "b2859ee6",
   "metadata": {},
   "outputs": [
    {
     "data": {
      "image/png": "[encoded data removed]",
      "text/plain": [
       "<Figure size 432x288 with 1 Axes>"
      ]
     },
     "metadata": {
      "needs_background": "light"
     },
     "output_type": "display_data"
    }
   ],
   "source": [
    "import matplotlib.pyplot as plt\n",
    "\n",
    "plt.plot(hist.history['loss'])\n",
    "plt.plot(hist.history['val_loss'])\n",
    "plt.title('Model Loss Curve')\n",
    "plt.ylabel('Loss')\n",
    "plt.xlabel('Epoch')\n",
    "plt.legend(['train', 'test'], loc='upper right')\n",
    "plt.show()"
   ]
  },
  {
   "cell_type": "code",
   "execution_count": 79,
   "id": "3211f97a",
   "metadata": {},
   "outputs": [
    {
     "data": {
      "image/png": "[encoded data removed]",
      "text/plain": [
       "<Figure size 432x288 with 1 Axes>"
      ]
     },
     "metadata": {
      "needs_background": "light"
     },
     "output_type": "display_data"
    }
   ],
   "source": [
    "plt.plot(hist.history['accuracy'])\n",
    "plt.plot(hist.history['val_accuracy'])\n",
    "plt.title('Model Accuracy')\n",
    "plt.ylabel('Accuracy')\n",
    "plt.xlabel('Epochs')\n",
    "plt.legend(['train', 'test'], loc='upper left')\n",
    "plt.show()"
   ]
  },
  {
   "cell_type": "code",
   "execution_count": 80,
   "id": "c4d45970",
   "metadata": {
    "scrolled": true
   },
   "outputs": [],
   "source": [
    "import warnings\n",
    "warnings.filterwarnings(\"ignore\", category=DeprecationWarning)\n",
    "import os\n",
    "os.environ['CUDA_VISIBLE_DEVICES'] = \"0\"\n",
    "from sklearn.model_selection import GridSearchCV, RandomizedSearchCV\n",
    "from keras.models import Sequential\n",
    "from keras.layers import Dense, Dropout\n",
    "from keras.wrappers.scikit_learn import KerasClassifier\n",
    "#from keras.optimizers import Adam\n",
    "\n",
    "def createmodel(n_layers, first_layer_nodes, second_layer_nodes, learning_rate=.1):\n",
    "    model = Sequential()\n",
    "    \n",
    "    #n_nodes = FindLayerNodesLinear(n_layers, first_layer_nodes, last_layer_nodes)\n",
    "    for i in range(2):\n",
    "        if i==1:\n",
    "            model.add(Dense(first_layer_nodes, activation='relu'))\n",
    "        else:\n",
    "            model.add(Dense(second_layer_nodes, activation='relu'))\n",
    "            \n",
    "    #Finally, the output layer should have a single node in binary classification\n",
    "    model.add(Dense(6, activation='sigmoid'))\n",
    "    model.compile(optimizer=SGD(learning_rate=learning_rate), \n",
    "                  loss='mse', metrics = [\"accuracy\"]) #note: metrics could also be 'mse'\n",
    "    \n",
    "    return model\n",
    "\n",
    "param_grid = dict(n_layers=[2], first_layer_nodes = [20, 10, 5], second_layer_nodes=[20,10,5],\n",
    "                  epochs = [150, 300, 500], learning_rate= [.01, .15, .3, .5])\n",
    "\n",
    "model = KerasClassifier(build_fn=createmodel, verbose=0)\n",
    "grid = GridSearchCV(estimator=model, param_grid=param_grid, n_jobs=-1, cv=3)\n",
    "grid_result = grid.fit(flagsScaled, land)"
   ]
  },
  {
   "cell_type": "code",
   "execution_count": 81,
   "id": "dd882f5d",
   "metadata": {},
   "outputs": [
    {
     "name": "stdout",
     "output_type": "stream",
     "text": [
      "Best: 0.448638 using {'epochs': 500, 'first_layer_nodes': 20, 'learning_rate': 0.5, 'n_layers': 2, 'second_layer_nodes': 10}\n",
      "0.180449 (0.008019) with: {'epochs': 150, 'first_layer_nodes': 20, 'learning_rate': 0.01, 'n_layers': 2, 'second_layer_nodes': 20}\n",
      "0.267949 (0.028147) with: {'epochs': 150, 'first_layer_nodes': 20, 'learning_rate': 0.01, 'n_layers': 2, 'second_layer_nodes': 10}\n",
      "0.201282 (0.066197) with: {'epochs': 150, 'first_layer_nodes': 20, 'learning_rate': 0.01, 'n_layers': 2, 'second_layer_nodes': 5}\n",
      "0.335176 (0.077287) with: {'epochs': 150, 'first_layer_nodes': 20, 'learning_rate': 0.15, 'n_layers': 2, 'second_layer_nodes': 20}\n",
      "0.309135 (0.023379) with: {'epochs': 150, 'first_layer_nodes': 20, 'learning_rate': 0.15, 'n_layers': 2, 'second_layer_nodes': 10}\n",
      "0.309455 (0.055792) with: {'epochs': 150, 'first_layer_nodes': 20, 'learning_rate': 0.15, 'n_layers': 2, 'second_layer_nodes': 5}\n",
      "0.376122 (0.029648) with: {'epochs': 150, 'first_layer_nodes': 20, 'learning_rate': 0.3, 'n_layers': 2, 'second_layer_nodes': 20}\n",
      "0.350481 (0.037984) with: {'epochs': 150, 'first_layer_nodes': 20, 'learning_rate': 0.3, 'n_layers': 2, 'second_layer_nodes': 10}\n",
      "0.304247 (0.053007) with: {'epochs': 150, 'first_layer_nodes': 20, 'learning_rate': 0.3, 'n_layers': 2, 'second_layer_nodes': 5}\n",
      "0.355769 (0.034221) with: {'epochs': 150, 'first_layer_nodes': 20, 'learning_rate': 0.5, 'n_layers': 2, 'second_layer_nodes': 20}\n",
      "0.396955 (0.056907) with: {'epochs': 150, 'first_layer_nodes': 20, 'learning_rate': 0.5, 'n_layers': 2, 'second_layer_nodes': 10}\n",
      "0.329808 (0.012238) with: {'epochs': 150, 'first_layer_nodes': 20, 'learning_rate': 0.5, 'n_layers': 2, 'second_layer_nodes': 5}\n",
      "0.149519 (0.019434) with: {'epochs': 150, 'first_layer_nodes': 10, 'learning_rate': 0.01, 'n_layers': 2, 'second_layer_nodes': 20}\n",
      "0.210897 (0.063594) with: {'epochs': 150, 'first_layer_nodes': 10, 'learning_rate': 0.01, 'n_layers': 2, 'second_layer_nodes': 10}\n",
      "0.180609 (0.041395) with: {'epochs': 150, 'first_layer_nodes': 10, 'learning_rate': 0.01, 'n_layers': 2, 'second_layer_nodes': 5}\n",
      "0.278285 (0.032655) with: {'epochs': 150, 'first_layer_nodes': 10, 'learning_rate': 0.15, 'n_layers': 2, 'second_layer_nodes': 20}\n",
      "0.288542 (0.046856) with: {'epochs': 150, 'first_layer_nodes': 10, 'learning_rate': 0.15, 'n_layers': 2, 'second_layer_nodes': 10}\n",
      "0.216827 (0.077588) with: {'epochs': 150, 'first_layer_nodes': 10, 'learning_rate': 0.15, 'n_layers': 2, 'second_layer_nodes': 5}\n",
      "0.355849 (0.044998) with: {'epochs': 150, 'first_layer_nodes': 10, 'learning_rate': 0.3, 'n_layers': 2, 'second_layer_nodes': 20}\n",
      "0.330128 (0.034125) with: {'epochs': 150, 'first_layer_nodes': 10, 'learning_rate': 0.3, 'n_layers': 2, 'second_layer_nodes': 10}\n",
      "0.309455 (0.055792) with: {'epochs': 150, 'first_layer_nodes': 10, 'learning_rate': 0.3, 'n_layers': 2, 'second_layer_nodes': 5}\n",
      "0.422596 (0.011558) with: {'epochs': 150, 'first_layer_nodes': 10, 'learning_rate': 0.5, 'n_layers': 2, 'second_layer_nodes': 20}\n",
      "0.366026 (0.008928) with: {'epochs': 150, 'first_layer_nodes': 10, 'learning_rate': 0.5, 'n_layers': 2, 'second_layer_nodes': 10}\n",
      "0.335016 (0.025591) with: {'epochs': 150, 'first_layer_nodes': 10, 'learning_rate': 0.5, 'n_layers': 2, 'second_layer_nodes': 5}\n",
      "0.237260 (0.021018) with: {'epochs': 150, 'first_layer_nodes': 5, 'learning_rate': 0.01, 'n_layers': 2, 'second_layer_nodes': 20}\n",
      "0.149359 (0.035817) with: {'epochs': 150, 'first_layer_nodes': 5, 'learning_rate': 0.01, 'n_layers': 2, 'second_layer_nodes': 10}\n",
      "0.211699 (0.065967) with: {'epochs': 150, 'first_layer_nodes': 5, 'learning_rate': 0.01, 'n_layers': 2, 'second_layer_nodes': 5}\n",
      "0.319631 (0.031973) with: {'epochs': 150, 'first_layer_nodes': 5, 'learning_rate': 0.15, 'n_layers': 2, 'second_layer_nodes': 20}\n",
      "0.252564 (0.018929) with: {'epochs': 150, 'first_layer_nodes': 5, 'learning_rate': 0.15, 'n_layers': 2, 'second_layer_nodes': 10}\n",
      "0.273077 (0.017485) with: {'epochs': 150, 'first_layer_nodes': 5, 'learning_rate': 0.15, 'n_layers': 2, 'second_layer_nodes': 5}\n",
      "0.319952 (0.050367) with: {'epochs': 150, 'first_layer_nodes': 5, 'learning_rate': 0.3, 'n_layers': 2, 'second_layer_nodes': 20}\n",
      "0.360577 (0.036242) with: {'epochs': 150, 'first_layer_nodes': 5, 'learning_rate': 0.3, 'n_layers': 2, 'second_layer_nodes': 10}\n",
      "0.278285 (0.020861) with: {'epochs': 150, 'first_layer_nodes': 5, 'learning_rate': 0.3, 'n_layers': 2, 'second_layer_nodes': 5}\n",
      "0.319792 (0.042067) with: {'epochs': 150, 'first_layer_nodes': 5, 'learning_rate': 0.5, 'n_layers': 2, 'second_layer_nodes': 20}\n",
      "0.381410 (0.037956) with: {'epochs': 150, 'first_layer_nodes': 5, 'learning_rate': 0.5, 'n_layers': 2, 'second_layer_nodes': 10}\n",
      "0.283654 (0.027768) with: {'epochs': 150, 'first_layer_nodes': 5, 'learning_rate': 0.5, 'n_layers': 2, 'second_layer_nodes': 5}\n",
      "0.257853 (0.030081) with: {'epochs': 300, 'first_layer_nodes': 20, 'learning_rate': 0.01, 'n_layers': 2, 'second_layer_nodes': 20}\n",
      "0.242468 (0.041692) with: {'epochs': 300, 'first_layer_nodes': 20, 'learning_rate': 0.01, 'n_layers': 2, 'second_layer_nodes': 10}\n",
      "0.252644 (0.038786) with: {'epochs': 300, 'first_layer_nodes': 20, 'learning_rate': 0.01, 'n_layers': 2, 'second_layer_nodes': 5}\n",
      "0.355769 (0.070414) with: {'epochs': 300, 'first_layer_nodes': 20, 'learning_rate': 0.15, 'n_layers': 2, 'second_layer_nodes': 20}\n",
      "0.319712 (0.053043) with: {'epochs': 300, 'first_layer_nodes': 20, 'learning_rate': 0.15, 'n_layers': 2, 'second_layer_nodes': 10}\n",
      "0.345353 (0.069097) with: {'epochs': 300, 'first_layer_nodes': 20, 'learning_rate': 0.15, 'n_layers': 2, 'second_layer_nodes': 5}\n",
      "0.397196 (0.041495) with: {'epochs': 300, 'first_layer_nodes': 20, 'learning_rate': 0.3, 'n_layers': 2, 'second_layer_nodes': 20}\n",
      "0.361058 (0.040649) with: {'epochs': 300, 'first_layer_nodes': 20, 'learning_rate': 0.3, 'n_layers': 2, 'second_layer_nodes': 10}\n",
      "0.314423 (0.006426) with: {'epochs': 300, 'first_layer_nodes': 20, 'learning_rate': 0.3, 'n_layers': 2, 'second_layer_nodes': 5}\n",
      "0.402404 (0.053217) with: {'epochs': 300, 'first_layer_nodes': 20, 'learning_rate': 0.5, 'n_layers': 2, 'second_layer_nodes': 20}\n",
      "0.433253 (0.036690) with: {'epochs': 300, 'first_layer_nodes': 20, 'learning_rate': 0.5, 'n_layers': 2, 'second_layer_nodes': 10}\n",
      "0.371314 (0.027714) with: {'epochs': 300, 'first_layer_nodes': 20, 'learning_rate': 0.5, 'n_layers': 2, 'second_layer_nodes': 5}\n",
      "0.252404 (0.024612) with: {'epochs': 300, 'first_layer_nodes': 10, 'learning_rate': 0.01, 'n_layers': 2, 'second_layer_nodes': 20}\n",
      "0.267949 (0.039764) with: {'epochs': 300, 'first_layer_nodes': 10, 'learning_rate': 0.01, 'n_layers': 2, 'second_layer_nodes': 10}\n",
      "0.185577 (0.062822) with: {'epochs': 300, 'first_layer_nodes': 10, 'learning_rate': 0.01, 'n_layers': 2, 'second_layer_nodes': 5}\n",
      "0.314503 (0.009632) with: {'epochs': 300, 'first_layer_nodes': 10, 'learning_rate': 0.15, 'n_layers': 2, 'second_layer_nodes': 20}\n",
      "0.335016 (0.013473) with: {'epochs': 300, 'first_layer_nodes': 10, 'learning_rate': 0.15, 'n_layers': 2, 'second_layer_nodes': 10}\n",
      "0.319391 (0.036858) with: {'epochs': 300, 'first_layer_nodes': 10, 'learning_rate': 0.15, 'n_layers': 2, 'second_layer_nodes': 5}\n",
      "0.366106 (0.021410) with: {'epochs': 300, 'first_layer_nodes': 10, 'learning_rate': 0.3, 'n_layers': 2, 'second_layer_nodes': 20}\n",
      "0.386619 (0.025282) with: {'epochs': 300, 'first_layer_nodes': 10, 'learning_rate': 0.3, 'n_layers': 2, 'second_layer_nodes': 10}\n",
      "0.376282 (0.006346) with: {'epochs': 300, 'first_layer_nodes': 10, 'learning_rate': 0.3, 'n_layers': 2, 'second_layer_nodes': 5}\n",
      "0.417869 (0.048676) with: {'epochs': 300, 'first_layer_nodes': 10, 'learning_rate': 0.5, 'n_layers': 2, 'second_layer_nodes': 20}\n",
      "0.350721 (0.028907) with: {'epochs': 300, 'first_layer_nodes': 10, 'learning_rate': 0.5, 'n_layers': 2, 'second_layer_nodes': 10}\n",
      "0.391587 (0.038794) with: {'epochs': 300, 'first_layer_nodes': 10, 'learning_rate': 0.5, 'n_layers': 2, 'second_layer_nodes': 5}\n",
      "0.206090 (0.028354) with: {'epochs': 300, 'first_layer_nodes': 5, 'learning_rate': 0.01, 'n_layers': 2, 'second_layer_nodes': 20}\n",
      "0.227083 (0.040309) with: {'epochs': 300, 'first_layer_nodes': 5, 'learning_rate': 0.01, 'n_layers': 2, 'second_layer_nodes': 10}\n",
      "0.262901 (0.012708) with: {'epochs': 300, 'first_layer_nodes': 5, 'learning_rate': 0.01, 'n_layers': 2, 'second_layer_nodes': 5}\n",
      "0.304407 (0.054137) with: {'epochs': 300, 'first_layer_nodes': 5, 'learning_rate': 0.15, 'n_layers': 2, 'second_layer_nodes': 20}\n",
      "0.355689 (0.012829) with: {'epochs': 300, 'first_layer_nodes': 5, 'learning_rate': 0.15, 'n_layers': 2, 'second_layer_nodes': 10}\n",
      "0.283413 (0.028096) with: {'epochs': 300, 'first_layer_nodes': 5, 'learning_rate': 0.15, 'n_layers': 2, 'second_layer_nodes': 5}\n",
      "0.314423 (0.006426) with: {'epochs': 300, 'first_layer_nodes': 5, 'learning_rate': 0.3, 'n_layers': 2, 'second_layer_nodes': 20}\n",
      "0.350641 (0.030461) with: {'epochs': 300, 'first_layer_nodes': 5, 'learning_rate': 0.3, 'n_layers': 2, 'second_layer_nodes': 10}\n",
      "0.365785 (0.026630) with: {'epochs': 300, 'first_layer_nodes': 5, 'learning_rate': 0.3, 'n_layers': 2, 'second_layer_nodes': 5}\n",
      "0.371474 (0.059998) with: {'epochs': 300, 'first_layer_nodes': 5, 'learning_rate': 0.5, 'n_layers': 2, 'second_layer_nodes': 20}\n",
      "0.402244 (0.035393) with: {'epochs': 300, 'first_layer_nodes': 5, 'learning_rate': 0.5, 'n_layers': 2, 'second_layer_nodes': 10}\n",
      "0.324599 (0.042479) with: {'epochs': 300, 'first_layer_nodes': 5, 'learning_rate': 0.5, 'n_layers': 2, 'second_layer_nodes': 5}\n",
      "0.278846 (0.072484) with: {'epochs': 500, 'first_layer_nodes': 20, 'learning_rate': 0.01, 'n_layers': 2, 'second_layer_nodes': 20}\n",
      "0.299038 (0.009519) with: {'epochs': 500, 'first_layer_nodes': 20, 'learning_rate': 0.01, 'n_layers': 2, 'second_layer_nodes': 10}\n",
      "0.268109 (0.009292) with: {'epochs': 500, 'first_layer_nodes': 20, 'learning_rate': 0.01, 'n_layers': 2, 'second_layer_nodes': 5}\n",
      "0.381330 (0.016747) with: {'epochs': 500, 'first_layer_nodes': 20, 'learning_rate': 0.15, 'n_layers': 2, 'second_layer_nodes': 20}\n",
      "0.391667 (0.017224) with: {'epochs': 500, 'first_layer_nodes': 20, 'learning_rate': 0.15, 'n_layers': 2, 'second_layer_nodes': 10}\n",
      "0.360657 (0.023846) with: {'epochs': 500, 'first_layer_nodes': 20, 'learning_rate': 0.15, 'n_layers': 2, 'second_layer_nodes': 5}\n",
      "0.412580 (0.029349) with: {'epochs': 500, 'first_layer_nodes': 20, 'learning_rate': 0.3, 'n_layers': 2, 'second_layer_nodes': 20}\n",
      "0.417628 (0.015391) with: {'epochs': 500, 'first_layer_nodes': 20, 'learning_rate': 0.3, 'n_layers': 2, 'second_layer_nodes': 10}\n",
      "0.376362 (0.016109) with: {'epochs': 500, 'first_layer_nodes': 20, 'learning_rate': 0.3, 'n_layers': 2, 'second_layer_nodes': 5}\n",
      "0.412340 (0.013279) with: {'epochs': 500, 'first_layer_nodes': 20, 'learning_rate': 0.5, 'n_layers': 2, 'second_layer_nodes': 20}\n",
      "0.448638 (0.028220) with: {'epochs': 500, 'first_layer_nodes': 20, 'learning_rate': 0.5, 'n_layers': 2, 'second_layer_nodes': 10}\n",
      "0.371474 (0.088658) with: {'epochs': 500, 'first_layer_nodes': 20, 'learning_rate': 0.5, 'n_layers': 2, 'second_layer_nodes': 5}\n",
      "0.278205 (0.023570) with: {'epochs': 500, 'first_layer_nodes': 10, 'learning_rate': 0.01, 'n_layers': 2, 'second_layer_nodes': 20}\n",
      "0.216827 (0.077588) with: {'epochs': 500, 'first_layer_nodes': 10, 'learning_rate': 0.01, 'n_layers': 2, 'second_layer_nodes': 10}\n",
      "0.262901 (0.012708) with: {'epochs': 500, 'first_layer_nodes': 10, 'learning_rate': 0.01, 'n_layers': 2, 'second_layer_nodes': 5}\n",
      "0.361218 (0.073717) with: {'epochs': 500, 'first_layer_nodes': 10, 'learning_rate': 0.15, 'n_layers': 2, 'second_layer_nodes': 20}\n",
      "0.417388 (0.018924) with: {'epochs': 500, 'first_layer_nodes': 10, 'learning_rate': 0.15, 'n_layers': 2, 'second_layer_nodes': 10}\n",
      "0.319712 (0.041341) with: {'epochs': 500, 'first_layer_nodes': 10, 'learning_rate': 0.15, 'n_layers': 2, 'second_layer_nodes': 5}\n",
      "0.397035 (0.030654) with: {'epochs': 500, 'first_layer_nodes': 10, 'learning_rate': 0.3, 'n_layers': 2, 'second_layer_nodes': 20}\n",
      "0.371314 (0.035234) with: {'epochs': 500, 'first_layer_nodes': 10, 'learning_rate': 0.3, 'n_layers': 2, 'second_layer_nodes': 10}\n",
      "0.407131 (0.076267) with: {'epochs': 500, 'first_layer_nodes': 10, 'learning_rate': 0.3, 'n_layers': 2, 'second_layer_nodes': 5}\n",
      "0.412420 (0.019993) with: {'epochs': 500, 'first_layer_nodes': 10, 'learning_rate': 0.5, 'n_layers': 2, 'second_layer_nodes': 20}\n",
      "0.386779 (0.024817) with: {'epochs': 500, 'first_layer_nodes': 10, 'learning_rate': 0.5, 'n_layers': 2, 'second_layer_nodes': 10}\n",
      "0.433093 (0.015495) with: {'epochs': 500, 'first_layer_nodes': 10, 'learning_rate': 0.5, 'n_layers': 2, 'second_layer_nodes': 5}\n",
      "0.216266 (0.111291) with: {'epochs': 500, 'first_layer_nodes': 5, 'learning_rate': 0.01, 'n_layers': 2, 'second_layer_nodes': 20}\n",
      "0.201362 (0.110288) with: {'epochs': 500, 'first_layer_nodes': 5, 'learning_rate': 0.01, 'n_layers': 2, 'second_layer_nodes': 10}\n",
      "0.278446 (0.014466) with: {'epochs': 500, 'first_layer_nodes': 5, 'learning_rate': 0.01, 'n_layers': 2, 'second_layer_nodes': 5}\n",
      "0.381170 (0.067839) with: {'epochs': 500, 'first_layer_nodes': 5, 'learning_rate': 0.15, 'n_layers': 2, 'second_layer_nodes': 20}\n",
      "0.360897 (0.027030) with: {'epochs': 500, 'first_layer_nodes': 5, 'learning_rate': 0.15, 'n_layers': 2, 'second_layer_nodes': 10}\n",
      "0.288862 (0.041916) with: {'epochs': 500, 'first_layer_nodes': 5, 'learning_rate': 0.15, 'n_layers': 2, 'second_layer_nodes': 5}\n",
      "0.391747 (0.018859) with: {'epochs': 500, 'first_layer_nodes': 5, 'learning_rate': 0.3, 'n_layers': 2, 'second_layer_nodes': 20}\n",
      "0.351042 (0.072457) with: {'epochs': 500, 'first_layer_nodes': 5, 'learning_rate': 0.3, 'n_layers': 2, 'second_layer_nodes': 10}\n",
      "0.360897 (0.009972) with: {'epochs': 500, 'first_layer_nodes': 5, 'learning_rate': 0.3, 'n_layers': 2, 'second_layer_nodes': 5}\n",
      "0.391827 (0.027114) with: {'epochs': 500, 'first_layer_nodes': 5, 'learning_rate': 0.5, 'n_layers': 2, 'second_layer_nodes': 20}\n",
      "0.319551 (0.025613) with: {'epochs': 500, 'first_layer_nodes': 5, 'learning_rate': 0.5, 'n_layers': 2, 'second_layer_nodes': 10}\n",
      "0.371074 (0.010386) with: {'epochs': 500, 'first_layer_nodes': 5, 'learning_rate': 0.5, 'n_layers': 2, 'second_layer_nodes': 5}\n"
     ]
    }
   ],
   "source": [
    "print(\"Best: %f using %s\" % (grid_result.best_score_, grid_result.best_params_))\n",
    "means = grid_result.cv_results_['mean_test_score']\n",
    "stds = grid_result.cv_results_['std_test_score']\n",
    "params = grid_result.cv_results_['params']\n",
    "for mean, stdev, param in zip(means, stds, params):\n",
    "    print(\"%f (%f) with: %r\" % (mean, stdev, param))"
   ]
  },
  {
   "cell_type": "markdown",
   "id": "2462aae8",
   "metadata": {},
   "source": [
    "### Decision Tree"
   ]
  },
  {
   "cell_type": "code",
   "execution_count": 82,
   "id": "b7dde121",
   "metadata": {},
   "outputs": [],
   "source": [
    "import numpy as np\n",
    "from sklearn.tree import DecisionTreeClassifier\n",
    "from sklearn.model_selection import train_test_split\n",
    "from sklearn.metrics import confusion_matrix\n",
    "from sklearn.metrics import classification_report\n",
    "from sklearn.metrics import plot_confusion_matrix\n",
    "from sklearn.metrics import accuracy_score\n",
    "\n",
    "flagsTrain, flagsTest, landTrain, landTest = train_test_split(flagsScaled, land, test_size = 0.20, random_state=5)\n",
    "tree_model = DecisionTreeClassifier().fit(flagsTrain, landTrain)\n",
    "tree_pred = tree_model.predict(flagsTest)"
   ]
  },
  {
   "cell_type": "code",
   "execution_count": 83,
   "id": "1bb7a523",
   "metadata": {},
   "outputs": [
    {
     "name": "stdout",
     "output_type": "stream",
     "text": [
      "Accuracy:  0.46153846153846156\n",
      "Classification Report: \n",
      "               precision    recall  f1-score   support\n",
      "\n",
      "           0       0.67      0.67      0.67         9\n",
      "           1       0.00      0.00      0.00         2\n",
      "           2       0.60      0.33      0.43         9\n",
      "           3       0.73      0.73      0.73        11\n",
      "           4       0.00      0.00      0.00         4\n",
      "           5       0.17      0.25      0.20         4\n",
      "\n",
      "   micro avg       0.46      0.46      0.46        39\n",
      "   macro avg       0.36      0.33      0.34        39\n",
      "weighted avg       0.51      0.46      0.48        39\n",
      " samples avg       0.46      0.46      0.46        39\n",
      "\n",
      "Confusion Matrix: \n",
      " [[6 1 1 0 1 0]\n",
      " [0 0 0 1 0 1]\n",
      " [0 2 3 0 2 2]\n",
      " [1 0 0 8 1 1]\n",
      " [0 1 1 1 0 1]\n",
      " [2 0 0 1 0 1]]\n"
     ]
    }
   ],
   "source": [
    "print(\"Accuracy: \", accuracy_score(landTest, tree_pred))\n",
    "print(\"Classification Report: \\n\", classification_report(landTest, tree_pred))\n",
    "print(\"Confusion Matrix: \\n\", confusion_matrix(np.argmax(landTest, axis=1), np.argmax(tree_pred, axis=1)))"
   ]
  },
  {
   "cell_type": "markdown",
   "id": "842c9342",
   "metadata": {},
   "source": [
    "# TODO//Do hyper tension to see if we can get better results\n",
    "As of now, elements of a flag are not a good characterist to see what landmass the flag is from.  Stay tuned for another episode of fun with flags."
   ]
  },
  {
   "cell_type": "markdown",
   "id": "ea3df003",
   "metadata": {},
   "source": [
    "# Fun With Flags Episode 2: Can flag metrics predict language?\n",
    "Probably not lol"
   ]
  },
  {
   "cell_type": "code",
   "execution_count": 84,
   "id": "e86c28b4",
   "metadata": {},
   "outputs": [],
   "source": [
    "from tensorflow.keras.models import Sequential\n",
    "from tensorflow.keras.layers import Dense\n",
    "from tensorflow.keras.optimizers import SGD\n",
    "\n",
    "model = Sequential()\n",
    "\n",
    "layers = [\n",
    "    Dense(20, activation='relu', name='layer1'),\n",
    "    Dense(15, activation='relu', name='layer2'),\n",
    "    Dense(10, activation='sigmoid', name='Output')\n",
    "]\n",
    "\n",
    "for layer in layers:\n",
    "    model.add(layer)\n",
    "\n",
    "model.compile(optimizer=SGD(learning_rate=.3), loss='mse', metrics=['accuracy'])\n",
    "hist = model.fit(flagsScaled, lang, validation_split=.2, epochs=150, verbose=0)"
   ]
  },
  {
   "cell_type": "code",
   "execution_count": 85,
   "id": "39087648",
   "metadata": {},
   "outputs": [
    {
     "name": "stdout",
     "output_type": "stream",
     "text": [
      "Training Error: 0.082\n",
      "Training Accuracy: 0.310\n"
     ]
    }
   ],
   "source": [
    "from sklearn.model_selection import train_test_split\n",
    "\n",
    "flagsTrain, flagsTest, langTrain, langTest = train_test_split(flagsScaled, lang, test_size = 0.20, random_state=5)\n",
    "\n",
    "pred_train= model.predict(flagsTrain)\n",
    "score, acc = model.evaluate(flagsTrain, langTrain, verbose=0)\n",
    "print('Training Error: %.3f' % score)\n",
    "print('Training Accuracy: %.3f' % acc)"
   ]
  },
  {
   "cell_type": "code",
   "execution_count": 86,
   "id": "4004cccb",
   "metadata": {},
   "outputs": [
    {
     "name": "stdout",
     "output_type": "stream",
     "text": [
      "Test Error: 0.077\n",
      "Test Accuracy: 0.436\n"
     ]
    }
   ],
   "source": [
    "pred_train= model.predict(flagsTest)\n",
    "score, acc = model.evaluate(flagsTest, langTest, verbose=0)\n",
    "print('Test Error: %.3f' % score)\n",
    "print('Test Accuracy: %.3f' % acc)"
   ]
  },
  {
   "cell_type": "code",
   "execution_count": 87,
   "id": "5f3d67c2",
   "metadata": {},
   "outputs": [
    {
     "data": {
      "image/png": "[encoded data removed]",
      "text/plain": [
       "<Figure size 432x288 with 1 Axes>"
      ]
     },
     "metadata": {
      "needs_background": "light"
     },
     "output_type": "display_data"
    }
   ],
   "source": [
    "import matplotlib.pyplot as plt\n",
    "\n",
    "plt.plot(hist.history['loss'])\n",
    "plt.plot(hist.history['val_loss'])\n",
    "plt.title('Model Loss Curve')\n",
    "plt.ylabel('Loss')\n",
    "plt.xlabel('Epoch')\n",
    "plt.legend(['train', 'test'], loc='upper right')\n",
    "plt.show()"
   ]
  },
  {
   "cell_type": "code",
   "execution_count": 88,
   "id": "39af62c2",
   "metadata": {},
   "outputs": [
    {
     "data": {
      "image/png": "[encoded data removed]",
      "text/plain": [
       "<Figure size 432x288 with 1 Axes>"
      ]
     },
     "metadata": {
      "needs_background": "light"
     },
     "output_type": "display_data"
    }
   ],
   "source": [
    "plt.plot(hist.history['accuracy'])\n",
    "plt.plot(hist.history['val_accuracy'])\n",
    "plt.title('Model Accuracy')\n",
    "plt.ylabel('Accuracy')\n",
    "plt.xlabel('Epochs')\n",
    "plt.legend(['train', 'test'], loc='upper left')\n",
    "plt.show()"
   ]
  },
  {
   "cell_type": "code",
   "execution_count": 89,
   "id": "a4a0ddbf",
   "metadata": {},
   "outputs": [],
   "source": [
    "import warnings\n",
    "warnings.filterwarnings(\"ignore\", category=DeprecationWarning)\n",
    "import os\n",
    "os.environ['CUDA_VISIBLE_DEVICES'] = \"0\"\n",
    "from sklearn.model_selection import GridSearchCV, RandomizedSearchCV\n",
    "from keras.models import Sequential\n",
    "from keras.layers import Dense, Dropout\n",
    "from keras.wrappers.scikit_learn import KerasClassifier\n",
    "#from keras.optimizers import Adam\n",
    "\n",
    "def createmodel(n_layers, first_layer_nodes, second_layer_nodes, learning_rate=.1):\n",
    "    model = Sequential()\n",
    "    \n",
    "    #n_nodes = FindLayerNodesLinear(n_layers, first_layer_nodes, last_layer_nodes)\n",
    "    for i in range(2):\n",
    "        if i==1:\n",
    "            model.add(Dense(first_layer_nodes, activation='relu'))\n",
    "        else:\n",
    "            model.add(Dense(second_layer_nodes, activation='relu'))\n",
    "            \n",
    "    #Finally, the output layer should have a single node in binary classification\n",
    "    model.add(Dense(10, activation='sigmoid'))\n",
    "    model.compile(optimizer=SGD(learning_rate=learning_rate), \n",
    "                  loss='mse', metrics = [\"accuracy\"]) #note: metrics could also be 'mse'\n",
    "    \n",
    "    return model\n",
    "\n",
    "param_grid = dict(n_layers=[2], first_layer_nodes = [20, 10, 5], second_layer_nodes=[20,10,5],\n",
    "                  epochs = [150, 300, 500], learning_rate= [.01, .15, .3, .5])\n",
    "\n",
    "model = KerasClassifier(build_fn=createmodel, verbose=0)\n",
    "grid = GridSearchCV(estimator=model, param_grid=param_grid, n_jobs=-1, cv=3)\n",
    "grid_result = grid.fit(flagsScaled, lang)"
   ]
  },
  {
   "cell_type": "code",
   "execution_count": 90,
   "id": "ff9df506",
   "metadata": {},
   "outputs": [
    {
     "name": "stdout",
     "output_type": "stream",
     "text": [
      "Best: 0.314423 using {'epochs': 300, 'first_layer_nodes': 20, 'learning_rate': 0.3, 'n_layers': 2, 'second_layer_nodes': 20}\n",
      "0.170433 (0.098874) with: {'epochs': 150, 'first_layer_nodes': 20, 'learning_rate': 0.01, 'n_layers': 2, 'second_layer_nodes': 20}\n",
      "0.236619 (0.070444) with: {'epochs': 150, 'first_layer_nodes': 20, 'learning_rate': 0.01, 'n_layers': 2, 'second_layer_nodes': 10}\n",
      "0.175160 (0.013372) with: {'epochs': 150, 'first_layer_nodes': 20, 'learning_rate': 0.01, 'n_layers': 2, 'second_layer_nodes': 5}\n",
      "0.221554 (0.018100) with: {'epochs': 150, 'first_layer_nodes': 20, 'learning_rate': 0.15, 'n_layers': 2, 'second_layer_nodes': 20}\n",
      "0.216747 (0.046698) with: {'epochs': 150, 'first_layer_nodes': 20, 'learning_rate': 0.15, 'n_layers': 2, 'second_layer_nodes': 10}\n",
      "0.273157 (0.025681) with: {'epochs': 150, 'first_layer_nodes': 20, 'learning_rate': 0.15, 'n_layers': 2, 'second_layer_nodes': 5}\n",
      "0.242147 (0.035495) with: {'epochs': 150, 'first_layer_nodes': 20, 'learning_rate': 0.3, 'n_layers': 2, 'second_layer_nodes': 20}\n",
      "0.247436 (0.001813) with: {'epochs': 150, 'first_layer_nodes': 20, 'learning_rate': 0.3, 'n_layers': 2, 'second_layer_nodes': 10}\n",
      "0.216506 (0.037718) with: {'epochs': 150, 'first_layer_nodes': 20, 'learning_rate': 0.3, 'n_layers': 2, 'second_layer_nodes': 5}\n",
      "0.273077 (0.017485) with: {'epochs': 150, 'first_layer_nodes': 20, 'learning_rate': 0.5, 'n_layers': 2, 'second_layer_nodes': 20}\n",
      "0.268189 (0.037385) with: {'epochs': 150, 'first_layer_nodes': 20, 'learning_rate': 0.5, 'n_layers': 2, 'second_layer_nodes': 10}\n",
      "0.237019 (0.051880) with: {'epochs': 150, 'first_layer_nodes': 20, 'learning_rate': 0.5, 'n_layers': 2, 'second_layer_nodes': 5}\n",
      "0.139022 (0.054444) with: {'epochs': 150, 'first_layer_nodes': 10, 'learning_rate': 0.01, 'n_layers': 2, 'second_layer_nodes': 20}\n",
      "0.087340 (0.043910) with: {'epochs': 150, 'first_layer_nodes': 10, 'learning_rate': 0.01, 'n_layers': 2, 'second_layer_nodes': 10}\n",
      "0.221154 (0.070554) with: {'epochs': 150, 'first_layer_nodes': 10, 'learning_rate': 0.01, 'n_layers': 2, 'second_layer_nodes': 5}\n",
      "0.232051 (0.045760) with: {'epochs': 150, 'first_layer_nodes': 10, 'learning_rate': 0.15, 'n_layers': 2, 'second_layer_nodes': 20}\n",
      "0.190946 (0.039676) with: {'epochs': 150, 'first_layer_nodes': 10, 'learning_rate': 0.15, 'n_layers': 2, 'second_layer_nodes': 10}\n",
      "0.206410 (0.030823) with: {'epochs': 150, 'first_layer_nodes': 10, 'learning_rate': 0.15, 'n_layers': 2, 'second_layer_nodes': 5}\n",
      "0.272837 (0.050869) with: {'epochs': 150, 'first_layer_nodes': 10, 'learning_rate': 0.3, 'n_layers': 2, 'second_layer_nodes': 20}\n",
      "0.272917 (0.049530) with: {'epochs': 150, 'first_layer_nodes': 10, 'learning_rate': 0.3, 'n_layers': 2, 'second_layer_nodes': 10}\n",
      "0.232212 (0.039464) with: {'epochs': 150, 'first_layer_nodes': 10, 'learning_rate': 0.3, 'n_layers': 2, 'second_layer_nodes': 5}\n",
      "0.227003 (0.041617) with: {'epochs': 150, 'first_layer_nodes': 10, 'learning_rate': 0.5, 'n_layers': 2, 'second_layer_nodes': 20}\n",
      "0.190946 (0.033179) with: {'epochs': 150, 'first_layer_nodes': 10, 'learning_rate': 0.5, 'n_layers': 2, 'second_layer_nodes': 10}\n",
      "0.190865 (0.020694) with: {'epochs': 150, 'first_layer_nodes': 10, 'learning_rate': 0.5, 'n_layers': 2, 'second_layer_nodes': 5}\n",
      "0.087179 (0.102307) with: {'epochs': 150, 'first_layer_nodes': 5, 'learning_rate': 0.01, 'n_layers': 2, 'second_layer_nodes': 20}\n",
      "0.175721 (0.103480) with: {'epochs': 150, 'first_layer_nodes': 5, 'learning_rate': 0.01, 'n_layers': 2, 'second_layer_nodes': 10}\n",
      "0.113462 (0.050904) with: {'epochs': 150, 'first_layer_nodes': 5, 'learning_rate': 0.01, 'n_layers': 2, 'second_layer_nodes': 5}\n",
      "0.185657 (0.013857) with: {'epochs': 150, 'first_layer_nodes': 5, 'learning_rate': 0.15, 'n_layers': 2, 'second_layer_nodes': 20}\n",
      "0.185737 (0.026509) with: {'epochs': 150, 'first_layer_nodes': 5, 'learning_rate': 0.15, 'n_layers': 2, 'second_layer_nodes': 10}\n",
      "0.201122 (0.013958) with: {'epochs': 150, 'first_layer_nodes': 5, 'learning_rate': 0.15, 'n_layers': 2, 'second_layer_nodes': 5}\n",
      "0.247356 (0.057267) with: {'epochs': 150, 'first_layer_nodes': 5, 'learning_rate': 0.3, 'n_layers': 2, 'second_layer_nodes': 20}\n",
      "0.226763 (0.025754) with: {'epochs': 150, 'first_layer_nodes': 5, 'learning_rate': 0.3, 'n_layers': 2, 'second_layer_nodes': 10}\n",
      "0.216587 (0.022655) with: {'epochs': 150, 'first_layer_nodes': 5, 'learning_rate': 0.3, 'n_layers': 2, 'second_layer_nodes': 5}\n",
      "0.303926 (0.029854) with: {'epochs': 150, 'first_layer_nodes': 5, 'learning_rate': 0.5, 'n_layers': 2, 'second_layer_nodes': 20}\n",
      "0.242228 (0.025729) with: {'epochs': 150, 'first_layer_nodes': 5, 'learning_rate': 0.5, 'n_layers': 2, 'second_layer_nodes': 10}\n",
      "0.216426 (0.011310) with: {'epochs': 150, 'first_layer_nodes': 5, 'learning_rate': 0.5, 'n_layers': 2, 'second_layer_nodes': 5}\n",
      "0.129167 (0.045348) with: {'epochs': 300, 'first_layer_nodes': 20, 'learning_rate': 0.01, 'n_layers': 2, 'second_layer_nodes': 20}\n",
      "0.108413 (0.044033) with: {'epochs': 300, 'first_layer_nodes': 20, 'learning_rate': 0.01, 'n_layers': 2, 'second_layer_nodes': 10}\n",
      "0.190385 (0.055891) with: {'epochs': 300, 'first_layer_nodes': 20, 'learning_rate': 0.01, 'n_layers': 2, 'second_layer_nodes': 5}\n",
      "0.252644 (0.038786) with: {'epochs': 300, 'first_layer_nodes': 20, 'learning_rate': 0.15, 'n_layers': 2, 'second_layer_nodes': 20}\n",
      "0.237340 (0.039940) with: {'epochs': 300, 'first_layer_nodes': 20, 'learning_rate': 0.15, 'n_layers': 2, 'second_layer_nodes': 10}\n",
      "0.231651 (0.049170) with: {'epochs': 300, 'first_layer_nodes': 20, 'learning_rate': 0.15, 'n_layers': 2, 'second_layer_nodes': 5}\n",
      "0.314423 (0.018891) with: {'epochs': 300, 'first_layer_nodes': 20, 'learning_rate': 0.3, 'n_layers': 2, 'second_layer_nodes': 20}\n",
      "0.231490 (0.081565) with: {'epochs': 300, 'first_layer_nodes': 20, 'learning_rate': 0.3, 'n_layers': 2, 'second_layer_nodes': 10}\n",
      "0.242067 (0.037275) with: {'epochs': 300, 'first_layer_nodes': 20, 'learning_rate': 0.3, 'n_layers': 2, 'second_layer_nodes': 5}\n",
      "0.267949 (0.017857) with: {'epochs': 300, 'first_layer_nodes': 20, 'learning_rate': 0.5, 'n_layers': 2, 'second_layer_nodes': 20}\n",
      "0.252244 (0.063473) with: {'epochs': 300, 'first_layer_nodes': 20, 'learning_rate': 0.5, 'n_layers': 2, 'second_layer_nodes': 10}\n",
      "0.283253 (0.036774) with: {'epochs': 300, 'first_layer_nodes': 20, 'learning_rate': 0.5, 'n_layers': 2, 'second_layer_nodes': 5}\n",
      "0.072115 (0.006799) with: {'epochs': 300, 'first_layer_nodes': 10, 'learning_rate': 0.01, 'n_layers': 2, 'second_layer_nodes': 20}\n",
      "0.164824 (0.059060) with: {'epochs': 300, 'first_layer_nodes': 10, 'learning_rate': 0.01, 'n_layers': 2, 'second_layer_nodes': 10}\n",
      "0.196154 (0.045617) with: {'epochs': 300, 'first_layer_nodes': 10, 'learning_rate': 0.01, 'n_layers': 2, 'second_layer_nodes': 5}\n",
      "0.242308 (0.044300) with: {'epochs': 300, 'first_layer_nodes': 10, 'learning_rate': 0.15, 'n_layers': 2, 'second_layer_nodes': 20}\n",
      "0.237179 (0.026709) with: {'epochs': 300, 'first_layer_nodes': 10, 'learning_rate': 0.15, 'n_layers': 2, 'second_layer_nodes': 10}\n",
      "0.232212 (0.046782) with: {'epochs': 300, 'first_layer_nodes': 10, 'learning_rate': 0.15, 'n_layers': 2, 'second_layer_nodes': 5}\n",
      "0.283494 (0.006478) with: {'epochs': 300, 'first_layer_nodes': 10, 'learning_rate': 0.3, 'n_layers': 2, 'second_layer_nodes': 20}\n",
      "0.252404 (0.030353) with: {'epochs': 300, 'first_layer_nodes': 10, 'learning_rate': 0.3, 'n_layers': 2, 'second_layer_nodes': 10}\n",
      "0.211298 (0.038125) with: {'epochs': 300, 'first_layer_nodes': 10, 'learning_rate': 0.3, 'n_layers': 2, 'second_layer_nodes': 5}\n",
      "0.252564 (0.031456) with: {'epochs': 300, 'first_layer_nodes': 10, 'learning_rate': 0.5, 'n_layers': 2, 'second_layer_nodes': 20}\n",
      "0.278526 (0.027109) with: {'epochs': 300, 'first_layer_nodes': 10, 'learning_rate': 0.5, 'n_layers': 2, 'second_layer_nodes': 10}\n",
      "0.272837 (0.062048) with: {'epochs': 300, 'first_layer_nodes': 10, 'learning_rate': 0.5, 'n_layers': 2, 'second_layer_nodes': 5}\n",
      "0.134535 (0.083168) with: {'epochs': 300, 'first_layer_nodes': 5, 'learning_rate': 0.01, 'n_layers': 2, 'second_layer_nodes': 20}\n",
      "0.149599 (0.029652) with: {'epochs': 300, 'first_layer_nodes': 5, 'learning_rate': 0.01, 'n_layers': 2, 'second_layer_nodes': 10}\n",
      "0.272997 (0.027310) with: {'epochs': 300, 'first_layer_nodes': 5, 'learning_rate': 0.01, 'n_layers': 2, 'second_layer_nodes': 5}\n",
      "0.195994 (0.016091) with: {'epochs': 300, 'first_layer_nodes': 5, 'learning_rate': 0.15, 'n_layers': 2, 'second_layer_nodes': 20}\n",
      "0.206250 (0.015360) with: {'epochs': 300, 'first_layer_nodes': 5, 'learning_rate': 0.15, 'n_layers': 2, 'second_layer_nodes': 10}\n",
      "0.195994 (0.016091) with: {'epochs': 300, 'first_layer_nodes': 5, 'learning_rate': 0.15, 'n_layers': 2, 'second_layer_nodes': 5}\n",
      "0.288381 (0.058235) with: {'epochs': 300, 'first_layer_nodes': 5, 'learning_rate': 0.3, 'n_layers': 2, 'second_layer_nodes': 20}\n",
      "0.185817 (0.034905) with: {'epochs': 300, 'first_layer_nodes': 5, 'learning_rate': 0.3, 'n_layers': 2, 'second_layer_nodes': 10}\n",
      "0.272917 (0.038813) with: {'epochs': 300, 'first_layer_nodes': 5, 'learning_rate': 0.3, 'n_layers': 2, 'second_layer_nodes': 5}\n",
      "0.272917 (0.038813) with: {'epochs': 300, 'first_layer_nodes': 5, 'learning_rate': 0.5, 'n_layers': 2, 'second_layer_nodes': 20}\n",
      "0.283253 (0.042728) with: {'epochs': 300, 'first_layer_nodes': 5, 'learning_rate': 0.5, 'n_layers': 2, 'second_layer_nodes': 10}\n",
      "0.211378 (0.031833) with: {'epochs': 300, 'first_layer_nodes': 5, 'learning_rate': 0.5, 'n_layers': 2, 'second_layer_nodes': 5}\n",
      "0.226522 (0.042991) with: {'epochs': 500, 'first_layer_nodes': 20, 'learning_rate': 0.01, 'n_layers': 2, 'second_layer_nodes': 20}\n",
      "0.180609 (0.027691) with: {'epochs': 500, 'first_layer_nodes': 20, 'learning_rate': 0.01, 'n_layers': 2, 'second_layer_nodes': 10}\n",
      "0.195994 (0.029834) with: {'epochs': 500, 'first_layer_nodes': 20, 'learning_rate': 0.01, 'n_layers': 2, 'second_layer_nodes': 5}\n",
      "0.262500 (0.053404) with: {'epochs': 500, 'first_layer_nodes': 20, 'learning_rate': 0.15, 'n_layers': 2, 'second_layer_nodes': 20}\n",
      "0.257772 (0.044314) with: {'epochs': 500, 'first_layer_nodes': 20, 'learning_rate': 0.15, 'n_layers': 2, 'second_layer_nodes': 10}\n",
      "0.247436 (0.037728) with: {'epochs': 500, 'first_layer_nodes': 20, 'learning_rate': 0.15, 'n_layers': 2, 'second_layer_nodes': 5}\n",
      "0.272997 (0.027310) with: {'epochs': 500, 'first_layer_nodes': 20, 'learning_rate': 0.3, 'n_layers': 2, 'second_layer_nodes': 20}\n",
      "0.231811 (0.023859) with: {'epochs': 500, 'first_layer_nodes': 20, 'learning_rate': 0.3, 'n_layers': 2, 'second_layer_nodes': 10}\n",
      "0.232051 (0.033871) with: {'epochs': 500, 'first_layer_nodes': 20, 'learning_rate': 0.3, 'n_layers': 2, 'second_layer_nodes': 5}\n",
      "0.303686 (0.067773) with: {'epochs': 500, 'first_layer_nodes': 20, 'learning_rate': 0.5, 'n_layers': 2, 'second_layer_nodes': 20}\n",
      "0.309135 (0.031936) with: {'epochs': 500, 'first_layer_nodes': 20, 'learning_rate': 0.5, 'n_layers': 2, 'second_layer_nodes': 10}\n",
      "0.304087 (0.013557) with: {'epochs': 500, 'first_layer_nodes': 20, 'learning_rate': 0.5, 'n_layers': 2, 'second_layer_nodes': 5}\n",
      "0.216587 (0.022655) with: {'epochs': 500, 'first_layer_nodes': 10, 'learning_rate': 0.01, 'n_layers': 2, 'second_layer_nodes': 20}\n",
      "0.175481 (0.039589) with: {'epochs': 500, 'first_layer_nodes': 10, 'learning_rate': 0.01, 'n_layers': 2, 'second_layer_nodes': 10}\n",
      "0.195994 (0.016091) with: {'epochs': 500, 'first_layer_nodes': 10, 'learning_rate': 0.01, 'n_layers': 2, 'second_layer_nodes': 5}\n",
      "0.278365 (0.012726) with: {'epochs': 500, 'first_layer_nodes': 10, 'learning_rate': 0.15, 'n_layers': 2, 'second_layer_nodes': 20}\n",
      "0.216426 (0.032782) with: {'epochs': 500, 'first_layer_nodes': 10, 'learning_rate': 0.15, 'n_layers': 2, 'second_layer_nodes': 10}\n",
      "0.272997 (0.046540) with: {'epochs': 500, 'first_layer_nodes': 10, 'learning_rate': 0.15, 'n_layers': 2, 'second_layer_nodes': 5}\n",
      "0.314103 (0.072456) with: {'epochs': 500, 'first_layer_nodes': 10, 'learning_rate': 0.3, 'n_layers': 2, 'second_layer_nodes': 20}\n",
      "0.262740 (0.023666) with: {'epochs': 500, 'first_layer_nodes': 10, 'learning_rate': 0.3, 'n_layers': 2, 'second_layer_nodes': 10}\n",
      "0.257853 (0.016544) with: {'epochs': 500, 'first_layer_nodes': 10, 'learning_rate': 0.3, 'n_layers': 2, 'second_layer_nodes': 5}\n",
      "0.278205 (0.023570) with: {'epochs': 500, 'first_layer_nodes': 10, 'learning_rate': 0.5, 'n_layers': 2, 'second_layer_nodes': 20}\n",
      "0.252724 (0.021126) with: {'epochs': 500, 'first_layer_nodes': 10, 'learning_rate': 0.5, 'n_layers': 2, 'second_layer_nodes': 10}\n",
      "0.277965 (0.056174) with: {'epochs': 500, 'first_layer_nodes': 10, 'learning_rate': 0.5, 'n_layers': 2, 'second_layer_nodes': 5}\n",
      "0.247436 (0.001813) with: {'epochs': 500, 'first_layer_nodes': 5, 'learning_rate': 0.01, 'n_layers': 2, 'second_layer_nodes': 20}\n",
      "0.160096 (0.045554) with: {'epochs': 500, 'first_layer_nodes': 5, 'learning_rate': 0.01, 'n_layers': 2, 'second_layer_nodes': 10}\n",
      "0.262740 (0.032147) with: {'epochs': 500, 'first_layer_nodes': 5, 'learning_rate': 0.01, 'n_layers': 2, 'second_layer_nodes': 5}\n",
      "0.272917 (0.042685) with: {'epochs': 500, 'first_layer_nodes': 5, 'learning_rate': 0.15, 'n_layers': 2, 'second_layer_nodes': 20}\n",
      "0.252644 (0.051077) with: {'epochs': 500, 'first_layer_nodes': 5, 'learning_rate': 0.15, 'n_layers': 2, 'second_layer_nodes': 10}\n",
      "0.190946 (0.039676) with: {'epochs': 500, 'first_layer_nodes': 5, 'learning_rate': 0.15, 'n_layers': 2, 'second_layer_nodes': 5}\n",
      "0.257532 (0.037191) with: {'epochs': 500, 'first_layer_nodes': 5, 'learning_rate': 0.3, 'n_layers': 2, 'second_layer_nodes': 20}\n",
      "0.288622 (0.013600) with: {'epochs': 500, 'first_layer_nodes': 5, 'learning_rate': 0.3, 'n_layers': 2, 'second_layer_nodes': 10}\n",
      "0.288542 (0.058804) with: {'epochs': 500, 'first_layer_nodes': 5, 'learning_rate': 0.3, 'n_layers': 2, 'second_layer_nodes': 5}\n",
      "0.236859 (0.051364) with: {'epochs': 500, 'first_layer_nodes': 5, 'learning_rate': 0.5, 'n_layers': 2, 'second_layer_nodes': 20}\n",
      "0.298798 (0.024283) with: {'epochs': 500, 'first_layer_nodes': 5, 'learning_rate': 0.5, 'n_layers': 2, 'second_layer_nodes': 10}\n",
      "0.216667 (0.026709) with: {'epochs': 500, 'first_layer_nodes': 5, 'learning_rate': 0.5, 'n_layers': 2, 'second_layer_nodes': 5}\n"
     ]
    }
   ],
   "source": [
    "print(\"Best: %f using %s\" % (grid_result.best_score_, grid_result.best_params_))\n",
    "means = grid_result.cv_results_['mean_test_score']\n",
    "stds = grid_result.cv_results_['std_test_score']\n",
    "params = grid_result.cv_results_['params']\n",
    "for mean, stdev, param in zip(means, stds, params):\n",
    "    print(\"%f (%f) with: %r\" % (mean, stdev, param))"
   ]
  },
  {
   "cell_type": "markdown",
   "id": "e4559877",
   "metadata": {},
   "source": [
    "### Decision Tree"
   ]
  },
  {
   "cell_type": "code",
   "execution_count": 91,
   "id": "617c1004",
   "metadata": {},
   "outputs": [],
   "source": [
    "import numpy as np\n",
    "from sklearn.tree import DecisionTreeClassifier\n",
    "from sklearn.model_selection import train_test_split\n",
    "from sklearn.metrics import confusion_matrix\n",
    "from sklearn.metrics import classification_report\n",
    "from sklearn.metrics import plot_confusion_matrix\n",
    "from sklearn.metrics import accuracy_score\n",
    "\n",
    "flagsTrain, flagsTest, langTrain, langTest = train_test_split(flagsScaled, lang, test_size = 0.20, random_state=5)\n",
    "tree_model = DecisionTreeClassifier().fit(flagsTrain, langTrain)\n",
    "tree_pred = tree_model.predict(flagsTest)"
   ]
  },
  {
   "cell_type": "code",
   "execution_count": 92,
   "id": "a66ed6af",
   "metadata": {},
   "outputs": [
    {
     "name": "stdout",
     "output_type": "stream",
     "text": [
      "Accuracy:  0.46153846153846156\n",
      "Classification Report: \n",
      "               precision    recall  f1-score   support\n",
      "\n",
      "           0       0.77      0.83      0.80        12\n",
      "           1       0.17      0.25      0.20         4\n",
      "           2       0.00      0.00      0.00         2\n",
      "           3       0.00      0.00      0.00         1\n",
      "           4       0.00      0.00      0.00         3\n",
      "           5       0.20      0.17      0.18         6\n",
      "           6       0.00      0.00      0.00         0\n",
      "           7       1.00      0.50      0.67         2\n",
      "           8       0.00      0.00      0.00         0\n",
      "           9       0.50      0.56      0.53         9\n",
      "\n",
      "   micro avg       0.46      0.46      0.46        39\n",
      "   macro avg       0.26      0.23      0.24        39\n",
      "weighted avg       0.45      0.46      0.45        39\n",
      " samples avg       0.46      0.46      0.46        39\n",
      "\n",
      "Confusion Matrix: \n",
      " [[10  0  0  0  0  1  0  1]\n",
      " [ 1  1  1  0  0  0  0  1]\n",
      " [ 1  0  0  0  0  0  0  1]\n",
      " [ 0  0  0  0  0  1  0  0]\n",
      " [ 0  2  0  0  0  0  0  1]\n",
      " [ 1  2  2  0  0  1  0  0]\n",
      " [ 0  0  0  0  0  0  1  1]\n",
      " [ 0  1  1  0  0  2  0  5]]\n"
     ]
    },
    {
     "name": "stderr",
     "output_type": "stream",
     "text": [
      "c:\\users\\socce\\appdata\\local\\programs\\python\\python38\\lib\\site-packages\\sklearn\\metrics\\_classification.py:1327: UndefinedMetricWarning: Precision and F-score are ill-defined and being set to 0.0 in labels with no predicted samples. Use `zero_division` parameter to control this behavior.\n",
      "  _warn_prf(average, modifier, msg_start, len(result))\n",
      "c:\\users\\socce\\appdata\\local\\programs\\python\\python38\\lib\\site-packages\\sklearn\\metrics\\_classification.py:1327: UndefinedMetricWarning: Recall and F-score are ill-defined and being set to 0.0 in labels with no true samples. Use `zero_division` parameter to control this behavior.\n",
      "  _warn_prf(average, modifier, msg_start, len(result))\n"
     ]
    }
   ],
   "source": [
    "print(\"Accuracy: \", accuracy_score(langTest, tree_pred))\n",
    "print(\"Classification Report: \\n\", classification_report(langTest, tree_pred))\n",
    "print(\"Confusion Matrix: \\n\", confusion_matrix(np.argmax(langTest, axis=1), np.argmax(tree_pred, axis=1)))"
   ]
  },
  {
   "cell_type": "markdown",
   "id": "9ce4589a",
   "metadata": {},
   "source": [
    "# Fun With Flags episode 3: Religion"
   ]
  },
  {
   "cell_type": "code",
   "execution_count": 93,
   "id": "5a3d6cc9",
   "metadata": {},
   "outputs": [],
   "source": [
    "from tensorflow.keras.models import Sequential\n",
    "from tensorflow.keras.layers import Dense\n",
    "from tensorflow.keras.optimizers import SGD\n",
    "\n",
    "model = Sequential()\n",
    "\n",
    "layers = [\n",
    "    Dense(20, activation='relu', name='layer1'),\n",
    "    Dense(15, activation='relu', name='layer2'),\n",
    "    Dense(8, activation='sigmoid', name='Output')\n",
    "]\n",
    "\n",
    "for layer in layers:\n",
    "    model.add(layer)\n",
    "\n",
    "model.compile(optimizer=SGD(learning_rate=.3), loss='mse', metrics=['accuracy'])\n",
    "hist = model.fit(flagsScaled, rlgn, validation_split=.2, epochs=50, verbose=0)"
   ]
  },
  {
   "cell_type": "code",
   "execution_count": 94,
   "id": "bfbe4f0a",
   "metadata": {},
   "outputs": [
    {
     "name": "stdout",
     "output_type": "stream",
     "text": [
      "Training Error: 0.095\n",
      "Training Accuracy: 0.381\n"
     ]
    }
   ],
   "source": [
    "from sklearn.model_selection import train_test_split\n",
    "\n",
    "flagsTrain, flagsTest, rlgnTrain, rlgnTest = train_test_split(flagsScaled, rlgn, test_size = 0.20, random_state=5)\n",
    "\n",
    "pred_train= model.predict(flagsTrain)\n",
    "score, acc = model.evaluate(flagsTrain, rlgnTrain, verbose=0)\n",
    "print('Training Error: %.3f' % score)\n",
    "print('Training Accuracy: %.3f' % acc)"
   ]
  },
  {
   "cell_type": "code",
   "execution_count": 95,
   "id": "9e55a66e",
   "metadata": {},
   "outputs": [
    {
     "name": "stdout",
     "output_type": "stream",
     "text": [
      "Test Error: 0.095\n",
      "Test Accuracy: 0.333\n"
     ]
    }
   ],
   "source": [
    "pred_train= model.predict(flagsTest)\n",
    "score, acc = model.evaluate(flagsTest, rlgnTest, verbose=0)\n",
    "print('Test Error: %.3f' % score)\n",
    "print('Test Accuracy: %.3f' % acc)"
   ]
  },
  {
   "cell_type": "code",
   "execution_count": 96,
   "id": "b8bf0bd4",
   "metadata": {},
   "outputs": [
    {
     "data": {
      "image/png": "[encoded data removed]",
      "text/plain": [
       "<Figure size 432x288 with 1 Axes>"
      ]
     },
     "metadata": {
      "needs_background": "light"
     },
     "output_type": "display_data"
    }
   ],
   "source": [
    "plt.plot(hist.history['loss'])\n",
    "plt.plot(hist.history['val_loss'])\n",
    "plt.title('Model Loss Curve')\n",
    "plt.ylabel('Loss')\n",
    "plt.xlabel('Epoch')\n",
    "plt.legend(['train', 'test'], loc='upper right')\n",
    "plt.show()"
   ]
  },
  {
   "cell_type": "code",
   "execution_count": 97,
   "id": "20e7f6e3",
   "metadata": {},
   "outputs": [
    {
     "data": {
      "image/png": "[encoded data removed]",
      "text/plain": [
       "<Figure size 432x288 with 1 Axes>"
      ]
     },
     "metadata": {
      "needs_background": "light"
     },
     "output_type": "display_data"
    }
   ],
   "source": [
    "plt.plot(hist.history['accuracy'])\n",
    "plt.plot(hist.history['val_accuracy'])\n",
    "plt.title('Model Accuracy')\n",
    "plt.ylabel('Accuracy')\n",
    "plt.xlabel('Epochs')\n",
    "plt.legend(['train', 'test'], loc='upper left')\n",
    "plt.show()"
   ]
  },
  {
   "cell_type": "code",
   "execution_count": 98,
   "id": "446e512d",
   "metadata": {},
   "outputs": [],
   "source": [
    "import warnings\n",
    "warnings.filterwarnings(\"ignore\", category=DeprecationWarning)\n",
    "import os\n",
    "os.environ['CUDA_VISIBLE_DEVICES'] = \"0\"\n",
    "from sklearn.model_selection import GridSearchCV, RandomizedSearchCV\n",
    "from keras.models import Sequential\n",
    "from keras.layers import Dense, Dropout\n",
    "from keras.wrappers.scikit_learn import KerasClassifier\n",
    "#from keras.optimizers import Adam\n",
    "\n",
    "def createmodel(n_layers, first_layer_nodes, second_layer_nodes, learning_rate=.1):\n",
    "    model = Sequential()\n",
    "    \n",
    "    #n_nodes = FindLayerNodesLinear(n_layers, first_layer_nodes, last_layer_nodes)\n",
    "    for i in range(2):\n",
    "        if i==1:\n",
    "            model.add(Dense(first_layer_nodes, activation='relu'))\n",
    "        else:\n",
    "            model.add(Dense(second_layer_nodes, activation='relu'))\n",
    "            \n",
    "    #Finally, the output layer should have a single node in binary classification\n",
    "    model.add(Dense(8, activation='sigmoid'))\n",
    "    model.compile(optimizer=SGD(learning_rate=learning_rate), \n",
    "                  loss='mse', metrics = [\"accuracy\"]) #note: metrics could also be 'mse'\n",
    "    \n",
    "    return model\n",
    "\n",
    "param_grid = dict(n_layers=[2], first_layer_nodes = [20, 10, 5], second_layer_nodes=[20,10,5],\n",
    "                  epochs = [150, 300, 500], learning_rate= [.01, .15, .3, .5])\n",
    "\n",
    "model = KerasClassifier(build_fn=createmodel, verbose=0)\n",
    "grid = GridSearchCV(estimator=model, param_grid=param_grid, n_jobs=-1, cv=3)\n",
    "grid_result = grid.fit(flagsScaled, rlgn)"
   ]
  },
  {
   "cell_type": "code",
   "execution_count": 99,
   "id": "aa4d3776",
   "metadata": {},
   "outputs": [
    {
     "name": "stdout",
     "output_type": "stream",
     "text": [
      "Best: 0.443029 using {'epochs': 300, 'first_layer_nodes': 10, 'learning_rate': 0.3, 'n_layers': 2, 'second_layer_nodes': 10}\n",
      "0.222115 (0.077573) with: {'epochs': 150, 'first_layer_nodes': 20, 'learning_rate': 0.01, 'n_layers': 2, 'second_layer_nodes': 20}\n",
      "0.283654 (0.037447) with: {'epochs': 150, 'first_layer_nodes': 20, 'learning_rate': 0.01, 'n_layers': 2, 'second_layer_nodes': 10}\n",
      "0.154407 (0.099447) with: {'epochs': 150, 'first_layer_nodes': 20, 'learning_rate': 0.01, 'n_layers': 2, 'second_layer_nodes': 5}\n",
      "0.329968 (0.015899) with: {'epochs': 150, 'first_layer_nodes': 20, 'learning_rate': 0.15, 'n_layers': 2, 'second_layer_nodes': 20}\n",
      "0.350962 (0.062468) with: {'epochs': 150, 'first_layer_nodes': 20, 'learning_rate': 0.15, 'n_layers': 2, 'second_layer_nodes': 10}\n",
      "0.324760 (0.037760) with: {'epochs': 150, 'first_layer_nodes': 20, 'learning_rate': 0.15, 'n_layers': 2, 'second_layer_nodes': 5}\n",
      "0.361058 (0.034336) with: {'epochs': 150, 'first_layer_nodes': 20, 'learning_rate': 0.3, 'n_layers': 2, 'second_layer_nodes': 20}\n",
      "0.376202 (0.027798) with: {'epochs': 150, 'first_layer_nodes': 20, 'learning_rate': 0.3, 'n_layers': 2, 'second_layer_nodes': 10}\n",
      "0.355689 (0.002606) with: {'epochs': 150, 'first_layer_nodes': 20, 'learning_rate': 0.3, 'n_layers': 2, 'second_layer_nodes': 5}\n",
      "0.427484 (0.069599) with: {'epochs': 150, 'first_layer_nodes': 20, 'learning_rate': 0.5, 'n_layers': 2, 'second_layer_nodes': 20}\n",
      "0.366106 (0.053153) with: {'epochs': 150, 'first_layer_nodes': 20, 'learning_rate': 0.5, 'n_layers': 2, 'second_layer_nodes': 10}\n",
      "0.376282 (0.018864) with: {'epochs': 150, 'first_layer_nodes': 20, 'learning_rate': 0.5, 'n_layers': 2, 'second_layer_nodes': 5}\n",
      "0.169712 (0.062220) with: {'epochs': 150, 'first_layer_nodes': 10, 'learning_rate': 0.01, 'n_layers': 2, 'second_layer_nodes': 20}\n",
      "0.205769 (0.062394) with: {'epochs': 150, 'first_layer_nodes': 10, 'learning_rate': 0.01, 'n_layers': 2, 'second_layer_nodes': 10}\n",
      "0.206250 (0.075885) with: {'epochs': 150, 'first_layer_nodes': 10, 'learning_rate': 0.01, 'n_layers': 2, 'second_layer_nodes': 5}\n",
      "0.350481 (0.004759) with: {'epochs': 150, 'first_layer_nodes': 10, 'learning_rate': 0.15, 'n_layers': 2, 'second_layer_nodes': 20}\n",
      "0.329647 (0.034222) with: {'epochs': 150, 'first_layer_nodes': 10, 'learning_rate': 0.15, 'n_layers': 2, 'second_layer_nodes': 10}\n",
      "0.314663 (0.034020) with: {'epochs': 150, 'first_layer_nodes': 10, 'learning_rate': 0.15, 'n_layers': 2, 'second_layer_nodes': 5}\n",
      "0.386538 (0.032446) with: {'epochs': 150, 'first_layer_nodes': 10, 'learning_rate': 0.3, 'n_layers': 2, 'second_layer_nodes': 20}\n",
      "0.335256 (0.033835) with: {'epochs': 150, 'first_layer_nodes': 10, 'learning_rate': 0.3, 'n_layers': 2, 'second_layer_nodes': 10}\n",
      "0.304728 (0.086562) with: {'epochs': 150, 'first_layer_nodes': 10, 'learning_rate': 0.3, 'n_layers': 2, 'second_layer_nodes': 5}\n",
      "0.396875 (0.013316) with: {'epochs': 150, 'first_layer_nodes': 10, 'learning_rate': 0.5, 'n_layers': 2, 'second_layer_nodes': 20}\n",
      "0.376042 (0.060602) with: {'epochs': 150, 'first_layer_nodes': 10, 'learning_rate': 0.5, 'n_layers': 2, 'second_layer_nodes': 10}\n",
      "0.386298 (0.064936) with: {'epochs': 150, 'first_layer_nodes': 10, 'learning_rate': 0.5, 'n_layers': 2, 'second_layer_nodes': 5}\n",
      "0.227003 (0.098090) with: {'epochs': 150, 'first_layer_nodes': 5, 'learning_rate': 0.01, 'n_layers': 2, 'second_layer_nodes': 20}\n",
      "0.102885 (0.057794) with: {'epochs': 150, 'first_layer_nodes': 5, 'learning_rate': 0.01, 'n_layers': 2, 'second_layer_nodes': 10}\n",
      "0.252163 (0.058146) with: {'epochs': 150, 'first_layer_nodes': 5, 'learning_rate': 0.01, 'n_layers': 2, 'second_layer_nodes': 5}\n",
      "0.340304 (0.023170) with: {'epochs': 150, 'first_layer_nodes': 5, 'learning_rate': 0.15, 'n_layers': 2, 'second_layer_nodes': 20}\n",
      "0.360897 (0.016038) with: {'epochs': 150, 'first_layer_nodes': 5, 'learning_rate': 0.15, 'n_layers': 2, 'second_layer_nodes': 10}\n",
      "0.329808 (0.017538) with: {'epochs': 150, 'first_layer_nodes': 5, 'learning_rate': 0.15, 'n_layers': 2, 'second_layer_nodes': 5}\n",
      "0.371394 (0.040363) with: {'epochs': 150, 'first_layer_nodes': 5, 'learning_rate': 0.3, 'n_layers': 2, 'second_layer_nodes': 20}\n",
      "0.366106 (0.021410) with: {'epochs': 150, 'first_layer_nodes': 5, 'learning_rate': 0.3, 'n_layers': 2, 'second_layer_nodes': 10}\n",
      "0.350721 (0.028907) with: {'epochs': 150, 'first_layer_nodes': 5, 'learning_rate': 0.3, 'n_layers': 2, 'second_layer_nodes': 5}\n",
      "0.335096 (0.008769) with: {'epochs': 150, 'first_layer_nodes': 5, 'learning_rate': 0.5, 'n_layers': 2, 'second_layer_nodes': 20}\n",
      "0.345272 (0.017459) with: {'epochs': 150, 'first_layer_nodes': 5, 'learning_rate': 0.5, 'n_layers': 2, 'second_layer_nodes': 10}\n",
      "0.314423 (0.006426) with: {'epochs': 150, 'first_layer_nodes': 5, 'learning_rate': 0.5, 'n_layers': 2, 'second_layer_nodes': 5}\n",
      "0.304407 (0.038868) with: {'epochs': 300, 'first_layer_nodes': 20, 'learning_rate': 0.01, 'n_layers': 2, 'second_layer_nodes': 20}\n",
      "0.277885 (0.074194) with: {'epochs': 300, 'first_layer_nodes': 20, 'learning_rate': 0.01, 'n_layers': 2, 'second_layer_nodes': 10}\n",
      "0.247196 (0.031789) with: {'epochs': 300, 'first_layer_nodes': 20, 'learning_rate': 0.01, 'n_layers': 2, 'second_layer_nodes': 5}\n",
      "0.366266 (0.041279) with: {'epochs': 300, 'first_layer_nodes': 20, 'learning_rate': 0.15, 'n_layers': 2, 'second_layer_nodes': 20}\n",
      "0.366106 (0.017338) with: {'epochs': 300, 'first_layer_nodes': 20, 'learning_rate': 0.15, 'n_layers': 2, 'second_layer_nodes': 10}\n",
      "0.304087 (0.025635) with: {'epochs': 300, 'first_layer_nodes': 20, 'learning_rate': 0.15, 'n_layers': 2, 'second_layer_nodes': 5}\n",
      "0.422997 (0.047315) with: {'epochs': 300, 'first_layer_nodes': 20, 'learning_rate': 0.3, 'n_layers': 2, 'second_layer_nodes': 20}\n",
      "0.391587 (0.023627) with: {'epochs': 300, 'first_layer_nodes': 20, 'learning_rate': 0.3, 'n_layers': 2, 'second_layer_nodes': 10}\n",
      "0.345513 (0.028103) with: {'epochs': 300, 'first_layer_nodes': 20, 'learning_rate': 0.3, 'n_layers': 2, 'second_layer_nodes': 5}\n",
      "0.391747 (0.018859) with: {'epochs': 300, 'first_layer_nodes': 20, 'learning_rate': 0.5, 'n_layers': 2, 'second_layer_nodes': 20}\n",
      "0.422756 (0.039100) with: {'epochs': 300, 'first_layer_nodes': 20, 'learning_rate': 0.5, 'n_layers': 2, 'second_layer_nodes': 10}\n",
      "0.386538 (0.010296) with: {'epochs': 300, 'first_layer_nodes': 20, 'learning_rate': 0.5, 'n_layers': 2, 'second_layer_nodes': 5}\n",
      "0.206090 (0.039911) with: {'epochs': 300, 'first_layer_nodes': 10, 'learning_rate': 0.01, 'n_layers': 2, 'second_layer_nodes': 20}\n",
      "0.267949 (0.039764) with: {'epochs': 300, 'first_layer_nodes': 10, 'learning_rate': 0.01, 'n_layers': 2, 'second_layer_nodes': 10}\n",
      "0.288462 (0.037024) with: {'epochs': 300, 'first_layer_nodes': 10, 'learning_rate': 0.01, 'n_layers': 2, 'second_layer_nodes': 5}\n",
      "0.417548 (0.075431) with: {'epochs': 300, 'first_layer_nodes': 10, 'learning_rate': 0.15, 'n_layers': 2, 'second_layer_nodes': 20}\n",
      "0.402083 (0.050332) with: {'epochs': 300, 'first_layer_nodes': 10, 'learning_rate': 0.15, 'n_layers': 2, 'second_layer_nodes': 10}\n",
      "0.335096 (0.008769) with: {'epochs': 300, 'first_layer_nodes': 10, 'learning_rate': 0.15, 'n_layers': 2, 'second_layer_nodes': 5}\n",
      "0.391747 (0.043972) with: {'epochs': 300, 'first_layer_nodes': 10, 'learning_rate': 0.3, 'n_layers': 2, 'second_layer_nodes': 20}\n",
      "0.443029 (0.041571) with: {'epochs': 300, 'first_layer_nodes': 10, 'learning_rate': 0.3, 'n_layers': 2, 'second_layer_nodes': 10}\n",
      "0.340304 (0.034177) with: {'epochs': 300, 'first_layer_nodes': 10, 'learning_rate': 0.3, 'n_layers': 2, 'second_layer_nodes': 5}\n",
      "0.417308 (0.030568) with: {'epochs': 300, 'first_layer_nodes': 10, 'learning_rate': 0.5, 'n_layers': 2, 'second_layer_nodes': 20}\n",
      "0.386859 (0.066914) with: {'epochs': 300, 'first_layer_nodes': 10, 'learning_rate': 0.5, 'n_layers': 2, 'second_layer_nodes': 10}\n",
      "0.360897 (0.016038) with: {'epochs': 300, 'first_layer_nodes': 10, 'learning_rate': 0.5, 'n_layers': 2, 'second_layer_nodes': 5}\n",
      "0.154247 (0.078055) with: {'epochs': 300, 'first_layer_nodes': 5, 'learning_rate': 0.01, 'n_layers': 2, 'second_layer_nodes': 20}\n",
      "0.237019 (0.039837) with: {'epochs': 300, 'first_layer_nodes': 5, 'learning_rate': 0.01, 'n_layers': 2, 'second_layer_nodes': 10}\n",
      "0.159615 (0.073296) with: {'epochs': 300, 'first_layer_nodes': 5, 'learning_rate': 0.01, 'n_layers': 2, 'second_layer_nodes': 5}\n",
      "0.324920 (0.034996) with: {'epochs': 300, 'first_layer_nodes': 5, 'learning_rate': 0.15, 'n_layers': 2, 'second_layer_nodes': 20}\n",
      "0.298878 (0.017697) with: {'epochs': 300, 'first_layer_nodes': 5, 'learning_rate': 0.15, 'n_layers': 2, 'second_layer_nodes': 10}\n",
      "0.335176 (0.021227) with: {'epochs': 300, 'first_layer_nodes': 5, 'learning_rate': 0.15, 'n_layers': 2, 'second_layer_nodes': 5}\n",
      "0.330048 (0.028019) with: {'epochs': 300, 'first_layer_nodes': 5, 'learning_rate': 0.3, 'n_layers': 2, 'second_layer_nodes': 20}\n",
      "0.350881 (0.053620) with: {'epochs': 300, 'first_layer_nodes': 5, 'learning_rate': 0.3, 'n_layers': 2, 'second_layer_nodes': 10}\n",
      "0.381490 (0.032061) with: {'epochs': 300, 'first_layer_nodes': 5, 'learning_rate': 0.3, 'n_layers': 2, 'second_layer_nodes': 5}\n",
      "0.376442 (0.072232) with: {'epochs': 300, 'first_layer_nodes': 5, 'learning_rate': 0.5, 'n_layers': 2, 'second_layer_nodes': 20}\n",
      "0.355369 (0.055954) with: {'epochs': 300, 'first_layer_nodes': 5, 'learning_rate': 0.5, 'n_layers': 2, 'second_layer_nodes': 10}\n",
      "0.401843 (0.035451) with: {'epochs': 300, 'first_layer_nodes': 5, 'learning_rate': 0.5, 'n_layers': 2, 'second_layer_nodes': 5}\n",
      "0.258013 (0.053894) with: {'epochs': 500, 'first_layer_nodes': 20, 'learning_rate': 0.01, 'n_layers': 2, 'second_layer_nodes': 20}\n",
      "0.319792 (0.033741) with: {'epochs': 500, 'first_layer_nodes': 20, 'learning_rate': 0.01, 'n_layers': 2, 'second_layer_nodes': 10}\n",
      "0.252083 (0.070335) with: {'epochs': 500, 'first_layer_nodes': 20, 'learning_rate': 0.01, 'n_layers': 2, 'second_layer_nodes': 5}\n",
      "0.402163 (0.015288) with: {'epochs': 500, 'first_layer_nodes': 20, 'learning_rate': 0.15, 'n_layers': 2, 'second_layer_nodes': 20}\n",
      "0.397035 (0.041577) with: {'epochs': 500, 'first_layer_nodes': 20, 'learning_rate': 0.15, 'n_layers': 2, 'second_layer_nodes': 10}\n",
      "0.381170 (0.067839) with: {'epochs': 500, 'first_layer_nodes': 20, 'learning_rate': 0.15, 'n_layers': 2, 'second_layer_nodes': 5}\n",
      "0.386859 (0.047628) with: {'epochs': 500, 'first_layer_nodes': 20, 'learning_rate': 0.3, 'n_layers': 2, 'second_layer_nodes': 20}\n",
      "0.407372 (0.022210) with: {'epochs': 500, 'first_layer_nodes': 20, 'learning_rate': 0.3, 'n_layers': 2, 'second_layer_nodes': 10}\n",
      "0.381651 (0.042370) with: {'epochs': 500, 'first_layer_nodes': 20, 'learning_rate': 0.3, 'n_layers': 2, 'second_layer_nodes': 5}\n",
      "0.392228 (0.078604) with: {'epochs': 500, 'first_layer_nodes': 20, 'learning_rate': 0.5, 'n_layers': 2, 'second_layer_nodes': 20}\n",
      "0.330048 (0.048610) with: {'epochs': 500, 'first_layer_nodes': 20, 'learning_rate': 0.5, 'n_layers': 2, 'second_layer_nodes': 10}\n",
      "0.396875 (0.025509) with: {'epochs': 500, 'first_layer_nodes': 20, 'learning_rate': 0.5, 'n_layers': 2, 'second_layer_nodes': 5}\n",
      "0.319872 (0.038982) with: {'epochs': 500, 'first_layer_nodes': 10, 'learning_rate': 0.01, 'n_layers': 2, 'second_layer_nodes': 20}\n",
      "0.299119 (0.021451) with: {'epochs': 500, 'first_layer_nodes': 10, 'learning_rate': 0.01, 'n_layers': 2, 'second_layer_nodes': 10}\n",
      "0.211939 (0.096303) with: {'epochs': 500, 'first_layer_nodes': 10, 'learning_rate': 0.01, 'n_layers': 2, 'second_layer_nodes': 5}\n",
      "0.422436 (0.041908) with: {'epochs': 500, 'first_layer_nodes': 10, 'learning_rate': 0.15, 'n_layers': 2, 'second_layer_nodes': 20}\n",
      "0.350401 (0.046702) with: {'epochs': 500, 'first_layer_nodes': 10, 'learning_rate': 0.15, 'n_layers': 2, 'second_layer_nodes': 10}\n",
      "0.386859 (0.047628) with: {'epochs': 500, 'first_layer_nodes': 10, 'learning_rate': 0.15, 'n_layers': 2, 'second_layer_nodes': 5}\n",
      "0.391747 (0.031414) with: {'epochs': 500, 'first_layer_nodes': 10, 'learning_rate': 0.3, 'n_layers': 2, 'second_layer_nodes': 20}\n",
      "0.402003 (0.032418) with: {'epochs': 500, 'first_layer_nodes': 10, 'learning_rate': 0.3, 'n_layers': 2, 'second_layer_nodes': 10}\n",
      "0.407292 (0.010312) with: {'epochs': 500, 'first_layer_nodes': 10, 'learning_rate': 0.3, 'n_layers': 2, 'second_layer_nodes': 5}\n",
      "0.397035 (0.053227) with: {'epochs': 500, 'first_layer_nodes': 10, 'learning_rate': 0.5, 'n_layers': 2, 'second_layer_nodes': 20}\n",
      "0.402003 (0.057096) with: {'epochs': 500, 'first_layer_nodes': 10, 'learning_rate': 0.5, 'n_layers': 2, 'second_layer_nodes': 10}\n",
      "0.345673 (0.053113) with: {'epochs': 500, 'first_layer_nodes': 10, 'learning_rate': 0.5, 'n_layers': 2, 'second_layer_nodes': 5}\n",
      "0.299119 (0.037508) with: {'epochs': 500, 'first_layer_nodes': 5, 'learning_rate': 0.01, 'n_layers': 2, 'second_layer_nodes': 20}\n",
      "0.299119 (0.027852) with: {'epochs': 500, 'first_layer_nodes': 5, 'learning_rate': 0.01, 'n_layers': 2, 'second_layer_nodes': 10}\n",
      "0.314583 (0.027935) with: {'epochs': 500, 'first_layer_nodes': 5, 'learning_rate': 0.01, 'n_layers': 2, 'second_layer_nodes': 5}\n",
      "0.350160 (0.079493) with: {'epochs': 500, 'first_layer_nodes': 5, 'learning_rate': 0.15, 'n_layers': 2, 'second_layer_nodes': 20}\n",
      "0.345673 (0.043292) with: {'epochs': 500, 'first_layer_nodes': 5, 'learning_rate': 0.15, 'n_layers': 2, 'second_layer_nodes': 10}\n",
      "0.371154 (0.037782) with: {'epochs': 500, 'first_layer_nodes': 5, 'learning_rate': 0.15, 'n_layers': 2, 'second_layer_nodes': 5}\n",
      "0.350801 (0.046567) with: {'epochs': 500, 'first_layer_nodes': 5, 'learning_rate': 0.3, 'n_layers': 2, 'second_layer_nodes': 20}\n",
      "0.371314 (0.091335) with: {'epochs': 500, 'first_layer_nodes': 5, 'learning_rate': 0.3, 'n_layers': 2, 'second_layer_nodes': 10}\n",
      "0.391587 (0.049515) with: {'epochs': 500, 'first_layer_nodes': 5, 'learning_rate': 0.3, 'n_layers': 2, 'second_layer_nodes': 5}\n",
      "0.381651 (0.052364) with: {'epochs': 500, 'first_layer_nodes': 5, 'learning_rate': 0.5, 'n_layers': 2, 'second_layer_nodes': 20}\n",
      "0.412500 (0.041625) with: {'epochs': 500, 'first_layer_nodes': 5, 'learning_rate': 0.5, 'n_layers': 2, 'second_layer_nodes': 10}\n",
      "0.427965 (0.053303) with: {'epochs': 500, 'first_layer_nodes': 5, 'learning_rate': 0.5, 'n_layers': 2, 'second_layer_nodes': 5}\n"
     ]
    }
   ],
   "source": [
    "print(\"Best: %f using %s\" % (grid_result.best_score_, grid_result.best_params_))\n",
    "means = grid_result.cv_results_['mean_test_score']\n",
    "stds = grid_result.cv_results_['std_test_score']\n",
    "params = grid_result.cv_results_['params']\n",
    "for mean, stdev, param in zip(means, stds, params):\n",
    "    print(\"%f (%f) with: %r\" % (mean, stdev, param))"
   ]
  },
  {
   "cell_type": "markdown",
   "id": "3b539585",
   "metadata": {},
   "source": [
    "### Decision Trees"
   ]
  },
  {
   "cell_type": "code",
   "execution_count": 116,
   "id": "efae2c52",
   "metadata": {},
   "outputs": [],
   "source": [
    "import numpy as np\n",
    "from sklearn.tree import DecisionTreeClassifier\n",
    "from sklearn.model_selection import train_test_split\n",
    "from sklearn.metrics import confusion_matrix\n",
    "from sklearn.metrics import classification_report\n",
    "from sklearn.metrics import plot_confusion_matrix\n",
    "from sklearn.metrics import accuracy_score\n",
    "\n",
    "flagsTrain, flagsTest, rlgnTrain, rlgnTest = train_test_split(flagsScaled, rlgn, test_size = 0.20, random_state=5)\n",
    "tree_model = DecisionTreeClassifier().fit(flagsTrain, rlgnTrain)\n",
    "tree_pred = tree_model.predict(flagsTest)\n"
   ]
  },
  {
   "cell_type": "code",
   "execution_count": 121,
   "id": "2f0bef18",
   "metadata": {},
   "outputs": [
    {
     "name": "stdout",
     "output_type": "stream",
     "text": [
      "Accuracy:  0.358974358974359\n",
      "Classification Report: \n",
      "               precision    recall  f1-score   support\n",
      "\n",
      "           0       0.00      0.00      0.00         9\n",
      "           1       0.67      0.92      0.77        13\n",
      "           2       0.17      0.50      0.25         4\n",
      "           3       0.00      0.00      0.00         1\n",
      "           4       0.00      0.00      0.00         1\n",
      "           5       0.00      0.00      0.00         6\n",
      "           6       0.00      0.00      0.00         5\n",
      "           7       0.00      0.00      0.00         0\n",
      "\n",
      "   micro avg       0.36      0.36      0.36        39\n",
      "   macro avg       0.10      0.18      0.13        39\n",
      "weighted avg       0.24      0.36      0.28        39\n",
      " samples avg       0.36      0.36      0.36        39\n",
      "\n",
      "Confusion Matrix: \n",
      " [[ 0  4  4  0  0  0  1  0]\n",
      " [ 0 12  1  0  0  0  0  0]\n",
      " [ 0  1  2  0  0  1  0  0]\n",
      " [ 0  1  0  0  0  0  0  0]\n",
      " [ 0  0  0  0  0  1  0  0]\n",
      " [ 3  0  2  0  0  0  0  1]\n",
      " [ 2  0  3  0  0  0  0  0]\n",
      " [ 0  0  0  0  0  0  0  0]]\n"
     ]
    },
    {
     "name": "stderr",
     "output_type": "stream",
     "text": [
      "c:\\users\\socce\\appdata\\local\\programs\\python\\python38\\lib\\site-packages\\sklearn\\metrics\\_classification.py:1327: UndefinedMetricWarning: Precision and F-score are ill-defined and being set to 0.0 in labels with no predicted samples. Use `zero_division` parameter to control this behavior.\n",
      "  _warn_prf(average, modifier, msg_start, len(result))\n",
      "c:\\users\\socce\\appdata\\local\\programs\\python\\python38\\lib\\site-packages\\sklearn\\metrics\\_classification.py:1327: UndefinedMetricWarning: Recall and F-score are ill-defined and being set to 0.0 in labels with no true samples. Use `zero_division` parameter to control this behavior.\n",
      "  _warn_prf(average, modifier, msg_start, len(result))\n"
     ]
    }
   ],
   "source": [
    "from sklearn.preprocessing import MultiLabelBinarizer\n",
    "\n",
    "print(\"Accuracy: \", accuracy_score(rlgnTest, tree_pred))\n",
    "print(\"Classification Report: \\n\", classification_report(rlgnTest, tree_pred))\n",
    "print(\"Confusion Matrix: \\n\", confusion_matrix(np.argmax(rlgnTest, axis=1), np.argmax(tree_pred, axis=1)))"
   ]
  },
  {
   "cell_type": "code",
   "execution_count": null,
   "id": "886bf711",
   "metadata": {},
   "outputs": [],
   "source": []
  }
 ],
 "metadata": {
  "kernelspec": {
   "display_name": "Python 3 (ipykernel)",
   "language": "python",
   "name": "python3"
  },
  "language_info": {
   "codemirror_mode": {
    "name": "ipython",
    "version": 3
   },
   "file_extension": ".py",
   "mimetype": "text/x-python",
   "name": "python",
   "nbconvert_exporter": "python",
   "pygments_lexer": "ipython3",
   "version": "3.8.9"
  }
 },
 "nbformat": 4,
 "nbformat_minor": 5
}
