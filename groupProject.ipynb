{
 "cells": [
  {
   "cell_type": "markdown",
   "id": "7ac742b7",
   "metadata": {},
   "source": [
    "1.  Name:\t    Name of the country concerned\n",
    "2.  Landmass:\t1=N.America, 2=S.America, 3=Europe, 4=Africa, 4=Asia, 6=Oceania\n",
    "3.  Zone:\t    Geographic quadrant, based on Greenwich and the Equator: 1=NE, 2=SE, 3=SW, 4=NW\n",
    "4.  Area:\t    in thousands of square km\n",
    "5.  Population:\tin round millions\n",
    "6.  Language     1=English, 2=Spanish, 3=French, 4=German, 5=Slavic, 6=Other Indo-European, 7=Chinese, 8=Arabic, 9=Japanese/Turkish/Finnish/Magyar, 10=Others\n",
    "7.  Religion     0=Catholic, 1=Other Christian, 2=Muslim, 3=Buddhist, 4=Hindu, 5=Ethnic, 6=Marxist, 7=Others\n",
    "8.  Bars         Number of vertical bars in the flag\n",
    "9.  Stripes      Number of horizontal stripes in the flag\n",
    "10. Colours      Number of different colours in the flag\n",
    "11. Red          0 if red absent, 1 if red present in the flag\n",
    "12. Green        same for green\n",
    "13. Blue         same for blue\n",
    "14. Gold         same for gold (also yellow)\n",
    "15. White        same for white\n",
    "16. Black        same for black\n",
    "17. Orange       same for orange (also brown)\n",
    "18. Mainhue      predominant colour in the flag (tie-breaks decided by taking the topmost hue, if that fails then the most central hue, and if that fails the leftmost hue)\n",
    "19. Circles      Number of circles in the flag\n",
    "20. Crosses      Number of (upright) crosses\n",
    "21. Saltires     Number of diagonal crosses\n",
    "22. Quarters     Number of quartered sections\n",
    "23. Sunstars     Number of sun or star symbols\n",
    "24. Crescent     1 if a crescent moon symbol present, else 0\n",
    "25. Triangle     1 if any triangles present, 0 otherwise\n",
    "26. Icon         1 if an inanimate image present (e.g., a boat), otherwise 0\n",
    "27. Animate      1 if an animate image (e.g., an eagle, a tree, a human hand) present, 0 otherwise\n",
    "28. Text         1 if any letters or writing on the flag (e.g., a motto or slogan), 0 otherwise\n",
    "29. Topleft      Colour in the top-left corner (moving right to decide tie-breaks)\n",
    "30. Botright     Colour in the bottom-left corner (moving left to decide tie-breaks)\n"
   ]
  },
  {
   "cell_type": "code",
   "execution_count": 2,
   "id": "bea35230",
   "metadata": {
    "scrolled": false
   },
   "outputs": [
    {
     "name": "stdout",
     "output_type": "stream",
     "text": [
      "               Name  Landmass  Zone  Area  Population  Language  Religion  \\\n",
      "0       Afghanistan         5     1   648          16        10         2   \n",
      "1           Albania         3     1    29           3         6         6   \n",
      "2           Algeria         4     1  2388          20         8         2   \n",
      "3    American-Samoa         6     3     0           0         1         1   \n",
      "4           Andorra         3     1     0           0         6         0   \n",
      "..              ...       ...   ...   ...         ...       ...       ...   \n",
      "189   Western-Samoa         6     3     3           0         1         1   \n",
      "190      Yugoslavia         3     1   256          22         6         6   \n",
      "191           Zaire         4     2   905          28        10         5   \n",
      "192          Zambia         4     2   753           6        10         5   \n",
      "193        Zimbabwe         4     2   391           8        10         5   \n",
      "\n",
      "     Bars  Stripes  Colours  ...  Saltires  Quarters  Sunstars  Crescent  \\\n",
      "0       0        3        5  ...         0         0         1         0   \n",
      "1       0        0        3  ...         0         0         1         0   \n",
      "2       2        0        3  ...         0         0         1         1   \n",
      "3       0        0        5  ...         0         0         0         0   \n",
      "4       3        0        3  ...         0         0         0         0   \n",
      "..    ...      ...      ...  ...       ...       ...       ...       ...   \n",
      "189     0        0        3  ...         0         1         5         0   \n",
      "190     0        3        4  ...         0         0         1         0   \n",
      "191     0        0        4  ...         0         0         0         0   \n",
      "192     3        0        4  ...         0         0         0         0   \n",
      "193     0        7        5  ...         0         0         1         0   \n",
      "\n",
      "     Triangle  Icon  Animate Text  Topleft  Botright  \n",
      "0           0     1        0    0    black     green  \n",
      "1           0     0        1    0      red       red  \n",
      "2           0     0        0    0    green     white  \n",
      "3           1     1        1    0     blue       red  \n",
      "4           0     0        0    0     blue       red  \n",
      "..        ...   ...      ...  ...      ...       ...  \n",
      "189         0     0        0    0     blue       red  \n",
      "190         0     0        0    0     blue       red  \n",
      "191         0     1        1    0    green     green  \n",
      "192         0     0        1    0    green     brown  \n",
      "193         1     1        1    0    green     green  \n",
      "\n",
      "[194 rows x 30 columns]\n"
     ]
    }
   ],
   "source": [
    "import pandas as pd\n",
    "import numpy as np\n",
    "flags = pd.read_csv('./flag(1).data', sep=',')\n",
    "print(flags)"
   ]
  },
  {
   "cell_type": "markdown",
   "id": "0da1ee35",
   "metadata": {},
   "source": [
    "I think Name is an unimportant column so I think we will drop that.\n",
    "\n",
    "Columns with labels are Landmass, Zone, Language and Religion.  So those need to be encoded.\n",
    "\n",
    "For classifying output, I think I will do all of the columns with labels...I don't want landmass predicting religion or anything like that...this is simply about flags."
   ]
  },
  {
   "cell_type": "code",
   "execution_count": 3,
   "id": "45f657ae",
   "metadata": {},
   "outputs": [
    {
     "name": "stdout",
     "output_type": "stream",
     "text": [
      "Index(['Name', 'Landmass', 'Zone', 'Area', 'Population', 'Language',\n",
      "       'Religion', 'Bars', 'Stripes', 'Colours', 'Red', 'Green', 'Blue',\n",
      "       'Gold', 'White', 'Black', 'Orange', 'Mainhue', 'Circles', 'Crosses',\n",
      "       'Saltires', 'Quarters', 'Sunstars', 'Crescent', 'Triangle', 'Icon',\n",
      "       'Animate', 'Text', 'Topleft', 'Botright'],\n",
      "      dtype='object')\n"
     ]
    }
   ],
   "source": [
    "print(flags.columns)"
   ]
  },
  {
   "cell_type": "code",
   "execution_count": 4,
   "id": "0f1c606c",
   "metadata": {
    "scrolled": false
   },
   "outputs": [
    {
     "name": "stdout",
     "output_type": "stream",
     "text": [
      "[[0 0 0 0 1 0]\n",
      " [0 0 1 0 0 0]\n",
      " [0 0 0 1 0 0]\n",
      " ...\n",
      " [0 0 0 1 0 0]\n",
      " [0 0 0 1 0 0]\n",
      " [0 0 0 1 0 0]]\n",
      "[[0 0 0 ... 0 0 1]\n",
      " [0 0 0 ... 0 0 0]\n",
      " [0 0 0 ... 1 0 0]\n",
      " ...\n",
      " [0 0 0 ... 0 0 1]\n",
      " [0 0 0 ... 0 0 1]\n",
      " [0 0 0 ... 0 0 1]]\n"
     ]
    }
   ],
   "source": [
    "from sklearn.preprocessing import MinMaxScaler\n",
    "\n",
    "pd.set_option('display.max_columns', None)\n",
    "\n",
    "flagsOut = flags.drop('Name', axis = 1)\n",
    "\n",
    "landmass = pd.get_dummies(flagsOut.Landmass)\n",
    "language = pd.get_dummies(flagsOut.Language)\n",
    "religion = pd.get_dummies(flagsOut.Religion)\n",
    "zone = pd.get_dummies(flagsOut.Zone)\n",
    "\n",
    "flagsOut = flagsOut.drop('Landmass', axis = 1)\n",
    "flagsOut = flagsOut.drop('Language', axis = 1)\n",
    "flagsOut = flagsOut.drop('Religion', axis = 1)\n",
    "flagsOut = flagsOut.drop('Zone', axis = 1)\n",
    "\n",
    "x = pd.get_dummies(flagsOut.Topleft, prefix='topleft')\n",
    "y = pd.get_dummies(flagsOut.Botright, prefix = 'botright')\n",
    "z = pd.get_dummies(flagsOut.Mainhue, prefix = 'mainhue')\n",
    "\n",
    "flagsOut = flagsOut.drop('Botright', axis=1)\n",
    "flagsOut = flagsOut.drop('Topleft', axis=1)\n",
    "flagsOut = flagsOut.drop('Mainhue', axis=1)\n",
    "\n",
    "#flagsOut = flagsOut.join(w)\n",
    "flagsOut = flagsOut.join(x)\n",
    "flagsOut = flagsOut.join(y)\n",
    "flagsOut = flagsOut.join(z)\n",
    "\n",
    "scaler = MinMaxScaler()\n",
    "flagsScaled = scaler.fit_transform(flagsOut)  #flagsScaled is a numpy array\n",
    "land = landmass.to_numpy()\n",
    "lang = language.to_numpy()\n",
    "rlgn = religion.to_numpy()\n",
    "zn = zone.to_numpy()\n",
    "\n",
    "print(land)\n",
    "print(lang)"
   ]
  },
  {
   "cell_type": "markdown",
   "id": "a930d024",
   "metadata": {},
   "source": [
    "# Fun With Flags Episode 1: Can flag metrics predict land mass?\n",
    "*Hint: They do not"
   ]
  },
  {
   "cell_type": "code",
   "execution_count": 5,
   "id": "868ce09f",
   "metadata": {},
   "outputs": [
    {
     "name": "stderr",
     "output_type": "stream",
     "text": [
      "2022-06-04 22:34:13.667113: W tensorflow/stream_executor/platform/default/dso_loader.cc:64] Could not load dynamic library 'libcudart.so.11.0'; dlerror: libcudart.so.11.0: cannot open shared object file: No such file or directory\n",
      "2022-06-04 22:34:13.667142: I tensorflow/stream_executor/cuda/cudart_stub.cc:29] Ignore above cudart dlerror if you do not have a GPU set up on your machine.\n",
      "2022-06-04 22:34:14.624568: W tensorflow/stream_executor/platform/default/dso_loader.cc:64] Could not load dynamic library 'libcuda.so.1'; dlerror: libcuda.so.1: cannot open shared object file: No such file or directory\n",
      "2022-06-04 22:34:14.624599: W tensorflow/stream_executor/cuda/cuda_driver.cc:269] failed call to cuInit: UNKNOWN ERROR (303)\n",
      "2022-06-04 22:34:14.624609: I tensorflow/stream_executor/cuda/cuda_diagnostics.cc:156] kernel driver does not appear to be running on this host (corence): /proc/driver/nvidia/version does not exist\n",
      "2022-06-04 22:34:14.624859: I tensorflow/core/platform/cpu_feature_guard.cc:193] This TensorFlow binary is optimized with oneAPI Deep Neural Network Library (oneDNN) to use the following CPU instructions in performance-critical operations:  AVX2 FMA\n",
      "To enable them in other operations, rebuild TensorFlow with the appropriate compiler flags.\n"
     ]
    }
   ],
   "source": [
    "from tensorflow.keras.models import Sequential\n",
    "from tensorflow.keras.layers import Dense\n",
    "from tensorflow.keras.optimizers import SGD\n",
    "\n",
    "model = Sequential()\n",
    "\n",
    "layers = [\n",
    "    Dense(20, activation='relu', name='layer1'),\n",
    "    Dense(10, activation='relu', name='layer2'),\n",
    "    Dense(6, activation='sigmoid', name='Output')\n",
    "]\n",
    "\n",
    "for layer in layers:\n",
    "    model.add(layer)\n",
    "\n",
    "model.compile(optimizer=SGD(learning_rate=.01), loss='mse', metrics=['accuracy'])\n",
    "hist = model.fit(flagsScaled, land, validation_split=.2, epochs=500, verbose=0)"
   ]
  },
  {
   "cell_type": "code",
   "execution_count": 6,
   "id": "1457a19a",
   "metadata": {},
   "outputs": [
    {
     "name": "stdout",
     "output_type": "stream",
     "text": [
      "5/5 [==============================] - 0s 671us/step\n",
      "Training Error: 0.130\n",
      "Training Accuracy: 0.303\n"
     ]
    }
   ],
   "source": [
    "from sklearn.model_selection import train_test_split\n",
    "\n",
    "flagsTrain, flagsTest, landTrain, landTest = train_test_split(flagsScaled, land, test_size = 0.20, random_state=5)\n",
    "\n",
    "pred_train= model.predict(flagsTrain)\n",
    "score, acc = model.evaluate(flagsTrain, landTrain, verbose=0)\n",
    "print('Training Error: %.3f' % score)\n",
    "print('Training Accuracy: %.3f' % acc)"
   ]
  },
  {
   "cell_type": "code",
   "execution_count": 7,
   "id": "720bc094",
   "metadata": {},
   "outputs": [
    {
     "name": "stdout",
     "output_type": "stream",
     "text": [
      "2/2 [==============================] - 0s 1ms/step\n",
      "Test Error: 0.126\n",
      "Test Accuracy: 0.308\n"
     ]
    }
   ],
   "source": [
    "pred_train= model.predict(flagsTest)\n",
    "score, acc = model.evaluate(flagsTest, landTest, verbose=0)\n",
    "print('Test Error: %.3f' % score)\n",
    "print('Test Accuracy: %.3f' % acc)"
   ]
  },
  {
   "cell_type": "code",
   "execution_count": 8,
   "id": "b2859ee6",
   "metadata": {},
   "outputs": [
    {
     "data": {
      "image/png": "[encoded data removed]",
      "text/plain": [
       "<Figure size 432x288 with 1 Axes>"
      ]
     },
     "metadata": {
      "needs_background": "light"
     },
     "output_type": "display_data"
    }
   ],
   "source": [
    "import matplotlib.pyplot as plt\n",
    "\n",
    "plt.plot(hist.history['loss'])\n",
    "plt.plot(hist.history['val_loss'])\n",
    "plt.title('Model Loss Curve')\n",
    "plt.ylabel('Loss')\n",
    "plt.xlabel('Epoch')\n",
    "plt.legend(['train', 'test'], loc='upper right')\n",
    "plt.show()"
   ]
  },
  {
   "cell_type": "code",
   "execution_count": 9,
   "id": "3211f97a",
   "metadata": {},
   "outputs": [
    {
     "data": {
      "image/png": "[encoded data removed]",
      "text/plain": [
       "<Figure size 432x288 with 1 Axes>"
      ]
     },
     "metadata": {
      "needs_background": "light"
     },
     "output_type": "display_data"
    }
   ],
   "source": [
    "plt.plot(hist.history['accuracy'])\n",
    "plt.plot(hist.history['val_accuracy'])\n",
    "plt.title('Model Accuracy')\n",
    "plt.ylabel('Accuracy')\n",
    "plt.xlabel('Epochs')\n",
    "plt.legend(['train', 'test'], loc='upper left')\n",
    "plt.show()"
   ]
  },
  {
   "cell_type": "code",
   "execution_count": 10,
   "id": "c4d45970",
   "metadata": {
    "scrolled": true
   },
   "outputs": [
    {
     "name": "stderr",
     "output_type": "stream",
     "text": [
      "2022-06-04 22:34:23.023085: W tensorflow/stream_executor/platform/default/dso_loader.cc:64] Could not load dynamic library 'libcudart.so.11.0'; dlerror: libcudart.so.11.0: cannot open shared object file: No such file or directory\n",
      "2022-06-04 22:34:23.024002: I tensorflow/stream_executor/cuda/cudart_stub.cc:29] Ignore above cudart dlerror if you do not have a GPU set up on your machine.\n",
      "2022-06-04 22:34:23.043477: W tensorflow/stream_executor/platform/default/dso_loader.cc:64] Could not load dynamic library 'libcudart.so.11.0'; dlerror: libcudart.so.11.0: cannot open shared object file: No such file or directory\n",
      "2022-06-04 22:34:23.043965: I tensorflow/stream_executor/cuda/cudart_stub.cc:29] Ignore above cudart dlerror if you do not have a GPU set up on your machine.\n",
      "2022-06-04 22:34:23.052356: W tensorflow/stream_executor/platform/default/dso_loader.cc:64] Could not load dynamic library 'libcudart.so.11.0'; dlerror: libcudart.so.11.0: cannot open shared object file: No such file or directory\n",
      "2022-06-04 22:34:23.052871: I tensorflow/stream_executor/cuda/cudart_stub.cc:29] Ignore above cudart dlerror if you do not have a GPU set up on your machine.\n",
      "2022-06-04 22:34:23.071041: W tensorflow/stream_executor/platform/default/dso_loader.cc:64] Could not load dynamic library 'libcudart.so.11.0'; dlerror: libcudart.so.11.0: cannot open shared object file: No such file or directory\n",
      "2022-06-04 22:34:23.071977: I tensorflow/stream_executor/cuda/cudart_stub.cc:29] Ignore above cudart dlerror if you do not have a GPU set up on your machine.\n",
      "2022-06-04 22:34:23.072600: W tensorflow/stream_executor/platform/default/dso_loader.cc:64] Could not load dynamic library 'libcudart.so.11.0'; dlerror: libcudart.so.11.0: cannot open shared object file: No such file or directory\n",
      "2022-06-04 22:34:23.072636: I tensorflow/stream_executor/cuda/cudart_stub.cc:29] Ignore above cudart dlerror if you do not have a GPU set up on your machine.\n",
      "2022-06-04 22:34:23.081416: W tensorflow/stream_executor/platform/default/dso_loader.cc:64] Could not load dynamic library 'libcudart.so.11.0'; dlerror: libcudart.so.11.0: cannot open shared object file: No such file or directory\n",
      "2022-06-04 22:34:23.081499: I tensorflow/stream_executor/cuda/cudart_stub.cc:29] Ignore above cudart dlerror if you do not have a GPU set up on your machine.\n",
      "2022-06-04 22:34:23.089551: W tensorflow/stream_executor/platform/default/dso_loader.cc:64] Could not load dynamic library 'libcudart.so.11.0'; dlerror: libcudart.so.11.0: cannot open shared object file: No such file or directory\n",
      "2022-06-04 22:34:23.089626: I tensorflow/stream_executor/cuda/cudart_stub.cc:29] Ignore above cudart dlerror if you do not have a GPU set up on your machine.\n",
      "2022-06-04 22:34:23.094925: W tensorflow/stream_executor/platform/default/dso_loader.cc:64] Could not load dynamic library 'libcudart.so.11.0'; dlerror: libcudart.so.11.0: cannot open shared object file: No such file or directory\n",
      "2022-06-04 22:34:23.095000: I tensorflow/stream_executor/cuda/cudart_stub.cc:29] Ignore above cudart dlerror if you do not have a GPU set up on your machine.\n",
      "2022-06-04 22:34:23.113140: W tensorflow/stream_executor/platform/default/dso_loader.cc:64] Could not load dynamic library 'libcudart.so.11.0'; dlerror: libcudart.so.11.0: cannot open shared object file: No such file or directory\n",
      "2022-06-04 22:34:23.113221: I tensorflow/stream_executor/cuda/cudart_stub.cc:29] Ignore above cudart dlerror if you do not have a GPU set up on your machine.\n",
      "2022-06-04 22:34:23.113998: W tensorflow/stream_executor/platform/default/dso_loader.cc:64] Could not load dynamic library 'libcudart.so.11.0'; dlerror: libcudart.so.11.0: cannot open shared object file: No such file or directory\n",
      "2022-06-04 22:34:23.114226: I tensorflow/stream_executor/cuda/cudart_stub.cc:29] Ignore above cudart dlerror if you do not have a GPU set up on your machine.\n",
      "2022-06-04 22:34:23.156632: W tensorflow/stream_executor/platform/default/dso_loader.cc:64] Could not load dynamic library 'libcudart.so.11.0'; dlerror: libcudart.so.11.0: cannot open shared object file: No such file or directory\n",
      "2022-06-04 22:34:23.156712: I tensorflow/stream_executor/cuda/cudart_stub.cc:29] Ignore above cudart dlerror if you do not have a GPU set up on your machine.\n",
      "2022-06-04 22:34:23.157044: W tensorflow/stream_executor/platform/default/dso_loader.cc:64] Could not load dynamic library 'libcudart.so.11.0'; dlerror: libcudart.so.11.0: cannot open shared object file: No such file or directory\n",
      "2022-06-04 22:34:23.157074: I tensorflow/stream_executor/cuda/cudart_stub.cc:29] Ignore above cudart dlerror if you do not have a GPU set up on your machine.\n",
      "2022-06-04 22:34:24.945367: W tensorflow/stream_executor/platform/default/dso_loader.cc:64] Could not load dynamic library 'libcuda.so.1'; dlerror: libcuda.so.1: cannot open shared object file: No such file or directory\n",
      "2022-06-04 22:34:24.945539: W tensorflow/stream_executor/cuda/cuda_driver.cc:269] failed call to cuInit: UNKNOWN ERROR (303)\n",
      "2022-06-04 22:34:24.945573: I tensorflow/stream_executor/cuda/cuda_diagnostics.cc:156] kernel driver does not appear to be running on this host (corence): /proc/driver/nvidia/version does not exist\n",
      "2022-06-04 22:34:24.945816: I tensorflow/core/platform/cpu_feature_guard.cc:193] This TensorFlow binary is optimized with oneAPI Deep Neural Network Library (oneDNN) to use the following CPU instructions in performance-critical operations:  AVX2 FMA\n",
      "To enable them in other operations, rebuild TensorFlow with the appropriate compiler flags.\n",
      "2022-06-04 22:34:25.001329: W tensorflow/stream_executor/platform/default/dso_loader.cc:64] Could not load dynamic library 'libcuda.so.1'; dlerror: libcuda.so.1: cannot open shared object file: No such file or directory\n",
      "2022-06-04 22:34:25.001357: W tensorflow/stream_executor/cuda/cuda_driver.cc:269] failed call to cuInit: UNKNOWN ERROR (303)\n",
      "2022-06-04 22:34:25.001371: I tensorflow/stream_executor/cuda/cuda_diagnostics.cc:156] kernel driver does not appear to be running on this host (corence): /proc/driver/nvidia/version does not exist\n",
      "2022-06-04 22:34:25.001628: I tensorflow/core/platform/cpu_feature_guard.cc:193] This TensorFlow binary is optimized with oneAPI Deep Neural Network Library (oneDNN) to use the following CPU instructions in performance-critical operations:  AVX2 FMA\n",
      "To enable them in other operations, rebuild TensorFlow with the appropriate compiler flags.\n",
      "2022-06-04 22:34:25.002740: W tensorflow/stream_executor/platform/default/dso_loader.cc:64] Could not load dynamic library 'libcuda.so.1'; dlerror: libcuda.so.1: cannot open shared object file: No such file or directory\n",
      "2022-06-04 22:34:25.002762: W tensorflow/stream_executor/cuda/cuda_driver.cc:269] failed call to cuInit: UNKNOWN ERROR (303)\n",
      "2022-06-04 22:34:25.002774: I tensorflow/stream_executor/cuda/cuda_diagnostics.cc:156] kernel driver does not appear to be running on this host (corence): /proc/driver/nvidia/version does not exist\n",
      "2022-06-04 22:34:25.002988: I tensorflow/core/platform/cpu_feature_guard.cc:193] This TensorFlow binary is optimized with oneAPI Deep Neural Network Library (oneDNN) to use the following CPU instructions in performance-critical operations:  AVX2 FMA\n",
      "To enable them in other operations, rebuild TensorFlow with the appropriate compiler flags.\n",
      "2022-06-04 22:34:25.006526: W tensorflow/stream_executor/platform/default/dso_loader.cc:64] Could not load dynamic library 'libcuda.so.1'; dlerror: libcuda.so.1: cannot open shared object file: No such file or directory\n",
      "2022-06-04 22:34:25.006550: W tensorflow/stream_executor/cuda/cuda_driver.cc:269] failed call to cuInit: UNKNOWN ERROR (303)\n",
      "2022-06-04 22:34:25.006562: I tensorflow/stream_executor/cuda/cuda_diagnostics.cc:156] kernel driver does not appear to be running on this host (corence): /proc/driver/nvidia/version does not exist\n",
      "2022-06-04 22:34:25.006733: I tensorflow/core/platform/cpu_feature_guard.cc:193] This TensorFlow binary is optimized with oneAPI Deep Neural Network Library (oneDNN) to use the following CPU instructions in performance-critical operations:  AVX2 FMA\n",
      "To enable them in other operations, rebuild TensorFlow with the appropriate compiler flags.\n",
      "2022-06-04 22:34:25.030455: W tensorflow/stream_executor/platform/default/dso_loader.cc:64] Could not load dynamic library 'libcuda.so.1'; dlerror: libcuda.so.1: cannot open shared object file: No such file or directory\n",
      "2022-06-04 22:34:25.030485: W tensorflow/stream_executor/cuda/cuda_driver.cc:269] failed call to cuInit: UNKNOWN ERROR (303)\n",
      "2022-06-04 22:34:25.030499: I tensorflow/stream_executor/cuda/cuda_diagnostics.cc:156] kernel driver does not appear to be running on this host (corence): /proc/driver/nvidia/version does not exist\n",
      "2022-06-04 22:34:25.030680: I tensorflow/core/platform/cpu_feature_guard.cc:193] This TensorFlow binary is optimized with oneAPI Deep Neural Network Library (oneDNN) to use the following CPU instructions in performance-critical operations:  AVX2 FMA\n",
      "To enable them in other operations, rebuild TensorFlow with the appropriate compiler flags.\n",
      "2022-06-04 22:34:25.045006: W tensorflow/stream_executor/platform/default/dso_loader.cc:64] Could not load dynamic library 'libcuda.so.1'; dlerror: libcuda.so.1: cannot open shared object file: No such file or directory\n",
      "2022-06-04 22:34:25.045033: W tensorflow/stream_executor/cuda/cuda_driver.cc:269] failed call to cuInit: UNKNOWN ERROR (303)\n",
      "2022-06-04 22:34:25.045047: I tensorflow/stream_executor/cuda/cuda_diagnostics.cc:156] kernel driver does not appear to be running on this host (corence): /proc/driver/nvidia/version does not exist\n",
      "2022-06-04 22:34:25.045265: I tensorflow/core/platform/cpu_feature_guard.cc:193] This TensorFlow binary is optimized with oneAPI Deep Neural Network Library (oneDNN) to use the following CPU instructions in performance-critical operations:  AVX2 FMA\n",
      "To enable them in other operations, rebuild TensorFlow with the appropriate compiler flags.\n",
      "2022-06-04 22:34:25.070017: W tensorflow/stream_executor/platform/default/dso_loader.cc:64] Could not load dynamic library 'libcuda.so.1'; dlerror: libcuda.so.1: cannot open shared object file: No such file or directory\n",
      "2022-06-04 22:34:25.070065: W tensorflow/stream_executor/cuda/cuda_driver.cc:269] failed call to cuInit: UNKNOWN ERROR (303)\n",
      "2022-06-04 22:34:25.070085: I tensorflow/stream_executor/cuda/cuda_diagnostics.cc:156] kernel driver does not appear to be running on this host (corence): /proc/driver/nvidia/version does not exist\n",
      "2022-06-04 22:34:25.070289: I tensorflow/core/platform/cpu_feature_guard.cc:193] This TensorFlow binary is optimized with oneAPI Deep Neural Network Library (oneDNN) to use the following CPU instructions in performance-critical operations:  AVX2 FMA\n",
      "To enable them in other operations, rebuild TensorFlow with the appropriate compiler flags.\n",
      "2022-06-04 22:34:25.080771: W tensorflow/stream_executor/platform/default/dso_loader.cc:64] Could not load dynamic library 'libcuda.so.1'; dlerror: libcuda.so.1: cannot open shared object file: No such file or directory\n",
      "2022-06-04 22:34:25.080807: W tensorflow/stream_executor/cuda/cuda_driver.cc:269] failed call to cuInit: UNKNOWN ERROR (303)\n",
      "2022-06-04 22:34:25.080823: I tensorflow/stream_executor/cuda/cuda_diagnostics.cc:156] kernel driver does not appear to be running on this host (corence): /proc/driver/nvidia/version does not exist\n",
      "2022-06-04 22:34:25.081050: I tensorflow/core/platform/cpu_feature_guard.cc:193] This TensorFlow binary is optimized with oneAPI Deep Neural Network Library (oneDNN) to use the following CPU instructions in performance-critical operations:  AVX2 FMA\n",
      "To enable them in other operations, rebuild TensorFlow with the appropriate compiler flags.\n",
      "2022-06-04 22:34:25.084375: W tensorflow/stream_executor/platform/default/dso_loader.cc:64] Could not load dynamic library 'libcuda.so.1'; dlerror: libcuda.so.1: cannot open shared object file: No such file or directory\n",
      "2022-06-04 22:34:25.084418: W tensorflow/stream_executor/cuda/cuda_driver.cc:269] failed call to cuInit: UNKNOWN ERROR (303)\n",
      "2022-06-04 22:34:25.084433: I tensorflow/stream_executor/cuda/cuda_diagnostics.cc:156] kernel driver does not appear to be running on this host (corence): /proc/driver/nvidia/version does not exist\n",
      "2022-06-04 22:34:25.084629: I tensorflow/core/platform/cpu_feature_guard.cc:193] This TensorFlow binary is optimized with oneAPI Deep Neural Network Library (oneDNN) to use the following CPU instructions in performance-critical operations:  AVX2 FMA\n",
      "To enable them in other operations, rebuild TensorFlow with the appropriate compiler flags.\n",
      "2022-06-04 22:34:25.105300: W tensorflow/stream_executor/platform/default/dso_loader.cc:64] Could not load dynamic library 'libcuda.so.1'; dlerror: libcuda.so.1: cannot open shared object file: No such file or directory\n",
      "2022-06-04 22:34:25.105334: W tensorflow/stream_executor/cuda/cuda_driver.cc:269] failed call to cuInit: UNKNOWN ERROR (303)\n",
      "2022-06-04 22:34:25.105350: I tensorflow/stream_executor/cuda/cuda_diagnostics.cc:156] kernel driver does not appear to be running on this host (corence): /proc/driver/nvidia/version does not exist\n",
      "2022-06-04 22:34:25.105606: I tensorflow/core/platform/cpu_feature_guard.cc:193] This TensorFlow binary is optimized with oneAPI Deep Neural Network Library (oneDNN) to use the following CPU instructions in performance-critical operations:  AVX2 FMA\n",
      "To enable them in other operations, rebuild TensorFlow with the appropriate compiler flags.\n",
      "2022-06-04 22:34:25.112714: W tensorflow/stream_executor/platform/default/dso_loader.cc:64] Could not load dynamic library 'libcuda.so.1'; dlerror: libcuda.so.1: cannot open shared object file: No such file or directory\n",
      "2022-06-04 22:34:25.112756: W tensorflow/stream_executor/cuda/cuda_driver.cc:269] failed call to cuInit: UNKNOWN ERROR (303)\n",
      "2022-06-04 22:34:25.112846: I tensorflow/stream_executor/cuda/cuda_diagnostics.cc:156] kernel driver does not appear to be running on this host (corence): /proc/driver/nvidia/version does not exist\n",
      "2022-06-04 22:34:25.113066: I tensorflow/core/platform/cpu_feature_guard.cc:193] This TensorFlow binary is optimized with oneAPI Deep Neural Network Library (oneDNN) to use the following CPU instructions in performance-critical operations:  AVX2 FMA\n",
      "To enable them in other operations, rebuild TensorFlow with the appropriate compiler flags.\n",
      "2022-06-04 22:34:25.118673: W tensorflow/stream_executor/platform/default/dso_loader.cc:64] Could not load dynamic library 'libcuda.so.1'; dlerror: libcuda.so.1: cannot open shared object file: No such file or directory\n",
      "2022-06-04 22:34:25.118712: W tensorflow/stream_executor/cuda/cuda_driver.cc:269] failed call to cuInit: UNKNOWN ERROR (303)\n",
      "2022-06-04 22:34:25.118730: I tensorflow/stream_executor/cuda/cuda_diagnostics.cc:156] kernel driver does not appear to be running on this host (corence): /proc/driver/nvidia/version does not exist\n",
      "2022-06-04 22:34:25.118961: I tensorflow/core/platform/cpu_feature_guard.cc:193] This TensorFlow binary is optimized with oneAPI Deep Neural Network Library (oneDNN) to use the following CPU instructions in performance-critical operations:  AVX2 FMA\n",
      "To enable them in other operations, rebuild TensorFlow with the appropriate compiler flags.\n",
      "WARNING:tensorflow:5 out of the last 12 calls to <function Model.make_test_function.<locals>.test_function at 0x7f7b6d5bcdc0> triggered tf.function retracing. Tracing is expensive and the excessive number of tracings could be due to (1) creating @tf.function repeatedly in a loop, (2) passing tensors with different shapes, (3) passing Python objects instead of tensors. For (1), please define your @tf.function outside of the loop. For (2), @tf.function has reduce_retracing=True option that can avoid unnecessary retracing. For (3), please refer to https://www.tensorflow.org/guide/function#controlling_retracing and https://www.tensorflow.org/api_docs/python/tf/function for  more details.\n",
      "WARNING:tensorflow:5 out of the last 11 calls to <function Model.make_test_function.<locals>.test_function at 0x7f1ebff32dc0> triggered tf.function retracing. Tracing is expensive and the excessive number of tracings could be due to (1) creating @tf.function repeatedly in a loop, (2) passing tensors with different shapes, (3) passing Python objects instead of tensors. For (1), please define your @tf.function outside of the loop. For (2), @tf.function has reduce_retracing=True option that can avoid unnecessary retracing. For (3), please refer to https://www.tensorflow.org/guide/function#controlling_retracing and https://www.tensorflow.org/api_docs/python/tf/function for  more details.\n",
      "WARNING:tensorflow:5 out of the last 12 calls to <function Model.make_test_function.<locals>.test_function at 0x7f61a423bdc0> triggered tf.function retracing. Tracing is expensive and the excessive number of tracings could be due to (1) creating @tf.function repeatedly in a loop, (2) passing tensors with different shapes, (3) passing Python objects instead of tensors. For (1), please define your @tf.function outside of the loop. For (2), @tf.function has reduce_retracing=True option that can avoid unnecessary retracing. For (3), please refer to https://www.tensorflow.org/guide/function#controlling_retracing and https://www.tensorflow.org/api_docs/python/tf/function for  more details.\n",
      "WARNING:tensorflow:5 out of the last 12 calls to <function Model.make_test_function.<locals>.test_function at 0x7feb01d90dc0> triggered tf.function retracing. Tracing is expensive and the excessive number of tracings could be due to (1) creating @tf.function repeatedly in a loop, (2) passing tensors with different shapes, (3) passing Python objects instead of tensors. For (1), please define your @tf.function outside of the loop. For (2), @tf.function has reduce_retracing=True option that can avoid unnecessary retracing. For (3), please refer to https://www.tensorflow.org/guide/function#controlling_retracing and https://www.tensorflow.org/api_docs/python/tf/function for  more details.\n",
      "WARNING:tensorflow:5 out of the last 10 calls to <function Model.make_test_function.<locals>.test_function at 0x7f3131fe9dc0> triggered tf.function retracing. Tracing is expensive and the excessive number of tracings could be due to (1) creating @tf.function repeatedly in a loop, (2) passing tensors with different shapes, (3) passing Python objects instead of tensors. For (1), please define your @tf.function outside of the loop. For (2), @tf.function has reduce_retracing=True option that can avoid unnecessary retracing. For (3), please refer to https://www.tensorflow.org/guide/function#controlling_retracing and https://www.tensorflow.org/api_docs/python/tf/function for  more details.\n",
      "WARNING:tensorflow:5 out of the last 12 calls to <function Model.make_test_function.<locals>.test_function at 0x7fc8acddbdc0> triggered tf.function retracing. Tracing is expensive and the excessive number of tracings could be due to (1) creating @tf.function repeatedly in a loop, (2) passing tensors with different shapes, (3) passing Python objects instead of tensors. For (1), please define your @tf.function outside of the loop. For (2), @tf.function has reduce_retracing=True option that can avoid unnecessary retracing. For (3), please refer to https://www.tensorflow.org/guide/function#controlling_retracing and https://www.tensorflow.org/api_docs/python/tf/function for  more details.\n",
      "WARNING:tensorflow:5 out of the last 12 calls to <function Model.make_test_function.<locals>.test_function at 0x7f438b74adc0> triggered tf.function retracing. Tracing is expensive and the excessive number of tracings could be due to (1) creating @tf.function repeatedly in a loop, (2) passing tensors with different shapes, (3) passing Python objects instead of tensors. For (1), please define your @tf.function outside of the loop. For (2), @tf.function has reduce_retracing=True option that can avoid unnecessary retracing. For (3), please refer to https://www.tensorflow.org/guide/function#controlling_retracing and https://www.tensorflow.org/api_docs/python/tf/function for  more details.\n",
      "WARNING:tensorflow:5 out of the last 12 calls to <function Model.make_test_function.<locals>.test_function at 0x7f9cd1610dc0> triggered tf.function retracing. Tracing is expensive and the excessive number of tracings could be due to (1) creating @tf.function repeatedly in a loop, (2) passing tensors with different shapes, (3) passing Python objects instead of tensors. For (1), please define your @tf.function outside of the loop. For (2), @tf.function has reduce_retracing=True option that can avoid unnecessary retracing. For (3), please refer to https://www.tensorflow.org/guide/function#controlling_retracing and https://www.tensorflow.org/api_docs/python/tf/function for  more details.\n",
      "WARNING:tensorflow:5 out of the last 11 calls to <function Model.make_test_function.<locals>.test_function at 0x7f815c88fdc0> triggered tf.function retracing. Tracing is expensive and the excessive number of tracings could be due to (1) creating @tf.function repeatedly in a loop, (2) passing tensors with different shapes, (3) passing Python objects instead of tensors. For (1), please define your @tf.function outside of the loop. For (2), @tf.function has reduce_retracing=True option that can avoid unnecessary retracing. For (3), please refer to https://www.tensorflow.org/guide/function#controlling_retracing and https://www.tensorflow.org/api_docs/python/tf/function for  more details.\n",
      "WARNING:tensorflow:5 out of the last 12 calls to <function Model.make_test_function.<locals>.test_function at 0x7f9edafb1dc0> triggered tf.function retracing. Tracing is expensive and the excessive number of tracings could be due to (1) creating @tf.function repeatedly in a loop, (2) passing tensors with different shapes, (3) passing Python objects instead of tensors. For (1), please define your @tf.function outside of the loop. For (2), @tf.function has reduce_retracing=True option that can avoid unnecessary retracing. For (3), please refer to https://www.tensorflow.org/guide/function#controlling_retracing and https://www.tensorflow.org/api_docs/python/tf/function for  more details.\n",
      "WARNING:tensorflow:5 out of the last 12 calls to <function Model.make_test_function.<locals>.test_function at 0x7f3270d13dc0> triggered tf.function retracing. Tracing is expensive and the excessive number of tracings could be due to (1) creating @tf.function repeatedly in a loop, (2) passing tensors with different shapes, (3) passing Python objects instead of tensors. For (1), please define your @tf.function outside of the loop. For (2), @tf.function has reduce_retracing=True option that can avoid unnecessary retracing. For (3), please refer to https://www.tensorflow.org/guide/function#controlling_retracing and https://www.tensorflow.org/api_docs/python/tf/function for  more details.\n",
      "WARNING:tensorflow:5 out of the last 12 calls to <function Model.make_test_function.<locals>.test_function at 0x7f1ebfe840d0> triggered tf.function retracing. Tracing is expensive and the excessive number of tracings could be due to (1) creating @tf.function repeatedly in a loop, (2) passing tensors with different shapes, (3) passing Python objects instead of tensors. For (1), please define your @tf.function outside of the loop. For (2), @tf.function has reduce_retracing=True option that can avoid unnecessary retracing. For (3), please refer to https://www.tensorflow.org/guide/function#controlling_retracing and https://www.tensorflow.org/api_docs/python/tf/function for  more details.\n",
      "WARNING:tensorflow:5 out of the last 11 calls to <function Model.make_test_function.<locals>.test_function at 0x7f3131f3f0d0> triggered tf.function retracing. Tracing is expensive and the excessive number of tracings could be due to (1) creating @tf.function repeatedly in a loop, (2) passing tensors with different shapes, (3) passing Python objects instead of tensors. For (1), please define your @tf.function outside of the loop. For (2), @tf.function has reduce_retracing=True option that can avoid unnecessary retracing. For (3), please refer to https://www.tensorflow.org/guide/function#controlling_retracing and https://www.tensorflow.org/api_docs/python/tf/function for  more details.\n",
      "WARNING:tensorflow:5 out of the last 13 calls to <function Model.make_test_function.<locals>.test_function at 0x7fc8acc6e0d0> triggered tf.function retracing. Tracing is expensive and the excessive number of tracings could be due to (1) creating @tf.function repeatedly in a loop, (2) passing tensors with different shapes, (3) passing Python objects instead of tensors. For (1), please define your @tf.function outside of the loop. For (2), @tf.function has reduce_retracing=True option that can avoid unnecessary retracing. For (3), please refer to https://www.tensorflow.org/guide/function#controlling_retracing and https://www.tensorflow.org/api_docs/python/tf/function for  more details.\n",
      "WARNING:tensorflow:5 out of the last 11 calls to <function Model.make_test_function.<locals>.test_function at 0x7f9cd14a20d0> triggered tf.function retracing. Tracing is expensive and the excessive number of tracings could be due to (1) creating @tf.function repeatedly in a loop, (2) passing tensors with different shapes, (3) passing Python objects instead of tensors. For (1), please define your @tf.function outside of the loop. For (2), @tf.function has reduce_retracing=True option that can avoid unnecessary retracing. For (3), please refer to https://www.tensorflow.org/guide/function#controlling_retracing and https://www.tensorflow.org/api_docs/python/tf/function for  more details.\n",
      "WARNING:tensorflow:5 out of the last 12 calls to <function Model.make_test_function.<locals>.test_function at 0x7f815c7250d0> triggered tf.function retracing. Tracing is expensive and the excessive number of tracings could be due to (1) creating @tf.function repeatedly in a loop, (2) passing tensors with different shapes, (3) passing Python objects instead of tensors. For (1), please define your @tf.function outside of the loop. For (2), @tf.function has reduce_retracing=True option that can avoid unnecessary retracing. For (3), please refer to https://www.tensorflow.org/guide/function#controlling_retracing and https://www.tensorflow.org/api_docs/python/tf/function for  more details.\n",
      "WARNING:tensorflow:5 out of the last 11 calls to <function Model.make_test_function.<locals>.test_function at 0x7f9edaf000d0> triggered tf.function retracing. Tracing is expensive and the excessive number of tracings could be due to (1) creating @tf.function repeatedly in a loop, (2) passing tensors with different shapes, (3) passing Python objects instead of tensors. For (1), please define your @tf.function outside of the loop. For (2), @tf.function has reduce_retracing=True option that can avoid unnecessary retracing. For (3), please refer to https://www.tensorflow.org/guide/function#controlling_retracing and https://www.tensorflow.org/api_docs/python/tf/function for  more details.\n",
      "WARNING:tensorflow:5 out of the last 12 calls to <function Model.make_test_function.<locals>.test_function at 0x7f3270ba80d0> triggered tf.function retracing. Tracing is expensive and the excessive number of tracings could be due to (1) creating @tf.function repeatedly in a loop, (2) passing tensors with different shapes, (3) passing Python objects instead of tensors. For (1), please define your @tf.function outside of the loop. For (2), @tf.function has reduce_retracing=True option that can avoid unnecessary retracing. For (3), please refer to https://www.tensorflow.org/guide/function#controlling_retracing and https://www.tensorflow.org/api_docs/python/tf/function for  more details.\n",
      "WARNING:tensorflow:5 out of the last 12 calls to <function Model.make_test_function.<locals>.test_function at 0x7fc8e8c9ddc0> triggered tf.function retracing. Tracing is expensive and the excessive number of tracings could be due to (1) creating @tf.function repeatedly in a loop, (2) passing tensors with different shapes, (3) passing Python objects instead of tensors. For (1), please define your @tf.function outside of the loop. For (2), @tf.function has reduce_retracing=True option that can avoid unnecessary retracing. For (3), please refer to https://www.tensorflow.org/guide/function#controlling_retracing and https://www.tensorflow.org/api_docs/python/tf/function for  more details.\n",
      "WARNING:tensorflow:5 out of the last 12 calls to <function Model.make_test_function.<locals>.test_function at 0x7f7b6d44f0d0> triggered tf.function retracing. Tracing is expensive and the excessive number of tracings could be due to (1) creating @tf.function repeatedly in a loop, (2) passing tensors with different shapes, (3) passing Python objects instead of tensors. For (1), please define your @tf.function outside of the loop. For (2), @tf.function has reduce_retracing=True option that can avoid unnecessary retracing. For (3), please refer to https://www.tensorflow.org/guide/function#controlling_retracing and https://www.tensorflow.org/api_docs/python/tf/function for  more details.\n",
      "WARNING:tensorflow:5 out of the last 11 calls to <function Model.make_test_function.<locals>.test_function at 0x7f61a40cc0d0> triggered tf.function retracing. Tracing is expensive and the excessive number of tracings could be due to (1) creating @tf.function repeatedly in a loop, (2) passing tensors with different shapes, (3) passing Python objects instead of tensors. For (1), please define your @tf.function outside of the loop. For (2), @tf.function has reduce_retracing=True option that can avoid unnecessary retracing. For (3), please refer to https://www.tensorflow.org/guide/function#controlling_retracing and https://www.tensorflow.org/api_docs/python/tf/function for  more details.\n",
      "WARNING:tensorflow:5 out of the last 12 calls to <function Model.make_test_function.<locals>.test_function at 0x7feb01c230d0> triggered tf.function retracing. Tracing is expensive and the excessive number of tracings could be due to (1) creating @tf.function repeatedly in a loop, (2) passing tensors with different shapes, (3) passing Python objects instead of tensors. For (1), please define your @tf.function outside of the loop. For (2), @tf.function has reduce_retracing=True option that can avoid unnecessary retracing. For (3), please refer to https://www.tensorflow.org/guide/function#controlling_retracing and https://www.tensorflow.org/api_docs/python/tf/function for  more details.\n",
      "WARNING:tensorflow:5 out of the last 12 calls to <function Model.make_test_function.<locals>.test_function at 0x7f438b69d0d0> triggered tf.function retracing. Tracing is expensive and the excessive number of tracings could be due to (1) creating @tf.function repeatedly in a loop, (2) passing tensors with different shapes, (3) passing Python objects instead of tensors. For (1), please define your @tf.function outside of the loop. For (2), @tf.function has reduce_retracing=True option that can avoid unnecessary retracing. For (3), please refer to https://www.tensorflow.org/guide/function#controlling_retracing and https://www.tensorflow.org/api_docs/python/tf/function for  more details.\n",
      "WARNING:tensorflow:5 out of the last 11 calls to <function Model.make_test_function.<locals>.test_function at 0x7fc8e8b2c0d0> triggered tf.function retracing. Tracing is expensive and the excessive number of tracings could be due to (1) creating @tf.function repeatedly in a loop, (2) passing tensors with different shapes, (3) passing Python objects instead of tensors. For (1), please define your @tf.function outside of the loop. For (2), @tf.function has reduce_retracing=True option that can avoid unnecessary retracing. For (3), please refer to https://www.tensorflow.org/guide/function#controlling_retracing and https://www.tensorflow.org/api_docs/python/tf/function for  more details.\n"
     ]
    }
   ],
   "source": [
    "import warnings\n",
    "warnings.filterwarnings(\"ignore\", category=DeprecationWarning)\n",
    "import os\n",
    "os.environ['CUDA_VISIBLE_DEVICES'] = \"0\"\n",
    "from sklearn.model_selection import GridSearchCV, RandomizedSearchCV\n",
    "from keras.models import Sequential\n",
    "from keras.layers import Dense, Dropout\n",
    "from keras.wrappers.scikit_learn import KerasClassifier\n",
    "#from keras.optimizers import Adam\n",
    "\n",
    "def createmodel(n_layers, first_layer_nodes, second_layer_nodes, learning_rate=.1):\n",
    "    model = Sequential()\n",
    "    \n",
    "    #n_nodes = FindLayerNodesLinear(n_layers, first_layer_nodes, last_layer_nodes)\n",
    "    for i in range(2):\n",
    "        if i==1:\n",
    "            model.add(Dense(first_layer_nodes, activation='relu'))\n",
    "        else:\n",
    "            model.add(Dense(second_layer_nodes, activation='relu'))\n",
    "            \n",
    "    #Finally, the output layer should have a single node in binary classification\n",
    "    model.add(Dense(6, activation='sigmoid'))\n",
    "    model.compile(optimizer=SGD(learning_rate=learning_rate), \n",
    "                  loss='mse', metrics = [\"accuracy\"]) #note: metrics could also be 'mse'\n",
    "    \n",
    "    return model\n",
    "\n",
    "param_grid = dict(n_layers=[2], first_layer_nodes = [20, 10, 5], second_layer_nodes=[20,10,5],\n",
    "                  epochs = [150, 300, 500], learning_rate= [.01, .15, .3, .5])\n",
    "\n",
    "model = KerasClassifier(build_fn=createmodel, verbose=0)\n",
    "grid = GridSearchCV(estimator=model, param_grid=param_grid, n_jobs=-1, cv=3)\n",
    "grid_result = grid.fit(flagsScaled, land)"
   ]
  },
  {
   "cell_type": "code",
   "execution_count": 11,
   "id": "dd882f5d",
   "metadata": {},
   "outputs": [
    {
     "name": "stdout",
     "output_type": "stream",
     "text": [
      "Best: 0.438141 using {'epochs': 300, 'first_layer_nodes': 20, 'learning_rate': 0.5, 'n_layers': 2, 'second_layer_nodes': 20}\n",
      "0.319311 (0.058086) with: {'epochs': 150, 'first_layer_nodes': 20, 'learning_rate': 0.01, 'n_layers': 2, 'second_layer_nodes': 20}\n",
      "0.268269 (0.031276) with: {'epochs': 150, 'first_layer_nodes': 20, 'learning_rate': 0.01, 'n_layers': 2, 'second_layer_nodes': 10}\n",
      "0.201202 (0.055452) with: {'epochs': 150, 'first_layer_nodes': 20, 'learning_rate': 0.01, 'n_layers': 2, 'second_layer_nodes': 5}\n",
      "0.355769 (0.034221) with: {'epochs': 150, 'first_layer_nodes': 20, 'learning_rate': 0.15, 'n_layers': 2, 'second_layer_nodes': 20}\n",
      "0.267869 (0.024502) with: {'epochs': 150, 'first_layer_nodes': 20, 'learning_rate': 0.15, 'n_layers': 2, 'second_layer_nodes': 10}\n",
      "0.309135 (0.053976) with: {'epochs': 150, 'first_layer_nodes': 20, 'learning_rate': 0.15, 'n_layers': 2, 'second_layer_nodes': 5}\n",
      "0.386538 (0.044716) with: {'epochs': 150, 'first_layer_nodes': 20, 'learning_rate': 0.3, 'n_layers': 2, 'second_layer_nodes': 20}\n",
      "0.350641 (0.053116) with: {'epochs': 150, 'first_layer_nodes': 20, 'learning_rate': 0.3, 'n_layers': 2, 'second_layer_nodes': 10}\n",
      "0.350561 (0.008848) with: {'epochs': 150, 'first_layer_nodes': 20, 'learning_rate': 0.3, 'n_layers': 2, 'second_layer_nodes': 5}\n",
      "0.329968 (0.051182) with: {'epochs': 150, 'first_layer_nodes': 20, 'learning_rate': 0.5, 'n_layers': 2, 'second_layer_nodes': 20}\n",
      "0.391667 (0.017224) with: {'epochs': 150, 'first_layer_nodes': 20, 'learning_rate': 0.5, 'n_layers': 2, 'second_layer_nodes': 10}\n",
      "0.283734 (0.031389) with: {'epochs': 150, 'first_layer_nodes': 20, 'learning_rate': 0.5, 'n_layers': 2, 'second_layer_nodes': 5}\n",
      "0.123718 (0.012594) with: {'epochs': 150, 'first_layer_nodes': 10, 'learning_rate': 0.01, 'n_layers': 2, 'second_layer_nodes': 20}\n",
      "0.185737 (0.026509) with: {'epochs': 150, 'first_layer_nodes': 10, 'learning_rate': 0.01, 'n_layers': 2, 'second_layer_nodes': 10}\n",
      "0.154487 (0.054400) with: {'epochs': 150, 'first_layer_nodes': 10, 'learning_rate': 0.01, 'n_layers': 2, 'second_layer_nodes': 5}\n",
      "0.304167 (0.044358) with: {'epochs': 150, 'first_layer_nodes': 10, 'learning_rate': 0.15, 'n_layers': 2, 'second_layer_nodes': 20}\n",
      "0.267869 (0.039333) with: {'epochs': 150, 'first_layer_nodes': 10, 'learning_rate': 0.15, 'n_layers': 2, 'second_layer_nodes': 10}\n",
      "0.262901 (0.001926) with: {'epochs': 150, 'first_layer_nodes': 10, 'learning_rate': 0.15, 'n_layers': 2, 'second_layer_nodes': 5}\n",
      "0.355689 (0.037774) with: {'epochs': 150, 'first_layer_nodes': 10, 'learning_rate': 0.3, 'n_layers': 2, 'second_layer_nodes': 20}\n",
      "0.298718 (0.060921) with: {'epochs': 150, 'first_layer_nodes': 10, 'learning_rate': 0.3, 'n_layers': 2, 'second_layer_nodes': 10}\n",
      "0.340224 (0.012806) with: {'epochs': 150, 'first_layer_nodes': 10, 'learning_rate': 0.3, 'n_layers': 2, 'second_layer_nodes': 5}\n",
      "0.340224 (0.050308) with: {'epochs': 150, 'first_layer_nodes': 10, 'learning_rate': 0.5, 'n_layers': 2, 'second_layer_nodes': 20}\n",
      "0.334936 (0.035183) with: {'epochs': 150, 'first_layer_nodes': 10, 'learning_rate': 0.5, 'n_layers': 2, 'second_layer_nodes': 10}\n",
      "0.345192 (0.023955) with: {'epochs': 150, 'first_layer_nodes': 10, 'learning_rate': 0.5, 'n_layers': 2, 'second_layer_nodes': 5}\n",
      "0.190545 (0.030710) with: {'epochs': 150, 'first_layer_nodes': 5, 'learning_rate': 0.01, 'n_layers': 2, 'second_layer_nodes': 20}\n",
      "0.139183 (0.037698) with: {'epochs': 150, 'first_layer_nodes': 5, 'learning_rate': 0.01, 'n_layers': 2, 'second_layer_nodes': 10}\n",
      "0.175240 (0.044030) with: {'epochs': 150, 'first_layer_nodes': 5, 'learning_rate': 0.01, 'n_layers': 2, 'second_layer_nodes': 5}\n",
      "0.314503 (0.038896) with: {'epochs': 150, 'first_layer_nodes': 5, 'learning_rate': 0.15, 'n_layers': 2, 'second_layer_nodes': 20}\n",
      "0.314663 (0.034020) with: {'epochs': 150, 'first_layer_nodes': 5, 'learning_rate': 0.15, 'n_layers': 2, 'second_layer_nodes': 10}\n",
      "0.267949 (0.028147) with: {'epochs': 150, 'first_layer_nodes': 5, 'learning_rate': 0.15, 'n_layers': 2, 'second_layer_nodes': 5}\n",
      "0.391747 (0.018859) with: {'epochs': 150, 'first_layer_nodes': 5, 'learning_rate': 0.3, 'n_layers': 2, 'second_layer_nodes': 20}\n",
      "0.330048 (0.037633) with: {'epochs': 150, 'first_layer_nodes': 5, 'learning_rate': 0.3, 'n_layers': 2, 'second_layer_nodes': 10}\n",
      "0.355609 (0.032504) with: {'epochs': 150, 'first_layer_nodes': 5, 'learning_rate': 0.3, 'n_layers': 2, 'second_layer_nodes': 5}\n",
      "0.350481 (0.037984) with: {'epochs': 150, 'first_layer_nodes': 5, 'learning_rate': 0.5, 'n_layers': 2, 'second_layer_nodes': 20}\n",
      "0.294071 (0.047119) with: {'epochs': 150, 'first_layer_nodes': 5, 'learning_rate': 0.5, 'n_layers': 2, 'second_layer_nodes': 10}\n",
      "0.309135 (0.053976) with: {'epochs': 150, 'first_layer_nodes': 5, 'learning_rate': 0.5, 'n_layers': 2, 'second_layer_nodes': 5}\n",
      "0.252484 (0.051852) with: {'epochs': 300, 'first_layer_nodes': 20, 'learning_rate': 0.01, 'n_layers': 2, 'second_layer_nodes': 20}\n",
      "0.262901 (0.012708) with: {'epochs': 300, 'first_layer_nodes': 20, 'learning_rate': 0.01, 'n_layers': 2, 'second_layer_nodes': 10}\n",
      "0.226522 (0.068472) with: {'epochs': 300, 'first_layer_nodes': 20, 'learning_rate': 0.01, 'n_layers': 2, 'second_layer_nodes': 5}\n",
      "0.345593 (0.049336) with: {'epochs': 300, 'first_layer_nodes': 20, 'learning_rate': 0.15, 'n_layers': 2, 'second_layer_nodes': 20}\n",
      "0.340385 (0.067408) with: {'epochs': 300, 'first_layer_nodes': 20, 'learning_rate': 0.15, 'n_layers': 2, 'second_layer_nodes': 10}\n",
      "0.345112 (0.036348) with: {'epochs': 300, 'first_layer_nodes': 20, 'learning_rate': 0.15, 'n_layers': 2, 'second_layer_nodes': 5}\n",
      "0.397115 (0.029239) with: {'epochs': 300, 'first_layer_nodes': 20, 'learning_rate': 0.3, 'n_layers': 2, 'second_layer_nodes': 20}\n",
      "0.345353 (0.056538) with: {'epochs': 300, 'first_layer_nodes': 20, 'learning_rate': 0.3, 'n_layers': 2, 'second_layer_nodes': 10}\n",
      "0.340625 (0.099837) with: {'epochs': 300, 'first_layer_nodes': 20, 'learning_rate': 0.3, 'n_layers': 2, 'second_layer_nodes': 5}\n",
      "0.438141 (0.018848) with: {'epochs': 300, 'first_layer_nodes': 20, 'learning_rate': 0.5, 'n_layers': 2, 'second_layer_nodes': 20}\n",
      "0.407452 (0.059730) with: {'epochs': 300, 'first_layer_nodes': 20, 'learning_rate': 0.5, 'n_layers': 2, 'second_layer_nodes': 10}\n",
      "0.386859 (0.036355) with: {'epochs': 300, 'first_layer_nodes': 20, 'learning_rate': 0.5, 'n_layers': 2, 'second_layer_nodes': 5}\n",
      "0.231651 (0.049170) with: {'epochs': 300, 'first_layer_nodes': 10, 'learning_rate': 0.01, 'n_layers': 2, 'second_layer_nodes': 20}\n",
      "0.262821 (0.011029) with: {'epochs': 300, 'first_layer_nodes': 10, 'learning_rate': 0.01, 'n_layers': 2, 'second_layer_nodes': 10}\n",
      "0.185337 (0.036805) with: {'epochs': 300, 'first_layer_nodes': 10, 'learning_rate': 0.01, 'n_layers': 2, 'second_layer_nodes': 5}\n",
      "0.371474 (0.068588) with: {'epochs': 300, 'first_layer_nodes': 10, 'learning_rate': 0.15, 'n_layers': 2, 'second_layer_nodes': 20}\n",
      "0.330048 (0.028019) with: {'epochs': 300, 'first_layer_nodes': 10, 'learning_rate': 0.15, 'n_layers': 2, 'second_layer_nodes': 10}\n",
      "0.278285 (0.044867) with: {'epochs': 300, 'first_layer_nodes': 10, 'learning_rate': 0.15, 'n_layers': 2, 'second_layer_nodes': 5}\n",
      "0.412340 (0.050430) with: {'epochs': 300, 'first_layer_nodes': 10, 'learning_rate': 0.3, 'n_layers': 2, 'second_layer_nodes': 20}\n",
      "0.396635 (0.057718) with: {'epochs': 300, 'first_layer_nodes': 10, 'learning_rate': 0.3, 'n_layers': 2, 'second_layer_nodes': 10}\n",
      "0.324920 (0.055841) with: {'epochs': 300, 'first_layer_nodes': 10, 'learning_rate': 0.3, 'n_layers': 2, 'second_layer_nodes': 5}\n",
      "0.366186 (0.029017) with: {'epochs': 300, 'first_layer_nodes': 10, 'learning_rate': 0.5, 'n_layers': 2, 'second_layer_nodes': 20}\n",
      "0.382051 (0.091521) with: {'epochs': 300, 'first_layer_nodes': 10, 'learning_rate': 0.5, 'n_layers': 2, 'second_layer_nodes': 10}\n",
      "0.396795 (0.016642) with: {'epochs': 300, 'first_layer_nodes': 10, 'learning_rate': 0.5, 'n_layers': 2, 'second_layer_nodes': 5}\n",
      "0.278446 (0.014466) with: {'epochs': 300, 'first_layer_nodes': 5, 'learning_rate': 0.01, 'n_layers': 2, 'second_layer_nodes': 20}\n",
      "0.211378 (0.056767) with: {'epochs': 300, 'first_layer_nodes': 5, 'learning_rate': 0.01, 'n_layers': 2, 'second_layer_nodes': 10}\n",
      "0.221955 (0.091786) with: {'epochs': 300, 'first_layer_nodes': 5, 'learning_rate': 0.01, 'n_layers': 2, 'second_layer_nodes': 5}\n",
      "0.304087 (0.025635) with: {'epochs': 300, 'first_layer_nodes': 5, 'learning_rate': 0.15, 'n_layers': 2, 'second_layer_nodes': 20}\n",
      "0.262901 (0.050283) with: {'epochs': 300, 'first_layer_nodes': 5, 'learning_rate': 0.15, 'n_layers': 2, 'second_layer_nodes': 10}\n",
      "0.231891 (0.032750) with: {'epochs': 300, 'first_layer_nodes': 5, 'learning_rate': 0.15, 'n_layers': 2, 'second_layer_nodes': 5}\n",
      "0.319631 (0.044374) with: {'epochs': 300, 'first_layer_nodes': 5, 'learning_rate': 0.3, 'n_layers': 2, 'second_layer_nodes': 20}\n",
      "0.314503 (0.026906) with: {'epochs': 300, 'first_layer_nodes': 5, 'learning_rate': 0.3, 'n_layers': 2, 'second_layer_nodes': 10}\n",
      "0.268349 (0.046277) with: {'epochs': 300, 'first_layer_nodes': 5, 'learning_rate': 0.3, 'n_layers': 2, 'second_layer_nodes': 5}\n",
      "0.391827 (0.051271) with: {'epochs': 300, 'first_layer_nodes': 5, 'learning_rate': 0.5, 'n_layers': 2, 'second_layer_nodes': 20}\n",
      "0.350561 (0.019846) with: {'epochs': 300, 'first_layer_nodes': 5, 'learning_rate': 0.5, 'n_layers': 2, 'second_layer_nodes': 10}\n",
      "0.355529 (0.042375) with: {'epochs': 300, 'first_layer_nodes': 5, 'learning_rate': 0.5, 'n_layers': 2, 'second_layer_nodes': 5}\n",
      "0.283494 (0.006478) with: {'epochs': 500, 'first_layer_nodes': 20, 'learning_rate': 0.01, 'n_layers': 2, 'second_layer_nodes': 20}\n",
      "0.247516 (0.022782) with: {'epochs': 500, 'first_layer_nodes': 20, 'learning_rate': 0.01, 'n_layers': 2, 'second_layer_nodes': 10}\n",
      "0.221554 (0.028302) with: {'epochs': 500, 'first_layer_nodes': 20, 'learning_rate': 0.01, 'n_layers': 2, 'second_layer_nodes': 5}\n",
      "0.381410 (0.025529) with: {'epochs': 500, 'first_layer_nodes': 20, 'learning_rate': 0.15, 'n_layers': 2, 'second_layer_nodes': 20}\n",
      "0.407051 (0.029473) with: {'epochs': 500, 'first_layer_nodes': 20, 'learning_rate': 0.15, 'n_layers': 2, 'second_layer_nodes': 10}\n",
      "0.345593 (0.049336) with: {'epochs': 500, 'first_layer_nodes': 20, 'learning_rate': 0.15, 'n_layers': 2, 'second_layer_nodes': 5}\n",
      "0.422516 (0.038662) with: {'epochs': 500, 'first_layer_nodes': 20, 'learning_rate': 0.3, 'n_layers': 2, 'second_layer_nodes': 20}\n",
      "0.386859 (0.100787) with: {'epochs': 500, 'first_layer_nodes': 20, 'learning_rate': 0.3, 'n_layers': 2, 'second_layer_nodes': 10}\n",
      "0.402083 (0.075426) with: {'epochs': 500, 'first_layer_nodes': 20, 'learning_rate': 0.3, 'n_layers': 2, 'second_layer_nodes': 5}\n",
      "0.376603 (0.047003) with: {'epochs': 500, 'first_layer_nodes': 20, 'learning_rate': 0.5, 'n_layers': 2, 'second_layer_nodes': 20}\n",
      "0.422917 (0.049704) with: {'epochs': 500, 'first_layer_nodes': 20, 'learning_rate': 0.5, 'n_layers': 2, 'second_layer_nodes': 10}\n",
      "0.422997 (0.043853) with: {'epochs': 500, 'first_layer_nodes': 20, 'learning_rate': 0.5, 'n_layers': 2, 'second_layer_nodes': 5}\n",
      "0.257933 (0.028244) with: {'epochs': 500, 'first_layer_nodes': 10, 'learning_rate': 0.01, 'n_layers': 2, 'second_layer_nodes': 20}\n",
      "0.237260 (0.037262) with: {'epochs': 500, 'first_layer_nodes': 10, 'learning_rate': 0.01, 'n_layers': 2, 'second_layer_nodes': 10}\n",
      "0.247115 (0.042154) with: {'epochs': 500, 'first_layer_nodes': 10, 'learning_rate': 0.01, 'n_layers': 2, 'second_layer_nodes': 5}\n",
      "0.360577 (0.042271) with: {'epochs': 500, 'first_layer_nodes': 10, 'learning_rate': 0.15, 'n_layers': 2, 'second_layer_nodes': 20}\n",
      "0.386538 (0.010296) with: {'epochs': 500, 'first_layer_nodes': 10, 'learning_rate': 0.15, 'n_layers': 2, 'second_layer_nodes': 10}\n",
      "0.329728 (0.024064) with: {'epochs': 500, 'first_layer_nodes': 10, 'learning_rate': 0.15, 'n_layers': 2, 'second_layer_nodes': 5}\n",
      "0.412901 (0.079135) with: {'epochs': 500, 'first_layer_nodes': 10, 'learning_rate': 0.3, 'n_layers': 2, 'second_layer_nodes': 20}\n",
      "0.402244 (0.024930) with: {'epochs': 500, 'first_layer_nodes': 10, 'learning_rate': 0.3, 'n_layers': 2, 'second_layer_nodes': 10}\n",
      "0.340224 (0.037767) with: {'epochs': 500, 'first_layer_nodes': 10, 'learning_rate': 0.3, 'n_layers': 2, 'second_layer_nodes': 5}\n",
      "0.386699 (0.023370) with: {'epochs': 500, 'first_layer_nodes': 10, 'learning_rate': 0.5, 'n_layers': 2, 'second_layer_nodes': 20}\n",
      "0.407532 (0.053479) with: {'epochs': 500, 'first_layer_nodes': 10, 'learning_rate': 0.5, 'n_layers': 2, 'second_layer_nodes': 10}\n",
      "0.427885 (0.009256) with: {'epochs': 500, 'first_layer_nodes': 10, 'learning_rate': 0.5, 'n_layers': 2, 'second_layer_nodes': 5}\n",
      "0.236859 (0.034902) with: {'epochs': 500, 'first_layer_nodes': 5, 'learning_rate': 0.01, 'n_layers': 2, 'second_layer_nodes': 20}\n",
      "0.273558 (0.066305) with: {'epochs': 500, 'first_layer_nodes': 5, 'learning_rate': 0.01, 'n_layers': 2, 'second_layer_nodes': 10}\n",
      "0.288622 (0.013600) with: {'epochs': 500, 'first_layer_nodes': 5, 'learning_rate': 0.01, 'n_layers': 2, 'second_layer_nodes': 5}\n",
      "0.314503 (0.015829) with: {'epochs': 500, 'first_layer_nodes': 5, 'learning_rate': 0.15, 'n_layers': 2, 'second_layer_nodes': 20}\n",
      "0.257612 (0.035443) with: {'epochs': 500, 'first_layer_nodes': 5, 'learning_rate': 0.15, 'n_layers': 2, 'second_layer_nodes': 10}\n",
      "0.304567 (0.060852) with: {'epochs': 500, 'first_layer_nodes': 5, 'learning_rate': 0.15, 'n_layers': 2, 'second_layer_nodes': 5}\n",
      "0.371074 (0.032475) with: {'epochs': 500, 'first_layer_nodes': 5, 'learning_rate': 0.3, 'n_layers': 2, 'second_layer_nodes': 20}\n",
      "0.366106 (0.017338) with: {'epochs': 500, 'first_layer_nodes': 5, 'learning_rate': 0.3, 'n_layers': 2, 'second_layer_nodes': 10}\n",
      "0.334776 (0.038366) with: {'epochs': 500, 'first_layer_nodes': 5, 'learning_rate': 0.3, 'n_layers': 2, 'second_layer_nodes': 5}\n",
      "0.360817 (0.031420) with: {'epochs': 500, 'first_layer_nodes': 5, 'learning_rate': 0.5, 'n_layers': 2, 'second_layer_nodes': 20}\n",
      "0.350481 (0.025570) with: {'epochs': 500, 'first_layer_nodes': 5, 'learning_rate': 0.5, 'n_layers': 2, 'second_layer_nodes': 10}\n",
      "0.350641 (0.030461) with: {'epochs': 500, 'first_layer_nodes': 5, 'learning_rate': 0.5, 'n_layers': 2, 'second_layer_nodes': 5}\n"
     ]
    }
   ],
   "source": [
    "print(\"Best: %f using %s\" % (grid_result.best_score_, grid_result.best_params_))\n",
    "means = grid_result.cv_results_['mean_test_score']\n",
    "stds = grid_result.cv_results_['std_test_score']\n",
    "params = grid_result.cv_results_['params']\n",
    "for mean, stdev, param in zip(means, stds, params):\n",
    "    print(\"%f (%f) with: %r\" % (mean, stdev, param))"
   ]
  },
  {
   "cell_type": "markdown",
   "id": "2462aae8",
   "metadata": {},
   "source": [
    "### Decision Tree"
   ]
  },
  {
   "cell_type": "code",
   "execution_count": 12,
   "id": "b7dde121",
   "metadata": {},
   "outputs": [],
   "source": [
    "import numpy as np\n",
    "from sklearn.tree import DecisionTreeClassifier\n",
    "from sklearn.model_selection import train_test_split\n",
    "from sklearn.metrics import confusion_matrix\n",
    "from sklearn.metrics import classification_report\n",
    "from sklearn.metrics import accuracy_score\n",
    "\n",
    "flagsTrain, flagsTest, landTrain, landTest = train_test_split(flagsScaled, land, test_size = 0.20, random_state=5)\n",
    "tree_model = DecisionTreeClassifier().fit(flagsTrain, landTrain)\n",
    "tree_pred = tree_model.predict(flagsTest)"
   ]
  },
  {
   "cell_type": "code",
   "execution_count": 13,
   "id": "1bb7a523",
   "metadata": {},
   "outputs": [
    {
     "name": "stdout",
     "output_type": "stream",
     "text": [
      "Accuracy:  0.48717948717948717\n",
      "Classification Report: \n",
      "               precision    recall  f1-score   support\n",
      "\n",
      "           0       0.75      0.67      0.71         9\n",
      "           1       0.00      0.00      0.00         2\n",
      "           2       0.60      0.33      0.43         9\n",
      "           3       0.73      0.73      0.73        11\n",
      "           4       0.00      0.00      0.00         4\n",
      "           5       0.33      0.50      0.40         4\n",
      "\n",
      "   micro avg       0.49      0.49      0.49        39\n",
      "   macro avg       0.40      0.37      0.38        39\n",
      "weighted avg       0.55      0.49      0.51        39\n",
      " samples avg       0.49      0.49      0.49        39\n",
      "\n"
     ]
    },
    {
     "data": {
      "image/png": "[encoded data removed]",
      "text/plain": [
       "<Figure size 432x288 with 2 Axes>"
      ]
     },
     "metadata": {
      "needs_background": "light"
     },
     "output_type": "display_data"
    }
   ],
   "source": [
    "import seaborn as sns \n",
    "\n",
    "print(\"Accuracy: \", accuracy_score(landTest, tree_pred))\n",
    "print(\"Classification Report: \\n\", classification_report(landTest, tree_pred))\n",
    "conf_matrix = confusion_matrix(np.argmax(landTest, axis=1), np.argmax(tree_pred, axis=1))\n",
    "sns.heatmap(conf_matrix, annot=True)\n",
    "plt.show()"
   ]
  },
  {
   "cell_type": "markdown",
   "id": "842c9342",
   "metadata": {},
   "source": [
    "# TODO//Do hyper tension to see if we can get better results\n",
    "As of now, elements of a flag are not a good characterist to see what landmass the flag is from.  Stay tuned for another episode of fun with flags."
   ]
  },
  {
   "cell_type": "markdown",
   "id": "ea3df003",
   "metadata": {},
   "source": [
    "# Fun With Flags Episode 2: Can flag metrics predict language?\n",
    "Probably not lol"
   ]
  },
  {
   "cell_type": "code",
   "execution_count": 14,
   "id": "e86c28b4",
   "metadata": {},
   "outputs": [],
   "source": [
    "from tensorflow.keras.models import Sequential\n",
    "from tensorflow.keras.layers import Dense\n",
    "from tensorflow.keras.optimizers import SGD\n",
    "\n",
    "model = Sequential()\n",
    "\n",
    "layers = [\n",
    "    Dense(20, activation='relu', name='layer1'),\n",
    "    Dense(15, activation='relu', name='layer2'),\n",
    "    Dense(10, activation='sigmoid', name='Output')\n",
    "]\n",
    "\n",
    "for layer in layers:\n",
    "    model.add(layer)\n",
    "\n",
    "model.compile(optimizer=SGD(learning_rate=.3), loss='mse', metrics=['accuracy'])\n",
    "hist = model.fit(flagsScaled, lang, validation_split=.2, epochs=150, verbose=0)"
   ]
  },
  {
   "cell_type": "code",
   "execution_count": 15,
   "id": "39087648",
   "metadata": {},
   "outputs": [
    {
     "name": "stdout",
     "output_type": "stream",
     "text": [
      "5/5 [==============================] - 0s 791us/step\n",
      "Training Error: 0.082\n",
      "Training Accuracy: 0.290\n"
     ]
    }
   ],
   "source": [
    "from sklearn.model_selection import train_test_split\n",
    "\n",
    "flagsTrain, flagsTest, langTrain, langTest = train_test_split(flagsScaled, lang, test_size = 0.20, random_state=5)\n",
    "\n",
    "pred_train= model.predict(flagsTrain)\n",
    "score, acc = model.evaluate(flagsTrain, langTrain, verbose=0)\n",
    "print('Training Error: %.3f' % score)\n",
    "print('Training Accuracy: %.3f' % acc)"
   ]
  },
  {
   "cell_type": "code",
   "execution_count": 16,
   "id": "4004cccb",
   "metadata": {},
   "outputs": [
    {
     "name": "stdout",
     "output_type": "stream",
     "text": [
      "2/2 [==============================] - 0s 2ms/step\n",
      "Test Error: 0.079\n",
      "Test Accuracy: 0.436\n"
     ]
    }
   ],
   "source": [
    "pred_train= model.predict(flagsTest)\n",
    "score, acc = model.evaluate(flagsTest, langTest, verbose=0)\n",
    "print('Test Error: %.3f' % score)\n",
    "print('Test Accuracy: %.3f' % acc)"
   ]
  },
  {
   "cell_type": "code",
   "execution_count": 17,
   "id": "5f3d67c2",
   "metadata": {},
   "outputs": [
    {
     "data": {
      "image/png": "[encoded data removed]",
      "text/plain": [
       "<Figure size 432x288 with 1 Axes>"
      ]
     },
     "metadata": {
      "needs_background": "light"
     },
     "output_type": "display_data"
    }
   ],
   "source": [
    "import matplotlib.pyplot as plt\n",
    "\n",
    "plt.plot(hist.history['loss'])\n",
    "plt.plot(hist.history['val_loss'])\n",
    "plt.title('Model Loss Curve')\n",
    "plt.ylabel('Loss')\n",
    "plt.xlabel('Epoch')\n",
    "plt.legend(['train', 'test'], loc='upper right')\n",
    "plt.show()"
   ]
  },
  {
   "cell_type": "code",
   "execution_count": 18,
   "id": "39af62c2",
   "metadata": {},
   "outputs": [
    {
     "data": {
      "image/png": "[encoded data removed]",
      "text/plain": [
       "<Figure size 432x288 with 1 Axes>"
      ]
     },
     "metadata": {
      "needs_background": "light"
     },
     "output_type": "display_data"
    }
   ],
   "source": [
    "plt.plot(hist.history['accuracy'])\n",
    "plt.plot(hist.history['val_accuracy'])\n",
    "plt.title('Model Accuracy')\n",
    "plt.ylabel('Accuracy')\n",
    "plt.xlabel('Epochs')\n",
    "plt.legend(['train', 'test'], loc='upper left')\n",
    "plt.show()"
   ]
  },
  {
   "cell_type": "code",
   "execution_count": 19,
   "id": "a4a0ddbf",
   "metadata": {},
   "outputs": [],
   "source": [
    "import warnings\n",
    "warnings.filterwarnings(\"ignore\", category=DeprecationWarning)\n",
    "import os\n",
    "os.environ['CUDA_VISIBLE_DEVICES'] = \"0\"\n",
    "from sklearn.model_selection import GridSearchCV, RandomizedSearchCV\n",
    "from keras.models import Sequential\n",
    "from keras.layers import Dense, Dropout\n",
    "from keras.wrappers.scikit_learn import KerasClassifier\n",
    "#from keras.optimizers import Adam\n",
    "\n",
    "def createmodel(n_layers, first_layer_nodes, second_layer_nodes, learning_rate=.1):\n",
    "    model = Sequential()\n",
    "    \n",
    "    #n_nodes = FindLayerNodesLinear(n_layers, first_layer_nodes, last_layer_nodes)\n",
    "    for i in range(2):\n",
    "        if i==1:\n",
    "            model.add(Dense(first_layer_nodes, activation='relu'))\n",
    "        else:\n",
    "            model.add(Dense(second_layer_nodes, activation='relu'))\n",
    "            \n",
    "    #Finally, the output layer should have a single node in binary classification\n",
    "    model.add(Dense(10, activation='sigmoid'))\n",
    "    model.compile(optimizer=SGD(learning_rate=learning_rate), \n",
    "                  loss='mse', metrics = [\"accuracy\"]) #note: metrics could also be 'mse'\n",
    "    \n",
    "    return model\n",
    "\n",
    "param_grid = dict(n_layers=[2], first_layer_nodes = [20, 10, 5], second_layer_nodes=[20,10,5],\n",
    "                  epochs = [150, 300, 500], learning_rate= [.01, .15, .3, .5])\n",
    "\n",
    "model = KerasClassifier(build_fn=createmodel, verbose=0)\n",
    "grid = GridSearchCV(estimator=model, param_grid=param_grid, n_jobs=-1, cv=3)\n",
    "grid_result = grid.fit(flagsScaled, lang)"
   ]
  },
  {
   "cell_type": "code",
   "execution_count": 20,
   "id": "ff9df506",
   "metadata": {},
   "outputs": [
    {
     "name": "stdout",
     "output_type": "stream",
     "text": [
      "Best: 0.350240 using {'epochs': 500, 'first_layer_nodes': 20, 'learning_rate': 0.3, 'n_layers': 2, 'second_layer_nodes': 5}\n",
      "0.103285 (0.032437) with: {'epochs': 150, 'first_layer_nodes': 20, 'learning_rate': 0.01, 'n_layers': 2, 'second_layer_nodes': 20}\n",
      "0.093349 (0.077877) with: {'epochs': 150, 'first_layer_nodes': 20, 'learning_rate': 0.01, 'n_layers': 2, 'second_layer_nodes': 10}\n",
      "0.200721 (0.065806) with: {'epochs': 150, 'first_layer_nodes': 20, 'learning_rate': 0.01, 'n_layers': 2, 'second_layer_nodes': 5}\n",
      "0.247436 (0.012692) with: {'epochs': 150, 'first_layer_nodes': 20, 'learning_rate': 0.15, 'n_layers': 2, 'second_layer_nodes': 20}\n",
      "0.195753 (0.047096) with: {'epochs': 150, 'first_layer_nodes': 20, 'learning_rate': 0.15, 'n_layers': 2, 'second_layer_nodes': 10}\n",
      "0.242548 (0.053813) with: {'epochs': 150, 'first_layer_nodes': 20, 'learning_rate': 0.15, 'n_layers': 2, 'second_layer_nodes': 5}\n",
      "0.273077 (0.035390) with: {'epochs': 150, 'first_layer_nodes': 20, 'learning_rate': 0.3, 'n_layers': 2, 'second_layer_nodes': 20}\n",
      "0.257612 (0.035443) with: {'epochs': 150, 'first_layer_nodes': 20, 'learning_rate': 0.3, 'n_layers': 2, 'second_layer_nodes': 10}\n",
      "0.190785 (0.008726) with: {'epochs': 150, 'first_layer_nodes': 20, 'learning_rate': 0.3, 'n_layers': 2, 'second_layer_nodes': 5}\n",
      "0.272756 (0.067974) with: {'epochs': 150, 'first_layer_nodes': 20, 'learning_rate': 0.5, 'n_layers': 2, 'second_layer_nodes': 20}\n",
      "0.273157 (0.013644) with: {'epochs': 150, 'first_layer_nodes': 20, 'learning_rate': 0.5, 'n_layers': 2, 'second_layer_nodes': 10}\n",
      "0.216346 (0.042851) with: {'epochs': 150, 'first_layer_nodes': 20, 'learning_rate': 0.5, 'n_layers': 2, 'second_layer_nodes': 5}\n",
      "0.134295 (0.039663) with: {'epochs': 150, 'first_layer_nodes': 10, 'learning_rate': 0.01, 'n_layers': 2, 'second_layer_nodes': 20}\n",
      "0.226763 (0.063062) with: {'epochs': 150, 'first_layer_nodes': 10, 'learning_rate': 0.01, 'n_layers': 2, 'second_layer_nodes': 10}\n",
      "0.087260 (0.090809) with: {'epochs': 150, 'first_layer_nodes': 10, 'learning_rate': 0.01, 'n_layers': 2, 'second_layer_nodes': 5}\n",
      "0.242147 (0.046975) with: {'epochs': 150, 'first_layer_nodes': 10, 'learning_rate': 0.15, 'n_layers': 2, 'second_layer_nodes': 20}\n",
      "0.221554 (0.028302) with: {'epochs': 150, 'first_layer_nodes': 10, 'learning_rate': 0.15, 'n_layers': 2, 'second_layer_nodes': 10}\n",
      "0.216827 (0.045554) with: {'epochs': 150, 'first_layer_nodes': 10, 'learning_rate': 0.15, 'n_layers': 2, 'second_layer_nodes': 5}\n",
      "0.226843 (0.031852) with: {'epochs': 150, 'first_layer_nodes': 10, 'learning_rate': 0.3, 'n_layers': 2, 'second_layer_nodes': 20}\n",
      "0.288622 (0.038043) with: {'epochs': 150, 'first_layer_nodes': 10, 'learning_rate': 0.3, 'n_layers': 2, 'second_layer_nodes': 10}\n",
      "0.278285 (0.020861) with: {'epochs': 150, 'first_layer_nodes': 10, 'learning_rate': 0.3, 'n_layers': 2, 'second_layer_nodes': 5}\n",
      "0.277965 (0.056174) with: {'epochs': 150, 'first_layer_nodes': 10, 'learning_rate': 0.5, 'n_layers': 2, 'second_layer_nodes': 20}\n",
      "0.231811 (0.023859) with: {'epochs': 150, 'first_layer_nodes': 10, 'learning_rate': 0.5, 'n_layers': 2, 'second_layer_nodes': 10}\n",
      "0.298878 (0.012465) with: {'epochs': 150, 'first_layer_nodes': 10, 'learning_rate': 0.5, 'n_layers': 2, 'second_layer_nodes': 5}\n",
      "0.107933 (0.044965) with: {'epochs': 150, 'first_layer_nodes': 5, 'learning_rate': 0.01, 'n_layers': 2, 'second_layer_nodes': 20}\n",
      "0.128766 (0.028621) with: {'epochs': 150, 'first_layer_nodes': 5, 'learning_rate': 0.01, 'n_layers': 2, 'second_layer_nodes': 10}\n",
      "0.118510 (0.063139) with: {'epochs': 150, 'first_layer_nodes': 5, 'learning_rate': 0.01, 'n_layers': 2, 'second_layer_nodes': 5}\n",
      "0.190865 (0.020694) with: {'epochs': 150, 'first_layer_nodes': 5, 'learning_rate': 0.15, 'n_layers': 2, 'second_layer_nodes': 20}\n",
      "0.242468 (0.041692) with: {'epochs': 150, 'first_layer_nodes': 5, 'learning_rate': 0.15, 'n_layers': 2, 'second_layer_nodes': 10}\n",
      "0.216506 (0.025173) with: {'epochs': 150, 'first_layer_nodes': 5, 'learning_rate': 0.15, 'n_layers': 2, 'second_layer_nodes': 5}\n",
      "0.185657 (0.013857) with: {'epochs': 150, 'first_layer_nodes': 5, 'learning_rate': 0.3, 'n_layers': 2, 'second_layer_nodes': 20}\n",
      "0.262580 (0.042041) with: {'epochs': 150, 'first_layer_nodes': 5, 'learning_rate': 0.3, 'n_layers': 2, 'second_layer_nodes': 10}\n",
      "0.257612 (0.017591) with: {'epochs': 150, 'first_layer_nodes': 5, 'learning_rate': 0.3, 'n_layers': 2, 'second_layer_nodes': 5}\n",
      "0.298958 (0.006451) with: {'epochs': 150, 'first_layer_nodes': 5, 'learning_rate': 0.5, 'n_layers': 2, 'second_layer_nodes': 20}\n",
      "0.226763 (0.025754) with: {'epochs': 150, 'first_layer_nodes': 5, 'learning_rate': 0.5, 'n_layers': 2, 'second_layer_nodes': 10}\n",
      "0.247276 (0.023762) with: {'epochs': 150, 'first_layer_nodes': 5, 'learning_rate': 0.5, 'n_layers': 2, 'second_layer_nodes': 5}\n",
      "0.186138 (0.084366) with: {'epochs': 300, 'first_layer_nodes': 20, 'learning_rate': 0.01, 'n_layers': 2, 'second_layer_nodes': 20}\n",
      "0.160016 (0.069814) with: {'epochs': 300, 'first_layer_nodes': 20, 'learning_rate': 0.01, 'n_layers': 2, 'second_layer_nodes': 10}\n",
      "0.180689 (0.045522) with: {'epochs': 300, 'first_layer_nodes': 20, 'learning_rate': 0.01, 'n_layers': 2, 'second_layer_nodes': 5}\n",
      "0.211458 (0.020503) with: {'epochs': 300, 'first_layer_nodes': 20, 'learning_rate': 0.15, 'n_layers': 2, 'second_layer_nodes': 20}\n",
      "0.216667 (0.026709) with: {'epochs': 300, 'first_layer_nodes': 20, 'learning_rate': 0.15, 'n_layers': 2, 'second_layer_nodes': 10}\n",
      "0.232131 (0.034526) with: {'epochs': 300, 'first_layer_nodes': 20, 'learning_rate': 0.15, 'n_layers': 2, 'second_layer_nodes': 5}\n",
      "0.283494 (0.006478) with: {'epochs': 300, 'first_layer_nodes': 20, 'learning_rate': 0.3, 'n_layers': 2, 'second_layer_nodes': 20}\n",
      "0.241987 (0.042889) with: {'epochs': 300, 'first_layer_nodes': 20, 'learning_rate': 0.3, 'n_layers': 2, 'second_layer_nodes': 10}\n",
      "0.283574 (0.015692) with: {'epochs': 300, 'first_layer_nodes': 20, 'learning_rate': 0.3, 'n_layers': 2, 'second_layer_nodes': 5}\n",
      "0.267869 (0.030265) with: {'epochs': 300, 'first_layer_nodes': 20, 'learning_rate': 0.5, 'n_layers': 2, 'second_layer_nodes': 20}\n",
      "0.268109 (0.015625) with: {'epochs': 300, 'first_layer_nodes': 20, 'learning_rate': 0.5, 'n_layers': 2, 'second_layer_nodes': 10}\n",
      "0.211619 (0.045711) with: {'epochs': 300, 'first_layer_nodes': 20, 'learning_rate': 0.5, 'n_layers': 2, 'second_layer_nodes': 5}\n",
      "0.180609 (0.097995) with: {'epochs': 300, 'first_layer_nodes': 10, 'learning_rate': 0.01, 'n_layers': 2, 'second_layer_nodes': 20}\n",
      "0.189904 (0.112361) with: {'epochs': 300, 'first_layer_nodes': 10, 'learning_rate': 0.01, 'n_layers': 2, 'second_layer_nodes': 10}\n",
      "0.134455 (0.086589) with: {'epochs': 300, 'first_layer_nodes': 10, 'learning_rate': 0.01, 'n_layers': 2, 'second_layer_nodes': 5}\n",
      "0.242228 (0.050552) with: {'epochs': 300, 'first_layer_nodes': 10, 'learning_rate': 0.15, 'n_layers': 2, 'second_layer_nodes': 20}\n",
      "0.242468 (0.041692) with: {'epochs': 300, 'first_layer_nodes': 10, 'learning_rate': 0.15, 'n_layers': 2, 'second_layer_nodes': 10}\n",
      "0.226843 (0.031852) with: {'epochs': 300, 'first_layer_nodes': 10, 'learning_rate': 0.15, 'n_layers': 2, 'second_layer_nodes': 5}\n",
      "0.246955 (0.065357) with: {'epochs': 300, 'first_layer_nodes': 10, 'learning_rate': 0.3, 'n_layers': 2, 'second_layer_nodes': 20}\n",
      "0.221795 (0.037202) with: {'epochs': 300, 'first_layer_nodes': 10, 'learning_rate': 0.3, 'n_layers': 2, 'second_layer_nodes': 10}\n",
      "0.237099 (0.006570) with: {'epochs': 300, 'first_layer_nodes': 10, 'learning_rate': 0.3, 'n_layers': 2, 'second_layer_nodes': 5}\n",
      "0.283253 (0.036774) with: {'epochs': 300, 'first_layer_nodes': 10, 'learning_rate': 0.5, 'n_layers': 2, 'second_layer_nodes': 20}\n",
      "0.283494 (0.018909) with: {'epochs': 300, 'first_layer_nodes': 10, 'learning_rate': 0.5, 'n_layers': 2, 'second_layer_nodes': 10}\n",
      "0.247196 (0.064547) with: {'epochs': 300, 'first_layer_nodes': 10, 'learning_rate': 0.5, 'n_layers': 2, 'second_layer_nodes': 5}\n",
      "0.206330 (0.048231) with: {'epochs': 300, 'first_layer_nodes': 5, 'learning_rate': 0.01, 'n_layers': 2, 'second_layer_nodes': 20}\n",
      "0.077083 (0.045128) with: {'epochs': 300, 'first_layer_nodes': 5, 'learning_rate': 0.01, 'n_layers': 2, 'second_layer_nodes': 10}\n",
      "0.088141 (0.070538) with: {'epochs': 300, 'first_layer_nodes': 5, 'learning_rate': 0.01, 'n_layers': 2, 'second_layer_nodes': 5}\n",
      "0.180449 (0.031797) with: {'epochs': 300, 'first_layer_nodes': 5, 'learning_rate': 0.15, 'n_layers': 2, 'second_layer_nodes': 20}\n",
      "0.206410 (0.030823) with: {'epochs': 300, 'first_layer_nodes': 5, 'learning_rate': 0.15, 'n_layers': 2, 'second_layer_nodes': 10}\n",
      "0.227244 (0.060285) with: {'epochs': 300, 'first_layer_nodes': 5, 'learning_rate': 0.15, 'n_layers': 2, 'second_layer_nodes': 5}\n",
      "0.278045 (0.048878) with: {'epochs': 300, 'first_layer_nodes': 5, 'learning_rate': 0.3, 'n_layers': 2, 'second_layer_nodes': 20}\n",
      "0.247276 (0.023762) with: {'epochs': 300, 'first_layer_nodes': 5, 'learning_rate': 0.3, 'n_layers': 2, 'second_layer_nodes': 10}\n",
      "0.206170 (0.018965) with: {'epochs': 300, 'first_layer_nodes': 5, 'learning_rate': 0.3, 'n_layers': 2, 'second_layer_nodes': 5}\n",
      "0.257532 (0.030163) with: {'epochs': 300, 'first_layer_nodes': 5, 'learning_rate': 0.5, 'n_layers': 2, 'second_layer_nodes': 20}\n",
      "0.252163 (0.058146) with: {'epochs': 300, 'first_layer_nodes': 5, 'learning_rate': 0.5, 'n_layers': 2, 'second_layer_nodes': 10}\n",
      "0.262660 (0.036319) with: {'epochs': 300, 'first_layer_nodes': 5, 'learning_rate': 0.5, 'n_layers': 2, 'second_layer_nodes': 5}\n",
      "0.252244 (0.055516) with: {'epochs': 500, 'first_layer_nodes': 20, 'learning_rate': 0.01, 'n_layers': 2, 'second_layer_nodes': 20}\n",
      "0.206330 (0.096276) with: {'epochs': 500, 'first_layer_nodes': 20, 'learning_rate': 0.01, 'n_layers': 2, 'second_layer_nodes': 10}\n",
      "0.160096 (0.060441) with: {'epochs': 500, 'first_layer_nodes': 20, 'learning_rate': 0.01, 'n_layers': 2, 'second_layer_nodes': 5}\n",
      "0.319311 (0.042381) with: {'epochs': 500, 'first_layer_nodes': 20, 'learning_rate': 0.15, 'n_layers': 2, 'second_layer_nodes': 20}\n",
      "0.262740 (0.020057) with: {'epochs': 500, 'first_layer_nodes': 20, 'learning_rate': 0.15, 'n_layers': 2, 'second_layer_nodes': 10}\n",
      "0.227083 (0.040309) with: {'epochs': 500, 'first_layer_nodes': 20, 'learning_rate': 0.15, 'n_layers': 2, 'second_layer_nodes': 5}\n",
      "0.267788 (0.042820) with: {'epochs': 500, 'first_layer_nodes': 20, 'learning_rate': 0.3, 'n_layers': 2, 'second_layer_nodes': 20}\n",
      "0.273237 (0.019676) with: {'epochs': 500, 'first_layer_nodes': 20, 'learning_rate': 0.3, 'n_layers': 2, 'second_layer_nodes': 10}\n",
      "0.350240 (0.049093) with: {'epochs': 500, 'first_layer_nodes': 20, 'learning_rate': 0.3, 'n_layers': 2, 'second_layer_nodes': 5}\n",
      "0.288622 (0.013600) with: {'epochs': 500, 'first_layer_nodes': 20, 'learning_rate': 0.5, 'n_layers': 2, 'second_layer_nodes': 20}\n",
      "0.226522 (0.039149) with: {'epochs': 500, 'first_layer_nodes': 20, 'learning_rate': 0.5, 'n_layers': 2, 'second_layer_nodes': 10}\n",
      "0.293510 (0.043661) with: {'epochs': 500, 'first_layer_nodes': 20, 'learning_rate': 0.5, 'n_layers': 2, 'second_layer_nodes': 5}\n",
      "0.170433 (0.045214) with: {'epochs': 500, 'first_layer_nodes': 10, 'learning_rate': 0.01, 'n_layers': 2, 'second_layer_nodes': 20}\n",
      "0.221715 (0.075899) with: {'epochs': 500, 'first_layer_nodes': 10, 'learning_rate': 0.01, 'n_layers': 2, 'second_layer_nodes': 10}\n",
      "0.237099 (0.056560) with: {'epochs': 500, 'first_layer_nodes': 10, 'learning_rate': 0.01, 'n_layers': 2, 'second_layer_nodes': 5}\n",
      "0.257452 (0.042787) with: {'epochs': 500, 'first_layer_nodes': 10, 'learning_rate': 0.15, 'n_layers': 2, 'second_layer_nodes': 20}\n",
      "0.293830 (0.012745) with: {'epochs': 500, 'first_layer_nodes': 10, 'learning_rate': 0.15, 'n_layers': 2, 'second_layer_nodes': 10}\n",
      "0.247436 (0.025188) with: {'epochs': 500, 'first_layer_nodes': 10, 'learning_rate': 0.15, 'n_layers': 2, 'second_layer_nodes': 5}\n",
      "0.242147 (0.017697) with: {'epochs': 500, 'first_layer_nodes': 10, 'learning_rate': 0.3, 'n_layers': 2, 'second_layer_nodes': 20}\n",
      "0.283413 (0.017777) with: {'epochs': 500, 'first_layer_nodes': 10, 'learning_rate': 0.3, 'n_layers': 2, 'second_layer_nodes': 10}\n",
      "0.278045 (0.048878) with: {'epochs': 500, 'first_layer_nodes': 10, 'learning_rate': 0.3, 'n_layers': 2, 'second_layer_nodes': 5}\n",
      "0.267788 (0.042820) with: {'epochs': 500, 'first_layer_nodes': 10, 'learning_rate': 0.5, 'n_layers': 2, 'second_layer_nodes': 20}\n",
      "0.252564 (0.018929) with: {'epochs': 500, 'first_layer_nodes': 10, 'learning_rate': 0.5, 'n_layers': 2, 'second_layer_nodes': 10}\n",
      "0.257853 (0.020773) with: {'epochs': 500, 'first_layer_nodes': 10, 'learning_rate': 0.5, 'n_layers': 2, 'second_layer_nodes': 5}\n",
      "0.206250 (0.026632) with: {'epochs': 500, 'first_layer_nodes': 5, 'learning_rate': 0.01, 'n_layers': 2, 'second_layer_nodes': 20}\n",
      "0.164904 (0.013973) with: {'epochs': 500, 'first_layer_nodes': 5, 'learning_rate': 0.01, 'n_layers': 2, 'second_layer_nodes': 10}\n",
      "0.164263 (0.094889) with: {'epochs': 500, 'first_layer_nodes': 5, 'learning_rate': 0.01, 'n_layers': 2, 'second_layer_nodes': 5}\n",
      "0.231891 (0.044936) with: {'epochs': 500, 'first_layer_nodes': 5, 'learning_rate': 0.15, 'n_layers': 2, 'second_layer_nodes': 20}\n",
      "0.221635 (0.018952) with: {'epochs': 500, 'first_layer_nodes': 5, 'learning_rate': 0.15, 'n_layers': 2, 'second_layer_nodes': 10}\n",
      "0.252163 (0.084663) with: {'epochs': 500, 'first_layer_nodes': 5, 'learning_rate': 0.15, 'n_layers': 2, 'second_layer_nodes': 5}\n",
      "0.283494 (0.031444) with: {'epochs': 500, 'first_layer_nodes': 5, 'learning_rate': 0.3, 'n_layers': 2, 'second_layer_nodes': 20}\n",
      "0.293830 (0.025215) with: {'epochs': 500, 'first_layer_nodes': 5, 'learning_rate': 0.3, 'n_layers': 2, 'second_layer_nodes': 10}\n",
      "0.247276 (0.042743) with: {'epochs': 500, 'first_layer_nodes': 5, 'learning_rate': 0.3, 'n_layers': 2, 'second_layer_nodes': 5}\n",
      "0.299038 (0.026866) with: {'epochs': 500, 'first_layer_nodes': 5, 'learning_rate': 0.5, 'n_layers': 2, 'second_layer_nodes': 20}\n",
      "0.288381 (0.058235) with: {'epochs': 500, 'first_layer_nodes': 5, 'learning_rate': 0.5, 'n_layers': 2, 'second_layer_nodes': 10}\n",
      "0.288542 (0.046856) with: {'epochs': 500, 'first_layer_nodes': 5, 'learning_rate': 0.5, 'n_layers': 2, 'second_layer_nodes': 5}\n"
     ]
    }
   ],
   "source": [
    "print(\"Best: %f using %s\" % (grid_result.best_score_, grid_result.best_params_))\n",
    "means = grid_result.cv_results_['mean_test_score']\n",
    "stds = grid_result.cv_results_['std_test_score']\n",
    "params = grid_result.cv_results_['params']\n",
    "for mean, stdev, param in zip(means, stds, params):\n",
    "    print(\"%f (%f) with: %r\" % (mean, stdev, param))"
   ]
  },
  {
   "cell_type": "markdown",
   "id": "e4559877",
   "metadata": {},
   "source": [
    "### Decision Tree"
   ]
  },
  {
   "cell_type": "code",
   "execution_count": 21,
   "id": "617c1004",
   "metadata": {},
   "outputs": [],
   "source": [
    "import numpy as np\n",
    "from sklearn.tree import DecisionTreeClassifier\n",
    "from sklearn.model_selection import train_test_split\n",
    "from sklearn.metrics import confusion_matrix\n",
    "from sklearn.metrics import classification_report\n",
    "from sklearn.metrics import plot_confusion_matrix\n",
    "from sklearn.metrics import accuracy_score\n",
    "\n",
    "flagsTrain, flagsTest, langTrain, langTest = train_test_split(flagsScaled, lang, test_size = 0.20, random_state=5)\n",
    "tree_model = DecisionTreeClassifier().fit(flagsTrain, langTrain)\n",
    "tree_pred = tree_model.predict(flagsTest)"
   ]
  },
  {
   "cell_type": "code",
   "execution_count": 22,
   "id": "a66ed6af",
   "metadata": {},
   "outputs": [
    {
     "name": "stdout",
     "output_type": "stream",
     "text": [
      "Accuracy:  0.46153846153846156\n",
      "Classification Report: \n",
      "               precision    recall  f1-score   support\n",
      "\n",
      "           0       0.64      0.75      0.69        12\n",
      "           1       0.20      0.25      0.22         4\n",
      "           2       0.00      0.00      0.00         2\n",
      "           3       0.00      0.00      0.00         1\n",
      "           4       0.00      0.00      0.00         3\n",
      "           5       0.33      0.33      0.33         6\n",
      "           6       0.00      0.00      0.00         0\n",
      "           7       0.50      0.50      0.50         2\n",
      "           8       0.00      0.00      0.00         0\n",
      "           9       0.62      0.56      0.59         9\n",
      "\n",
      "   micro avg       0.46      0.46      0.46        39\n",
      "   macro avg       0.23      0.24      0.23        39\n",
      "weighted avg       0.44      0.46      0.45        39\n",
      " samples avg       0.46      0.46      0.46        39\n",
      "\n",
      "Confusion Matrix: \n",
      " [[9 0 0 0 0 1 0 1 1]\n",
      " [0 1 1 0 0 1 1 0 0]\n",
      " [1 0 0 0 0 0 0 0 1]\n",
      " [1 0 0 0 0 0 0 0 0]\n",
      " [0 2 0 0 0 1 0 0 0]\n",
      " [2 1 1 0 0 2 0 0 0]\n",
      " [0 0 0 0 0 0 1 0 1]\n",
      " [0 0 0 0 0 0 0 0 0]\n",
      " [1 1 1 0 0 1 0 0 5]]\n"
     ]
    },
    {
     "name": "stderr",
     "output_type": "stream",
     "text": [
      "/home/corence/.local/lib/python3.8/site-packages/sklearn/metrics/_classification.py:1327: UndefinedMetricWarning: Precision and F-score are ill-defined and being set to 0.0 in labels with no predicted samples. Use `zero_division` parameter to control this behavior.\n",
      "  _warn_prf(average, modifier, msg_start, len(result))\n",
      "/home/corence/.local/lib/python3.8/site-packages/sklearn/metrics/_classification.py:1327: UndefinedMetricWarning: Recall and F-score are ill-defined and being set to 0.0 in labels with no true samples. Use `zero_division` parameter to control this behavior.\n",
      "  _warn_prf(average, modifier, msg_start, len(result))\n"
     ]
    },
    {
     "data": {
      "image/png": "[encoded data removed]",
      "text/plain": [
       "<Figure size 432x288 with 2 Axes>"
      ]
     },
     "metadata": {
      "needs_background": "light"
     },
     "output_type": "display_data"
    }
   ],
   "source": [
    "import seaborn as sns\n",
    "\n",
    "print(\"Accuracy: \", accuracy_score(langTest, tree_pred))\n",
    "print(\"Classification Report: \\n\", classification_report(langTest, tree_pred))\n",
    "\n",
    "conf_matrix = confusion_matrix(np.argmax(langTest, axis=1), np.argmax(tree_pred, axis=1))\n",
    "sns.heatmap(conf_matrix, annot=True)\n",
    "plt.show()"
   ]
  },
  {
   "cell_type": "markdown",
   "id": "9ce4589a",
   "metadata": {},
   "source": [
    "# Fun With Flags episode 3: Religion"
   ]
  },
  {
   "cell_type": "code",
   "execution_count": 23,
   "id": "5a3d6cc9",
   "metadata": {},
   "outputs": [],
   "source": [
    "from tensorflow.keras.models import Sequential\n",
    "from tensorflow.keras.layers import Dense\n",
    "from tensorflow.keras.optimizers import SGD\n",
    "\n",
    "model = Sequential()\n",
    "\n",
    "layers = [\n",
    "    Dense(20, activation='relu', name='layer1'),\n",
    "    Dense(15, activation='relu', name='layer2'),\n",
    "    Dense(8, activation='sigmoid', name='Output')\n",
    "]\n",
    "\n",
    "for layer in layers:\n",
    "    model.add(layer)\n",
    "\n",
    "model.compile(optimizer=SGD(learning_rate=.3), loss='mse', metrics=['accuracy'])\n",
    "hist = model.fit(flagsScaled, rlgn, validation_split=.2, epochs=50, verbose=0)"
   ]
  },
  {
   "cell_type": "code",
   "execution_count": 24,
   "id": "bfbe4f0a",
   "metadata": {},
   "outputs": [
    {
     "name": "stdout",
     "output_type": "stream",
     "text": [
      "5/5 [==============================] - 0s 769us/step\n",
      "Training Error: 0.100\n",
      "Training Accuracy: 0.329\n"
     ]
    }
   ],
   "source": [
    "from sklearn.model_selection import train_test_split\n",
    "\n",
    "flagsTrain, flagsTest, rlgnTrain, rlgnTest = train_test_split(flagsScaled, rlgn, test_size = 0.20, random_state=5)\n",
    "\n",
    "pred_train= model.predict(flagsTrain)\n",
    "score, acc = model.evaluate(flagsTrain, rlgnTrain, verbose=0)\n",
    "print('Training Error: %.3f' % score)\n",
    "print('Training Accuracy: %.3f' % acc)"
   ]
  },
  {
   "cell_type": "code",
   "execution_count": 25,
   "id": "9e55a66e",
   "metadata": {},
   "outputs": [
    {
     "name": "stdout",
     "output_type": "stream",
     "text": [
      "2/2 [==============================] - 0s 2ms/step\n",
      "Test Error: 0.098\n",
      "Test Accuracy: 0.385\n"
     ]
    }
   ],
   "source": [
    "pred_train= model.predict(flagsTest)\n",
    "score, acc = model.evaluate(flagsTest, rlgnTest, verbose=0)\n",
    "print('Test Error: %.3f' % score)\n",
    "print('Test Accuracy: %.3f' % acc)"
   ]
  },
  {
   "cell_type": "code",
   "execution_count": 26,
   "id": "b8bf0bd4",
   "metadata": {},
   "outputs": [
    {
     "data": {
      "image/png": "[encoded data removed]",
      "text/plain": [
       "<Figure size 432x288 with 1 Axes>"
      ]
     },
     "metadata": {
      "needs_background": "light"
     },
     "output_type": "display_data"
    }
   ],
   "source": [
    "plt.plot(hist.history['loss'])\n",
    "plt.plot(hist.history['val_loss'])\n",
    "plt.title('Model Loss Curve')\n",
    "plt.ylabel('Loss')\n",
    "plt.xlabel('Epoch')\n",
    "plt.legend(['train', 'test'], loc='upper right')\n",
    "plt.show()"
   ]
  },
  {
   "cell_type": "code",
   "execution_count": 27,
   "id": "20e7f6e3",
   "metadata": {},
   "outputs": [
    {
     "data": {
      "image/png": "[encoded data removed]",
      "text/plain": [
       "<Figure size 432x288 with 1 Axes>"
      ]
     },
     "metadata": {
      "needs_background": "light"
     },
     "output_type": "display_data"
    }
   ],
   "source": [
    "plt.plot(hist.history['accuracy'])\n",
    "plt.plot(hist.history['val_accuracy'])\n",
    "plt.title('Model Accuracy')\n",
    "plt.ylabel('Accuracy')\n",
    "plt.xlabel('Epochs')\n",
    "plt.legend(['train', 'test'], loc='upper left')\n",
    "plt.show()"
   ]
  },
  {
   "cell_type": "code",
   "execution_count": 28,
   "id": "446e512d",
   "metadata": {},
   "outputs": [],
   "source": [
    "import warnings\n",
    "warnings.filterwarnings(\"ignore\", category=DeprecationWarning)\n",
    "import os\n",
    "os.environ['CUDA_VISIBLE_DEVICES'] = \"0\"\n",
    "from sklearn.model_selection import GridSearchCV, RandomizedSearchCV\n",
    "from keras.models import Sequential\n",
    "from keras.layers import Dense, Dropout\n",
    "from keras.wrappers.scikit_learn import KerasClassifier\n",
    "#from keras.optimizers import Adam\n",
    "\n",
    "def createmodel(n_layers, first_layer_nodes, second_layer_nodes, learning_rate=.1):\n",
    "    model = Sequential()\n",
    "    \n",
    "    #n_nodes = FindLayerNodesLinear(n_layers, first_layer_nodes, last_layer_nodes)\n",
    "    for i in range(2):\n",
    "        if i==1:\n",
    "            model.add(Dense(first_layer_nodes, activation='relu'))\n",
    "        else:\n",
    "            model.add(Dense(second_layer_nodes, activation='relu'))\n",
    "            \n",
    "    #Finally, the output layer should have a single node in binary classification\n",
    "    model.add(Dense(8, activation='sigmoid'))\n",
    "    model.compile(optimizer=SGD(learning_rate=learning_rate), \n",
    "                  loss='mse', metrics = [\"accuracy\"]) #note: metrics could also be 'mse'\n",
    "    \n",
    "    return model\n",
    "\n",
    "param_grid = dict(n_layers=[2], first_layer_nodes = [20, 10, 5], second_layer_nodes=[20,10,5],\n",
    "                  epochs = [150, 300, 500], learning_rate= [.01, .15, .3, .5])\n",
    "\n",
    "model = KerasClassifier(build_fn=createmodel, verbose=0)\n",
    "grid = GridSearchCV(estimator=model, param_grid=param_grid, n_jobs=-1, cv=3)\n",
    "grid_result = grid.fit(flagsScaled, rlgn)"
   ]
  },
  {
   "cell_type": "code",
   "execution_count": 29,
   "id": "aa4d3776",
   "metadata": {},
   "outputs": [
    {
     "name": "stdout",
     "output_type": "stream",
     "text": [
      "Best: 0.422676 using {'epochs': 500, 'first_layer_nodes': 10, 'learning_rate': 0.15, 'n_layers': 2, 'second_layer_nodes': 10}\n",
      "0.242628 (0.066136) with: {'epochs': 150, 'first_layer_nodes': 20, 'learning_rate': 0.01, 'n_layers': 2, 'second_layer_nodes': 20}\n",
      "0.180529 (0.089370) with: {'epochs': 150, 'first_layer_nodes': 20, 'learning_rate': 0.01, 'n_layers': 2, 'second_layer_nodes': 10}\n",
      "0.165144 (0.032807) with: {'epochs': 150, 'first_layer_nodes': 20, 'learning_rate': 0.01, 'n_layers': 2, 'second_layer_nodes': 5}\n",
      "0.391827 (0.016180) with: {'epochs': 150, 'first_layer_nodes': 20, 'learning_rate': 0.15, 'n_layers': 2, 'second_layer_nodes': 20}\n",
      "0.319471 (0.035235) with: {'epochs': 150, 'first_layer_nodes': 20, 'learning_rate': 0.15, 'n_layers': 2, 'second_layer_nodes': 10}\n",
      "0.304247 (0.021045) with: {'epochs': 150, 'first_layer_nodes': 20, 'learning_rate': 0.15, 'n_layers': 2, 'second_layer_nodes': 5}\n",
      "0.345112 (0.071472) with: {'epochs': 150, 'first_layer_nodes': 20, 'learning_rate': 0.3, 'n_layers': 2, 'second_layer_nodes': 20}\n",
      "0.345272 (0.027896) with: {'epochs': 150, 'first_layer_nodes': 20, 'learning_rate': 0.3, 'n_layers': 2, 'second_layer_nodes': 10}\n",
      "0.340385 (0.035075) with: {'epochs': 150, 'first_layer_nodes': 20, 'learning_rate': 0.3, 'n_layers': 2, 'second_layer_nodes': 5}\n",
      "0.386859 (0.036355) with: {'epochs': 150, 'first_layer_nodes': 20, 'learning_rate': 0.5, 'n_layers': 2, 'second_layer_nodes': 20}\n",
      "0.391747 (0.031414) with: {'epochs': 150, 'first_layer_nodes': 20, 'learning_rate': 0.5, 'n_layers': 2, 'second_layer_nodes': 10}\n",
      "0.396635 (0.067777) with: {'epochs': 150, 'first_layer_nodes': 20, 'learning_rate': 0.5, 'n_layers': 2, 'second_layer_nodes': 5}\n",
      "0.087740 (0.040671) with: {'epochs': 150, 'first_layer_nodes': 10, 'learning_rate': 0.01, 'n_layers': 2, 'second_layer_nodes': 20}\n",
      "0.164904 (0.013973) with: {'epochs': 150, 'first_layer_nodes': 10, 'learning_rate': 0.01, 'n_layers': 2, 'second_layer_nodes': 10}\n",
      "0.288782 (0.020954) with: {'epochs': 150, 'first_layer_nodes': 10, 'learning_rate': 0.01, 'n_layers': 2, 'second_layer_nodes': 5}\n",
      "0.350321 (0.029546) with: {'epochs': 150, 'first_layer_nodes': 10, 'learning_rate': 0.15, 'n_layers': 2, 'second_layer_nodes': 20}\n",
      "0.350321 (0.036693) with: {'epochs': 150, 'first_layer_nodes': 10, 'learning_rate': 0.15, 'n_layers': 2, 'second_layer_nodes': 10}\n",
      "0.309375 (0.023039) with: {'epochs': 150, 'first_layer_nodes': 10, 'learning_rate': 0.15, 'n_layers': 2, 'second_layer_nodes': 5}\n",
      "0.360737 (0.051662) with: {'epochs': 150, 'first_layer_nodes': 10, 'learning_rate': 0.3, 'n_layers': 2, 'second_layer_nodes': 20}\n",
      "0.370913 (0.064115) with: {'epochs': 150, 'first_layer_nodes': 10, 'learning_rate': 0.3, 'n_layers': 2, 'second_layer_nodes': 10}\n",
      "0.350801 (0.041171) with: {'epochs': 150, 'first_layer_nodes': 10, 'learning_rate': 0.3, 'n_layers': 2, 'second_layer_nodes': 5}\n",
      "0.391827 (0.010199) with: {'epochs': 150, 'first_layer_nodes': 10, 'learning_rate': 0.5, 'n_layers': 2, 'second_layer_nodes': 20}\n",
      "0.355849 (0.035154) with: {'epochs': 150, 'first_layer_nodes': 10, 'learning_rate': 0.5, 'n_layers': 2, 'second_layer_nodes': 10}\n",
      "0.381170 (0.067839) with: {'epochs': 150, 'first_layer_nodes': 10, 'learning_rate': 0.5, 'n_layers': 2, 'second_layer_nodes': 5}\n",
      "0.195833 (0.075599) with: {'epochs': 150, 'first_layer_nodes': 5, 'learning_rate': 0.01, 'n_layers': 2, 'second_layer_nodes': 20}\n",
      "0.143750 (0.118574) with: {'epochs': 150, 'first_layer_nodes': 5, 'learning_rate': 0.01, 'n_layers': 2, 'second_layer_nodes': 10}\n",
      "0.170032 (0.021213) with: {'epochs': 150, 'first_layer_nodes': 5, 'learning_rate': 0.01, 'n_layers': 2, 'second_layer_nodes': 5}\n",
      "0.335016 (0.025591) with: {'epochs': 150, 'first_layer_nodes': 5, 'learning_rate': 0.15, 'n_layers': 2, 'second_layer_nodes': 20}\n",
      "0.319551 (0.038013) with: {'epochs': 150, 'first_layer_nodes': 5, 'learning_rate': 0.15, 'n_layers': 2, 'second_layer_nodes': 10}\n",
      "0.314583 (0.027935) with: {'epochs': 150, 'first_layer_nodes': 5, 'learning_rate': 0.15, 'n_layers': 2, 'second_layer_nodes': 5}\n",
      "0.365785 (0.068220) with: {'epochs': 150, 'first_layer_nodes': 5, 'learning_rate': 0.3, 'n_layers': 2, 'second_layer_nodes': 20}\n",
      "0.319792 (0.042067) with: {'epochs': 150, 'first_layer_nodes': 5, 'learning_rate': 0.3, 'n_layers': 2, 'second_layer_nodes': 10}\n",
      "0.314503 (0.015829) with: {'epochs': 150, 'first_layer_nodes': 5, 'learning_rate': 0.3, 'n_layers': 2, 'second_layer_nodes': 5}\n",
      "0.350801 (0.054382) with: {'epochs': 150, 'first_layer_nodes': 5, 'learning_rate': 0.5, 'n_layers': 2, 'second_layer_nodes': 20}\n",
      "0.319792 (0.052119) with: {'epochs': 150, 'first_layer_nodes': 5, 'learning_rate': 0.5, 'n_layers': 2, 'second_layer_nodes': 10}\n",
      "0.370913 (0.053370) with: {'epochs': 150, 'first_layer_nodes': 5, 'learning_rate': 0.5, 'n_layers': 2, 'second_layer_nodes': 5}\n",
      "0.309375 (0.070349) with: {'epochs': 300, 'first_layer_nodes': 20, 'learning_rate': 0.01, 'n_layers': 2, 'second_layer_nodes': 20}\n",
      "0.309455 (0.034918) with: {'epochs': 300, 'first_layer_nodes': 20, 'learning_rate': 0.01, 'n_layers': 2, 'second_layer_nodes': 10}\n",
      "0.288862 (0.041916) with: {'epochs': 300, 'first_layer_nodes': 20, 'learning_rate': 0.01, 'n_layers': 2, 'second_layer_nodes': 5}\n",
      "0.401923 (0.042220) with: {'epochs': 300, 'first_layer_nodes': 20, 'learning_rate': 0.15, 'n_layers': 2, 'second_layer_nodes': 20}\n",
      "0.365705 (0.057865) with: {'epochs': 300, 'first_layer_nodes': 20, 'learning_rate': 0.15, 'n_layers': 2, 'second_layer_nodes': 10}\n",
      "0.355609 (0.044758) with: {'epochs': 300, 'first_layer_nodes': 20, 'learning_rate': 0.15, 'n_layers': 2, 'second_layer_nodes': 5}\n",
      "0.391667 (0.011785) with: {'epochs': 300, 'first_layer_nodes': 20, 'learning_rate': 0.3, 'n_layers': 2, 'second_layer_nodes': 20}\n",
      "0.391827 (0.027114) with: {'epochs': 300, 'first_layer_nodes': 20, 'learning_rate': 0.3, 'n_layers': 2, 'second_layer_nodes': 10}\n",
      "0.371074 (0.020578) with: {'epochs': 300, 'first_layer_nodes': 20, 'learning_rate': 0.3, 'n_layers': 2, 'second_layer_nodes': 5}\n",
      "0.396795 (0.046588) with: {'epochs': 300, 'first_layer_nodes': 20, 'learning_rate': 0.5, 'n_layers': 2, 'second_layer_nodes': 20}\n",
      "0.391667 (0.017224) with: {'epochs': 300, 'first_layer_nodes': 20, 'learning_rate': 0.5, 'n_layers': 2, 'second_layer_nodes': 10}\n",
      "0.376362 (0.016109) with: {'epochs': 300, 'first_layer_nodes': 20, 'learning_rate': 0.5, 'n_layers': 2, 'second_layer_nodes': 5}\n",
      "0.247997 (0.104765) with: {'epochs': 300, 'first_layer_nodes': 10, 'learning_rate': 0.01, 'n_layers': 2, 'second_layer_nodes': 20}\n",
      "0.283734 (0.070214) with: {'epochs': 300, 'first_layer_nodes': 10, 'learning_rate': 0.01, 'n_layers': 2, 'second_layer_nodes': 10}\n",
      "0.205609 (0.079096) with: {'epochs': 300, 'first_layer_nodes': 10, 'learning_rate': 0.01, 'n_layers': 2, 'second_layer_nodes': 5}\n",
      "0.371074 (0.020578) with: {'epochs': 300, 'first_layer_nodes': 10, 'learning_rate': 0.15, 'n_layers': 2, 'second_layer_nodes': 20}\n",
      "0.350641 (0.021318) with: {'epochs': 300, 'first_layer_nodes': 10, 'learning_rate': 0.15, 'n_layers': 2, 'second_layer_nodes': 10}\n",
      "0.304167 (0.019742) with: {'epochs': 300, 'first_layer_nodes': 10, 'learning_rate': 0.15, 'n_layers': 2, 'second_layer_nodes': 5}\n",
      "0.402163 (0.015288) with: {'epochs': 300, 'first_layer_nodes': 10, 'learning_rate': 0.3, 'n_layers': 2, 'second_layer_nodes': 20}\n",
      "0.381330 (0.016747) with: {'epochs': 300, 'first_layer_nodes': 10, 'learning_rate': 0.3, 'n_layers': 2, 'second_layer_nodes': 10}\n",
      "0.417548 (0.003060) with: {'epochs': 300, 'first_layer_nodes': 10, 'learning_rate': 0.3, 'n_layers': 2, 'second_layer_nodes': 5}\n",
      "0.391987 (0.034547) with: {'epochs': 300, 'first_layer_nodes': 10, 'learning_rate': 0.5, 'n_layers': 2, 'second_layer_nodes': 20}\n",
      "0.407131 (0.051584) with: {'epochs': 300, 'first_layer_nodes': 10, 'learning_rate': 0.5, 'n_layers': 2, 'second_layer_nodes': 10}\n",
      "0.345673 (0.061382) with: {'epochs': 300, 'first_layer_nodes': 10, 'learning_rate': 0.5, 'n_layers': 2, 'second_layer_nodes': 5}\n",
      "0.227324 (0.073726) with: {'epochs': 300, 'first_layer_nodes': 5, 'learning_rate': 0.01, 'n_layers': 2, 'second_layer_nodes': 20}\n",
      "0.232452 (0.077439) with: {'epochs': 300, 'first_layer_nodes': 5, 'learning_rate': 0.01, 'n_layers': 2, 'second_layer_nodes': 10}\n",
      "0.119231 (0.094368) with: {'epochs': 300, 'first_layer_nodes': 5, 'learning_rate': 0.01, 'n_layers': 2, 'second_layer_nodes': 5}\n",
      "0.335096 (0.019811) with: {'epochs': 300, 'first_layer_nodes': 5, 'learning_rate': 0.15, 'n_layers': 2, 'second_layer_nodes': 20}\n",
      "0.314583 (0.027935) with: {'epochs': 300, 'first_layer_nodes': 5, 'learning_rate': 0.15, 'n_layers': 2, 'second_layer_nodes': 10}\n",
      "0.345112 (0.050828) with: {'epochs': 300, 'first_layer_nodes': 5, 'learning_rate': 0.15, 'n_layers': 2, 'second_layer_nodes': 5}\n",
      "0.355929 (0.077713) with: {'epochs': 300, 'first_layer_nodes': 5, 'learning_rate': 0.3, 'n_layers': 2, 'second_layer_nodes': 20}\n",
      "0.366026 (0.056882) with: {'epochs': 300, 'first_layer_nodes': 5, 'learning_rate': 0.3, 'n_layers': 2, 'second_layer_nodes': 10}\n",
      "0.412260 (0.024271) with: {'epochs': 300, 'first_layer_nodes': 5, 'learning_rate': 0.3, 'n_layers': 2, 'second_layer_nodes': 5}\n",
      "0.381490 (0.009009) with: {'epochs': 300, 'first_layer_nodes': 5, 'learning_rate': 0.5, 'n_layers': 2, 'second_layer_nodes': 20}\n",
      "0.335417 (0.059117) with: {'epochs': 300, 'first_layer_nodes': 5, 'learning_rate': 0.5, 'n_layers': 2, 'second_layer_nodes': 10}\n",
      "0.407051 (0.029473) with: {'epochs': 300, 'first_layer_nodes': 5, 'learning_rate': 0.5, 'n_layers': 2, 'second_layer_nodes': 5}\n",
      "0.304167 (0.019742) with: {'epochs': 500, 'first_layer_nodes': 20, 'learning_rate': 0.01, 'n_layers': 2, 'second_layer_nodes': 20}\n",
      "0.294151 (0.046121) with: {'epochs': 500, 'first_layer_nodes': 20, 'learning_rate': 0.01, 'n_layers': 2, 'second_layer_nodes': 10}\n",
      "0.293990 (0.024137) with: {'epochs': 500, 'first_layer_nodes': 20, 'learning_rate': 0.01, 'n_layers': 2, 'second_layer_nodes': 5}\n",
      "0.376362 (0.016109) with: {'epochs': 500, 'first_layer_nodes': 20, 'learning_rate': 0.15, 'n_layers': 2, 'second_layer_nodes': 20}\n",
      "0.371074 (0.032475) with: {'epochs': 500, 'first_layer_nodes': 20, 'learning_rate': 0.15, 'n_layers': 2, 'second_layer_nodes': 10}\n",
      "0.391907 (0.072265) with: {'epochs': 500, 'first_layer_nodes': 20, 'learning_rate': 0.15, 'n_layers': 2, 'second_layer_nodes': 5}\n",
      "0.396875 (0.037943) with: {'epochs': 500, 'first_layer_nodes': 20, 'learning_rate': 0.3, 'n_layers': 2, 'second_layer_nodes': 20}\n",
      "0.391987 (0.049556) with: {'epochs': 500, 'first_layer_nodes': 20, 'learning_rate': 0.3, 'n_layers': 2, 'second_layer_nodes': 10}\n",
      "0.402083 (0.037799) with: {'epochs': 500, 'first_layer_nodes': 20, 'learning_rate': 0.3, 'n_layers': 2, 'second_layer_nodes': 5}\n",
      "0.371554 (0.065674) with: {'epochs': 500, 'first_layer_nodes': 20, 'learning_rate': 0.5, 'n_layers': 2, 'second_layer_nodes': 20}\n",
      "0.391667 (0.017224) with: {'epochs': 500, 'first_layer_nodes': 20, 'learning_rate': 0.5, 'n_layers': 2, 'second_layer_nodes': 10}\n",
      "0.417548 (0.062882) with: {'epochs': 500, 'first_layer_nodes': 20, 'learning_rate': 0.5, 'n_layers': 2, 'second_layer_nodes': 5}\n",
      "0.258093 (0.106433) with: {'epochs': 500, 'first_layer_nodes': 10, 'learning_rate': 0.01, 'n_layers': 2, 'second_layer_nodes': 20}\n",
      "0.294071 (0.039863) with: {'epochs': 500, 'first_layer_nodes': 10, 'learning_rate': 0.01, 'n_layers': 2, 'second_layer_nodes': 10}\n",
      "0.283734 (0.033809) with: {'epochs': 500, 'first_layer_nodes': 10, 'learning_rate': 0.01, 'n_layers': 2, 'second_layer_nodes': 5}\n",
      "0.407051 (0.038728) with: {'epochs': 500, 'first_layer_nodes': 10, 'learning_rate': 0.15, 'n_layers': 2, 'second_layer_nodes': 20}\n",
      "0.422676 (0.043969) with: {'epochs': 500, 'first_layer_nodes': 10, 'learning_rate': 0.15, 'n_layers': 2, 'second_layer_nodes': 10}\n",
      "0.335096 (0.008769) with: {'epochs': 500, 'first_layer_nodes': 10, 'learning_rate': 0.15, 'n_layers': 2, 'second_layer_nodes': 5}\n",
      "0.391747 (0.031414) with: {'epochs': 500, 'first_layer_nodes': 10, 'learning_rate': 0.3, 'n_layers': 2, 'second_layer_nodes': 20}\n",
      "0.422436 (0.050450) with: {'epochs': 500, 'first_layer_nodes': 10, 'learning_rate': 0.3, 'n_layers': 2, 'second_layer_nodes': 10}\n",
      "0.422436 (0.033542) with: {'epochs': 500, 'first_layer_nodes': 10, 'learning_rate': 0.3, 'n_layers': 2, 'second_layer_nodes': 5}\n",
      "0.417628 (0.023505) with: {'epochs': 500, 'first_layer_nodes': 10, 'learning_rate': 0.5, 'n_layers': 2, 'second_layer_nodes': 20}\n",
      "0.376442 (0.072232) with: {'epochs': 500, 'first_layer_nodes': 10, 'learning_rate': 0.5, 'n_layers': 2, 'second_layer_nodes': 10}\n",
      "0.412420 (0.019993) with: {'epochs': 500, 'first_layer_nodes': 10, 'learning_rate': 0.5, 'n_layers': 2, 'second_layer_nodes': 5}\n",
      "0.237580 (0.094193) with: {'epochs': 500, 'first_layer_nodes': 5, 'learning_rate': 0.01, 'n_layers': 2, 'second_layer_nodes': 20}\n",
      "0.319631 (0.031973) with: {'epochs': 500, 'first_layer_nodes': 5, 'learning_rate': 0.01, 'n_layers': 2, 'second_layer_nodes': 10}\n",
      "0.267468 (0.087206) with: {'epochs': 500, 'first_layer_nodes': 5, 'learning_rate': 0.01, 'n_layers': 2, 'second_layer_nodes': 5}\n",
      "0.376202 (0.017302) with: {'epochs': 500, 'first_layer_nodes': 5, 'learning_rate': 0.15, 'n_layers': 2, 'second_layer_nodes': 20}\n",
      "0.371314 (0.035234) with: {'epochs': 500, 'first_layer_nodes': 5, 'learning_rate': 0.15, 'n_layers': 2, 'second_layer_nodes': 10}\n",
      "0.365785 (0.046144) with: {'epochs': 500, 'first_layer_nodes': 5, 'learning_rate': 0.15, 'n_layers': 2, 'second_layer_nodes': 5}\n",
      "0.345272 (0.017459) with: {'epochs': 500, 'first_layer_nodes': 5, 'learning_rate': 0.3, 'n_layers': 2, 'second_layer_nodes': 20}\n",
      "0.401923 (0.022808) with: {'epochs': 500, 'first_layer_nodes': 5, 'learning_rate': 0.3, 'n_layers': 2, 'second_layer_nodes': 10}\n",
      "0.376362 (0.039011) with: {'epochs': 500, 'first_layer_nodes': 5, 'learning_rate': 0.3, 'n_layers': 2, 'second_layer_nodes': 5}\n",
      "0.402163 (0.023437) with: {'epochs': 500, 'first_layer_nodes': 5, 'learning_rate': 0.5, 'n_layers': 2, 'second_layer_nodes': 20}\n",
      "0.366346 (0.050704) with: {'epochs': 500, 'first_layer_nodes': 5, 'learning_rate': 0.5, 'n_layers': 2, 'second_layer_nodes': 10}\n",
      "0.417388 (0.031453) with: {'epochs': 500, 'first_layer_nodes': 5, 'learning_rate': 0.5, 'n_layers': 2, 'second_layer_nodes': 5}\n"
     ]
    }
   ],
   "source": [
    "print(\"Best: %f using %s\" % (grid_result.best_score_, grid_result.best_params_))\n",
    "means = grid_result.cv_results_['mean_test_score']\n",
    "stds = grid_result.cv_results_['std_test_score']\n",
    "params = grid_result.cv_results_['params']\n",
    "for mean, stdev, param in zip(means, stds, params):\n",
    "    print(\"%f (%f) with: %r\" % (mean, stdev, param))"
   ]
  },
  {
   "cell_type": "markdown",
   "id": "3b539585",
   "metadata": {},
   "source": [
    "### Decision Trees"
   ]
  },
  {
   "cell_type": "code",
   "execution_count": 30,
   "id": "efae2c52",
   "metadata": {},
   "outputs": [],
   "source": [
    "import numpy as np\n",
    "from sklearn.tree import DecisionTreeClassifier\n",
    "from sklearn.model_selection import train_test_split\n",
    "from sklearn.metrics import confusion_matrix\n",
    "from sklearn.metrics import classification_report\n",
    "from sklearn.metrics import plot_confusion_matrix\n",
    "from sklearn.metrics import accuracy_score\n",
    "\n",
    "flagsTrain, flagsTest, rlgnTrain, rlgnTest = train_test_split(flagsScaled, rlgn, test_size = 0.20, random_state=5)\n",
    "tree_model = DecisionTreeClassifier().fit(flagsTrain, rlgnTrain)\n",
    "tree_pred = tree_model.predict(flagsTest)"
   ]
  },
  {
   "cell_type": "code",
   "execution_count": 31,
   "id": "2f0bef18",
   "metadata": {},
   "outputs": [
    {
     "name": "stdout",
     "output_type": "stream",
     "text": [
      "Accuracy:  0.38461538461538464\n",
      "Classification Report: \n",
      "               precision    recall  f1-score   support\n",
      "\n",
      "           0       0.00      0.00      0.00         9\n",
      "           1       0.71      0.92      0.80        13\n",
      "           2       0.15      0.50      0.24         4\n",
      "           3       0.00      0.00      0.00         1\n",
      "           4       0.00      0.00      0.00         1\n",
      "           5       0.25      0.17      0.20         6\n",
      "           6       0.00      0.00      0.00         5\n",
      "           7       0.00      0.00      0.00         0\n",
      "\n",
      "   micro avg       0.38      0.38      0.38        39\n",
      "   macro avg       0.14      0.20      0.15        39\n",
      "weighted avg       0.29      0.38      0.32        39\n",
      " samples avg       0.38      0.38      0.38        39\n",
      "\n"
     ]
    },
    {
     "name": "stderr",
     "output_type": "stream",
     "text": [
      "/home/corence/.local/lib/python3.8/site-packages/sklearn/metrics/_classification.py:1327: UndefinedMetricWarning: Precision and F-score are ill-defined and being set to 0.0 in labels with no predicted samples. Use `zero_division` parameter to control this behavior.\n",
      "  _warn_prf(average, modifier, msg_start, len(result))\n",
      "/home/corence/.local/lib/python3.8/site-packages/sklearn/metrics/_classification.py:1327: UndefinedMetricWarning: Recall and F-score are ill-defined and being set to 0.0 in labels with no true samples. Use `zero_division` parameter to control this behavior.\n",
      "  _warn_prf(average, modifier, msg_start, len(result))\n"
     ]
    },
    {
     "data": {
      "image/png": "[encoded data removed]",
      "text/plain": [
       "<Figure size 432x288 with 2 Axes>"
      ]
     },
     "metadata": {
      "needs_background": "light"
     },
     "output_type": "display_data"
    }
   ],
   "source": [
    "from sklearn.preprocessing import MultiLabelBinarizer\n",
    "import seaborn as sns\n",
    "\n",
    "print(\"Accuracy: \", accuracy_score(rlgnTest, tree_pred))\n",
    "print(\"Classification Report: \\n\", classification_report(rlgnTest, tree_pred))\n",
    "\n",
    "conf_matrix = confusion_matrix(np.argmax(rlgnTest, axis=1), np.argmax(tree_pred, axis=1))\n",
    "sns.heatmap(conf_matrix, annot=True)\n",
    "plt.show()"
   ]
  }
 ],
 "metadata": {
  "interpreter": {
   "hash": "916dbcbb3f70747c44a77c7bcd40155683ae19c65e1c03b4aa3499c5328201f1"
  },
  "kernelspec": {
   "display_name": "Python 3.8.10 64-bit",
   "language": "python",
   "name": "python3"
  },
  "language_info": {
   "codemirror_mode": {
    "name": "ipython",
    "version": 3
   },
   "file_extension": ".py",
   "mimetype": "text/x-python",
   "name": "python",
   "nbconvert_exporter": "python",
   "pygments_lexer": "ipython3",
   "version": "3.8.10"
  }
 },
 "nbformat": 4,
 "nbformat_minor": 5
}
