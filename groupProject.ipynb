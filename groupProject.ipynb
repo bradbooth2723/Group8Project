{
 "cells": [
  {
   "cell_type": "markdown",
   "id": "7ac742b7",
   "metadata": {},
   "source": [
    "1.  Name:\t    Name of the country concerned\n",
    "2.  Landmass:\t1=N.America, 2=S.America, 3=Europe, 4=Africa, 4=Asia, 6=Oceania\n",
    "3.  Zone:\t    Geographic quadrant, based on Greenwich and the Equator: 1=NE, 2=SE, 3=SW, 4=NW\n",
    "4.  Area:\t    in thousands of square km\n",
    "5.  Population:\tin round millions\n",
    "6.  Language     1=English, 2=Spanish, 3=French, 4=German, 5=Slavic, 6=Other Indo-European, 7=Chinese, 8=Arabic, 9=Japanese/Turkish/Finnish/Magyar, 10=Others\n",
    "7.  Religion     0=Catholic, 1=Other Christian, 2=Muslim, 3=Buddhist, 4=Hindu, 5=Ethnic, 6=Marxist, 7=Others\n",
    "8.  Bars         Number of vertical bars in the flag\n",
    "9.  Stripes      Number of horizontal stripes in the flag\n",
    "10. Colours      Number of different colours in the flag\n",
    "11. Red          0 if red absent, 1 if red present in the flag\n",
    "12. Green        same for green\n",
    "13. Blue         same for blue\n",
    "14. Gold         same for gold (also yellow)\n",
    "15. White        same for white\n",
    "16. Black        same for black\n",
    "17. Orange       same for orange (also brown)\n",
    "18. Mainhue      predominant colour in the flag (tie-breaks decided by taking the topmost hue, if that fails then the most central hue, and if that fails the leftmost hue)\n",
    "19. Circles      Number of circles in the flag\n",
    "20. Crosses      Number of (upright) crosses\n",
    "21. Saltires     Number of diagonal crosses\n",
    "22. Quarters     Number of quartered sections\n",
    "23. Sunstars     Number of sun or star symbols\n",
    "24. Crescent     1 if a crescent moon symbol present, else 0\n",
    "25. Triangle     1 if any triangles present, 0 otherwise\n",
    "26. Icon         1 if an inanimate image present (e.g., a boat), otherwise 0\n",
    "27. Animate      1 if an animate image (e.g., an eagle, a tree, a human hand) present, 0 otherwise\n",
    "28. Text         1 if any letters or writing on the flag (e.g., a motto or slogan), 0 otherwise\n",
    "29. Topleft      Colour in the top-left corner (moving right to decide tie-breaks)\n",
    "30. Botright     Colour in the bottom-left corner (moving left to decide tie-breaks)\n"
   ]
  },
  {
   "cell_type": "code",
   "execution_count": 1,
   "id": "bea35230",
   "metadata": {
    "scrolled": false
   },
   "outputs": [
    {
     "name": "stdout",
     "output_type": "stream",
     "text": [
      "               Name  Landmass  Zone  Area  Population  Language  Religion  \\\n",
      "0       Afghanistan         5     1   648          16        10         2   \n",
      "1           Albania         3     1    29           3         6         6   \n",
      "2           Algeria         4     1  2388          20         8         2   \n",
      "3    American-Samoa         6     3     0           0         1         1   \n",
      "4           Andorra         3     1     0           0         6         0   \n",
      "..              ...       ...   ...   ...         ...       ...       ...   \n",
      "189   Western-Samoa         6     3     3           0         1         1   \n",
      "190      Yugoslavia         3     1   256          22         6         6   \n",
      "191           Zaire         4     2   905          28        10         5   \n",
      "192          Zambia         4     2   753           6        10         5   \n",
      "193        Zimbabwe         4     2   391           8        10         5   \n",
      "\n",
      "     Bars  Stripes  Colours  ...  Saltires  Quarters  Sunstars  Crescent  \\\n",
      "0       0        3        5  ...         0         0         1         0   \n",
      "1       0        0        3  ...         0         0         1         0   \n",
      "2       2        0        3  ...         0         0         1         1   \n",
      "3       0        0        5  ...         0         0         0         0   \n",
      "4       3        0        3  ...         0         0         0         0   \n",
      "..    ...      ...      ...  ...       ...       ...       ...       ...   \n",
      "189     0        0        3  ...         0         1         5         0   \n",
      "190     0        3        4  ...         0         0         1         0   \n",
      "191     0        0        4  ...         0         0         0         0   \n",
      "192     3        0        4  ...         0         0         0         0   \n",
      "193     0        7        5  ...         0         0         1         0   \n",
      "\n",
      "     Triangle  Icon  Animate Text  Topleft  Botright  \n",
      "0           0     1        0    0    black     green  \n",
      "1           0     0        1    0      red       red  \n",
      "2           0     0        0    0    green     white  \n",
      "3           1     1        1    0     blue       red  \n",
      "4           0     0        0    0     blue       red  \n",
      "..        ...   ...      ...  ...      ...       ...  \n",
      "189         0     0        0    0     blue       red  \n",
      "190         0     0        0    0     blue       red  \n",
      "191         0     1        1    0    green     green  \n",
      "192         0     0        1    0    green     brown  \n",
      "193         1     1        1    0    green     green  \n",
      "\n",
      "[194 rows x 30 columns]\n"
     ]
    }
   ],
   "source": [
    "import pandas as pd\n",
    "import numpy as np\n",
    "flags = pd.read_csv('./flag(1).data', sep=',')\n",
    "print(flags)"
   ]
  },
  {
   "cell_type": "markdown",
   "id": "0da1ee35",
   "metadata": {},
   "source": [
    "I think Name is an unimportant column so I think we will drop that.\n",
    "\n",
    "Columns with labels are Landmass, Zone, Language and Religion.  So those need to be encoded.\n",
    "\n",
    "For classifying output, I think I will do all of the columns with labels...I don't want landmass predicting religion or anything like that...this is simply about flags."
   ]
  },
  {
   "cell_type": "code",
   "execution_count": 2,
   "id": "45f657ae",
   "metadata": {},
   "outputs": [
    {
     "name": "stdout",
     "output_type": "stream",
     "text": [
      "Index(['Name', 'Landmass', 'Zone', 'Area', 'Population', 'Language',\n",
      "       'Religion', 'Bars', 'Stripes', 'Colours', 'Red', 'Green', 'Blue',\n",
      "       'Gold', 'White', 'Black', 'Orange', 'Mainhue', 'Circles', 'Crosses',\n",
      "       'Saltires', 'Quarters', 'Sunstars', 'Crescent', 'Triangle', 'Icon',\n",
      "       'Animate', 'Text', 'Topleft', 'Botright'],\n",
      "      dtype='object')\n"
     ]
    }
   ],
   "source": [
    "print(flags.columns)"
   ]
  },
  {
   "cell_type": "code",
   "execution_count": 4,
   "id": "0f1c606c",
   "metadata": {
    "scrolled": false
   },
   "outputs": [
    {
     "name": "stdout",
     "output_type": "stream",
     "text": [
      "[[0 0 0 0 1 0]\n",
      " [0 0 1 0 0 0]\n",
      " [0 0 0 1 0 0]\n",
      " ...\n",
      " [0 0 0 1 0 0]\n",
      " [0 0 0 1 0 0]\n",
      " [0 0 0 1 0 0]]\n",
      "[[0 0 0 ... 0 0 1]\n",
      " [0 0 0 ... 0 0 0]\n",
      " [0 0 0 ... 1 0 0]\n",
      " ...\n",
      " [0 0 0 ... 0 0 1]\n",
      " [0 0 0 ... 0 0 1]\n",
      " [0 0 0 ... 0 0 1]]\n"
     ]
    }
   ],
   "source": [
    "from sklearn.preprocessing import MinMaxScaler\n",
    "\n",
    "pd.set_option('display.max_columns', None)\n",
    "\n",
    "flagsOut = flags.drop('Name', axis = 1)\n",
    "\n",
    "landmass = pd.get_dummies(flagsOut.Landmass)\n",
    "language = pd.get_dummies(flagsOut.Language)\n",
    "religion = pd.get_dummies(flagsOut.Religion)\n",
    "zone = pd.get_dummies(flagsOut.Zone)\n",
    "\n",
    "flagsOut = flagsOut.drop('Landmass', axis = 1)\n",
    "flagsOut = flagsOut.drop('Language', axis = 1)\n",
    "flagsOut = flagsOut.drop('Religion', axis = 1)\n",
    "flagsOut = flagsOut.drop('Zone', axis = 1)\n",
    "\n",
    "x = pd.get_dummies(flagsOut.Topleft, prefix='topleft')\n",
    "y = pd.get_dummies(flagsOut.Botright, prefix = 'botright')\n",
    "z = pd.get_dummies(flagsOut.Mainhue, prefix = 'mainhue')\n",
    "\n",
    "flagsOut = flagsOut.drop('Botright', axis=1)\n",
    "flagsOut = flagsOut.drop('Topleft', axis=1)\n",
    "flagsOut = flagsOut.drop('Mainhue', axis=1)\n",
    "\n",
    "#flagsOut = flagsOut.join(w)\n",
    "flagsOut = flagsOut.join(x)\n",
    "flagsOut = flagsOut.join(y)\n",
    "flagsOut = flagsOut.join(z)\n",
    "\n",
    "scaler = MinMaxScaler()\n",
    "flagsScaled = scaler.fit_transform(flagsOut)  #flagsScaled is a numpy array\n",
    "land = landmass.to_numpy()\n",
    "lang = language.to_numpy()\n",
    "rlgn = religion.to_numpy()\n",
    "zn = zone.to_numpy()\n",
    "\n",
    "print(land)\n",
    "print(lang)"
   ]
  },
  {
   "cell_type": "markdown",
   "id": "a930d024",
   "metadata": {},
   "source": [
    "# Fun With Flags Episode 1: Can flag metrics predict land mass?\n",
    "*Hint: They do not"
   ]
  },
  {
   "cell_type": "code",
   "execution_count": 48,
   "id": "868ce09f",
   "metadata": {},
   "outputs": [],
   "source": [
    "from tensorflow.keras.models import Sequential\n",
    "from tensorflow.keras.layers import Dense\n",
    "from tensorflow.keras.optimizers import SGD\n",
    "\n",
    "model = Sequential()\n",
    "\n",
    "layers = [\n",
    "    Dense(20, activation='relu', name='layer1'),\n",
    "    Dense(10, activation='relu', name='layer2'),\n",
    "    Dense(6, activation='sigmoid', name='Output')\n",
    "]\n",
    "\n",
    "for layer in layers:\n",
    "    model.add(layer)\n",
    "\n",
    "model.compile(optimizer=SGD(learning_rate=.01), loss='mse', metrics=['accuracy'])\n",
    "hist = model.fit(flagsScaled, land, validation_split=.2, epochs=500, verbose=0)"
   ]
  },
  {
   "cell_type": "code",
   "execution_count": 49,
   "id": "1457a19a",
   "metadata": {},
   "outputs": [
    {
     "name": "stdout",
     "output_type": "stream",
     "text": [
      "Training Error: 0.141\n",
      "Training Accuracy: 0.258\n"
     ]
    }
   ],
   "source": [
    "from sklearn.model_selection import train_test_split\n",
    "\n",
    "flagsTrain, flagsTest, landTrain, landTest = train_test_split(flagsScaled, land, test_size = 0.20, random_state=5)\n",
    "\n",
    "pred_train= model.predict(flagsTrain)\n",
    "score, acc = model.evaluate(flagsTrain, landTrain, verbose=0)\n",
    "print('Training Error: %.3f' % score)\n",
    "print('Training Accuracy: %.3f' % acc)"
   ]
  },
  {
   "cell_type": "code",
   "execution_count": 50,
   "id": "720bc094",
   "metadata": {},
   "outputs": [
    {
     "name": "stdout",
     "output_type": "stream",
     "text": [
      "Test Error: 0.134\n",
      "Test Accuracy: 0.359\n"
     ]
    }
   ],
   "source": [
    "pred_train= model.predict(flagsTest)\n",
    "score, acc = model.evaluate(flagsTest, landTest, verbose=0)\n",
    "print('Test Error: %.3f' % score)\n",
    "print('Test Accuracy: %.3f' % acc)"
   ]
  },
  {
   "cell_type": "code",
   "execution_count": 51,
   "id": "b2859ee6",
   "metadata": {},
   "outputs": [
    {
     "data": {
      "image/png": "[encoded data removed]",
      "text/plain": [
       "<Figure size 432x288 with 1 Axes>"
      ]
     },
     "metadata": {
      "needs_background": "light"
     },
     "output_type": "display_data"
    }
   ],
   "source": [
    "import matplotlib.pyplot as plt\n",
    "\n",
    "plt.plot(hist.history['loss'])\n",
    "plt.plot(hist.history['val_loss'])\n",
    "plt.title('Model Loss Curve')\n",
    "plt.ylabel('Loss')\n",
    "plt.xlabel('Epoch')\n",
    "plt.legend(['train', 'test'], loc='upper right')\n",
    "plt.show()"
   ]
  },
  {
   "cell_type": "code",
   "execution_count": 52,
   "id": "3211f97a",
   "metadata": {},
   "outputs": [
    {
     "data": {
      "image/png": "[encoded data removed]",
      "text/plain": [
       "<Figure size 432x288 with 1 Axes>"
      ]
     },
     "metadata": {
      "needs_background": "light"
     },
     "output_type": "display_data"
    }
   ],
   "source": [
    "plt.plot(hist.history['accuracy'])\n",
    "plt.plot(hist.history['val_accuracy'])\n",
    "plt.title('Model Accuracy')\n",
    "plt.ylabel('Accuracy')\n",
    "plt.xlabel('Epochs')\n",
    "plt.legend(['train', 'test'], loc='upper left')\n",
    "plt.show()"
   ]
  },
  {
   "cell_type": "code",
   "execution_count": 53,
   "id": "c4d45970",
   "metadata": {
    "scrolled": true
   },
   "outputs": [
    {
     "name": "stderr",
     "output_type": "stream",
     "text": [
      "2022-05-22 22:35:43.441035: I tensorflow/stream_executor/cuda/cuda_gpu_executor.cc:936] successful NUMA node read from SysFS had negative value (-1), but there must be at least one NUMA node, so returning NUMA node zero\n",
      "2022-05-22 22:35:43.447836: I tensorflow/stream_executor/cuda/cuda_gpu_executor.cc:936] successful NUMA node read from SysFS had negative value (-1), but there must be at least one NUMA node, so returning NUMA node zero\n",
      "2022-05-22 22:35:43.463980: I tensorflow/stream_executor/cuda/cuda_gpu_executor.cc:936] successful NUMA node read from SysFS had negative value (-1), but there must be at least one NUMA node, so returning NUMA node zero\n",
      "2022-05-22 22:35:43.473326: W tensorflow/stream_executor/platform/default/dso_loader.cc:64] Could not load dynamic library 'libcudnn.so.8'; dlerror: libcudnn.so.8: cannot open shared object file: No such file or directory\n",
      "2022-05-22 22:35:43.473373: W tensorflow/core/common_runtime/gpu/gpu_device.cc:1850] Cannot dlopen some GPU libraries. Please make sure the missing libraries mentioned above are installed properly if you would like to use GPU. Follow the guide at https://www.tensorflow.org/install/gpu for how to download and setup the required libraries for your platform.\n",
      "Skipping registering GPU devices...\n",
      "2022-05-22 22:35:43.473761: I tensorflow/core/platform/cpu_feature_guard.cc:151] This TensorFlow binary is optimized with oneAPI Deep Neural Network Library (oneDNN) to use the following CPU instructions in performance-critical operations:  AVX2 FMA\n",
      "To enable them in other operations, rebuild TensorFlow with the appropriate compiler flags.\n",
      "2022-05-22 22:35:43.481660: W tensorflow/stream_executor/platform/default/dso_loader.cc:64] Could not load dynamic library 'libcudnn.so.8'; dlerror: libcudnn.so.8: cannot open shared object file: No such file or directory\n",
      "2022-05-22 22:35:43.481695: W tensorflow/core/common_runtime/gpu/gpu_device.cc:1850] Cannot dlopen some GPU libraries. Please make sure the missing libraries mentioned above are installed properly if you would like to use GPU. Follow the guide at https://www.tensorflow.org/install/gpu for how to download and setup the required libraries for your platform.\n",
      "Skipping registering GPU devices...\n",
      "2022-05-22 22:35:43.482027: I tensorflow/core/platform/cpu_feature_guard.cc:151] This TensorFlow binary is optimized with oneAPI Deep Neural Network Library (oneDNN) to use the following CPU instructions in performance-critical operations:  AVX2 FMA\n",
      "To enable them in other operations, rebuild TensorFlow with the appropriate compiler flags.\n",
      "2022-05-22 22:35:43.497004: W tensorflow/stream_executor/platform/default/dso_loader.cc:64] Could not load dynamic library 'libcudnn.so.8'; dlerror: libcudnn.so.8: cannot open shared object file: No such file or directory\n",
      "2022-05-22 22:35:43.497044: W tensorflow/core/common_runtime/gpu/gpu_device.cc:1850] Cannot dlopen some GPU libraries. Please make sure the missing libraries mentioned above are installed properly if you would like to use GPU. Follow the guide at https://www.tensorflow.org/install/gpu for how to download and setup the required libraries for your platform.\n",
      "Skipping registering GPU devices...\n",
      "2022-05-22 22:35:43.497407: I tensorflow/core/platform/cpu_feature_guard.cc:151] This TensorFlow binary is optimized with oneAPI Deep Neural Network Library (oneDNN) to use the following CPU instructions in performance-critical operations:  AVX2 FMA\n",
      "To enable them in other operations, rebuild TensorFlow with the appropriate compiler flags.\n",
      "2022-05-22 22:35:43.499922: I tensorflow/stream_executor/cuda/cuda_gpu_executor.cc:936] successful NUMA node read from SysFS had negative value (-1), but there must be at least one NUMA node, so returning NUMA node zero\n",
      "2022-05-22 22:35:43.519290: I tensorflow/stream_executor/cuda/cuda_gpu_executor.cc:936] successful NUMA node read from SysFS had negative value (-1), but there must be at least one NUMA node, so returning NUMA node zero\n",
      "2022-05-22 22:35:43.532446: W tensorflow/stream_executor/platform/default/dso_loader.cc:64] Could not load dynamic library 'libcudnn.so.8'; dlerror: libcudnn.so.8: cannot open shared object file: No such file or directory\n",
      "2022-05-22 22:35:43.532480: W tensorflow/core/common_runtime/gpu/gpu_device.cc:1850] Cannot dlopen some GPU libraries. Please make sure the missing libraries mentioned above are installed properly if you would like to use GPU. Follow the guide at https://www.tensorflow.org/install/gpu for how to download and setup the required libraries for your platform.\n",
      "Skipping registering GPU devices...\n",
      "2022-05-22 22:35:43.532801: I tensorflow/core/platform/cpu_feature_guard.cc:151] This TensorFlow binary is optimized with oneAPI Deep Neural Network Library (oneDNN) to use the following CPU instructions in performance-critical operations:  AVX2 FMA\n",
      "To enable them in other operations, rebuild TensorFlow with the appropriate compiler flags.\n",
      "2022-05-22 22:35:43.551813: W tensorflow/stream_executor/platform/default/dso_loader.cc:64] Could not load dynamic library 'libcudnn.so.8'; dlerror: libcudnn.so.8: cannot open shared object file: No such file or directory\n",
      "2022-05-22 22:35:43.551848: W tensorflow/core/common_runtime/gpu/gpu_device.cc:1850] Cannot dlopen some GPU libraries. Please make sure the missing libraries mentioned above are installed properly if you would like to use GPU. Follow the guide at https://www.tensorflow.org/install/gpu for how to download and setup the required libraries for your platform.\n",
      "Skipping registering GPU devices...\n",
      "2022-05-22 22:35:43.552138: I tensorflow/core/platform/cpu_feature_guard.cc:151] This TensorFlow binary is optimized with oneAPI Deep Neural Network Library (oneDNN) to use the following CPU instructions in performance-critical operations:  AVX2 FMA\n",
      "To enable them in other operations, rebuild TensorFlow with the appropriate compiler flags.\n",
      "2022-05-22 22:35:43.602918: I tensorflow/stream_executor/cuda/cuda_gpu_executor.cc:936] successful NUMA node read from SysFS had negative value (-1), but there must be at least one NUMA node, so returning NUMA node zero\n",
      "2022-05-22 22:35:43.607288: I tensorflow/stream_executor/cuda/cuda_gpu_executor.cc:936] successful NUMA node read from SysFS had negative value (-1), but there must be at least one NUMA node, so returning NUMA node zero\n",
      "2022-05-22 22:35:43.612093: I tensorflow/stream_executor/cuda/cuda_gpu_executor.cc:936] successful NUMA node read from SysFS had negative value (-1), but there must be at least one NUMA node, so returning NUMA node zero\n",
      "2022-05-22 22:35:43.620115: I tensorflow/stream_executor/cuda/cuda_gpu_executor.cc:936] successful NUMA node read from SysFS had negative value (-1), but there must be at least one NUMA node, so returning NUMA node zero\n",
      "2022-05-22 22:35:43.633480: W tensorflow/stream_executor/platform/default/dso_loader.cc:64] Could not load dynamic library 'libcudnn.so.8'; dlerror: libcudnn.so.8: cannot open shared object file: No such file or directory\n",
      "2022-05-22 22:35:43.633512: W tensorflow/core/common_runtime/gpu/gpu_device.cc:1850] Cannot dlopen some GPU libraries. Please make sure the missing libraries mentioned above are installed properly if you would like to use GPU. Follow the guide at https://www.tensorflow.org/install/gpu for how to download and setup the required libraries for your platform.\n",
      "Skipping registering GPU devices...\n",
      "2022-05-22 22:35:43.633767: I tensorflow/core/platform/cpu_feature_guard.cc:151] This TensorFlow binary is optimized with oneAPI Deep Neural Network Library (oneDNN) to use the following CPU instructions in performance-critical operations:  AVX2 FMA\n",
      "To enable them in other operations, rebuild TensorFlow with the appropriate compiler flags.\n",
      "2022-05-22 22:35:43.633876: I tensorflow/stream_executor/cuda/cuda_gpu_executor.cc:936] successful NUMA node read from SysFS had negative value (-1), but there must be at least one NUMA node, so returning NUMA node zero\n",
      "2022-05-22 22:35:43.637798: I tensorflow/stream_executor/cuda/cuda_gpu_executor.cc:936] successful NUMA node read from SysFS had negative value (-1), but there must be at least one NUMA node, so returning NUMA node zero\n",
      "2022-05-22 22:35:43.641558: I tensorflow/stream_executor/cuda/cuda_gpu_executor.cc:936] successful NUMA node read from SysFS had negative value (-1), but there must be at least one NUMA node, so returning NUMA node zero\n"
     ]
    },
    {
     "name": "stderr",
     "output_type": "stream",
     "text": [
      "2022-05-22 22:35:43.644214: W tensorflow/stream_executor/platform/default/dso_loader.cc:64] Could not load dynamic library 'libcudnn.so.8'; dlerror: libcudnn.so.8: cannot open shared object file: No such file or directory\n",
      "2022-05-22 22:35:43.644233: W tensorflow/core/common_runtime/gpu/gpu_device.cc:1850] Cannot dlopen some GPU libraries. Please make sure the missing libraries mentioned above are installed properly if you would like to use GPU. Follow the guide at https://www.tensorflow.org/install/gpu for how to download and setup the required libraries for your platform.\n",
      "Skipping registering GPU devices...\n",
      "2022-05-22 22:35:43.644491: I tensorflow/core/platform/cpu_feature_guard.cc:151] This TensorFlow binary is optimized with oneAPI Deep Neural Network Library (oneDNN) to use the following CPU instructions in performance-critical operations:  AVX2 FMA\n",
      "To enable them in other operations, rebuild TensorFlow with the appropriate compiler flags.\n",
      "2022-05-22 22:35:43.644972: I tensorflow/stream_executor/cuda/cuda_gpu_executor.cc:936] successful NUMA node read from SysFS had negative value (-1), but there must be at least one NUMA node, so returning NUMA node zero\n",
      "2022-05-22 22:35:43.645124: I tensorflow/stream_executor/cuda/cuda_gpu_executor.cc:936] successful NUMA node read from SysFS had negative value (-1), but there must be at least one NUMA node, so returning NUMA node zero\n",
      "2022-05-22 22:35:43.646766: I tensorflow/stream_executor/cuda/cuda_gpu_executor.cc:936] successful NUMA node read from SysFS had negative value (-1), but there must be at least one NUMA node, so returning NUMA node zero\n",
      "2022-05-22 22:35:43.649449: W tensorflow/stream_executor/platform/default/dso_loader.cc:64] Could not load dynamic library 'libcudnn.so.8'; dlerror: libcudnn.so.8: cannot open shared object file: No such file or directory\n",
      "2022-05-22 22:35:43.649474: W tensorflow/core/common_runtime/gpu/gpu_device.cc:1850] Cannot dlopen some GPU libraries. Please make sure the missing libraries mentioned above are installed properly if you would like to use GPU. Follow the guide at https://www.tensorflow.org/install/gpu for how to download and setup the required libraries for your platform.\n",
      "Skipping registering GPU devices...\n",
      "2022-05-22 22:35:43.649760: I tensorflow/core/platform/cpu_feature_guard.cc:151] This TensorFlow binary is optimized with oneAPI Deep Neural Network Library (oneDNN) to use the following CPU instructions in performance-critical operations:  AVX2 FMA\n",
      "To enable them in other operations, rebuild TensorFlow with the appropriate compiler flags.\n",
      "2022-05-22 22:35:43.654498: W tensorflow/stream_executor/platform/default/dso_loader.cc:64] Could not load dynamic library 'libcudnn.so.8'; dlerror: libcudnn.so.8: cannot open shared object file: No such file or directory\n",
      "2022-05-22 22:35:43.654521: W tensorflow/core/common_runtime/gpu/gpu_device.cc:1850] Cannot dlopen some GPU libraries. Please make sure the missing libraries mentioned above are installed properly if you would like to use GPU. Follow the guide at https://www.tensorflow.org/install/gpu for how to download and setup the required libraries for your platform.\n",
      "Skipping registering GPU devices...\n",
      "2022-05-22 22:35:43.666782: I tensorflow/core/platform/cpu_feature_guard.cc:151] This TensorFlow binary is optimized with oneAPI Deep Neural Network Library (oneDNN) to use the following CPU instructions in performance-critical operations:  AVX2 FMA\n",
      "To enable them in other operations, rebuild TensorFlow with the appropriate compiler flags.\n",
      "2022-05-22 22:35:43.668695: W tensorflow/stream_executor/platform/default/dso_loader.cc:64] Could not load dynamic library 'libcudnn.so.8'; dlerror: libcudnn.so.8: cannot open shared object file: No such file or directory\n",
      "2022-05-22 22:35:43.668718: W tensorflow/core/common_runtime/gpu/gpu_device.cc:1850] Cannot dlopen some GPU libraries. Please make sure the missing libraries mentioned above are installed properly if you would like to use GPU. Follow the guide at https://www.tensorflow.org/install/gpu for how to download and setup the required libraries for your platform.\n",
      "Skipping registering GPU devices...\n",
      "2022-05-22 22:35:43.668965: I tensorflow/core/platform/cpu_feature_guard.cc:151] This TensorFlow binary is optimized with oneAPI Deep Neural Network Library (oneDNN) to use the following CPU instructions in performance-critical operations:  AVX2 FMA\n",
      "To enable them in other operations, rebuild TensorFlow with the appropriate compiler flags.\n",
      "2022-05-22 22:35:43.676033: W tensorflow/stream_executor/platform/default/dso_loader.cc:64] Could not load dynamic library 'libcudnn.so.8'; dlerror: libcudnn.so.8: cannot open shared object file: No such file or directory\n",
      "2022-05-22 22:35:43.676064: W tensorflow/core/common_runtime/gpu/gpu_device.cc:1850] Cannot dlopen some GPU libraries. Please make sure the missing libraries mentioned above are installed properly if you would like to use GPU. Follow the guide at https://www.tensorflow.org/install/gpu for how to download and setup the required libraries for your platform.\n",
      "Skipping registering GPU devices...\n",
      "2022-05-22 22:35:43.676323: I tensorflow/core/platform/cpu_feature_guard.cc:151] This TensorFlow binary is optimized with oneAPI Deep Neural Network Library (oneDNN) to use the following CPU instructions in performance-critical operations:  AVX2 FMA\n",
      "To enable them in other operations, rebuild TensorFlow with the appropriate compiler flags.\n",
      "2022-05-22 22:35:43.677635: W tensorflow/stream_executor/platform/default/dso_loader.cc:64] Could not load dynamic library 'libcudnn.so.8'; dlerror: libcudnn.so.8: cannot open shared object file: No such file or directory\n",
      "2022-05-22 22:35:43.677651: W tensorflow/core/common_runtime/gpu/gpu_device.cc:1850] Cannot dlopen some GPU libraries. Please make sure the missing libraries mentioned above are installed properly if you would like to use GPU. Follow the guide at https://www.tensorflow.org/install/gpu for how to download and setup the required libraries for your platform.\n",
      "Skipping registering GPU devices...\n",
      "2022-05-22 22:35:43.677884: I tensorflow/core/platform/cpu_feature_guard.cc:151] This TensorFlow binary is optimized with oneAPI Deep Neural Network Library (oneDNN) to use the following CPU instructions in performance-critical operations:  AVX2 FMA\n",
      "To enable them in other operations, rebuild TensorFlow with the appropriate compiler flags.\n",
      "2022-05-22 22:35:43.679456: I tensorflow/stream_executor/cuda/cuda_gpu_executor.cc:936] successful NUMA node read from SysFS had negative value (-1), but there must be at least one NUMA node, so returning NUMA node zero\n",
      "2022-05-22 22:35:43.681616: W tensorflow/stream_executor/platform/default/dso_loader.cc:64] Could not load dynamic library 'libcudnn.so.8'; dlerror: libcudnn.so.8: cannot open shared object file: No such file or directory\n",
      "2022-05-22 22:35:43.681638: W tensorflow/core/common_runtime/gpu/gpu_device.cc:1850] Cannot dlopen some GPU libraries. Please make sure the missing libraries mentioned above are installed properly if you would like to use GPU. Follow the guide at https://www.tensorflow.org/install/gpu for how to download and setup the required libraries for your platform.\n",
      "Skipping registering GPU devices...\n",
      "2022-05-22 22:35:43.681901: I tensorflow/core/platform/cpu_feature_guard.cc:151] This TensorFlow binary is optimized with oneAPI Deep Neural Network Library (oneDNN) to use the following CPU instructions in performance-critical operations:  AVX2 FMA\n",
      "To enable them in other operations, rebuild TensorFlow with the appropriate compiler flags.\n",
      "2022-05-22 22:35:43.685773: W tensorflow/stream_executor/platform/default/dso_loader.cc:64] Could not load dynamic library 'libcudnn.so.8'; dlerror: libcudnn.so.8: cannot open shared object file: No such file or directory\n",
      "2022-05-22 22:35:43.685798: W tensorflow/core/common_runtime/gpu/gpu_device.cc:1850] Cannot dlopen some GPU libraries. Please make sure the missing libraries mentioned above are installed properly if you would like to use GPU. Follow the guide at https://www.tensorflow.org/install/gpu for how to download and setup the required libraries for your platform.\n",
      "Skipping registering GPU devices...\n",
      "2022-05-22 22:35:43.686037: I tensorflow/core/platform/cpu_feature_guard.cc:151] This TensorFlow binary is optimized with oneAPI Deep Neural Network Library (oneDNN) to use the following CPU instructions in performance-critical operations:  AVX2 FMA\n",
      "To enable them in other operations, rebuild TensorFlow with the appropriate compiler flags.\n",
      "2022-05-22 22:35:43.693814: W tensorflow/stream_executor/platform/default/dso_loader.cc:64] Could not load dynamic library 'libcudnn.so.8'; dlerror: libcudnn.so.8: cannot open shared object file: No such file or directory\n",
      "2022-05-22 22:35:43.693846: W tensorflow/core/common_runtime/gpu/gpu_device.cc:1850] Cannot dlopen some GPU libraries. Please make sure the missing libraries mentioned above are installed properly if you would like to use GPU. Follow the guide at https://www.tensorflow.org/install/gpu for how to download and setup the required libraries for your platform.\n",
      "Skipping registering GPU devices...\n",
      "2022-05-22 22:35:43.694094: I tensorflow/core/platform/cpu_feature_guard.cc:151] This TensorFlow binary is optimized with oneAPI Deep Neural Network Library (oneDNN) to use the following CPU instructions in performance-critical operations:  AVX2 FMA\n",
      "To enable them in other operations, rebuild TensorFlow with the appropriate compiler flags.\n",
      "2022-05-22 22:35:43.712828: W tensorflow/stream_executor/platform/default/dso_loader.cc:64] Could not load dynamic library 'libcudnn.so.8'; dlerror: libcudnn.so.8: cannot open shared object file: No such file or directory\n",
      "2022-05-22 22:35:43.712859: W tensorflow/core/common_runtime/gpu/gpu_device.cc:1850] Cannot dlopen some GPU libraries. Please make sure the missing libraries mentioned above are installed properly if you would like to use GPU. Follow the guide at https://www.tensorflow.org/install/gpu for how to download and setup the required libraries for your platform.\n",
      "Skipping registering GPU devices...\n",
      "2022-05-22 22:35:43.713108: I tensorflow/core/platform/cpu_feature_guard.cc:151] This TensorFlow binary is optimized with oneAPI Deep Neural Network Library (oneDNN) to use the following CPU instructions in performance-critical operations:  AVX2 FMA\n",
      "To enable them in other operations, rebuild TensorFlow with the appropriate compiler flags.\n"
     ]
    },
    {
     "name": "stderr",
     "output_type": "stream",
     "text": [
      "WARNING:tensorflow:5 out of the last 13 calls to <function Model.make_test_function.<locals>.test_function at 0x7fc6a80f7dc0> triggered tf.function retracing. Tracing is expensive and the excessive number of tracings could be due to (1) creating @tf.function repeatedly in a loop, (2) passing tensors with different shapes, (3) passing Python objects instead of tensors. For (1), please define your @tf.function outside of the loop. For (2), @tf.function has experimental_relax_shapes=True option that relaxes argument shapes that can avoid unnecessary retracing. For (3), please refer to https://www.tensorflow.org/guide/function#controlling_retracing and https://www.tensorflow.org/api_docs/python/tf/function for  more details.\n",
      "WARNING:tensorflow:5 out of the last 11 calls to <function Model.make_test_function.<locals>.test_function at 0x7f6c5c529ee0> triggered tf.function retracing. Tracing is expensive and the excessive number of tracings could be due to (1) creating @tf.function repeatedly in a loop, (2) passing tensors with different shapes, (3) passing Python objects instead of tensors. For (1), please define your @tf.function outside of the loop. For (2), @tf.function has experimental_relax_shapes=True option that relaxes argument shapes that can avoid unnecessary retracing. For (3), please refer to https://www.tensorflow.org/guide/function#controlling_retracing and https://www.tensorflow.org/api_docs/python/tf/function for  more details.\n",
      "WARNING:tensorflow:5 out of the last 13 calls to <function Model.make_test_function.<locals>.test_function at 0x7f4d9819cdc0> triggered tf.function retracing. Tracing is expensive and the excessive number of tracings could be due to (1) creating @tf.function repeatedly in a loop, (2) passing tensors with different shapes, (3) passing Python objects instead of tensors. For (1), please define your @tf.function outside of the loop. For (2), @tf.function has experimental_relax_shapes=True option that relaxes argument shapes that can avoid unnecessary retracing. For (3), please refer to https://www.tensorflow.org/guide/function#controlling_retracing and https://www.tensorflow.org/api_docs/python/tf/function for  more details.\n",
      "WARNING:tensorflow:5 out of the last 11 calls to <function Model.make_test_function.<locals>.test_function at 0x7f689034aee0> triggered tf.function retracing. Tracing is expensive and the excessive number of tracings could be due to (1) creating @tf.function repeatedly in a loop, (2) passing tensors with different shapes, (3) passing Python objects instead of tensors. For (1), please define your @tf.function outside of the loop. For (2), @tf.function has experimental_relax_shapes=True option that relaxes argument shapes that can avoid unnecessary retracing. For (3), please refer to https://www.tensorflow.org/guide/function#controlling_retracing and https://www.tensorflow.org/api_docs/python/tf/function for  more details.\n",
      "WARNING:tensorflow:5 out of the last 11 calls to <function Model.make_test_function.<locals>.test_function at 0x7f59f0096dc0> triggered tf.function retracing. Tracing is expensive and the excessive number of tracings could be due to (1) creating @tf.function repeatedly in a loop, (2) passing tensors with different shapes, (3) passing Python objects instead of tensors. For (1), please define your @tf.function outside of the loop. For (2), @tf.function has experimental_relax_shapes=True option that relaxes argument shapes that can avoid unnecessary retracing. For (3), please refer to https://www.tensorflow.org/guide/function#controlling_retracing and https://www.tensorflow.org/api_docs/python/tf/function for  more details.\n",
      "WARNING:tensorflow:5 out of the last 12 calls to <function Model.make_test_function.<locals>.test_function at 0x7efbd0171ee0> triggered tf.function retracing. Tracing is expensive and the excessive number of tracings could be due to (1) creating @tf.function repeatedly in a loop, (2) passing tensors with different shapes, (3) passing Python objects instead of tensors. For (1), please define your @tf.function outside of the loop. For (2), @tf.function has experimental_relax_shapes=True option that relaxes argument shapes that can avoid unnecessary retracing. For (3), please refer to https://www.tensorflow.org/guide/function#controlling_retracing and https://www.tensorflow.org/api_docs/python/tf/function for  more details.\n",
      "WARNING:tensorflow:5 out of the last 13 calls to <function Model.make_test_function.<locals>.test_function at 0x7f9a2037cdc0> triggered tf.function retracing. Tracing is expensive and the excessive number of tracings could be due to (1) creating @tf.function repeatedly in a loop, (2) passing tensors with different shapes, (3) passing Python objects instead of tensors. For (1), please define your @tf.function outside of the loop. For (2), @tf.function has experimental_relax_shapes=True option that relaxes argument shapes that can avoid unnecessary retracing. For (3), please refer to https://www.tensorflow.org/guide/function#controlling_retracing and https://www.tensorflow.org/api_docs/python/tf/function for  more details.\n",
      "WARNING:tensorflow:5 out of the last 12 calls to <function Model.make_test_function.<locals>.test_function at 0x7fc8a82fadc0> triggered tf.function retracing. Tracing is expensive and the excessive number of tracings could be due to (1) creating @tf.function repeatedly in a loop, (2) passing tensors with different shapes, (3) passing Python objects instead of tensors. For (1), please define your @tf.function outside of the loop. For (2), @tf.function has experimental_relax_shapes=True option that relaxes argument shapes that can avoid unnecessary retracing. For (3), please refer to https://www.tensorflow.org/guide/function#controlling_retracing and https://www.tensorflow.org/api_docs/python/tf/function for  more details.\n",
      "WARNING:tensorflow:5 out of the last 10 calls to <function Model.make_test_function.<locals>.test_function at 0x7f7f201afdc0> triggered tf.function retracing. Tracing is expensive and the excessive number of tracings could be due to (1) creating @tf.function repeatedly in a loop, (2) passing tensors with different shapes, (3) passing Python objects instead of tensors. For (1), please define your @tf.function outside of the loop. For (2), @tf.function has experimental_relax_shapes=True option that relaxes argument shapes that can avoid unnecessary retracing. For (3), please refer to https://www.tensorflow.org/guide/function#controlling_retracing and https://www.tensorflow.org/api_docs/python/tf/function for  more details.\n",
      "WARNING:tensorflow:5 out of the last 12 calls to <function Model.make_test_function.<locals>.test_function at 0x7f58d0739dc0> triggered tf.function retracing. Tracing is expensive and the excessive number of tracings could be due to (1) creating @tf.function repeatedly in a loop, (2) passing tensors with different shapes, (3) passing Python objects instead of tensors. For (1), please define your @tf.function outside of the loop. For (2), @tf.function has experimental_relax_shapes=True option that relaxes argument shapes that can avoid unnecessary retracing. For (3), please refer to https://www.tensorflow.org/guide/function#controlling_retracing and https://www.tensorflow.org/api_docs/python/tf/function for  more details.\n",
      "WARNING:tensorflow:5 out of the last 10 calls to <function Model.make_test_function.<locals>.test_function at 0x7f293e857dc0> triggered tf.function retracing. Tracing is expensive and the excessive number of tracings could be due to (1) creating @tf.function repeatedly in a loop, (2) passing tensors with different shapes, (3) passing Python objects instead of tensors. For (1), please define your @tf.function outside of the loop. For (2), @tf.function has experimental_relax_shapes=True option that relaxes argument shapes that can avoid unnecessary retracing. For (3), please refer to https://www.tensorflow.org/guide/function#controlling_retracing and https://www.tensorflow.org/api_docs/python/tf/function for  more details.\n",
      "WARNING:tensorflow:5 out of the last 12 calls to <function Model.make_test_function.<locals>.test_function at 0x7f63705badc0> triggered tf.function retracing. Tracing is expensive and the excessive number of tracings could be due to (1) creating @tf.function repeatedly in a loop, (2) passing tensors with different shapes, (3) passing Python objects instead of tensors. For (1), please define your @tf.function outside of the loop. For (2), @tf.function has experimental_relax_shapes=True option that relaxes argument shapes that can avoid unnecessary retracing. For (3), please refer to https://www.tensorflow.org/guide/function#controlling_retracing and https://www.tensorflow.org/api_docs/python/tf/function for  more details.\n",
      "WARNING:tensorflow:5 out of the last 11 calls to <function Model.make_test_function.<locals>.test_function at 0x7f6fbc429ee0> triggered tf.function retracing. Tracing is expensive and the excessive number of tracings could be due to (1) creating @tf.function repeatedly in a loop, (2) passing tensors with different shapes, (3) passing Python objects instead of tensors. For (1), please define your @tf.function outside of the loop. For (2), @tf.function has experimental_relax_shapes=True option that relaxes argument shapes that can avoid unnecessary retracing. For (3), please refer to https://www.tensorflow.org/guide/function#controlling_retracing and https://www.tensorflow.org/api_docs/python/tf/function for  more details.\n"
     ]
    },
    {
     "name": "stderr",
     "output_type": "stream",
     "text": [
      "WARNING:tensorflow:5 out of the last 12 calls to <function Model.make_test_function.<locals>.test_function at 0x7fc8a3dbbdc0> triggered tf.function retracing. Tracing is expensive and the excessive number of tracings could be due to (1) creating @tf.function repeatedly in a loop, (2) passing tensors with different shapes, (3) passing Python objects instead of tensors. For (1), please define your @tf.function outside of the loop. For (2), @tf.function has experimental_relax_shapes=True option that relaxes argument shapes that can avoid unnecessary retracing. For (3), please refer to https://www.tensorflow.org/guide/function#controlling_retracing and https://www.tensorflow.org/api_docs/python/tf/function for  more details.\n",
      "WARNING:tensorflow:5 out of the last 11 calls to <function Model.make_test_function.<locals>.test_function at 0x7f1528258dc0> triggered tf.function retracing. Tracing is expensive and the excessive number of tracings could be due to (1) creating @tf.function repeatedly in a loop, (2) passing tensors with different shapes, (3) passing Python objects instead of tensors. For (1), please define your @tf.function outside of the loop. For (2), @tf.function has experimental_relax_shapes=True option that relaxes argument shapes that can avoid unnecessary retracing. For (3), please refer to https://www.tensorflow.org/guide/function#controlling_retracing and https://www.tensorflow.org/api_docs/python/tf/function for  more details.\n",
      "WARNING:tensorflow:5 out of the last 12 calls to <function Model.make_test_function.<locals>.test_function at 0x7f4d98024430> triggered tf.function retracing. Tracing is expensive and the excessive number of tracings could be due to (1) creating @tf.function repeatedly in a loop, (2) passing tensors with different shapes, (3) passing Python objects instead of tensors. For (1), please define your @tf.function outside of the loop. For (2), @tf.function has experimental_relax_shapes=True option that relaxes argument shapes that can avoid unnecessary retracing. For (3), please refer to https://www.tensorflow.org/guide/function#controlling_retracing and https://www.tensorflow.org/api_docs/python/tf/function for  more details.\n",
      "WARNING:tensorflow:5 out of the last 11 calls to <function Model.make_test_function.<locals>.test_function at 0x7f6c5c42f430> triggered tf.function retracing. Tracing is expensive and the excessive number of tracings could be due to (1) creating @tf.function repeatedly in a loop, (2) passing tensors with different shapes, (3) passing Python objects instead of tensors. For (1), please define your @tf.function outside of the loop. For (2), @tf.function has experimental_relax_shapes=True option that relaxes argument shapes that can avoid unnecessary retracing. For (3), please refer to https://www.tensorflow.org/guide/function#controlling_retracing and https://www.tensorflow.org/api_docs/python/tf/function for  more details.\n",
      "WARNING:tensorflow:5 out of the last 13 calls to <function Model.make_test_function.<locals>.test_function at 0x7f9a20218430> triggered tf.function retracing. Tracing is expensive and the excessive number of tracings could be due to (1) creating @tf.function repeatedly in a loop, (2) passing tensors with different shapes, (3) passing Python objects instead of tensors. For (1), please define your @tf.function outside of the loop. For (2), @tf.function has experimental_relax_shapes=True option that relaxes argument shapes that can avoid unnecessary retracing. For (3), please refer to https://www.tensorflow.org/guide/function#controlling_retracing and https://www.tensorflow.org/api_docs/python/tf/function for  more details.\n",
      "WARNING:tensorflow:5 out of the last 11 calls to <function Model.make_test_function.<locals>.test_function at 0x7f7f2004c430> triggered tf.function retracing. Tracing is expensive and the excessive number of tracings could be due to (1) creating @tf.function repeatedly in a loop, (2) passing tensors with different shapes, (3) passing Python objects instead of tensors. For (1), please define your @tf.function outside of the loop. For (2), @tf.function has experimental_relax_shapes=True option that relaxes argument shapes that can avoid unnecessary retracing. For (3), please refer to https://www.tensorflow.org/guide/function#controlling_retracing and https://www.tensorflow.org/api_docs/python/tf/function for  more details.\n",
      "WARNING:tensorflow:5 out of the last 13 calls to <function Model.make_test_function.<locals>.test_function at 0x7fc8a8216430> triggered tf.function retracing. Tracing is expensive and the excessive number of tracings could be due to (1) creating @tf.function repeatedly in a loop, (2) passing tensors with different shapes, (3) passing Python objects instead of tensors. For (1), please define your @tf.function outside of the loop. For (2), @tf.function has experimental_relax_shapes=True option that relaxes argument shapes that can avoid unnecessary retracing. For (3), please refer to https://www.tensorflow.org/guide/function#controlling_retracing and https://www.tensorflow.org/api_docs/python/tf/function for  more details.\n",
      "WARNING:tensorflow:5 out of the last 12 calls to <function Model.make_test_function.<locals>.test_function at 0x7f63704c0430> triggered tf.function retracing. Tracing is expensive and the excessive number of tracings could be due to (1) creating @tf.function repeatedly in a loop, (2) passing tensors with different shapes, (3) passing Python objects instead of tensors. For (1), please define your @tf.function outside of the loop. For (2), @tf.function has experimental_relax_shapes=True option that relaxes argument shapes that can avoid unnecessary retracing. For (3), please refer to https://www.tensorflow.org/guide/function#controlling_retracing and https://www.tensorflow.org/api_docs/python/tf/function for  more details.\n",
      "WARNING:tensorflow:5 out of the last 11 calls to <function Model.make_test_function.<locals>.test_function at 0x7f6fbc331430> triggered tf.function retracing. Tracing is expensive and the excessive number of tracings could be due to (1) creating @tf.function repeatedly in a loop, (2) passing tensors with different shapes, (3) passing Python objects instead of tensors. For (1), please define your @tf.function outside of the loop. For (2), @tf.function has experimental_relax_shapes=True option that relaxes argument shapes that can avoid unnecessary retracing. For (3), please refer to https://www.tensorflow.org/guide/function#controlling_retracing and https://www.tensorflow.org/api_docs/python/tf/function for  more details.\n",
      "WARNING:tensorflow:5 out of the last 13 calls to <function Model.make_test_function.<locals>.test_function at 0x7fc67c688430> triggered tf.function retracing. Tracing is expensive and the excessive number of tracings could be due to (1) creating @tf.function repeatedly in a loop, (2) passing tensors with different shapes, (3) passing Python objects instead of tensors. For (1), please define your @tf.function outside of the loop. For (2), @tf.function has experimental_relax_shapes=True option that relaxes argument shapes that can avoid unnecessary retracing. For (3), please refer to https://www.tensorflow.org/guide/function#controlling_retracing and https://www.tensorflow.org/api_docs/python/tf/function for  more details.\n",
      "WARNING:tensorflow:5 out of the last 12 calls to <function Model.make_test_function.<locals>.test_function at 0x7fc8a3d41430> triggered tf.function retracing. Tracing is expensive and the excessive number of tracings could be due to (1) creating @tf.function repeatedly in a loop, (2) passing tensors with different shapes, (3) passing Python objects instead of tensors. For (1), please define your @tf.function outside of the loop. For (2), @tf.function has experimental_relax_shapes=True option that relaxes argument shapes that can avoid unnecessary retracing. For (3), please refer to https://www.tensorflow.org/guide/function#controlling_retracing and https://www.tensorflow.org/api_docs/python/tf/function for  more details.\n",
      "WARNING:tensorflow:5 out of the last 12 calls to <function Model.make_test_function.<locals>.test_function at 0x7fb638628dc0> triggered tf.function retracing. Tracing is expensive and the excessive number of tracings could be due to (1) creating @tf.function repeatedly in a loop, (2) passing tensors with different shapes, (3) passing Python objects instead of tensors. For (1), please define your @tf.function outside of the loop. For (2), @tf.function has experimental_relax_shapes=True option that relaxes argument shapes that can avoid unnecessary retracing. For (3), please refer to https://www.tensorflow.org/guide/function#controlling_retracing and https://www.tensorflow.org/api_docs/python/tf/function for  more details.\n",
      "WARNING:tensorflow:5 out of the last 12 calls to <function Model.make_test_function.<locals>.test_function at 0x7f152815e430> triggered tf.function retracing. Tracing is expensive and the excessive number of tracings could be due to (1) creating @tf.function repeatedly in a loop, (2) passing tensors with different shapes, (3) passing Python objects instead of tensors. For (1), please define your @tf.function outside of the loop. For (2), @tf.function has experimental_relax_shapes=True option that relaxes argument shapes that can avoid unnecessary retracing. For (3), please refer to https://www.tensorflow.org/guide/function#controlling_retracing and https://www.tensorflow.org/api_docs/python/tf/function for  more details.\n",
      "WARNING:tensorflow:5 out of the last 12 calls to <function Model.make_test_function.<locals>.test_function at 0x7f59dc796430> triggered tf.function retracing. Tracing is expensive and the excessive number of tracings could be due to (1) creating @tf.function repeatedly in a loop, (2) passing tensors with different shapes, (3) passing Python objects instead of tensors. For (1), please define your @tf.function outside of the loop. For (2), @tf.function has experimental_relax_shapes=True option that relaxes argument shapes that can avoid unnecessary retracing. For (3), please refer to https://www.tensorflow.org/guide/function#controlling_retracing and https://www.tensorflow.org/api_docs/python/tf/function for  more details.\n",
      "WARNING:tensorflow:6 out of the last 13 calls to <function Model.make_test_function.<locals>.test_function at 0x7f6890264430> triggered tf.function retracing. Tracing is expensive and the excessive number of tracings could be due to (1) creating @tf.function repeatedly in a loop, (2) passing tensors with different shapes, (3) passing Python objects instead of tensors. For (1), please define your @tf.function outside of the loop. For (2), @tf.function has experimental_relax_shapes=True option that relaxes argument shapes that can avoid unnecessary retracing. For (3), please refer to https://www.tensorflow.org/guide/function#controlling_retracing and https://www.tensorflow.org/api_docs/python/tf/function for  more details.\n",
      "WARNING:tensorflow:5 out of the last 12 calls to <function Model.make_test_function.<locals>.test_function at 0x7efbd0077430> triggered tf.function retracing. Tracing is expensive and the excessive number of tracings could be due to (1) creating @tf.function repeatedly in a loop, (2) passing tensors with different shapes, (3) passing Python objects instead of tensors. For (1), please define your @tf.function outside of the loop. For (2), @tf.function has experimental_relax_shapes=True option that relaxes argument shapes that can avoid unnecessary retracing. For (3), please refer to https://www.tensorflow.org/guide/function#controlling_retracing and https://www.tensorflow.org/api_docs/python/tf/function for  more details.\n"
     ]
    },
    {
     "name": "stderr",
     "output_type": "stream",
     "text": [
      "WARNING:tensorflow:5 out of the last 11 calls to <function Model.make_test_function.<locals>.test_function at 0x7f58d063b430> triggered tf.function retracing. Tracing is expensive and the excessive number of tracings could be due to (1) creating @tf.function repeatedly in a loop, (2) passing tensors with different shapes, (3) passing Python objects instead of tensors. For (1), please define your @tf.function outside of the loop. For (2), @tf.function has experimental_relax_shapes=True option that relaxes argument shapes that can avoid unnecessary retracing. For (3), please refer to https://www.tensorflow.org/guide/function#controlling_retracing and https://www.tensorflow.org/api_docs/python/tf/function for  more details.\n",
      "WARNING:tensorflow:6 out of the last 12 calls to <function Model.make_test_function.<locals>.test_function at 0x7f293e75b430> triggered tf.function retracing. Tracing is expensive and the excessive number of tracings could be due to (1) creating @tf.function repeatedly in a loop, (2) passing tensors with different shapes, (3) passing Python objects instead of tensors. For (1), please define your @tf.function outside of the loop. For (2), @tf.function has experimental_relax_shapes=True option that relaxes argument shapes that can avoid unnecessary retracing. For (3), please refer to https://www.tensorflow.org/guide/function#controlling_retracing and https://www.tensorflow.org/api_docs/python/tf/function for  more details.\n",
      "WARNING:tensorflow:5 out of the last 11 calls to <function Model.make_test_function.<locals>.test_function at 0x7fb63852f430> triggered tf.function retracing. Tracing is expensive and the excessive number of tracings could be due to (1) creating @tf.function repeatedly in a loop, (2) passing tensors with different shapes, (3) passing Python objects instead of tensors. For (1), please define your @tf.function outside of the loop. For (2), @tf.function has experimental_relax_shapes=True option that relaxes argument shapes that can avoid unnecessary retracing. For (3), please refer to https://www.tensorflow.org/guide/function#controlling_retracing and https://www.tensorflow.org/api_docs/python/tf/function for  more details.\n"
     ]
    }
   ],
   "source": [
    "import warnings\n",
    "warnings.filterwarnings(\"ignore\", category=DeprecationWarning)\n",
    "import os\n",
    "os.environ['CUDA_VISIBLE_DEVICES'] = \"0\"\n",
    "from sklearn.model_selection import GridSearchCV, RandomizedSearchCV\n",
    "from keras.models import Sequential\n",
    "from keras.layers import Dense, Dropout\n",
    "from keras.wrappers.scikit_learn import KerasClassifier\n",
    "#from keras.optimizers import Adam\n",
    "\n",
    "def createmodel(n_layers, first_layer_nodes, second_layer_nodes, learning_rate=.1):\n",
    "    model = Sequential()\n",
    "    \n",
    "    #n_nodes = FindLayerNodesLinear(n_layers, first_layer_nodes, last_layer_nodes)\n",
    "    for i in range(2):\n",
    "        if i==1:\n",
    "            model.add(Dense(first_layer_nodes, activation='relu'))\n",
    "        else:\n",
    "            model.add(Dense(second_layer_nodes, activation='relu'))\n",
    "            \n",
    "    #Finally, the output layer should have a single node in binary classification\n",
    "    model.add(Dense(6, activation='sigmoid'))\n",
    "    model.compile(optimizer=SGD(learning_rate=learning_rate), \n",
    "                  loss='mse', metrics = [\"accuracy\"]) #note: metrics could also be 'mse'\n",
    "    \n",
    "    return model\n",
    "\n",
    "param_grid = dict(n_layers=[2], first_layer_nodes = [20, 10, 5], second_layer_nodes=[20,10,5],\n",
    "                  epochs = [150, 300, 500], learning_rate= [.01, .15, .3, .5])\n",
    "\n",
    "model = KerasClassifier(build_fn=createmodel, verbose=0)\n",
    "grid = GridSearchCV(estimator=model, param_grid=param_grid, n_jobs=-1, cv=3)\n",
    "grid_result = grid.fit(flagsScaled, land)"
   ]
  },
  {
   "cell_type": "code",
   "execution_count": 54,
   "id": "dd882f5d",
   "metadata": {},
   "outputs": [
    {
     "name": "stdout",
     "output_type": "stream",
     "text": [
      "Best: 0.443429 using {'epochs': 300, 'first_layer_nodes': 20, 'learning_rate': 0.5, 'n_layers': 2, 'second_layer_nodes': 20}\n",
      "0.185497 (0.069756) with: {'epochs': 150, 'first_layer_nodes': 20, 'learning_rate': 0.01, 'n_layers': 2, 'second_layer_nodes': 20}\n",
      "0.175641 (0.054059) with: {'epochs': 150, 'first_layer_nodes': 20, 'learning_rate': 0.01, 'n_layers': 2, 'second_layer_nodes': 10}\n",
      "0.185497 (0.021161) with: {'epochs': 150, 'first_layer_nodes': 20, 'learning_rate': 0.01, 'n_layers': 2, 'second_layer_nodes': 5}\n",
      "0.335256 (0.052180) with: {'epochs': 150, 'first_layer_nodes': 20, 'learning_rate': 0.15, 'n_layers': 2, 'second_layer_nodes': 20}\n",
      "0.309535 (0.066613) with: {'epochs': 150, 'first_layer_nodes': 20, 'learning_rate': 0.15, 'n_layers': 2, 'second_layer_nodes': 10}\n",
      "0.309535 (0.039963) with: {'epochs': 150, 'first_layer_nodes': 20, 'learning_rate': 0.15, 'n_layers': 2, 'second_layer_nodes': 5}\n",
      "0.345753 (0.059401) with: {'epochs': 150, 'first_layer_nodes': 20, 'learning_rate': 0.3, 'n_layers': 2, 'second_layer_nodes': 20}\n",
      "0.319551 (0.025613) with: {'epochs': 150, 'first_layer_nodes': 20, 'learning_rate': 0.3, 'n_layers': 2, 'second_layer_nodes': 10}\n",
      "0.335176 (0.041387) with: {'epochs': 150, 'first_layer_nodes': 20, 'learning_rate': 0.3, 'n_layers': 2, 'second_layer_nodes': 5}\n",
      "0.345593 (0.049336) with: {'epochs': 150, 'first_layer_nodes': 20, 'learning_rate': 0.5, 'n_layers': 2, 'second_layer_nodes': 20}\n",
      "0.335176 (0.030397) with: {'epochs': 150, 'first_layer_nodes': 20, 'learning_rate': 0.5, 'n_layers': 2, 'second_layer_nodes': 10}\n",
      "0.308974 (0.043552) with: {'epochs': 150, 'first_layer_nodes': 20, 'learning_rate': 0.5, 'n_layers': 2, 'second_layer_nodes': 5}\n",
      "0.201282 (0.035017) with: {'epochs': 150, 'first_layer_nodes': 10, 'learning_rate': 0.01, 'n_layers': 2, 'second_layer_nodes': 20}\n",
      "0.237099 (0.069115) with: {'epochs': 150, 'first_layer_nodes': 10, 'learning_rate': 0.01, 'n_layers': 2, 'second_layer_nodes': 10}\n",
      "0.180449 (0.056746) with: {'epochs': 150, 'first_layer_nodes': 10, 'learning_rate': 0.01, 'n_layers': 2, 'second_layer_nodes': 5}\n",
      "0.288782 (0.030207) with: {'epochs': 150, 'first_layer_nodes': 10, 'learning_rate': 0.15, 'n_layers': 2, 'second_layer_nodes': 20}\n",
      "0.294071 (0.035686) with: {'epochs': 150, 'first_layer_nodes': 10, 'learning_rate': 0.15, 'n_layers': 2, 'second_layer_nodes': 10}\n",
      "0.247516 (0.057959) with: {'epochs': 150, 'first_layer_nodes': 10, 'learning_rate': 0.15, 'n_layers': 2, 'second_layer_nodes': 5}\n",
      "0.345353 (0.006382) with: {'epochs': 150, 'first_layer_nodes': 10, 'learning_rate': 0.3, 'n_layers': 2, 'second_layer_nodes': 20}\n",
      "0.314503 (0.026906) with: {'epochs': 150, 'first_layer_nodes': 10, 'learning_rate': 0.3, 'n_layers': 2, 'second_layer_nodes': 10}\n",
      "0.293590 (0.036126) with: {'epochs': 150, 'first_layer_nodes': 10, 'learning_rate': 0.3, 'n_layers': 2, 'second_layer_nodes': 5}\n",
      "0.428045 (0.063433) with: {'epochs': 150, 'first_layer_nodes': 10, 'learning_rate': 0.5, 'n_layers': 2, 'second_layer_nodes': 20}\n",
      "0.366026 (0.008928) with: {'epochs': 150, 'first_layer_nodes': 10, 'learning_rate': 0.5, 'n_layers': 2, 'second_layer_nodes': 10}\n",
      "0.340625 (0.072344) with: {'epochs': 150, 'first_layer_nodes': 10, 'learning_rate': 0.5, 'n_layers': 2, 'second_layer_nodes': 5}\n",
      "0.149279 (0.030886) with: {'epochs': 150, 'first_layer_nodes': 5, 'learning_rate': 0.01, 'n_layers': 2, 'second_layer_nodes': 20}\n",
      "0.211138 (0.037443) with: {'epochs': 150, 'first_layer_nodes': 5, 'learning_rate': 0.01, 'n_layers': 2, 'second_layer_nodes': 10}\n",
      "0.226603 (0.030369) with: {'epochs': 150, 'first_layer_nodes': 5, 'learning_rate': 0.01, 'n_layers': 2, 'second_layer_nodes': 5}\n",
      "0.314343 (0.012352) with: {'epochs': 150, 'first_layer_nodes': 5, 'learning_rate': 0.15, 'n_layers': 2, 'second_layer_nodes': 20}\n",
      "0.309535 (0.056347) with: {'epochs': 150, 'first_layer_nodes': 5, 'learning_rate': 0.15, 'n_layers': 2, 'second_layer_nodes': 10}\n",
      "0.273157 (0.013644) with: {'epochs': 150, 'first_layer_nodes': 5, 'learning_rate': 0.15, 'n_layers': 2, 'second_layer_nodes': 5}\n",
      "0.283413 (0.039728) with: {'epochs': 150, 'first_layer_nodes': 5, 'learning_rate': 0.3, 'n_layers': 2, 'second_layer_nodes': 20}\n",
      "0.329888 (0.056540) with: {'epochs': 150, 'first_layer_nodes': 5, 'learning_rate': 0.3, 'n_layers': 2, 'second_layer_nodes': 10}\n",
      "0.324760 (0.012785) with: {'epochs': 150, 'first_layer_nodes': 5, 'learning_rate': 0.3, 'n_layers': 2, 'second_layer_nodes': 5}\n",
      "0.355689 (0.037774) with: {'epochs': 150, 'first_layer_nodes': 5, 'learning_rate': 0.5, 'n_layers': 2, 'second_layer_nodes': 20}\n",
      "0.350481 (0.004759) with: {'epochs': 150, 'first_layer_nodes': 5, 'learning_rate': 0.5, 'n_layers': 2, 'second_layer_nodes': 10}\n",
      "0.288542 (0.017379) with: {'epochs': 150, 'first_layer_nodes': 5, 'learning_rate': 0.5, 'n_layers': 2, 'second_layer_nodes': 5}\n",
      "0.236619 (0.088333) with: {'epochs': 300, 'first_layer_nodes': 20, 'learning_rate': 0.01, 'n_layers': 2, 'second_layer_nodes': 20}\n",
      "0.211378 (0.069285) with: {'epochs': 300, 'first_layer_nodes': 20, 'learning_rate': 0.01, 'n_layers': 2, 'second_layer_nodes': 10}\n",
      "0.252644 (0.113425) with: {'epochs': 300, 'first_layer_nodes': 20, 'learning_rate': 0.01, 'n_layers': 2, 'second_layer_nodes': 5}\n",
      "0.376362 (0.016109) with: {'epochs': 300, 'first_layer_nodes': 20, 'learning_rate': 0.15, 'n_layers': 2, 'second_layer_nodes': 20}\n",
      "0.370913 (0.030901) with: {'epochs': 300, 'first_layer_nodes': 20, 'learning_rate': 0.15, 'n_layers': 2, 'second_layer_nodes': 10}\n",
      "0.329968 (0.009745) with: {'epochs': 300, 'first_layer_nodes': 20, 'learning_rate': 0.15, 'n_layers': 2, 'second_layer_nodes': 5}\n",
      "0.345353 (0.018876) with: {'epochs': 300, 'first_layer_nodes': 20, 'learning_rate': 0.3, 'n_layers': 2, 'second_layer_nodes': 20}\n",
      "0.386458 (0.031590) with: {'epochs': 300, 'first_layer_nodes': 20, 'learning_rate': 0.3, 'n_layers': 2, 'second_layer_nodes': 10}\n",
      "0.324840 (0.082737) with: {'epochs': 300, 'first_layer_nodes': 20, 'learning_rate': 0.3, 'n_layers': 2, 'second_layer_nodes': 5}\n",
      "0.443429 (0.030850) with: {'epochs': 300, 'first_layer_nodes': 20, 'learning_rate': 0.5, 'n_layers': 2, 'second_layer_nodes': 20}\n",
      "0.397276 (0.053938) with: {'epochs': 300, 'first_layer_nodes': 20, 'learning_rate': 0.5, 'n_layers': 2, 'second_layer_nodes': 10}\n",
      "0.350721 (0.052241) with: {'epochs': 300, 'first_layer_nodes': 20, 'learning_rate': 0.5, 'n_layers': 2, 'second_layer_nodes': 5}\n",
      "0.154567 (0.057380) with: {'epochs': 300, 'first_layer_nodes': 10, 'learning_rate': 0.01, 'n_layers': 2, 'second_layer_nodes': 20}\n",
      "0.237260 (0.037262) with: {'epochs': 300, 'first_layer_nodes': 10, 'learning_rate': 0.01, 'n_layers': 2, 'second_layer_nodes': 10}\n",
      "0.154808 (0.034140) with: {'epochs': 300, 'first_layer_nodes': 10, 'learning_rate': 0.01, 'n_layers': 2, 'second_layer_nodes': 5}\n",
      "0.376763 (0.065347) with: {'epochs': 300, 'first_layer_nodes': 10, 'learning_rate': 0.15, 'n_layers': 2, 'second_layer_nodes': 20}\n",
      "0.319712 (0.053043) with: {'epochs': 300, 'first_layer_nodes': 10, 'learning_rate': 0.15, 'n_layers': 2, 'second_layer_nodes': 10}\n",
      "0.324599 (0.031867) with: {'epochs': 300, 'first_layer_nodes': 10, 'learning_rate': 0.15, 'n_layers': 2, 'second_layer_nodes': 5}\n",
      "0.407131 (0.027702) with: {'epochs': 300, 'first_layer_nodes': 10, 'learning_rate': 0.3, 'n_layers': 2, 'second_layer_nodes': 20}\n",
      "0.366186 (0.042294) with: {'epochs': 300, 'first_layer_nodes': 10, 'learning_rate': 0.3, 'n_layers': 2, 'second_layer_nodes': 10}\n",
      "0.386538 (0.032446) with: {'epochs': 300, 'first_layer_nodes': 10, 'learning_rate': 0.3, 'n_layers': 2, 'second_layer_nodes': 5}\n",
      "0.386619 (0.062871) with: {'epochs': 300, 'first_layer_nodes': 10, 'learning_rate': 0.5, 'n_layers': 2, 'second_layer_nodes': 20}\n",
      "0.402244 (0.024930) with: {'epochs': 300, 'first_layer_nodes': 10, 'learning_rate': 0.5, 'n_layers': 2, 'second_layer_nodes': 10}\n",
      "0.350481 (0.013433) with: {'epochs': 300, 'first_layer_nodes': 10, 'learning_rate': 0.5, 'n_layers': 2, 'second_layer_nodes': 5}\n",
      "0.272917 (0.042685) with: {'epochs': 300, 'first_layer_nodes': 5, 'learning_rate': 0.01, 'n_layers': 2, 'second_layer_nodes': 20}\n",
      "0.247276 (0.023762) with: {'epochs': 300, 'first_layer_nodes': 5, 'learning_rate': 0.01, 'n_layers': 2, 'second_layer_nodes': 10}\n",
      "0.190785 (0.063411) with: {'epochs': 300, 'first_layer_nodes': 5, 'learning_rate': 0.01, 'n_layers': 2, 'second_layer_nodes': 5}\n",
      "0.355369 (0.043227) with: {'epochs': 300, 'first_layer_nodes': 5, 'learning_rate': 0.15, 'n_layers': 2, 'second_layer_nodes': 20}\n",
      "0.335176 (0.053080) with: {'epochs': 300, 'first_layer_nodes': 5, 'learning_rate': 0.15, 'n_layers': 2, 'second_layer_nodes': 10}\n",
      "0.325080 (0.048019) with: {'epochs': 300, 'first_layer_nodes': 5, 'learning_rate': 0.15, 'n_layers': 2, 'second_layer_nodes': 5}\n",
      "0.293670 (0.032007) with: {'epochs': 300, 'first_layer_nodes': 5, 'learning_rate': 0.3, 'n_layers': 2, 'second_layer_nodes': 20}\n",
      "0.350321 (0.026743) with: {'epochs': 300, 'first_layer_nodes': 5, 'learning_rate': 0.3, 'n_layers': 2, 'second_layer_nodes': 10}\n",
      "0.350721 (0.074628) with: {'epochs': 300, 'first_layer_nodes': 5, 'learning_rate': 0.3, 'n_layers': 2, 'second_layer_nodes': 5}\n",
      "0.360978 (0.048708) with: {'epochs': 300, 'first_layer_nodes': 5, 'learning_rate': 0.5, 'n_layers': 2, 'second_layer_nodes': 20}\n",
      "0.350561 (0.008848) with: {'epochs': 300, 'first_layer_nodes': 5, 'learning_rate': 0.5, 'n_layers': 2, 'second_layer_nodes': 10}\n",
      "0.309375 (0.045921) with: {'epochs': 300, 'first_layer_nodes': 5, 'learning_rate': 0.5, 'n_layers': 2, 'second_layer_nodes': 5}\n",
      "0.298958 (0.018900) with: {'epochs': 500, 'first_layer_nodes': 20, 'learning_rate': 0.01, 'n_layers': 2, 'second_layer_nodes': 20}\n",
      "0.252404 (0.030353) with: {'epochs': 500, 'first_layer_nodes': 20, 'learning_rate': 0.01, 'n_layers': 2, 'second_layer_nodes': 10}\n",
      "0.278125 (0.036222) with: {'epochs': 500, 'first_layer_nodes': 20, 'learning_rate': 0.01, 'n_layers': 2, 'second_layer_nodes': 5}\n",
      "0.386699 (0.015185) with: {'epochs': 500, 'first_layer_nodes': 20, 'learning_rate': 0.15, 'n_layers': 2, 'second_layer_nodes': 20}\n",
      "0.350641 (0.017224) with: {'epochs': 500, 'first_layer_nodes': 20, 'learning_rate': 0.15, 'n_layers': 2, 'second_layer_nodes': 10}\n",
      "0.304327 (0.052058) with: {'epochs': 500, 'first_layer_nodes': 20, 'learning_rate': 0.15, 'n_layers': 2, 'second_layer_nodes': 5}\n",
      "0.397035 (0.053227) with: {'epochs': 500, 'first_layer_nodes': 20, 'learning_rate': 0.3, 'n_layers': 2, 'second_layer_nodes': 20}\n",
      "0.371234 (0.034267) with: {'epochs': 500, 'first_layer_nodes': 20, 'learning_rate': 0.3, 'n_layers': 2, 'second_layer_nodes': 10}\n",
      "0.376522 (0.034442) with: {'epochs': 500, 'first_layer_nodes': 20, 'learning_rate': 0.3, 'n_layers': 2, 'second_layer_nodes': 5}\n",
      "0.397276 (0.050929) with: {'epochs': 500, 'first_layer_nodes': 20, 'learning_rate': 0.5, 'n_layers': 2, 'second_layer_nodes': 20}\n",
      "0.397115 (0.042446) with: {'epochs': 500, 'first_layer_nodes': 20, 'learning_rate': 0.5, 'n_layers': 2, 'second_layer_nodes': 10}\n",
      "0.376603 (0.047003) with: {'epochs': 500, 'first_layer_nodes': 20, 'learning_rate': 0.5, 'n_layers': 2, 'second_layer_nodes': 5}\n",
      "0.222035 (0.082130) with: {'epochs': 500, 'first_layer_nodes': 10, 'learning_rate': 0.01, 'n_layers': 2, 'second_layer_nodes': 20}\n",
      "0.227003 (0.033179) with: {'epochs': 500, 'first_layer_nodes': 10, 'learning_rate': 0.01, 'n_layers': 2, 'second_layer_nodes': 10}\n",
      "0.195593 (0.058683) with: {'epochs': 500, 'first_layer_nodes': 10, 'learning_rate': 0.01, 'n_layers': 2, 'second_layer_nodes': 5}\n",
      "0.366026 (0.019882) with: {'epochs': 500, 'first_layer_nodes': 10, 'learning_rate': 0.15, 'n_layers': 2, 'second_layer_nodes': 20}\n",
      "0.381410 (0.013354) with: {'epochs': 500, 'first_layer_nodes': 10, 'learning_rate': 0.15, 'n_layers': 2, 'second_layer_nodes': 10}\n",
      "0.304006 (0.024778) with: {'epochs': 500, 'first_layer_nodes': 10, 'learning_rate': 0.15, 'n_layers': 2, 'second_layer_nodes': 5}\n",
      "0.396955 (0.032084) with: {'epochs': 500, 'first_layer_nodes': 10, 'learning_rate': 0.3, 'n_layers': 2, 'second_layer_nodes': 20}\n",
      "0.391587 (0.060943) with: {'epochs': 500, 'first_layer_nodes': 10, 'learning_rate': 0.3, 'n_layers': 2, 'second_layer_nodes': 10}\n",
      "0.366186 (0.042294) with: {'epochs': 500, 'first_layer_nodes': 10, 'learning_rate': 0.3, 'n_layers': 2, 'second_layer_nodes': 5}\n",
      "0.407692 (0.072433) with: {'epochs': 500, 'first_layer_nodes': 10, 'learning_rate': 0.5, 'n_layers': 2, 'second_layer_nodes': 20}\n",
      "0.365785 (0.046144) with: {'epochs': 500, 'first_layer_nodes': 10, 'learning_rate': 0.5, 'n_layers': 2, 'second_layer_nodes': 10}\n",
      "0.406891 (0.045087) with: {'epochs': 500, 'first_layer_nodes': 10, 'learning_rate': 0.5, 'n_layers': 2, 'second_layer_nodes': 5}\n",
      "0.236939 (0.039470) with: {'epochs': 500, 'first_layer_nodes': 5, 'learning_rate': 0.01, 'n_layers': 2, 'second_layer_nodes': 20}\n",
      "0.257452 (0.038925) with: {'epochs': 500, 'first_layer_nodes': 5, 'learning_rate': 0.01, 'n_layers': 2, 'second_layer_nodes': 10}\n",
      "0.237260 (0.037262) with: {'epochs': 500, 'first_layer_nodes': 5, 'learning_rate': 0.01, 'n_layers': 2, 'second_layer_nodes': 5}\n",
      "0.350321 (0.029546) with: {'epochs': 500, 'first_layer_nodes': 5, 'learning_rate': 0.15, 'n_layers': 2, 'second_layer_nodes': 20}\n",
      "0.293269 (0.077127) with: {'epochs': 500, 'first_layer_nodes': 5, 'learning_rate': 0.15, 'n_layers': 2, 'second_layer_nodes': 10}\n",
      "0.303846 (0.058160) with: {'epochs': 500, 'first_layer_nodes': 5, 'learning_rate': 0.15, 'n_layers': 2, 'second_layer_nodes': 5}\n",
      "0.350401 (0.058680) with: {'epochs': 500, 'first_layer_nodes': 5, 'learning_rate': 0.3, 'n_layers': 2, 'second_layer_nodes': 20}\n",
      "0.366426 (0.061305) with: {'epochs': 500, 'first_layer_nodes': 5, 'learning_rate': 0.3, 'n_layers': 2, 'second_layer_nodes': 10}\n",
      "0.304247 (0.089537) with: {'epochs': 500, 'first_layer_nodes': 5, 'learning_rate': 0.3, 'n_layers': 2, 'second_layer_nodes': 5}\n",
      "0.371074 (0.020578) with: {'epochs': 500, 'first_layer_nodes': 5, 'learning_rate': 0.5, 'n_layers': 2, 'second_layer_nodes': 20}\n",
      "0.304327 (0.052058) with: {'epochs': 500, 'first_layer_nodes': 5, 'learning_rate': 0.5, 'n_layers': 2, 'second_layer_nodes': 10}\n",
      "0.366026 (0.008928) with: {'epochs': 500, 'first_layer_nodes': 5, 'learning_rate': 0.5, 'n_layers': 2, 'second_layer_nodes': 5}\n"
     ]
    }
   ],
   "source": [
    "print(\"Best: %f using %s\" % (grid_result.best_score_, grid_result.best_params_))\n",
    "means = grid_result.cv_results_['mean_test_score']\n",
    "stds = grid_result.cv_results_['std_test_score']\n",
    "params = grid_result.cv_results_['params']\n",
    "for mean, stdev, param in zip(means, stds, params):\n",
    "    print(\"%f (%f) with: %r\" % (mean, stdev, param))"
   ]
  },
  {
   "cell_type": "markdown",
   "id": "842c9342",
   "metadata": {},
   "source": [
    "# TODO//Do hyper tension to see if we can get better results\n",
    "As of now, elements of a flag are not a good characterist to see what landmass the flag is from.  Stay tuned for another episode of fun with flags."
   ]
  },
  {
   "cell_type": "markdown",
   "id": "ea3df003",
   "metadata": {},
   "source": [
    "# Fun With Flags Episode 2: Can flag metrics predict language?\n",
    "Probably not lol"
   ]
  },
  {
   "cell_type": "code",
   "execution_count": 55,
   "id": "e86c28b4",
   "metadata": {},
   "outputs": [],
   "source": [
    "from tensorflow.keras.models import Sequential\n",
    "from tensorflow.keras.layers import Dense\n",
    "from tensorflow.keras.optimizers import SGD\n",
    "\n",
    "model = Sequential()\n",
    "\n",
    "layers = [\n",
    "    Dense(20, activation='relu', name='layer1'),\n",
    "    Dense(15, activation='relu', name='layer2'),\n",
    "    Dense(10, activation='sigmoid', name='Output')\n",
    "]\n",
    "\n",
    "for layer in layers:\n",
    "    model.add(layer)\n",
    "\n",
    "model.compile(optimizer=SGD(learning_rate=.3), loss='mse', metrics=['accuracy'])\n",
    "hist = model.fit(flagsScaled, lang, validation_split=.2, epochs=150, verbose=0)"
   ]
  },
  {
   "cell_type": "code",
   "execution_count": 56,
   "id": "39087648",
   "metadata": {},
   "outputs": [
    {
     "name": "stdout",
     "output_type": "stream",
     "text": [
      "Training Error: 0.080\n",
      "Training Accuracy: 0.329\n"
     ]
    }
   ],
   "source": [
    "from sklearn.model_selection import train_test_split\n",
    "\n",
    "flagsTrain, flagsTest, langTrain, langTest = train_test_split(flagsScaled, lang, test_size = 0.20, random_state=5)\n",
    "\n",
    "pred_train= model.predict(flagsTrain)\n",
    "score, acc = model.evaluate(flagsTrain, langTrain, verbose=0)\n",
    "print('Training Error: %.3f' % score)\n",
    "print('Training Accuracy: %.3f' % acc)"
   ]
  },
  {
   "cell_type": "code",
   "execution_count": 57,
   "id": "4004cccb",
   "metadata": {},
   "outputs": [
    {
     "name": "stdout",
     "output_type": "stream",
     "text": [
      "Test Error: 0.072\n",
      "Test Accuracy: 0.385\n"
     ]
    }
   ],
   "source": [
    "pred_train= model.predict(flagsTest)\n",
    "score, acc = model.evaluate(flagsTest, langTest, verbose=0)\n",
    "print('Test Error: %.3f' % score)\n",
    "print('Test Accuracy: %.3f' % acc)"
   ]
  },
  {
   "cell_type": "code",
   "execution_count": 58,
   "id": "5f3d67c2",
   "metadata": {},
   "outputs": [
    {
     "data": {
      "image/png": "[encoded data removed]",
      "text/plain": [
       "<Figure size 432x288 with 1 Axes>"
      ]
     },
     "metadata": {
      "needs_background": "light"
     },
     "output_type": "display_data"
    }
   ],
   "source": [
    "import matplotlib.pyplot as plt\n",
    "\n",
    "plt.plot(hist.history['loss'])\n",
    "plt.plot(hist.history['val_loss'])\n",
    "plt.title('Model Loss Curve')\n",
    "plt.ylabel('Loss')\n",
    "plt.xlabel('Epoch')\n",
    "plt.legend(['train', 'test'], loc='upper right')\n",
    "plt.show()"
   ]
  },
  {
   "cell_type": "code",
   "execution_count": 59,
   "id": "39af62c2",
   "metadata": {},
   "outputs": [
    {
     "data": {
      "image/png": "[encoded data removed]",
      "text/plain": [
       "<Figure size 432x288 with 1 Axes>"
      ]
     },
     "metadata": {
      "needs_background": "light"
     },
     "output_type": "display_data"
    }
   ],
   "source": [
    "plt.plot(hist.history['accuracy'])\n",
    "plt.plot(hist.history['val_accuracy'])\n",
    "plt.title('Model Accuracy')\n",
    "plt.ylabel('Accuracy')\n",
    "plt.xlabel('Epochs')\n",
    "plt.legend(['train', 'test'], loc='upper left')\n",
    "plt.show()"
   ]
  },
  {
   "cell_type": "code",
   "execution_count": 60,
   "id": "a4a0ddbf",
   "metadata": {},
   "outputs": [
    {
     "name": "stderr",
     "output_type": "stream",
     "text": [
      "2022-05-22 22:41:52.599843: I tensorflow/stream_executor/cuda/cuda_gpu_executor.cc:936] successful NUMA node read from SysFS had negative value (-1), but there must be at least one NUMA node, so returning NUMA node zero\n",
      "2022-05-22 22:41:52.608058: I tensorflow/stream_executor/cuda/cuda_gpu_executor.cc:936] successful NUMA node read from SysFS had negative value (-1), but there must be at least one NUMA node, so returning NUMA node zero\n",
      "2022-05-22 22:41:52.636111: W tensorflow/stream_executor/platform/default/dso_loader.cc:64] Could not load dynamic library 'libcudnn.so.8'; dlerror: libcudnn.so.8: cannot open shared object file: No such file or directory\n",
      "2022-05-22 22:41:52.636250: W tensorflow/core/common_runtime/gpu/gpu_device.cc:1850] Cannot dlopen some GPU libraries. Please make sure the missing libraries mentioned above are installed properly if you would like to use GPU. Follow the guide at https://www.tensorflow.org/install/gpu for how to download and setup the required libraries for your platform.\n",
      "Skipping registering GPU devices...\n",
      "2022-05-22 22:41:52.636674: I tensorflow/core/platform/cpu_feature_guard.cc:151] This TensorFlow binary is optimized with oneAPI Deep Neural Network Library (oneDNN) to use the following CPU instructions in performance-critical operations:  AVX2 FMA\n",
      "To enable them in other operations, rebuild TensorFlow with the appropriate compiler flags.\n",
      "2022-05-22 22:41:52.647928: W tensorflow/stream_executor/platform/default/dso_loader.cc:64] Could not load dynamic library 'libcudnn.so.8'; dlerror: libcudnn.so.8: cannot open shared object file: No such file or directory\n",
      "2022-05-22 22:41:52.647963: W tensorflow/core/common_runtime/gpu/gpu_device.cc:1850] Cannot dlopen some GPU libraries. Please make sure the missing libraries mentioned above are installed properly if you would like to use GPU. Follow the guide at https://www.tensorflow.org/install/gpu for how to download and setup the required libraries for your platform.\n",
      "Skipping registering GPU devices...\n",
      "2022-05-22 22:41:52.648276: I tensorflow/core/platform/cpu_feature_guard.cc:151] This TensorFlow binary is optimized with oneAPI Deep Neural Network Library (oneDNN) to use the following CPU instructions in performance-critical operations:  AVX2 FMA\n",
      "To enable them in other operations, rebuild TensorFlow with the appropriate compiler flags.\n",
      "2022-05-22 22:41:52.651771: I tensorflow/stream_executor/cuda/cuda_gpu_executor.cc:936] successful NUMA node read from SysFS had negative value (-1), but there must be at least one NUMA node, so returning NUMA node zero\n",
      "2022-05-22 22:41:52.683649: W tensorflow/stream_executor/platform/default/dso_loader.cc:64] Could not load dynamic library 'libcudnn.so.8'; dlerror: libcudnn.so.8: cannot open shared object file: No such file or directory\n",
      "2022-05-22 22:41:52.683860: W tensorflow/core/common_runtime/gpu/gpu_device.cc:1850] Cannot dlopen some GPU libraries. Please make sure the missing libraries mentioned above are installed properly if you would like to use GPU. Follow the guide at https://www.tensorflow.org/install/gpu for how to download and setup the required libraries for your platform.\n",
      "Skipping registering GPU devices...\n",
      "2022-05-22 22:41:52.684252: I tensorflow/core/platform/cpu_feature_guard.cc:151] This TensorFlow binary is optimized with oneAPI Deep Neural Network Library (oneDNN) to use the following CPU instructions in performance-critical operations:  AVX2 FMA\n",
      "To enable them in other operations, rebuild TensorFlow with the appropriate compiler flags.\n",
      "2022-05-22 22:41:52.693334: I tensorflow/stream_executor/cuda/cuda_gpu_executor.cc:936] successful NUMA node read from SysFS had negative value (-1), but there must be at least one NUMA node, so returning NUMA node zero\n",
      "2022-05-22 22:41:52.723974: I tensorflow/stream_executor/cuda/cuda_gpu_executor.cc:936] successful NUMA node read from SysFS had negative value (-1), but there must be at least one NUMA node, so returning NUMA node zero\n",
      "2022-05-22 22:41:52.726246: W tensorflow/stream_executor/platform/default/dso_loader.cc:64] Could not load dynamic library 'libcudnn.so.8'; dlerror: libcudnn.so.8: cannot open shared object file: No such file or directory\n",
      "2022-05-22 22:41:52.726275: W tensorflow/core/common_runtime/gpu/gpu_device.cc:1850] Cannot dlopen some GPU libraries. Please make sure the missing libraries mentioned above are installed properly if you would like to use GPU. Follow the guide at https://www.tensorflow.org/install/gpu for how to download and setup the required libraries for your platform.\n",
      "Skipping registering GPU devices...\n",
      "2022-05-22 22:41:52.726665: I tensorflow/core/platform/cpu_feature_guard.cc:151] This TensorFlow binary is optimized with oneAPI Deep Neural Network Library (oneDNN) to use the following CPU instructions in performance-critical operations:  AVX2 FMA\n",
      "To enable them in other operations, rebuild TensorFlow with the appropriate compiler flags.\n",
      "2022-05-22 22:41:52.776516: I tensorflow/stream_executor/cuda/cuda_gpu_executor.cc:936] successful NUMA node read from SysFS had negative value (-1), but there must be at least one NUMA node, so returning NUMA node zero\n",
      "2022-05-22 22:41:52.787002: I tensorflow/stream_executor/cuda/cuda_gpu_executor.cc:936] successful NUMA node read from SysFS had negative value (-1), but there must be at least one NUMA node, so returning NUMA node zero\n",
      "2022-05-22 22:41:52.790664: W tensorflow/stream_executor/platform/default/dso_loader.cc:64] Could not load dynamic library 'libcudnn.so.8'; dlerror: libcudnn.so.8: cannot open shared object file: No such file or directory\n",
      "2022-05-22 22:41:52.790774: W tensorflow/core/common_runtime/gpu/gpu_device.cc:1850] Cannot dlopen some GPU libraries. Please make sure the missing libraries mentioned above are installed properly if you would like to use GPU. Follow the guide at https://www.tensorflow.org/install/gpu for how to download and setup the required libraries for your platform.\n",
      "Skipping registering GPU devices...\n",
      "2022-05-22 22:41:52.791096: I tensorflow/core/platform/cpu_feature_guard.cc:151] This TensorFlow binary is optimized with oneAPI Deep Neural Network Library (oneDNN) to use the following CPU instructions in performance-critical operations:  AVX2 FMA\n",
      "To enable them in other operations, rebuild TensorFlow with the appropriate compiler flags.\n",
      "2022-05-22 22:41:52.798926: I tensorflow/stream_executor/cuda/cuda_gpu_executor.cc:936] successful NUMA node read from SysFS had negative value (-1), but there must be at least one NUMA node, so returning NUMA node zero\n",
      "2022-05-22 22:41:52.802949: W tensorflow/stream_executor/platform/default/dso_loader.cc:64] Could not load dynamic library 'libcudnn.so.8'; dlerror: libcudnn.so.8: cannot open shared object file: No such file or directory\n",
      "2022-05-22 22:41:52.803297: W tensorflow/core/common_runtime/gpu/gpu_device.cc:1850] Cannot dlopen some GPU libraries. Please make sure the missing libraries mentioned above are installed properly if you would like to use GPU. Follow the guide at https://www.tensorflow.org/install/gpu for how to download and setup the required libraries for your platform.\n",
      "Skipping registering GPU devices...\n",
      "2022-05-22 22:41:52.803701: I tensorflow/core/platform/cpu_feature_guard.cc:151] This TensorFlow binary is optimized with oneAPI Deep Neural Network Library (oneDNN) to use the following CPU instructions in performance-critical operations:  AVX2 FMA\n",
      "To enable them in other operations, rebuild TensorFlow with the appropriate compiler flags.\n",
      "2022-05-22 22:41:52.815175: I tensorflow/stream_executor/cuda/cuda_gpu_executor.cc:936] successful NUMA node read from SysFS had negative value (-1), but there must be at least one NUMA node, so returning NUMA node zero\n",
      "2022-05-22 22:41:52.818626: W tensorflow/stream_executor/platform/default/dso_loader.cc:64] Could not load dynamic library 'libcudnn.so.8'; dlerror: libcudnn.so.8: cannot open shared object file: No such file or directory\n",
      "2022-05-22 22:41:52.818656: W tensorflow/core/common_runtime/gpu/gpu_device.cc:1850] Cannot dlopen some GPU libraries. Please make sure the missing libraries mentioned above are installed properly if you would like to use GPU. Follow the guide at https://www.tensorflow.org/install/gpu for how to download and setup the required libraries for your platform.\n",
      "Skipping registering GPU devices...\n",
      "2022-05-22 22:41:52.818944: I tensorflow/core/platform/cpu_feature_guard.cc:151] This TensorFlow binary is optimized with oneAPI Deep Neural Network Library (oneDNN) to use the following CPU instructions in performance-critical operations:  AVX2 FMA\n",
      "To enable them in other operations, rebuild TensorFlow with the appropriate compiler flags.\n",
      "2022-05-22 22:41:52.829283: W tensorflow/stream_executor/platform/default/dso_loader.cc:64] Could not load dynamic library 'libcudnn.so.8'; dlerror: libcudnn.so.8: cannot open shared object file: No such file or directory\n",
      "2022-05-22 22:41:52.829466: W tensorflow/core/common_runtime/gpu/gpu_device.cc:1850] Cannot dlopen some GPU libraries. Please make sure the missing libraries mentioned above are installed properly if you would like to use GPU. Follow the guide at https://www.tensorflow.org/install/gpu for how to download and setup the required libraries for your platform.\n",
      "Skipping registering GPU devices...\n",
      "2022-05-22 22:41:52.829800: I tensorflow/core/platform/cpu_feature_guard.cc:151] This TensorFlow binary is optimized with oneAPI Deep Neural Network Library (oneDNN) to use the following CPU instructions in performance-critical operations:  AVX2 FMA\n",
      "To enable them in other operations, rebuild TensorFlow with the appropriate compiler flags.\n",
      "2022-05-22 22:41:52.847381: I tensorflow/stream_executor/cuda/cuda_gpu_executor.cc:936] successful NUMA node read from SysFS had negative value (-1), but there must be at least one NUMA node, so returning NUMA node zero\n",
      "2022-05-22 22:41:52.849807: W tensorflow/stream_executor/platform/default/dso_loader.cc:64] Could not load dynamic library 'libcudnn.so.8'; dlerror: libcudnn.so.8: cannot open shared object file: No such file or directory\n",
      "2022-05-22 22:41:52.849835: W tensorflow/core/common_runtime/gpu/gpu_device.cc:1850] Cannot dlopen some GPU libraries. Please make sure the missing libraries mentioned above are installed properly if you would like to use GPU. Follow the guide at https://www.tensorflow.org/install/gpu for how to download and setup the required libraries for your platform.\n",
      "Skipping registering GPU devices...\n",
      "2022-05-22 22:41:52.850129: I tensorflow/core/platform/cpu_feature_guard.cc:151] This TensorFlow binary is optimized with oneAPI Deep Neural Network Library (oneDNN) to use the following CPU instructions in performance-critical operations:  AVX2 FMA\n",
      "To enable them in other operations, rebuild TensorFlow with the appropriate compiler flags.\n",
      "2022-05-22 22:41:52.873857: W tensorflow/stream_executor/platform/default/dso_loader.cc:64] Could not load dynamic library 'libcudnn.so.8'; dlerror: libcudnn.so.8: cannot open shared object file: No such file or directory\n",
      "2022-05-22 22:41:52.873956: W tensorflow/core/common_runtime/gpu/gpu_device.cc:1850] Cannot dlopen some GPU libraries. Please make sure the missing libraries mentioned above are installed properly if you would like to use GPU. Follow the guide at https://www.tensorflow.org/install/gpu for how to download and setup the required libraries for your platform.\n",
      "Skipping registering GPU devices...\n",
      "2022-05-22 22:41:52.874238: I tensorflow/core/platform/cpu_feature_guard.cc:151] This TensorFlow binary is optimized with oneAPI Deep Neural Network Library (oneDNN) to use the following CPU instructions in performance-critical operations:  AVX2 FMA\n",
      "To enable them in other operations, rebuild TensorFlow with the appropriate compiler flags.\n",
      "2022-05-22 22:41:52.878518: I tensorflow/stream_executor/cuda/cuda_gpu_executor.cc:936] successful NUMA node read from SysFS had negative value (-1), but there must be at least one NUMA node, so returning NUMA node zero\n",
      "2022-05-22 22:41:52.882857: I tensorflow/stream_executor/cuda/cuda_gpu_executor.cc:936] successful NUMA node read from SysFS had negative value (-1), but there must be at least one NUMA node, so returning NUMA node zero\n",
      "2022-05-22 22:41:52.890046: I tensorflow/stream_executor/cuda/cuda_gpu_executor.cc:936] successful NUMA node read from SysFS had negative value (-1), but there must be at least one NUMA node, so returning NUMA node zero\n",
      "2022-05-22 22:41:52.910254: I tensorflow/stream_executor/cuda/cuda_gpu_executor.cc:936] successful NUMA node read from SysFS had negative value (-1), but there must be at least one NUMA node, so returning NUMA node zero\n",
      "2022-05-22 22:41:52.912710: W tensorflow/stream_executor/platform/default/dso_loader.cc:64] Could not load dynamic library 'libcudnn.so.8'; dlerror: libcudnn.so.8: cannot open shared object file: No such file or directory\n",
      "2022-05-22 22:41:52.912735: W tensorflow/core/common_runtime/gpu/gpu_device.cc:1850] Cannot dlopen some GPU libraries. Please make sure the missing libraries mentioned above are installed properly if you would like to use GPU. Follow the guide at https://www.tensorflow.org/install/gpu for how to download and setup the required libraries for your platform.\n",
      "Skipping registering GPU devices...\n",
      "2022-05-22 22:41:52.912978: I tensorflow/core/platform/cpu_feature_guard.cc:151] This TensorFlow binary is optimized with oneAPI Deep Neural Network Library (oneDNN) to use the following CPU instructions in performance-critical operations:  AVX2 FMA\n",
      "To enable them in other operations, rebuild TensorFlow with the appropriate compiler flags.\n",
      "2022-05-22 22:41:52.920277: W tensorflow/stream_executor/platform/default/dso_loader.cc:64] Could not load dynamic library 'libcudnn.so.8'; dlerror: libcudnn.so.8: cannot open shared object file: No such file or directory\n",
      "2022-05-22 22:41:52.920458: W tensorflow/core/common_runtime/gpu/gpu_device.cc:1850] Cannot dlopen some GPU libraries. Please make sure the missing libraries mentioned above are installed properly if you would like to use GPU. Follow the guide at https://www.tensorflow.org/install/gpu for how to download and setup the required libraries for your platform.\n",
      "Skipping registering GPU devices...\n",
      "2022-05-22 22:41:52.920804: I tensorflow/core/platform/cpu_feature_guard.cc:151] This TensorFlow binary is optimized with oneAPI Deep Neural Network Library (oneDNN) to use the following CPU instructions in performance-critical operations:  AVX2 FMA\n",
      "To enable them in other operations, rebuild TensorFlow with the appropriate compiler flags.\n",
      "2022-05-22 22:41:52.921017: W tensorflow/stream_executor/platform/default/dso_loader.cc:64] Could not load dynamic library 'libcudnn.so.8'; dlerror: libcudnn.so.8: cannot open shared object file: No such file or directory\n",
      "2022-05-22 22:41:52.921068: W tensorflow/core/common_runtime/gpu/gpu_device.cc:1850] Cannot dlopen some GPU libraries. Please make sure the missing libraries mentioned above are installed properly if you would like to use GPU. Follow the guide at https://www.tensorflow.org/install/gpu for how to download and setup the required libraries for your platform.\n",
      "Skipping registering GPU devices...\n",
      "2022-05-22 22:41:52.921326: I tensorflow/core/platform/cpu_feature_guard.cc:151] This TensorFlow binary is optimized with oneAPI Deep Neural Network Library (oneDNN) to use the following CPU instructions in performance-critical operations:  AVX2 FMA\n",
      "To enable them in other operations, rebuild TensorFlow with the appropriate compiler flags.\n",
      "2022-05-22 22:41:52.946595: W tensorflow/stream_executor/platform/default/dso_loader.cc:64] Could not load dynamic library 'libcudnn.so.8'; dlerror: libcudnn.so.8: cannot open shared object file: No such file or directory\n",
      "2022-05-22 22:41:52.946699: W tensorflow/core/common_runtime/gpu/gpu_device.cc:1850] Cannot dlopen some GPU libraries. Please make sure the missing libraries mentioned above are installed properly if you would like to use GPU. Follow the guide at https://www.tensorflow.org/install/gpu for how to download and setup the required libraries for your platform.\n",
      "Skipping registering GPU devices...\n",
      "2022-05-22 22:41:52.947003: I tensorflow/core/platform/cpu_feature_guard.cc:151] This TensorFlow binary is optimized with oneAPI Deep Neural Network Library (oneDNN) to use the following CPU instructions in performance-critical operations:  AVX2 FMA\n",
      "To enable them in other operations, rebuild TensorFlow with the appropriate compiler flags.\n",
      "2022-05-22 22:41:52.972398: I tensorflow/stream_executor/cuda/cuda_gpu_executor.cc:936] successful NUMA node read from SysFS had negative value (-1), but there must be at least one NUMA node, so returning NUMA node zero\n",
      "2022-05-22 22:41:52.976016: I tensorflow/stream_executor/cuda/cuda_gpu_executor.cc:936] successful NUMA node read from SysFS had negative value (-1), but there must be at least one NUMA node, so returning NUMA node zero\n"
     ]
    },
    {
     "name": "stderr",
     "output_type": "stream",
     "text": [
      "2022-05-22 22:41:53.009996: W tensorflow/stream_executor/platform/default/dso_loader.cc:64] Could not load dynamic library 'libcudnn.so.8'; dlerror: libcudnn.so.8: cannot open shared object file: No such file or directory\n",
      "2022-05-22 22:41:53.010370: W tensorflow/core/common_runtime/gpu/gpu_device.cc:1850] Cannot dlopen some GPU libraries. Please make sure the missing libraries mentioned above are installed properly if you would like to use GPU. Follow the guide at https://www.tensorflow.org/install/gpu for how to download and setup the required libraries for your platform.\n",
      "Skipping registering GPU devices...\n",
      "2022-05-22 22:41:53.010681: I tensorflow/core/platform/cpu_feature_guard.cc:151] This TensorFlow binary is optimized with oneAPI Deep Neural Network Library (oneDNN) to use the following CPU instructions in performance-critical operations:  AVX2 FMA\n",
      "To enable them in other operations, rebuild TensorFlow with the appropriate compiler flags.\n",
      "2022-05-22 22:41:53.028646: W tensorflow/stream_executor/platform/default/dso_loader.cc:64] Could not load dynamic library 'libcudnn.so.8'; dlerror: libcudnn.so.8: cannot open shared object file: No such file or directory\n",
      "2022-05-22 22:41:53.028678: W tensorflow/core/common_runtime/gpu/gpu_device.cc:1850] Cannot dlopen some GPU libraries. Please make sure the missing libraries mentioned above are installed properly if you would like to use GPU. Follow the guide at https://www.tensorflow.org/install/gpu for how to download and setup the required libraries for your platform.\n",
      "Skipping registering GPU devices...\n",
      "2022-05-22 22:41:53.028928: I tensorflow/core/platform/cpu_feature_guard.cc:151] This TensorFlow binary is optimized with oneAPI Deep Neural Network Library (oneDNN) to use the following CPU instructions in performance-critical operations:  AVX2 FMA\n",
      "To enable them in other operations, rebuild TensorFlow with the appropriate compiler flags.\n",
      "WARNING:tensorflow:5 out of the last 10 calls to <function Model.make_test_function.<locals>.test_function at 0x7fb7cc1ecee0> triggered tf.function retracing. Tracing is expensive and the excessive number of tracings could be due to (1) creating @tf.function repeatedly in a loop, (2) passing tensors with different shapes, (3) passing Python objects instead of tensors. For (1), please define your @tf.function outside of the loop. For (2), @tf.function has experimental_relax_shapes=True option that relaxes argument shapes that can avoid unnecessary retracing. For (3), please refer to https://www.tensorflow.org/guide/function#controlling_retracing and https://www.tensorflow.org/api_docs/python/tf/function for  more details.\n",
      "WARNING:tensorflow:5 out of the last 12 calls to <function Model.make_test_function.<locals>.test_function at 0x7f01e8768ee0> triggered tf.function retracing. Tracing is expensive and the excessive number of tracings could be due to (1) creating @tf.function repeatedly in a loop, (2) passing tensors with different shapes, (3) passing Python objects instead of tensors. For (1), please define your @tf.function outside of the loop. For (2), @tf.function has experimental_relax_shapes=True option that relaxes argument shapes that can avoid unnecessary retracing. For (3), please refer to https://www.tensorflow.org/guide/function#controlling_retracing and https://www.tensorflow.org/api_docs/python/tf/function for  more details.\n",
      "WARNING:tensorflow:5 out of the last 11 calls to <function Model.make_test_function.<locals>.test_function at 0x7faa2c5badc0> triggered tf.function retracing. Tracing is expensive and the excessive number of tracings could be due to (1) creating @tf.function repeatedly in a loop, (2) passing tensors with different shapes, (3) passing Python objects instead of tensors. For (1), please define your @tf.function outside of the loop. For (2), @tf.function has experimental_relax_shapes=True option that relaxes argument shapes that can avoid unnecessary retracing. For (3), please refer to https://www.tensorflow.org/guide/function#controlling_retracing and https://www.tensorflow.org/api_docs/python/tf/function for  more details.\n",
      "WARNING:tensorflow:5 out of the last 12 calls to <function Model.make_test_function.<locals>.test_function at 0x7f9fd00bfdc0> triggered tf.function retracing. Tracing is expensive and the excessive number of tracings could be due to (1) creating @tf.function repeatedly in a loop, (2) passing tensors with different shapes, (3) passing Python objects instead of tensors. For (1), please define your @tf.function outside of the loop. For (2), @tf.function has experimental_relax_shapes=True option that relaxes argument shapes that can avoid unnecessary retracing. For (3), please refer to https://www.tensorflow.org/guide/function#controlling_retracing and https://www.tensorflow.org/api_docs/python/tf/function for  more details.\n",
      "WARNING:tensorflow:5 out of the last 11 calls to <function Model.make_test_function.<locals>.test_function at 0x7ff53025ddc0> triggered tf.function retracing. Tracing is expensive and the excessive number of tracings could be due to (1) creating @tf.function repeatedly in a loop, (2) passing tensors with different shapes, (3) passing Python objects instead of tensors. For (1), please define your @tf.function outside of the loop. For (2), @tf.function has experimental_relax_shapes=True option that relaxes argument shapes that can avoid unnecessary retracing. For (3), please refer to https://www.tensorflow.org/guide/function#controlling_retracing and https://www.tensorflow.org/api_docs/python/tf/function for  more details.\n",
      "WARNING:tensorflow:5 out of the last 13 calls to <function Model.make_test_function.<locals>.test_function at 0x7ff9e0332dc0> triggered tf.function retracing. Tracing is expensive and the excessive number of tracings could be due to (1) creating @tf.function repeatedly in a loop, (2) passing tensors with different shapes, (3) passing Python objects instead of tensors. For (1), please define your @tf.function outside of the loop. For (2), @tf.function has experimental_relax_shapes=True option that relaxes argument shapes that can avoid unnecessary retracing. For (3), please refer to https://www.tensorflow.org/guide/function#controlling_retracing and https://www.tensorflow.org/api_docs/python/tf/function for  more details.\n",
      "WARNING:tensorflow:5 out of the last 13 calls to <function Model.make_test_function.<locals>.test_function at 0x7f0658467dc0> triggered tf.function retracing. Tracing is expensive and the excessive number of tracings could be due to (1) creating @tf.function repeatedly in a loop, (2) passing tensors with different shapes, (3) passing Python objects instead of tensors. For (1), please define your @tf.function outside of the loop. For (2), @tf.function has experimental_relax_shapes=True option that relaxes argument shapes that can avoid unnecessary retracing. For (3), please refer to https://www.tensorflow.org/guide/function#controlling_retracing and https://www.tensorflow.org/api_docs/python/tf/function for  more details.\n",
      "WARNING:tensorflow:5 out of the last 12 calls to <function Model.make_test_function.<locals>.test_function at 0x7fc9a85aadc0> triggered tf.function retracing. Tracing is expensive and the excessive number of tracings could be due to (1) creating @tf.function repeatedly in a loop, (2) passing tensors with different shapes, (3) passing Python objects instead of tensors. For (1), please define your @tf.function outside of the loop. For (2), @tf.function has experimental_relax_shapes=True option that relaxes argument shapes that can avoid unnecessary retracing. For (3), please refer to https://www.tensorflow.org/guide/function#controlling_retracing and https://www.tensorflow.org/api_docs/python/tf/function for  more details.\n",
      "WARNING:tensorflow:5 out of the last 12 calls to <function Model.make_test_function.<locals>.test_function at 0x7f3a38399dc0> triggered tf.function retracing. Tracing is expensive and the excessive number of tracings could be due to (1) creating @tf.function repeatedly in a loop, (2) passing tensors with different shapes, (3) passing Python objects instead of tensors. For (1), please define your @tf.function outside of the loop. For (2), @tf.function has experimental_relax_shapes=True option that relaxes argument shapes that can avoid unnecessary retracing. For (3), please refer to https://www.tensorflow.org/guide/function#controlling_retracing and https://www.tensorflow.org/api_docs/python/tf/function for  more details.\n"
     ]
    },
    {
     "name": "stderr",
     "output_type": "stream",
     "text": [
      "WARNING:tensorflow:5 out of the last 12 calls to <function Model.make_test_function.<locals>.test_function at 0x7fd0905bbdc0> triggered tf.function retracing. Tracing is expensive and the excessive number of tracings could be due to (1) creating @tf.function repeatedly in a loop, (2) passing tensors with different shapes, (3) passing Python objects instead of tensors. For (1), please define your @tf.function outside of the loop. For (2), @tf.function has experimental_relax_shapes=True option that relaxes argument shapes that can avoid unnecessary retracing. For (3), please refer to https://www.tensorflow.org/guide/function#controlling_retracing and https://www.tensorflow.org/api_docs/python/tf/function for  more details.\n",
      "WARNING:tensorflow:5 out of the last 11 calls to <function Model.make_test_function.<locals>.test_function at 0x7f3998488dc0> triggered tf.function retracing. Tracing is expensive and the excessive number of tracings could be due to (1) creating @tf.function repeatedly in a loop, (2) passing tensors with different shapes, (3) passing Python objects instead of tensors. For (1), please define your @tf.function outside of the loop. For (2), @tf.function has experimental_relax_shapes=True option that relaxes argument shapes that can avoid unnecessary retracing. For (3), please refer to https://www.tensorflow.org/guide/function#controlling_retracing and https://www.tensorflow.org/api_docs/python/tf/function for  more details.\n",
      "WARNING:tensorflow:5 out of the last 12 calls to <function Model.make_test_function.<locals>.test_function at 0x7f915c4cddc0> triggered tf.function retracing. Tracing is expensive and the excessive number of tracings could be due to (1) creating @tf.function repeatedly in a loop, (2) passing tensors with different shapes, (3) passing Python objects instead of tensors. For (1), please define your @tf.function outside of the loop. For (2), @tf.function has experimental_relax_shapes=True option that relaxes argument shapes that can avoid unnecessary retracing. For (3), please refer to https://www.tensorflow.org/guide/function#controlling_retracing and https://www.tensorflow.org/api_docs/python/tf/function for  more details.\n",
      "WARNING:tensorflow:5 out of the last 12 calls to <function Model.make_test_function.<locals>.test_function at 0x7f3480007ee0> triggered tf.function retracing. Tracing is expensive and the excessive number of tracings could be due to (1) creating @tf.function repeatedly in a loop, (2) passing tensors with different shapes, (3) passing Python objects instead of tensors. For (1), please define your @tf.function outside of the loop. For (2), @tf.function has experimental_relax_shapes=True option that relaxes argument shapes that can avoid unnecessary retracing. For (3), please refer to https://www.tensorflow.org/guide/function#controlling_retracing and https://www.tensorflow.org/api_docs/python/tf/function for  more details.\n",
      "WARNING:tensorflow:5 out of the last 12 calls to <function Model.make_test_function.<locals>.test_function at 0x7f01e8683430> triggered tf.function retracing. Tracing is expensive and the excessive number of tracings could be due to (1) creating @tf.function repeatedly in a loop, (2) passing tensors with different shapes, (3) passing Python objects instead of tensors. For (1), please define your @tf.function outside of the loop. For (2), @tf.function has experimental_relax_shapes=True option that relaxes argument shapes that can avoid unnecessary retracing. For (3), please refer to https://www.tensorflow.org/guide/function#controlling_retracing and https://www.tensorflow.org/api_docs/python/tf/function for  more details.\n",
      "WARNING:tensorflow:6 out of the last 13 calls to <function Model.make_test_function.<locals>.test_function at 0x7fb7cc073430> triggered tf.function retracing. Tracing is expensive and the excessive number of tracings could be due to (1) creating @tf.function repeatedly in a loop, (2) passing tensors with different shapes, (3) passing Python objects instead of tensors. For (1), please define your @tf.function outside of the loop. For (2), @tf.function has experimental_relax_shapes=True option that relaxes argument shapes that can avoid unnecessary retracing. For (3), please refer to https://www.tensorflow.org/guide/function#controlling_retracing and https://www.tensorflow.org/api_docs/python/tf/function for  more details.\n",
      "WARNING:tensorflow:5 out of the last 10 calls to <function Model.make_test_function.<locals>.test_function at 0x7fb30011dee0> triggered tf.function retracing. Tracing is expensive and the excessive number of tracings could be due to (1) creating @tf.function repeatedly in a loop, (2) passing tensors with different shapes, (3) passing Python objects instead of tensors. For (1), please define your @tf.function outside of the loop. For (2), @tf.function has experimental_relax_shapes=True option that relaxes argument shapes that can avoid unnecessary retracing. For (3), please refer to https://www.tensorflow.org/guide/function#controlling_retracing and https://www.tensorflow.org/api_docs/python/tf/function for  more details.\n",
      "WARNING:tensorflow:5 out of the last 13 calls to <function Model.make_test_function.<locals>.test_function at 0x7f6c800c2dc0> triggered tf.function retracing. Tracing is expensive and the excessive number of tracings could be due to (1) creating @tf.function repeatedly in a loop, (2) passing tensors with different shapes, (3) passing Python objects instead of tensors. For (1), please define your @tf.function outside of the loop. For (2), @tf.function has experimental_relax_shapes=True option that relaxes argument shapes that can avoid unnecessary retracing. For (3), please refer to https://www.tensorflow.org/guide/function#controlling_retracing and https://www.tensorflow.org/api_docs/python/tf/function for  more details.\n",
      "WARNING:tensorflow:5 out of the last 11 calls to <function Model.make_test_function.<locals>.test_function at 0x7faa2c457430> triggered tf.function retracing. Tracing is expensive and the excessive number of tracings could be due to (1) creating @tf.function repeatedly in a loop, (2) passing tensors with different shapes, (3) passing Python objects instead of tensors. For (1), please define your @tf.function outside of the loop. For (2), @tf.function has experimental_relax_shapes=True option that relaxes argument shapes that can avoid unnecessary retracing. For (3), please refer to https://www.tensorflow.org/guide/function#controlling_retracing and https://www.tensorflow.org/api_docs/python/tf/function for  more details.\n",
      "WARNING:tensorflow:5 out of the last 11 calls to <function Model.make_test_function.<locals>.test_function at 0x7f533c2a9dc0> triggered tf.function retracing. Tracing is expensive and the excessive number of tracings could be due to (1) creating @tf.function repeatedly in a loop, (2) passing tensors with different shapes, (3) passing Python objects instead of tensors. For (1), please define your @tf.function outside of the loop. For (2), @tf.function has experimental_relax_shapes=True option that relaxes argument shapes that can avoid unnecessary retracing. For (3), please refer to https://www.tensorflow.org/guide/function#controlling_retracing and https://www.tensorflow.org/api_docs/python/tf/function for  more details.\n",
      "WARNING:tensorflow:5 out of the last 11 calls to <function Model.make_test_function.<locals>.test_function at 0x7ff53015f430> triggered tf.function retracing. Tracing is expensive and the excessive number of tracings could be due to (1) creating @tf.function repeatedly in a loop, (2) passing tensors with different shapes, (3) passing Python objects instead of tensors. For (1), please define your @tf.function outside of the loop. For (2), @tf.function has experimental_relax_shapes=True option that relaxes argument shapes that can avoid unnecessary retracing. For (3), please refer to https://www.tensorflow.org/guide/function#controlling_retracing and https://www.tensorflow.org/api_docs/python/tf/function for  more details.\n",
      "WARNING:tensorflow:5 out of the last 12 calls to <function Model.make_test_function.<locals>.test_function at 0x7f9fa42cc430> triggered tf.function retracing. Tracing is expensive and the excessive number of tracings could be due to (1) creating @tf.function repeatedly in a loop, (2) passing tensors with different shapes, (3) passing Python objects instead of tensors. For (1), please define your @tf.function outside of the loop. For (2), @tf.function has experimental_relax_shapes=True option that relaxes argument shapes that can avoid unnecessary retracing. For (3), please refer to https://www.tensorflow.org/guide/function#controlling_retracing and https://www.tensorflow.org/api_docs/python/tf/function for  more details.\n",
      "WARNING:tensorflow:5 out of the last 13 calls to <function Model.make_test_function.<locals>.test_function at 0x7f0658302430> triggered tf.function retracing. Tracing is expensive and the excessive number of tracings could be due to (1) creating @tf.function repeatedly in a loop, (2) passing tensors with different shapes, (3) passing Python objects instead of tensors. For (1), please define your @tf.function outside of the loop. For (2), @tf.function has experimental_relax_shapes=True option that relaxes argument shapes that can avoid unnecessary retracing. For (3), please refer to https://www.tensorflow.org/guide/function#controlling_retracing and https://www.tensorflow.org/api_docs/python/tf/function for  more details.\n"
     ]
    },
    {
     "name": "stderr",
     "output_type": "stream",
     "text": [
      "WARNING:tensorflow:5 out of the last 13 calls to <function Model.make_test_function.<locals>.test_function at 0x7ff9e01ce430> triggered tf.function retracing. Tracing is expensive and the excessive number of tracings could be due to (1) creating @tf.function repeatedly in a loop, (2) passing tensors with different shapes, (3) passing Python objects instead of tensors. For (1), please define your @tf.function outside of the loop. For (2), @tf.function has experimental_relax_shapes=True option that relaxes argument shapes that can avoid unnecessary retracing. For (3), please refer to https://www.tensorflow.org/guide/function#controlling_retracing and https://www.tensorflow.org/api_docs/python/tf/function for  more details.\n",
      "WARNING:tensorflow:5 out of the last 12 calls to <function Model.make_test_function.<locals>.test_function at 0x7fc9a84af430> triggered tf.function retracing. Tracing is expensive and the excessive number of tracings could be due to (1) creating @tf.function repeatedly in a loop, (2) passing tensors with different shapes, (3) passing Python objects instead of tensors. For (1), please define your @tf.function outside of the loop. For (2), @tf.function has experimental_relax_shapes=True option that relaxes argument shapes that can avoid unnecessary retracing. For (3), please refer to https://www.tensorflow.org/guide/function#controlling_retracing and https://www.tensorflow.org/api_docs/python/tf/function for  more details.\n",
      "WARNING:tensorflow:5 out of the last 12 calls to <function Model.make_test_function.<locals>.test_function at 0x7f3a382b6430> triggered tf.function retracing. Tracing is expensive and the excessive number of tracings could be due to (1) creating @tf.function repeatedly in a loop, (2) passing tensors with different shapes, (3) passing Python objects instead of tensors. For (1), please define your @tf.function outside of the loop. For (2), @tf.function has experimental_relax_shapes=True option that relaxes argument shapes that can avoid unnecessary retracing. For (3), please refer to https://www.tensorflow.org/guide/function#controlling_retracing and https://www.tensorflow.org/api_docs/python/tf/function for  more details.\n",
      "WARNING:tensorflow:5 out of the last 12 calls to <function Model.make_test_function.<locals>.test_function at 0x7fd0904c1430> triggered tf.function retracing. Tracing is expensive and the excessive number of tracings could be due to (1) creating @tf.function repeatedly in a loop, (2) passing tensors with different shapes, (3) passing Python objects instead of tensors. For (1), please define your @tf.function outside of the loop. For (2), @tf.function has experimental_relax_shapes=True option that relaxes argument shapes that can avoid unnecessary retracing. For (3), please refer to https://www.tensorflow.org/guide/function#controlling_retracing and https://www.tensorflow.org/api_docs/python/tf/function for  more details.\n",
      "WARNING:tensorflow:5 out of the last 12 calls to <function Model.make_test_function.<locals>.test_function at 0x7f915c3d4430> triggered tf.function retracing. Tracing is expensive and the excessive number of tracings could be due to (1) creating @tf.function repeatedly in a loop, (2) passing tensors with different shapes, (3) passing Python objects instead of tensors. For (1), please define your @tf.function outside of the loop. For (2), @tf.function has experimental_relax_shapes=True option that relaxes argument shapes that can avoid unnecessary retracing. For (3), please refer to https://www.tensorflow.org/guide/function#controlling_retracing and https://www.tensorflow.org/api_docs/python/tf/function for  more details.\n",
      "WARNING:tensorflow:5 out of the last 12 calls to <function Model.make_test_function.<locals>.test_function at 0x7f399838f430> triggered tf.function retracing. Tracing is expensive and the excessive number of tracings could be due to (1) creating @tf.function repeatedly in a loop, (2) passing tensors with different shapes, (3) passing Python objects instead of tensors. For (1), please define your @tf.function outside of the loop. For (2), @tf.function has experimental_relax_shapes=True option that relaxes argument shapes that can avoid unnecessary retracing. For (3), please refer to https://www.tensorflow.org/guide/function#controlling_retracing and https://www.tensorflow.org/api_docs/python/tf/function for  more details.\n",
      "WARNING:tensorflow:6 out of the last 13 calls to <function Model.make_test_function.<locals>.test_function at 0x7fb300025430> triggered tf.function retracing. Tracing is expensive and the excessive number of tracings could be due to (1) creating @tf.function repeatedly in a loop, (2) passing tensors with different shapes, (3) passing Python objects instead of tensors. For (1), please define your @tf.function outside of the loop. For (2), @tf.function has experimental_relax_shapes=True option that relaxes argument shapes that can avoid unnecessary retracing. For (3), please refer to https://www.tensorflow.org/guide/function#controlling_retracing and https://www.tensorflow.org/api_docs/python/tf/function for  more details.\n",
      "WARNING:tensorflow:5 out of the last 13 calls to <function Model.make_test_function.<locals>.test_function at 0x7f6c54289430> triggered tf.function retracing. Tracing is expensive and the excessive number of tracings could be due to (1) creating @tf.function repeatedly in a loop, (2) passing tensors with different shapes, (3) passing Python objects instead of tensors. For (1), please define your @tf.function outside of the loop. For (2), @tf.function has experimental_relax_shapes=True option that relaxes argument shapes that can avoid unnecessary retracing. For (3), please refer to https://www.tensorflow.org/guide/function#controlling_retracing and https://www.tensorflow.org/api_docs/python/tf/function for  more details.\n",
      "WARNING:tensorflow:5 out of the last 11 calls to <function Model.make_test_function.<locals>.test_function at 0x7f346c6fe430> triggered tf.function retracing. Tracing is expensive and the excessive number of tracings could be due to (1) creating @tf.function repeatedly in a loop, (2) passing tensors with different shapes, (3) passing Python objects instead of tensors. For (1), please define your @tf.function outside of the loop. For (2), @tf.function has experimental_relax_shapes=True option that relaxes argument shapes that can avoid unnecessary retracing. For (3), please refer to https://www.tensorflow.org/guide/function#controlling_retracing and https://www.tensorflow.org/api_docs/python/tf/function for  more details.\n",
      "WARNING:tensorflow:5 out of the last 11 calls to <function Model.make_test_function.<locals>.test_function at 0x7f533c1c3430> triggered tf.function retracing. Tracing is expensive and the excessive number of tracings could be due to (1) creating @tf.function repeatedly in a loop, (2) passing tensors with different shapes, (3) passing Python objects instead of tensors. For (1), please define your @tf.function outside of the loop. For (2), @tf.function has experimental_relax_shapes=True option that relaxes argument shapes that can avoid unnecessary retracing. For (3), please refer to https://www.tensorflow.org/guide/function#controlling_retracing and https://www.tensorflow.org/api_docs/python/tf/function for  more details.\n"
     ]
    }
   ],
   "source": [
    "import warnings\n",
    "warnings.filterwarnings(\"ignore\", category=DeprecationWarning)\n",
    "import os\n",
    "os.environ['CUDA_VISIBLE_DEVICES'] = \"0\"\n",
    "from sklearn.model_selection import GridSearchCV, RandomizedSearchCV\n",
    "from keras.models import Sequential\n",
    "from keras.layers import Dense, Dropout\n",
    "from keras.wrappers.scikit_learn import KerasClassifier\n",
    "#from keras.optimizers import Adam\n",
    "\n",
    "def createmodel(n_layers, first_layer_nodes, second_layer_nodes, learning_rate=.1):\n",
    "    model = Sequential()\n",
    "    \n",
    "    #n_nodes = FindLayerNodesLinear(n_layers, first_layer_nodes, last_layer_nodes)\n",
    "    for i in range(2):\n",
    "        if i==1:\n",
    "            model.add(Dense(first_layer_nodes, activation='relu'))\n",
    "        else:\n",
    "            model.add(Dense(second_layer_nodes, activation='relu'))\n",
    "            \n",
    "    #Finally, the output layer should have a single node in binary classification\n",
    "    model.add(Dense(10, activation='sigmoid'))\n",
    "    model.compile(optimizer=SGD(learning_rate=learning_rate), \n",
    "                  loss='mse', metrics = [\"accuracy\"]) #note: metrics could also be 'mse'\n",
    "    \n",
    "    return model\n",
    "\n",
    "param_grid = dict(n_layers=[2], first_layer_nodes = [20, 10, 5], second_layer_nodes=[20,10,5],\n",
    "                  epochs = [150, 300, 500], learning_rate= [.01, .15, .3, .5])\n",
    "\n",
    "model = KerasClassifier(build_fn=createmodel, verbose=0)\n",
    "grid = GridSearchCV(estimator=model, param_grid=param_grid, n_jobs=-1, cv=3)\n",
    "grid_result = grid.fit(flagsScaled, lang)"
   ]
  },
  {
   "cell_type": "code",
   "execution_count": 61,
   "id": "ff9df506",
   "metadata": {},
   "outputs": [
    {
     "name": "stdout",
     "output_type": "stream",
     "text": [
      "Best: 0.303926 using {'epochs': 150, 'first_layer_nodes': 20, 'learning_rate': 0.5, 'n_layers': 2, 'second_layer_nodes': 10}\n",
      "0.123397 (0.049854) with: {'epochs': 150, 'first_layer_nodes': 20, 'learning_rate': 0.01, 'n_layers': 2, 'second_layer_nodes': 20}\n",
      "0.108333 (0.045517) with: {'epochs': 150, 'first_layer_nodes': 20, 'learning_rate': 0.01, 'n_layers': 2, 'second_layer_nodes': 10}\n",
      "0.129407 (0.075279) with: {'epochs': 150, 'first_layer_nodes': 20, 'learning_rate': 0.01, 'n_layers': 2, 'second_layer_nodes': 5}\n",
      "0.232131 (0.034526) with: {'epochs': 150, 'first_layer_nodes': 20, 'learning_rate': 0.15, 'n_layers': 2, 'second_layer_nodes': 20}\n",
      "0.211458 (0.029896) with: {'epochs': 150, 'first_layer_nodes': 20, 'learning_rate': 0.15, 'n_layers': 2, 'second_layer_nodes': 10}\n",
      "0.242388 (0.041111) with: {'epochs': 150, 'first_layer_nodes': 20, 'learning_rate': 0.15, 'n_layers': 2, 'second_layer_nodes': 5}\n",
      "0.257532 (0.057242) with: {'epochs': 150, 'first_layer_nodes': 20, 'learning_rate': 0.3, 'n_layers': 2, 'second_layer_nodes': 20}\n",
      "0.206410 (0.030823) with: {'epochs': 150, 'first_layer_nodes': 20, 'learning_rate': 0.3, 'n_layers': 2, 'second_layer_nodes': 10}\n",
      "0.257772 (0.019643) with: {'epochs': 150, 'first_layer_nodes': 20, 'learning_rate': 0.3, 'n_layers': 2, 'second_layer_nodes': 5}\n",
      "0.272676 (0.072376) with: {'epochs': 150, 'first_layer_nodes': 20, 'learning_rate': 0.5, 'n_layers': 2, 'second_layer_nodes': 20}\n",
      "0.303926 (0.036941) with: {'epochs': 150, 'first_layer_nodes': 20, 'learning_rate': 0.5, 'n_layers': 2, 'second_layer_nodes': 10}\n",
      "0.288462 (0.037024) with: {'epochs': 150, 'first_layer_nodes': 20, 'learning_rate': 0.5, 'n_layers': 2, 'second_layer_nodes': 5}\n",
      "0.139022 (0.043123) with: {'epochs': 150, 'first_layer_nodes': 10, 'learning_rate': 0.01, 'n_layers': 2, 'second_layer_nodes': 20}\n",
      "0.051522 (0.007089) with: {'epochs': 150, 'first_layer_nodes': 10, 'learning_rate': 0.01, 'n_layers': 2, 'second_layer_nodes': 10}\n",
      "0.129087 (0.032760) with: {'epochs': 150, 'first_layer_nodes': 10, 'learning_rate': 0.01, 'n_layers': 2, 'second_layer_nodes': 5}\n",
      "0.201202 (0.023457) with: {'epochs': 150, 'first_layer_nodes': 10, 'learning_rate': 0.15, 'n_layers': 2, 'second_layer_nodes': 20}\n",
      "0.227244 (0.060285) with: {'epochs': 150, 'first_layer_nodes': 10, 'learning_rate': 0.15, 'n_layers': 2, 'second_layer_nodes': 10}\n",
      "0.201202 (0.023457) with: {'epochs': 150, 'first_layer_nodes': 10, 'learning_rate': 0.15, 'n_layers': 2, 'second_layer_nodes': 5}\n",
      "0.221635 (0.044012) with: {'epochs': 150, 'first_layer_nodes': 10, 'learning_rate': 0.3, 'n_layers': 2, 'second_layer_nodes': 20}\n",
      "0.278125 (0.036222) with: {'epochs': 150, 'first_layer_nodes': 10, 'learning_rate': 0.3, 'n_layers': 2, 'second_layer_nodes': 10}\n",
      "0.216747 (0.039365) with: {'epochs': 150, 'first_layer_nodes': 10, 'learning_rate': 0.3, 'n_layers': 2, 'second_layer_nodes': 5}\n",
      "0.267788 (0.036881) with: {'epochs': 150, 'first_layer_nodes': 10, 'learning_rate': 0.5, 'n_layers': 2, 'second_layer_nodes': 20}\n",
      "0.247356 (0.011122) with: {'epochs': 150, 'first_layer_nodes': 10, 'learning_rate': 0.5, 'n_layers': 2, 'second_layer_nodes': 10}\n",
      "0.278125 (0.044082) with: {'epochs': 150, 'first_layer_nodes': 10, 'learning_rate': 0.5, 'n_layers': 2, 'second_layer_nodes': 5}\n",
      "0.102644 (0.069082) with: {'epochs': 150, 'first_layer_nodes': 5, 'learning_rate': 0.01, 'n_layers': 2, 'second_layer_nodes': 20}\n",
      "0.159936 (0.027109) with: {'epochs': 150, 'first_layer_nodes': 5, 'learning_rate': 0.01, 'n_layers': 2, 'second_layer_nodes': 10}\n",
      "0.093109 (0.058425) with: {'epochs': 150, 'first_layer_nodes': 5, 'learning_rate': 0.01, 'n_layers': 2, 'second_layer_nodes': 5}\n",
      "0.201122 (0.013958) with: {'epochs': 150, 'first_layer_nodes': 5, 'learning_rate': 0.15, 'n_layers': 2, 'second_layer_nodes': 20}\n",
      "0.221955 (0.042396) with: {'epochs': 150, 'first_layer_nodes': 5, 'learning_rate': 0.15, 'n_layers': 2, 'second_layer_nodes': 10}\n",
      "0.190946 (0.033179) with: {'epochs': 150, 'first_layer_nodes': 5, 'learning_rate': 0.15, 'n_layers': 2, 'second_layer_nodes': 5}\n",
      "0.257692 (0.063043) with: {'epochs': 150, 'first_layer_nodes': 5, 'learning_rate': 0.3, 'n_layers': 2, 'second_layer_nodes': 20}\n",
      "0.232051 (0.033871) with: {'epochs': 150, 'first_layer_nodes': 5, 'learning_rate': 0.3, 'n_layers': 2, 'second_layer_nodes': 10}\n",
      "0.232051 (0.033871) with: {'epochs': 150, 'first_layer_nodes': 5, 'learning_rate': 0.3, 'n_layers': 2, 'second_layer_nodes': 5}\n",
      "0.257853 (0.020773) with: {'epochs': 150, 'first_layer_nodes': 5, 'learning_rate': 0.5, 'n_layers': 2, 'second_layer_nodes': 20}\n",
      "0.200962 (0.021110) with: {'epochs': 150, 'first_layer_nodes': 5, 'learning_rate': 0.5, 'n_layers': 2, 'second_layer_nodes': 10}\n",
      "0.200881 (0.054271) with: {'epochs': 150, 'first_layer_nodes': 5, 'learning_rate': 0.5, 'n_layers': 2, 'second_layer_nodes': 5}\n",
      "0.216426 (0.057304) with: {'epochs': 300, 'first_layer_nodes': 20, 'learning_rate': 0.01, 'n_layers': 2, 'second_layer_nodes': 20}\n",
      "0.128526 (0.050346) with: {'epochs': 300, 'first_layer_nodes': 20, 'learning_rate': 0.01, 'n_layers': 2, 'second_layer_nodes': 10}\n",
      "0.185737 (0.034294) with: {'epochs': 300, 'first_layer_nodes': 20, 'learning_rate': 0.01, 'n_layers': 2, 'second_layer_nodes': 5}\n",
      "0.262660 (0.031678) with: {'epochs': 300, 'first_layer_nodes': 20, 'learning_rate': 0.15, 'n_layers': 2, 'second_layer_nodes': 20}\n",
      "0.206170 (0.006640) with: {'epochs': 300, 'first_layer_nodes': 20, 'learning_rate': 0.15, 'n_layers': 2, 'second_layer_nodes': 10}\n",
      "0.268109 (0.063491) with: {'epochs': 300, 'first_layer_nodes': 20, 'learning_rate': 0.15, 'n_layers': 2, 'second_layer_nodes': 5}\n",
      "0.298878 (0.017697) with: {'epochs': 300, 'first_layer_nodes': 20, 'learning_rate': 0.3, 'n_layers': 2, 'second_layer_nodes': 20}\n",
      "0.247356 (0.020959) with: {'epochs': 300, 'first_layer_nodes': 20, 'learning_rate': 0.3, 'n_layers': 2, 'second_layer_nodes': 10}\n",
      "0.211458 (0.029896) with: {'epochs': 300, 'first_layer_nodes': 20, 'learning_rate': 0.3, 'n_layers': 2, 'second_layer_nodes': 5}\n",
      "0.272917 (0.058309) with: {'epochs': 300, 'first_layer_nodes': 20, 'learning_rate': 0.5, 'n_layers': 2, 'second_layer_nodes': 20}\n",
      "0.273237 (0.008459) with: {'epochs': 300, 'first_layer_nodes': 20, 'learning_rate': 0.5, 'n_layers': 2, 'second_layer_nodes': 10}\n",
      "0.257772 (0.008383) with: {'epochs': 300, 'first_layer_nodes': 20, 'learning_rate': 0.5, 'n_layers': 2, 'second_layer_nodes': 5}\n",
      "0.226763 (0.038108) with: {'epochs': 300, 'first_layer_nodes': 10, 'learning_rate': 0.01, 'n_layers': 2, 'second_layer_nodes': 20}\n",
      "0.149439 (0.025885) with: {'epochs': 300, 'first_layer_nodes': 10, 'learning_rate': 0.01, 'n_layers': 2, 'second_layer_nodes': 10}\n",
      "0.170272 (0.034217) with: {'epochs': 300, 'first_layer_nodes': 10, 'learning_rate': 0.01, 'n_layers': 2, 'second_layer_nodes': 5}\n",
      "0.206250 (0.015360) with: {'epochs': 300, 'first_layer_nodes': 10, 'learning_rate': 0.15, 'n_layers': 2, 'second_layer_nodes': 20}\n",
      "0.221554 (0.039874) with: {'epochs': 300, 'first_layer_nodes': 10, 'learning_rate': 0.15, 'n_layers': 2, 'second_layer_nodes': 10}\n",
      "0.247356 (0.057267) with: {'epochs': 300, 'first_layer_nodes': 10, 'learning_rate': 0.15, 'n_layers': 2, 'second_layer_nodes': 5}\n",
      "0.236939 (0.030442) with: {'epochs': 300, 'first_layer_nodes': 10, 'learning_rate': 0.3, 'n_layers': 2, 'second_layer_nodes': 20}\n",
      "0.237019 (0.012918) with: {'epochs': 300, 'first_layer_nodes': 10, 'learning_rate': 0.3, 'n_layers': 2, 'second_layer_nodes': 10}\n",
      "0.252244 (0.072740) with: {'epochs': 300, 'first_layer_nodes': 10, 'learning_rate': 0.3, 'n_layers': 2, 'second_layer_nodes': 5}\n",
      "0.262740 (0.032147) with: {'epochs': 300, 'first_layer_nodes': 10, 'learning_rate': 0.5, 'n_layers': 2, 'second_layer_nodes': 20}\n",
      "0.268029 (0.006507) with: {'epochs': 300, 'first_layer_nodes': 10, 'learning_rate': 0.5, 'n_layers': 2, 'second_layer_nodes': 10}\n",
      "0.268269 (0.031276) with: {'epochs': 300, 'first_layer_nodes': 10, 'learning_rate': 0.5, 'n_layers': 2, 'second_layer_nodes': 5}\n",
      "0.175641 (0.052580) with: {'epochs': 300, 'first_layer_nodes': 5, 'learning_rate': 0.01, 'n_layers': 2, 'second_layer_nodes': 20}\n",
      "0.123397 (0.049854) with: {'epochs': 300, 'first_layer_nodes': 5, 'learning_rate': 0.01, 'n_layers': 2, 'second_layer_nodes': 10}\n",
      "0.148958 (0.073269) with: {'epochs': 300, 'first_layer_nodes': 5, 'learning_rate': 0.01, 'n_layers': 2, 'second_layer_nodes': 5}\n",
      "0.221715 (0.026670) with: {'epochs': 300, 'first_layer_nodes': 5, 'learning_rate': 0.15, 'n_layers': 2, 'second_layer_nodes': 20}\n",
      "0.268109 (0.063491) with: {'epochs': 300, 'first_layer_nodes': 5, 'learning_rate': 0.15, 'n_layers': 2, 'second_layer_nodes': 10}\n",
      "0.227003 (0.033179) with: {'epochs': 300, 'first_layer_nodes': 5, 'learning_rate': 0.15, 'n_layers': 2, 'second_layer_nodes': 5}\n",
      "0.288862 (0.074458) with: {'epochs': 300, 'first_layer_nodes': 5, 'learning_rate': 0.3, 'n_layers': 2, 'second_layer_nodes': 20}\n",
      "0.257532 (0.027423) with: {'epochs': 300, 'first_layer_nodes': 5, 'learning_rate': 0.3, 'n_layers': 2, 'second_layer_nodes': 10}\n",
      "0.237099 (0.044007) with: {'epochs': 300, 'first_layer_nodes': 5, 'learning_rate': 0.3, 'n_layers': 2, 'second_layer_nodes': 5}\n",
      "0.288462 (0.029957) with: {'epochs': 300, 'first_layer_nodes': 5, 'learning_rate': 0.5, 'n_layers': 2, 'second_layer_nodes': 20}\n",
      "0.272997 (0.037108) with: {'epochs': 300, 'first_layer_nodes': 5, 'learning_rate': 0.5, 'n_layers': 2, 'second_layer_nodes': 10}\n",
      "0.190865 (0.020694) with: {'epochs': 300, 'first_layer_nodes': 5, 'learning_rate': 0.5, 'n_layers': 2, 'second_layer_nodes': 5}\n",
      "0.226843 (0.008235) with: {'epochs': 500, 'first_layer_nodes': 20, 'learning_rate': 0.01, 'n_layers': 2, 'second_layer_nodes': 20}\n",
      "0.216667 (0.034449) with: {'epochs': 500, 'first_layer_nodes': 20, 'learning_rate': 0.01, 'n_layers': 2, 'second_layer_nodes': 10}\n",
      "0.237099 (0.056560) with: {'epochs': 500, 'first_layer_nodes': 20, 'learning_rate': 0.01, 'n_layers': 2, 'second_layer_nodes': 5}\n",
      "0.267869 (0.049938) with: {'epochs': 500, 'first_layer_nodes': 20, 'learning_rate': 0.15, 'n_layers': 2, 'second_layer_nodes': 20}\n",
      "0.272917 (0.049530) with: {'epochs': 500, 'first_layer_nodes': 20, 'learning_rate': 0.15, 'n_layers': 2, 'second_layer_nodes': 10}\n",
      "0.206250 (0.038707) with: {'epochs': 500, 'first_layer_nodes': 20, 'learning_rate': 0.15, 'n_layers': 2, 'second_layer_nodes': 5}\n",
      "0.262740 (0.020057) with: {'epochs': 500, 'first_layer_nodes': 20, 'learning_rate': 0.3, 'n_layers': 2, 'second_layer_nodes': 20}\n",
      "0.278365 (0.012726) with: {'epochs': 500, 'first_layer_nodes': 20, 'learning_rate': 0.3, 'n_layers': 2, 'second_layer_nodes': 10}\n",
      "0.257772 (0.008383) with: {'epochs': 500, 'first_layer_nodes': 20, 'learning_rate': 0.3, 'n_layers': 2, 'second_layer_nodes': 5}\n",
      "0.273237 (0.019676) with: {'epochs': 500, 'first_layer_nodes': 20, 'learning_rate': 0.5, 'n_layers': 2, 'second_layer_nodes': 20}\n",
      "0.293750 (0.010843) with: {'epochs': 500, 'first_layer_nodes': 20, 'learning_rate': 0.5, 'n_layers': 2, 'second_layer_nodes': 10}\n",
      "0.293830 (0.050292) with: {'epochs': 500, 'first_layer_nodes': 20, 'learning_rate': 0.5, 'n_layers': 2, 'second_layer_nodes': 5}\n",
      "0.206250 (0.015360) with: {'epochs': 500, 'first_layer_nodes': 10, 'learning_rate': 0.01, 'n_layers': 2, 'second_layer_nodes': 20}\n",
      "0.185657 (0.013857) with: {'epochs': 500, 'first_layer_nodes': 10, 'learning_rate': 0.01, 'n_layers': 2, 'second_layer_nodes': 10}\n",
      "0.236939 (0.024721) with: {'epochs': 500, 'first_layer_nodes': 10, 'learning_rate': 0.01, 'n_layers': 2, 'second_layer_nodes': 5}\n",
      "0.247115 (0.049073) with: {'epochs': 500, 'first_layer_nodes': 10, 'learning_rate': 0.15, 'n_layers': 2, 'second_layer_nodes': 20}\n",
      "0.206250 (0.026632) with: {'epochs': 500, 'first_layer_nodes': 10, 'learning_rate': 0.15, 'n_layers': 2, 'second_layer_nodes': 10}\n",
      "0.231891 (0.011216) with: {'epochs': 500, 'first_layer_nodes': 10, 'learning_rate': 0.15, 'n_layers': 2, 'second_layer_nodes': 5}\n",
      "0.288141 (0.072264) with: {'epochs': 500, 'first_layer_nodes': 10, 'learning_rate': 0.3, 'n_layers': 2, 'second_layer_nodes': 20}\n",
      "0.242147 (0.025075) with: {'epochs': 500, 'first_layer_nodes': 10, 'learning_rate': 0.3, 'n_layers': 2, 'second_layer_nodes': 10}\n",
      "0.242308 (0.019612) with: {'epochs': 500, 'first_layer_nodes': 10, 'learning_rate': 0.3, 'n_layers': 2, 'second_layer_nodes': 5}\n",
      "0.257532 (0.046606) with: {'epochs': 500, 'first_layer_nodes': 10, 'learning_rate': 0.5, 'n_layers': 2, 'second_layer_nodes': 20}\n",
      "0.267548 (0.074585) with: {'epochs': 500, 'first_layer_nodes': 10, 'learning_rate': 0.5, 'n_layers': 2, 'second_layer_nodes': 10}\n",
      "0.237019 (0.012918) with: {'epochs': 500, 'first_layer_nodes': 10, 'learning_rate': 0.5, 'n_layers': 2, 'second_layer_nodes': 5}\n",
      "0.185657 (0.013857) with: {'epochs': 500, 'first_layer_nodes': 5, 'learning_rate': 0.01, 'n_layers': 2, 'second_layer_nodes': 20}\n",
      "0.154968 (0.051626) with: {'epochs': 500, 'first_layer_nodes': 5, 'learning_rate': 0.01, 'n_layers': 2, 'second_layer_nodes': 10}\n",
      "0.138702 (0.064931) with: {'epochs': 500, 'first_layer_nodes': 5, 'learning_rate': 0.01, 'n_layers': 2, 'second_layer_nodes': 5}\n",
      "0.190865 (0.048184) with: {'epochs': 500, 'first_layer_nodes': 5, 'learning_rate': 0.15, 'n_layers': 2, 'second_layer_nodes': 20}\n",
      "0.221635 (0.018952) with: {'epochs': 500, 'first_layer_nodes': 5, 'learning_rate': 0.15, 'n_layers': 2, 'second_layer_nodes': 10}\n",
      "0.247115 (0.086357) with: {'epochs': 500, 'first_layer_nodes': 5, 'learning_rate': 0.15, 'n_layers': 2, 'second_layer_nodes': 5}\n",
      "0.272917 (0.049530) with: {'epochs': 500, 'first_layer_nodes': 5, 'learning_rate': 0.3, 'n_layers': 2, 'second_layer_nodes': 20}\n",
      "0.257532 (0.030163) with: {'epochs': 500, 'first_layer_nodes': 5, 'learning_rate': 0.3, 'n_layers': 2, 'second_layer_nodes': 10}\n",
      "0.237260 (0.037262) with: {'epochs': 500, 'first_layer_nodes': 5, 'learning_rate': 0.3, 'n_layers': 2, 'second_layer_nodes': 5}\n",
      "0.298798 (0.024283) with: {'epochs': 500, 'first_layer_nodes': 5, 'learning_rate': 0.5, 'n_layers': 2, 'second_layer_nodes': 20}\n",
      "0.267708 (0.072669) with: {'epochs': 500, 'first_layer_nodes': 5, 'learning_rate': 0.5, 'n_layers': 2, 'second_layer_nodes': 10}\n",
      "0.283654 (0.072036) with: {'epochs': 500, 'first_layer_nodes': 5, 'learning_rate': 0.5, 'n_layers': 2, 'second_layer_nodes': 5}\n"
     ]
    }
   ],
   "source": [
    "print(\"Best: %f using %s\" % (grid_result.best_score_, grid_result.best_params_))\n",
    "means = grid_result.cv_results_['mean_test_score']\n",
    "stds = grid_result.cv_results_['std_test_score']\n",
    "params = grid_result.cv_results_['params']\n",
    "for mean, stdev, param in zip(means, stds, params):\n",
    "    print(\"%f (%f) with: %r\" % (mean, stdev, param))"
   ]
  },
  {
   "cell_type": "markdown",
   "id": "9ce4589a",
   "metadata": {},
   "source": [
    "# Fun With Flags episode 3: Religion"
   ]
  },
  {
   "cell_type": "code",
   "execution_count": 79,
   "id": "5a3d6cc9",
   "metadata": {},
   "outputs": [],
   "source": [
    "from tensorflow.keras.models import Sequential\n",
    "from tensorflow.keras.layers import Dense\n",
    "from tensorflow.keras.optimizers import SGD\n",
    "\n",
    "model = Sequential()\n",
    "\n",
    "layers = [\n",
    "    Dense(20, activation='relu', name='layer1'),\n",
    "    Dense(15, activation='relue', name='layer2'),\n",
    "    Dense(8, activation='sigmoid', name='Output')\n",
    "]\n",
    "\n",
    "for layer in layers:\n",
    "    model.add(layer)\n",
    "\n",
    "model.compile(optimizer=SGD(learning_rate=.3), loss='mse', metrics=['accuracy'])\n",
    "hist = model.fit(flagsScaled, rlgn, validation_split=.2, epochs=50, verbose=0)"
   ]
  },
  {
   "cell_type": "code",
   "execution_count": 81,
   "id": "bfbe4f0a",
   "metadata": {},
   "outputs": [
    {
     "name": "stdout",
     "output_type": "stream",
     "text": [
      "Training Error: 0.101\n",
      "Training Accuracy: 0.303\n"
     ]
    }
   ],
   "source": [
    "from sklearn.model_selection import train_test_split\n",
    "\n",
    "flagsTrain, flagsTest, rlgnTrain, rlgnTest = train_test_split(flagsScaled, rlgn, test_size = 0.20, random_state=5)\n",
    "\n",
    "pred_train= model.predict(flagsTrain)\n",
    "score, acc = model.evaluate(flagsTrain, rlgnTrain, verbose=0)\n",
    "print('Training Error: %.3f' % score)\n",
    "print('Training Accuracy: %.3f' % acc)"
   ]
  },
  {
   "cell_type": "code",
   "execution_count": 82,
   "id": "9e55a66e",
   "metadata": {},
   "outputs": [
    {
     "name": "stdout",
     "output_type": "stream",
     "text": [
      "Test Error: 0.101\n",
      "Test Accuracy: 0.333\n"
     ]
    }
   ],
   "source": [
    "pred_train= model.predict(flagsTest)\n",
    "score, acc = model.evaluate(flagsTest, rlgnTest, verbose=0)\n",
    "print('Test Error: %.3f' % score)\n",
    "print('Test Accuracy: %.3f' % acc)"
   ]
  },
  {
   "cell_type": "code",
   "execution_count": 83,
   "id": "b8bf0bd4",
   "metadata": {},
   "outputs": [
    {
     "data": {
      "image/png": "[encoded data removed]",
      "text/plain": [
       "<Figure size 432x288 with 1 Axes>"
      ]
     },
     "metadata": {
      "needs_background": "light"
     },
     "output_type": "display_data"
    }
   ],
   "source": [
    "plt.plot(hist.history['loss'])\n",
    "plt.plot(hist.history['val_loss'])\n",
    "plt.title('Model Loss Curve')\n",
    "plt.ylabel('Loss')\n",
    "plt.xlabel('Epoch')\n",
    "plt.legend(['train', 'test'], loc='upper right')\n",
    "plt.show()"
   ]
  },
  {
   "cell_type": "code",
   "execution_count": 84,
   "id": "20e7f6e3",
   "metadata": {},
   "outputs": [
    {
     "data": {
      "image/png": "[encoded data removed]",
      "text/plain": [
       "<Figure size 432x288 with 1 Axes>"
      ]
     },
     "metadata": {
      "needs_background": "light"
     },
     "output_type": "display_data"
    }
   ],
   "source": [
    "plt.plot(hist.history['accuracy'])\n",
    "plt.plot(hist.history['val_accuracy'])\n",
    "plt.title('Model Accuracy')\n",
    "plt.ylabel('Accuracy')\n",
    "plt.xlabel('Epochs')\n",
    "plt.legend(['train', 'test'], loc='upper left')\n",
    "plt.show()"
   ]
  },
  {
   "cell_type": "code",
   "execution_count": 62,
   "id": "446e512d",
   "metadata": {},
   "outputs": [
    {
     "name": "stderr",
     "output_type": "stream",
     "text": [
      "2022-05-22 22:53:24.599786: I tensorflow/stream_executor/cuda/cuda_gpu_executor.cc:936] successful NUMA node read from SysFS had negative value (-1), but there must be at least one NUMA node, so returning NUMA node zero\n",
      "2022-05-22 22:53:24.633322: W tensorflow/stream_executor/platform/default/dso_loader.cc:64] Could not load dynamic library 'libcudnn.so.8'; dlerror: libcudnn.so.8: cannot open shared object file: No such file or directory\n",
      "2022-05-22 22:53:24.633424: W tensorflow/core/common_runtime/gpu/gpu_device.cc:1850] Cannot dlopen some GPU libraries. Please make sure the missing libraries mentioned above are installed properly if you would like to use GPU. Follow the guide at https://www.tensorflow.org/install/gpu for how to download and setup the required libraries for your platform.\n",
      "Skipping registering GPU devices...\n",
      "2022-05-22 22:53:24.633812: I tensorflow/core/platform/cpu_feature_guard.cc:151] This TensorFlow binary is optimized with oneAPI Deep Neural Network Library (oneDNN) to use the following CPU instructions in performance-critical operations:  AVX2 FMA\n",
      "To enable them in other operations, rebuild TensorFlow with the appropriate compiler flags.\n",
      "2022-05-22 22:53:24.658890: I tensorflow/stream_executor/cuda/cuda_gpu_executor.cc:936] successful NUMA node read from SysFS had negative value (-1), but there must be at least one NUMA node, so returning NUMA node zero\n",
      "2022-05-22 22:53:24.688459: I tensorflow/stream_executor/cuda/cuda_gpu_executor.cc:936] successful NUMA node read from SysFS had negative value (-1), but there must be at least one NUMA node, so returning NUMA node zero\n",
      "2022-05-22 22:53:24.690040: W tensorflow/stream_executor/platform/default/dso_loader.cc:64] Could not load dynamic library 'libcudnn.so.8'; dlerror: libcudnn.so.8: cannot open shared object file: No such file or directory\n",
      "2022-05-22 22:53:24.690128: W tensorflow/core/common_runtime/gpu/gpu_device.cc:1850] Cannot dlopen some GPU libraries. Please make sure the missing libraries mentioned above are installed properly if you would like to use GPU. Follow the guide at https://www.tensorflow.org/install/gpu for how to download and setup the required libraries for your platform.\n",
      "Skipping registering GPU devices...\n",
      "2022-05-22 22:53:24.690466: I tensorflow/core/platform/cpu_feature_guard.cc:151] This TensorFlow binary is optimized with oneAPI Deep Neural Network Library (oneDNN) to use the following CPU instructions in performance-critical operations:  AVX2 FMA\n",
      "To enable them in other operations, rebuild TensorFlow with the appropriate compiler flags.\n",
      "2022-05-22 22:53:24.696420: I tensorflow/stream_executor/cuda/cuda_gpu_executor.cc:936] successful NUMA node read from SysFS had negative value (-1), but there must be at least one NUMA node, so returning NUMA node zero\n",
      "2022-05-22 22:53:24.704906: I tensorflow/stream_executor/cuda/cuda_gpu_executor.cc:936] successful NUMA node read from SysFS had negative value (-1), but there must be at least one NUMA node, so returning NUMA node zero\n",
      "2022-05-22 22:53:24.720781: W tensorflow/stream_executor/platform/default/dso_loader.cc:64] Could not load dynamic library 'libcudnn.so.8'; dlerror: libcudnn.so.8: cannot open shared object file: No such file or directory\n",
      "2022-05-22 22:53:24.720819: W tensorflow/core/common_runtime/gpu/gpu_device.cc:1850] Cannot dlopen some GPU libraries. Please make sure the missing libraries mentioned above are installed properly if you would like to use GPU. Follow the guide at https://www.tensorflow.org/install/gpu for how to download and setup the required libraries for your platform.\n",
      "Skipping registering GPU devices...\n",
      "2022-05-22 22:53:24.721116: I tensorflow/core/platform/cpu_feature_guard.cc:151] This TensorFlow binary is optimized with oneAPI Deep Neural Network Library (oneDNN) to use the following CPU instructions in performance-critical operations:  AVX2 FMA\n",
      "To enable them in other operations, rebuild TensorFlow with the appropriate compiler flags.\n",
      "2022-05-22 22:53:24.729832: W tensorflow/stream_executor/platform/default/dso_loader.cc:64] Could not load dynamic library 'libcudnn.so.8'; dlerror: libcudnn.so.8: cannot open shared object file: No such file or directory\n",
      "2022-05-22 22:53:24.730052: W tensorflow/core/common_runtime/gpu/gpu_device.cc:1850] Cannot dlopen some GPU libraries. Please make sure the missing libraries mentioned above are installed properly if you would like to use GPU. Follow the guide at https://www.tensorflow.org/install/gpu for how to download and setup the required libraries for your platform.\n",
      "Skipping registering GPU devices...\n",
      "2022-05-22 22:53:24.730493: I tensorflow/core/platform/cpu_feature_guard.cc:151] This TensorFlow binary is optimized with oneAPI Deep Neural Network Library (oneDNN) to use the following CPU instructions in performance-critical operations:  AVX2 FMA\n",
      "To enable them in other operations, rebuild TensorFlow with the appropriate compiler flags.\n",
      "2022-05-22 22:53:24.743068: W tensorflow/stream_executor/platform/default/dso_loader.cc:64] Could not load dynamic library 'libcudnn.so.8'; dlerror: libcudnn.so.8: cannot open shared object file: No such file or directory\n",
      "2022-05-22 22:53:24.743100: W tensorflow/core/common_runtime/gpu/gpu_device.cc:1850] Cannot dlopen some GPU libraries. Please make sure the missing libraries mentioned above are installed properly if you would like to use GPU. Follow the guide at https://www.tensorflow.org/install/gpu for how to download and setup the required libraries for your platform.\n",
      "Skipping registering GPU devices...\n",
      "2022-05-22 22:53:24.743395: I tensorflow/core/platform/cpu_feature_guard.cc:151] This TensorFlow binary is optimized with oneAPI Deep Neural Network Library (oneDNN) to use the following CPU instructions in performance-critical operations:  AVX2 FMA\n",
      "To enable them in other operations, rebuild TensorFlow with the appropriate compiler flags.\n",
      "2022-05-22 22:53:24.746902: I tensorflow/stream_executor/cuda/cuda_gpu_executor.cc:936] successful NUMA node read from SysFS had negative value (-1), but there must be at least one NUMA node, so returning NUMA node zero\n",
      "2022-05-22 22:53:24.761175: I tensorflow/stream_executor/cuda/cuda_gpu_executor.cc:936] successful NUMA node read from SysFS had negative value (-1), but there must be at least one NUMA node, so returning NUMA node zero\n",
      "2022-05-22 22:53:24.782469: W tensorflow/stream_executor/platform/default/dso_loader.cc:64] Could not load dynamic library 'libcudnn.so.8'; dlerror: libcudnn.so.8: cannot open shared object file: No such file or directory\n",
      "2022-05-22 22:53:24.782658: W tensorflow/core/common_runtime/gpu/gpu_device.cc:1850] Cannot dlopen some GPU libraries. Please make sure the missing libraries mentioned above are installed properly if you would like to use GPU. Follow the guide at https://www.tensorflow.org/install/gpu for how to download and setup the required libraries for your platform.\n",
      "Skipping registering GPU devices...\n",
      "2022-05-22 22:53:24.783055: I tensorflow/core/platform/cpu_feature_guard.cc:151] This TensorFlow binary is optimized with oneAPI Deep Neural Network Library (oneDNN) to use the following CPU instructions in performance-critical operations:  AVX2 FMA\n",
      "To enable them in other operations, rebuild TensorFlow with the appropriate compiler flags.\n",
      "2022-05-22 22:53:24.794975: I tensorflow/stream_executor/cuda/cuda_gpu_executor.cc:936] successful NUMA node read from SysFS had negative value (-1), but there must be at least one NUMA node, so returning NUMA node zero\n",
      "2022-05-22 22:53:24.794973: W tensorflow/stream_executor/platform/default/dso_loader.cc:64] Could not load dynamic library 'libcudnn.so.8'; dlerror: libcudnn.so.8: cannot open shared object file: No such file or directory\n",
      "2022-05-22 22:53:24.795007: W tensorflow/core/common_runtime/gpu/gpu_device.cc:1850] Cannot dlopen some GPU libraries. Please make sure the missing libraries mentioned above are installed properly if you would like to use GPU. Follow the guide at https://www.tensorflow.org/install/gpu for how to download and setup the required libraries for your platform.\n",
      "Skipping registering GPU devices...\n",
      "2022-05-22 22:53:24.795287: I tensorflow/core/platform/cpu_feature_guard.cc:151] This TensorFlow binary is optimized with oneAPI Deep Neural Network Library (oneDNN) to use the following CPU instructions in performance-critical operations:  AVX2 FMA\n",
      "To enable them in other operations, rebuild TensorFlow with the appropriate compiler flags.\n"
     ]
    },
    {
     "name": "stderr",
     "output_type": "stream",
     "text": [
      "2022-05-22 22:53:24.826402: W tensorflow/stream_executor/platform/default/dso_loader.cc:64] Could not load dynamic library 'libcudnn.so.8'; dlerror: libcudnn.so.8: cannot open shared object file: No such file or directory\n",
      "2022-05-22 22:53:24.826839: W tensorflow/core/common_runtime/gpu/gpu_device.cc:1850] Cannot dlopen some GPU libraries. Please make sure the missing libraries mentioned above are installed properly if you would like to use GPU. Follow the guide at https://www.tensorflow.org/install/gpu for how to download and setup the required libraries for your platform.\n",
      "Skipping registering GPU devices...\n",
      "2022-05-22 22:53:24.827126: I tensorflow/core/platform/cpu_feature_guard.cc:151] This TensorFlow binary is optimized with oneAPI Deep Neural Network Library (oneDNN) to use the following CPU instructions in performance-critical operations:  AVX2 FMA\n",
      "To enable them in other operations, rebuild TensorFlow with the appropriate compiler flags.\n",
      "2022-05-22 22:53:24.847550: I tensorflow/stream_executor/cuda/cuda_gpu_executor.cc:936] successful NUMA node read from SysFS had negative value (-1), but there must be at least one NUMA node, so returning NUMA node zero\n",
      "2022-05-22 22:53:24.868343: I tensorflow/stream_executor/cuda/cuda_gpu_executor.cc:936] successful NUMA node read from SysFS had negative value (-1), but there must be at least one NUMA node, so returning NUMA node zero\n",
      "2022-05-22 22:53:24.876572: I tensorflow/stream_executor/cuda/cuda_gpu_executor.cc:936] successful NUMA node read from SysFS had negative value (-1), but there must be at least one NUMA node, so returning NUMA node zero\n",
      "2022-05-22 22:53:24.877659: I tensorflow/stream_executor/cuda/cuda_gpu_executor.cc:936] successful NUMA node read from SysFS had negative value (-1), but there must be at least one NUMA node, so returning NUMA node zero\n",
      "2022-05-22 22:53:24.882063: W tensorflow/stream_executor/platform/default/dso_loader.cc:64] Could not load dynamic library 'libcudnn.so.8'; dlerror: libcudnn.so.8: cannot open shared object file: No such file or directory\n",
      "2022-05-22 22:53:24.882089: W tensorflow/core/common_runtime/gpu/gpu_device.cc:1850] Cannot dlopen some GPU libraries. Please make sure the missing libraries mentioned above are installed properly if you would like to use GPU. Follow the guide at https://www.tensorflow.org/install/gpu for how to download and setup the required libraries for your platform.\n",
      "Skipping registering GPU devices...\n",
      "2022-05-22 22:53:24.882331: I tensorflow/core/platform/cpu_feature_guard.cc:151] This TensorFlow binary is optimized with oneAPI Deep Neural Network Library (oneDNN) to use the following CPU instructions in performance-critical operations:  AVX2 FMA\n",
      "To enable them in other operations, rebuild TensorFlow with the appropriate compiler flags.\n",
      "2022-05-22 22:53:24.887860: I tensorflow/stream_executor/cuda/cuda_gpu_executor.cc:936] successful NUMA node read from SysFS had negative value (-1), but there must be at least one NUMA node, so returning NUMA node zero\n",
      "2022-05-22 22:53:24.896633: I tensorflow/stream_executor/cuda/cuda_gpu_executor.cc:936] successful NUMA node read from SysFS had negative value (-1), but there must be at least one NUMA node, so returning NUMA node zero\n",
      "2022-05-22 22:53:24.906115: W tensorflow/stream_executor/platform/default/dso_loader.cc:64] Could not load dynamic library 'libcudnn.so.8'; dlerror: libcudnn.so.8: cannot open shared object file: No such file or directory\n",
      "2022-05-22 22:53:24.906143: W tensorflow/core/common_runtime/gpu/gpu_device.cc:1850] Cannot dlopen some GPU libraries. Please make sure the missing libraries mentioned above are installed properly if you would like to use GPU. Follow the guide at https://www.tensorflow.org/install/gpu for how to download and setup the required libraries for your platform.\n",
      "Skipping registering GPU devices...\n",
      "2022-05-22 22:53:24.906378: I tensorflow/core/platform/cpu_feature_guard.cc:151] This TensorFlow binary is optimized with oneAPI Deep Neural Network Library (oneDNN) to use the following CPU instructions in performance-critical operations:  AVX2 FMA\n",
      "To enable them in other operations, rebuild TensorFlow with the appropriate compiler flags.\n",
      "2022-05-22 22:53:24.913056: W tensorflow/stream_executor/platform/default/dso_loader.cc:64] Could not load dynamic library 'libcudnn.so.8'; dlerror: libcudnn.so.8: cannot open shared object file: No such file or directory\n",
      "2022-05-22 22:53:24.913196: W tensorflow/core/common_runtime/gpu/gpu_device.cc:1850] Cannot dlopen some GPU libraries. Please make sure the missing libraries mentioned above are installed properly if you would like to use GPU. Follow the guide at https://www.tensorflow.org/install/gpu for how to download and setup the required libraries for your platform.\n",
      "Skipping registering GPU devices...\n",
      "2022-05-22 22:53:24.913463: I tensorflow/core/platform/cpu_feature_guard.cc:151] This TensorFlow binary is optimized with oneAPI Deep Neural Network Library (oneDNN) to use the following CPU instructions in performance-critical operations:  AVX2 FMA\n",
      "To enable them in other operations, rebuild TensorFlow with the appropriate compiler flags.\n",
      "2022-05-22 22:53:24.916636: W tensorflow/stream_executor/platform/default/dso_loader.cc:64] Could not load dynamic library 'libcudnn.so.8'; dlerror: libcudnn.so.8: cannot open shared object file: No such file or directory\n",
      "2022-05-22 22:53:24.916657: W tensorflow/core/common_runtime/gpu/gpu_device.cc:1850] Cannot dlopen some GPU libraries. Please make sure the missing libraries mentioned above are installed properly if you would like to use GPU. Follow the guide at https://www.tensorflow.org/install/gpu for how to download and setup the required libraries for your platform.\n",
      "Skipping registering GPU devices...\n",
      "2022-05-22 22:53:24.916881: I tensorflow/core/platform/cpu_feature_guard.cc:151] This TensorFlow binary is optimized with oneAPI Deep Neural Network Library (oneDNN) to use the following CPU instructions in performance-critical operations:  AVX2 FMA\n",
      "To enable them in other operations, rebuild TensorFlow with the appropriate compiler flags.\n",
      "2022-05-22 22:53:24.917628: W tensorflow/stream_executor/platform/default/dso_loader.cc:64] Could not load dynamic library 'libcudnn.so.8'; dlerror: libcudnn.so.8: cannot open shared object file: No such file or directory\n",
      "2022-05-22 22:53:24.917647: W tensorflow/core/common_runtime/gpu/gpu_device.cc:1850] Cannot dlopen some GPU libraries. Please make sure the missing libraries mentioned above are installed properly if you would like to use GPU. Follow the guide at https://www.tensorflow.org/install/gpu for how to download and setup the required libraries for your platform.\n",
      "Skipping registering GPU devices...\n",
      "2022-05-22 22:53:24.917878: I tensorflow/core/platform/cpu_feature_guard.cc:151] This TensorFlow binary is optimized with oneAPI Deep Neural Network Library (oneDNN) to use the following CPU instructions in performance-critical operations:  AVX2 FMA\n",
      "To enable them in other operations, rebuild TensorFlow with the appropriate compiler flags.\n",
      "2022-05-22 22:53:24.935669: I tensorflow/stream_executor/cuda/cuda_gpu_executor.cc:936] successful NUMA node read from SysFS had negative value (-1), but there must be at least one NUMA node, so returning NUMA node zero\n",
      "2022-05-22 22:53:24.943713: W tensorflow/stream_executor/platform/default/dso_loader.cc:64] Could not load dynamic library 'libcudnn.so.8'; dlerror: libcudnn.so.8: cannot open shared object file: No such file or directory\n",
      "2022-05-22 22:53:24.943741: W tensorflow/core/common_runtime/gpu/gpu_device.cc:1850] Cannot dlopen some GPU libraries. Please make sure the missing libraries mentioned above are installed properly if you would like to use GPU. Follow the guide at https://www.tensorflow.org/install/gpu for how to download and setup the required libraries for your platform.\n",
      "Skipping registering GPU devices...\n",
      "2022-05-22 22:53:24.943982: I tensorflow/core/platform/cpu_feature_guard.cc:151] This TensorFlow binary is optimized with oneAPI Deep Neural Network Library (oneDNN) to use the following CPU instructions in performance-critical operations:  AVX2 FMA\n",
      "To enable them in other operations, rebuild TensorFlow with the appropriate compiler flags.\n",
      "2022-05-22 22:53:24.959209: W tensorflow/stream_executor/platform/default/dso_loader.cc:64] Could not load dynamic library 'libcudnn.so.8'; dlerror: libcudnn.so.8: cannot open shared object file: No such file or directory\n",
      "2022-05-22 22:53:24.959239: W tensorflow/core/common_runtime/gpu/gpu_device.cc:1850] Cannot dlopen some GPU libraries. Please make sure the missing libraries mentioned above are installed properly if you would like to use GPU. Follow the guide at https://www.tensorflow.org/install/gpu for how to download and setup the required libraries for your platform.\n",
      "Skipping registering GPU devices...\n",
      "2022-05-22 22:53:24.959482: I tensorflow/core/platform/cpu_feature_guard.cc:151] This TensorFlow binary is optimized with oneAPI Deep Neural Network Library (oneDNN) to use the following CPU instructions in performance-critical operations:  AVX2 FMA\n",
      "To enable them in other operations, rebuild TensorFlow with the appropriate compiler flags.\n",
      "2022-05-22 22:53:24.972720: I tensorflow/stream_executor/cuda/cuda_gpu_executor.cc:936] successful NUMA node read from SysFS had negative value (-1), but there must be at least one NUMA node, so returning NUMA node zero\n",
      "2022-05-22 22:53:25.005327: W tensorflow/stream_executor/platform/default/dso_loader.cc:64] Could not load dynamic library 'libcudnn.so.8'; dlerror: libcudnn.so.8: cannot open shared object file: No such file or directory\n",
      "2022-05-22 22:53:25.005351: W tensorflow/core/common_runtime/gpu/gpu_device.cc:1850] Cannot dlopen some GPU libraries. Please make sure the missing libraries mentioned above are installed properly if you would like to use GPU. Follow the guide at https://www.tensorflow.org/install/gpu for how to download and setup the required libraries for your platform.\n",
      "Skipping registering GPU devices...\n",
      "2022-05-22 22:53:25.005998: I tensorflow/core/platform/cpu_feature_guard.cc:151] This TensorFlow binary is optimized with oneAPI Deep Neural Network Library (oneDNN) to use the following CPU instructions in performance-critical operations:  AVX2 FMA\n",
      "To enable them in other operations, rebuild TensorFlow with the appropriate compiler flags.\n"
     ]
    },
    {
     "name": "stderr",
     "output_type": "stream",
     "text": [
      "WARNING:tensorflow:5 out of the last 12 calls to <function Model.make_test_function.<locals>.test_function at 0x7f4060223ee0> triggered tf.function retracing. Tracing is expensive and the excessive number of tracings could be due to (1) creating @tf.function repeatedly in a loop, (2) passing tensors with different shapes, (3) passing Python objects instead of tensors. For (1), please define your @tf.function outside of the loop. For (2), @tf.function has experimental_relax_shapes=True option that relaxes argument shapes that can avoid unnecessary retracing. For (3), please refer to https://www.tensorflow.org/guide/function#controlling_retracing and https://www.tensorflow.org/api_docs/python/tf/function for  more details.\n",
      "WARNING:tensorflow:5 out of the last 13 calls to <function Model.make_test_function.<locals>.test_function at 0x7f414c418dc0> triggered tf.function retracing. Tracing is expensive and the excessive number of tracings could be due to (1) creating @tf.function repeatedly in a loop, (2) passing tensors with different shapes, (3) passing Python objects instead of tensors. For (1), please define your @tf.function outside of the loop. For (2), @tf.function has experimental_relax_shapes=True option that relaxes argument shapes that can avoid unnecessary retracing. For (3), please refer to https://www.tensorflow.org/guide/function#controlling_retracing and https://www.tensorflow.org/api_docs/python/tf/function for  more details.\n",
      "WARNING:tensorflow:5 out of the last 10 calls to <function Model.make_test_function.<locals>.test_function at 0x7fa1dc777dc0> triggered tf.function retracing. Tracing is expensive and the excessive number of tracings could be due to (1) creating @tf.function repeatedly in a loop, (2) passing tensors with different shapes, (3) passing Python objects instead of tensors. For (1), please define your @tf.function outside of the loop. For (2), @tf.function has experimental_relax_shapes=True option that relaxes argument shapes that can avoid unnecessary retracing. For (3), please refer to https://www.tensorflow.org/guide/function#controlling_retracing and https://www.tensorflow.org/api_docs/python/tf/function for  more details.\n",
      "WARNING:tensorflow:5 out of the last 12 calls to <function Model.make_test_function.<locals>.test_function at 0x7fcd104d9dc0> triggered tf.function retracing. Tracing is expensive and the excessive number of tracings could be due to (1) creating @tf.function repeatedly in a loop, (2) passing tensors with different shapes, (3) passing Python objects instead of tensors. For (1), please define your @tf.function outside of the loop. For (2), @tf.function has experimental_relax_shapes=True option that relaxes argument shapes that can avoid unnecessary retracing. For (3), please refer to https://www.tensorflow.org/guide/function#controlling_retracing and https://www.tensorflow.org/api_docs/python/tf/function for  more details.\n",
      "WARNING:tensorflow:5 out of the last 12 calls to <function Model.make_test_function.<locals>.test_function at 0x7f36585e8dc0> triggered tf.function retracing. Tracing is expensive and the excessive number of tracings could be due to (1) creating @tf.function repeatedly in a loop, (2) passing tensors with different shapes, (3) passing Python objects instead of tensors. For (1), please define your @tf.function outside of the loop. For (2), @tf.function has experimental_relax_shapes=True option that relaxes argument shapes that can avoid unnecessary retracing. For (3), please refer to https://www.tensorflow.org/guide/function#controlling_retracing and https://www.tensorflow.org/api_docs/python/tf/function for  more details.\n",
      "WARNING:tensorflow:5 out of the last 12 calls to <function Model.make_test_function.<locals>.test_function at 0x7f24a8169ee0> triggered tf.function retracing. Tracing is expensive and the excessive number of tracings could be due to (1) creating @tf.function repeatedly in a loop, (2) passing tensors with different shapes, (3) passing Python objects instead of tensors. For (1), please define your @tf.function outside of the loop. For (2), @tf.function has experimental_relax_shapes=True option that relaxes argument shapes that can avoid unnecessary retracing. For (3), please refer to https://www.tensorflow.org/guide/function#controlling_retracing and https://www.tensorflow.org/api_docs/python/tf/function for  more details.\n",
      "WARNING:tensorflow:5 out of the last 12 calls to <function Model.make_test_function.<locals>.test_function at 0x7f58d8488dc0> triggered tf.function retracing. Tracing is expensive and the excessive number of tracings could be due to (1) creating @tf.function repeatedly in a loop, (2) passing tensors with different shapes, (3) passing Python objects instead of tensors. For (1), please define your @tf.function outside of the loop. For (2), @tf.function has experimental_relax_shapes=True option that relaxes argument shapes that can avoid unnecessary retracing. For (3), please refer to https://www.tensorflow.org/guide/function#controlling_retracing and https://www.tensorflow.org/api_docs/python/tf/function for  more details.\n",
      "WARNING:tensorflow:5 out of the last 11 calls to <function Model.make_test_function.<locals>.test_function at 0x7f9dd8388ee0> triggered tf.function retracing. Tracing is expensive and the excessive number of tracings could be due to (1) creating @tf.function repeatedly in a loop, (2) passing tensors with different shapes, (3) passing Python objects instead of tensors. For (1), please define your @tf.function outside of the loop. For (2), @tf.function has experimental_relax_shapes=True option that relaxes argument shapes that can avoid unnecessary retracing. For (3), please refer to https://www.tensorflow.org/guide/function#controlling_retracing and https://www.tensorflow.org/api_docs/python/tf/function for  more details.\n",
      "WARNING:tensorflow:5 out of the last 13 calls to <function Model.make_test_function.<locals>.test_function at 0x7f414c2b4430> triggered tf.function retracing. Tracing is expensive and the excessive number of tracings could be due to (1) creating @tf.function repeatedly in a loop, (2) passing tensors with different shapes, (3) passing Python objects instead of tensors. For (1), please define your @tf.function outside of the loop. For (2), @tf.function has experimental_relax_shapes=True option that relaxes argument shapes that can avoid unnecessary retracing. For (3), please refer to https://www.tensorflow.org/guide/function#controlling_retracing and https://www.tensorflow.org/api_docs/python/tf/function for  more details.\n",
      "WARNING:tensorflow:5 out of the last 11 calls to <function Model.make_test_function.<locals>.test_function at 0x7f7d680cddc0> triggered tf.function retracing. Tracing is expensive and the excessive number of tracings could be due to (1) creating @tf.function repeatedly in a loop, (2) passing tensors with different shapes, (3) passing Python objects instead of tensors. For (1), please define your @tf.function outside of the loop. For (2), @tf.function has experimental_relax_shapes=True option that relaxes argument shapes that can avoid unnecessary retracing. For (3), please refer to https://www.tensorflow.org/guide/function#controlling_retracing and https://www.tensorflow.org/api_docs/python/tf/function for  more details.\n",
      "WARNING:tensorflow:5 out of the last 11 calls to <function Model.make_test_function.<locals>.test_function at 0x7fa1dc614430> triggered tf.function retracing. Tracing is expensive and the excessive number of tracings could be due to (1) creating @tf.function repeatedly in a loop, (2) passing tensors with different shapes, (3) passing Python objects instead of tensors. For (1), please define your @tf.function outside of the loop. For (2), @tf.function has experimental_relax_shapes=True option that relaxes argument shapes that can avoid unnecessary retracing. For (3), please refer to https://www.tensorflow.org/guide/function#controlling_retracing and https://www.tensorflow.org/api_docs/python/tf/function for  more details.\n",
      "WARNING:tensorflow:5 out of the last 13 calls to <function Model.make_test_function.<locals>.test_function at 0x7fd980046dc0> triggered tf.function retracing. Tracing is expensive and the excessive number of tracings could be due to (1) creating @tf.function repeatedly in a loop, (2) passing tensors with different shapes, (3) passing Python objects instead of tensors. For (1), please define your @tf.function outside of the loop. For (2), @tf.function has experimental_relax_shapes=True option that relaxes argument shapes that can avoid unnecessary retracing. For (3), please refer to https://www.tensorflow.org/guide/function#controlling_retracing and https://www.tensorflow.org/api_docs/python/tf/function for  more details.\n",
      "WARNING:tensorflow:5 out of the last 12 calls to <function Model.make_test_function.<locals>.test_function at 0x7f36584ee430> triggered tf.function retracing. Tracing is expensive and the excessive number of tracings could be due to (1) creating @tf.function repeatedly in a loop, (2) passing tensors with different shapes, (3) passing Python objects instead of tensors. For (1), please define your @tf.function outside of the loop. For (2), @tf.function has experimental_relax_shapes=True option that relaxes argument shapes that can avoid unnecessary retracing. For (3), please refer to https://www.tensorflow.org/guide/function#controlling_retracing and https://www.tensorflow.org/api_docs/python/tf/function for  more details.\n"
     ]
    },
    {
     "name": "stderr",
     "output_type": "stream",
     "text": [
      "WARNING:tensorflow:5 out of the last 11 calls to <function Model.make_test_function.<locals>.test_function at 0x7f2c0c639dc0> triggered tf.function retracing. Tracing is expensive and the excessive number of tracings could be due to (1) creating @tf.function repeatedly in a loop, (2) passing tensors with different shapes, (3) passing Python objects instead of tensors. For (1), please define your @tf.function outside of the loop. For (2), @tf.function has experimental_relax_shapes=True option that relaxes argument shapes that can avoid unnecessary retracing. For (3), please refer to https://www.tensorflow.org/guide/function#controlling_retracing and https://www.tensorflow.org/api_docs/python/tf/function for  more details.\n",
      "WARNING:tensorflow:5 out of the last 13 calls to <function Model.make_test_function.<locals>.test_function at 0x7f6ee8147dc0> triggered tf.function retracing. Tracing is expensive and the excessive number of tracings could be due to (1) creating @tf.function repeatedly in a loop, (2) passing tensors with different shapes, (3) passing Python objects instead of tensors. For (1), please define your @tf.function outside of the loop. For (2), @tf.function has experimental_relax_shapes=True option that relaxes argument shapes that can avoid unnecessary retracing. For (3), please refer to https://www.tensorflow.org/guide/function#controlling_retracing and https://www.tensorflow.org/api_docs/python/tf/function for  more details.\n",
      "WARNING:tensorflow:5 out of the last 12 calls to <function Model.make_test_function.<locals>.test_function at 0x7fe2e01afdc0> triggered tf.function retracing. Tracing is expensive and the excessive number of tracings could be due to (1) creating @tf.function repeatedly in a loop, (2) passing tensors with different shapes, (3) passing Python objects instead of tensors. For (1), please define your @tf.function outside of the loop. For (2), @tf.function has experimental_relax_shapes=True option that relaxes argument shapes that can avoid unnecessary retracing. For (3), please refer to https://www.tensorflow.org/guide/function#controlling_retracing and https://www.tensorflow.org/api_docs/python/tf/function for  more details.\n",
      "WARNING:tensorflow:5 out of the last 12 calls to <function Model.make_test_function.<locals>.test_function at 0x7f58d83a5430> triggered tf.function retracing. Tracing is expensive and the excessive number of tracings could be due to (1) creating @tf.function repeatedly in a loop, (2) passing tensors with different shapes, (3) passing Python objects instead of tensors. For (1), please define your @tf.function outside of the loop. For (2), @tf.function has experimental_relax_shapes=True option that relaxes argument shapes that can avoid unnecessary retracing. For (3), please refer to https://www.tensorflow.org/guide/function#controlling_retracing and https://www.tensorflow.org/api_docs/python/tf/function for  more details.\n",
      "WARNING:tensorflow:5 out of the last 12 calls to <function Model.make_test_function.<locals>.test_function at 0x7f24a806e430> triggered tf.function retracing. Tracing is expensive and the excessive number of tracings could be due to (1) creating @tf.function repeatedly in a loop, (2) passing tensors with different shapes, (3) passing Python objects instead of tensors. For (1), please define your @tf.function outside of the loop. For (2), @tf.function has experimental_relax_shapes=True option that relaxes argument shapes that can avoid unnecessary retracing. For (3), please refer to https://www.tensorflow.org/guide/function#controlling_retracing and https://www.tensorflow.org/api_docs/python/tf/function for  more details.\n",
      "WARNING:tensorflow:5 out of the last 12 calls to <function Model.make_test_function.<locals>.test_function at 0x7fb00b2dcdc0> triggered tf.function retracing. Tracing is expensive and the excessive number of tracings could be due to (1) creating @tf.function repeatedly in a loop, (2) passing tensors with different shapes, (3) passing Python objects instead of tensors. For (1), please define your @tf.function outside of the loop. For (2), @tf.function has experimental_relax_shapes=True option that relaxes argument shapes that can avoid unnecessary retracing. For (3), please refer to https://www.tensorflow.org/guide/function#controlling_retracing and https://www.tensorflow.org/api_docs/python/tf/function for  more details.\n",
      "WARNING:tensorflow:5 out of the last 10 calls to <function Model.make_test_function.<locals>.test_function at 0x7f4904201dc0> triggered tf.function retracing. Tracing is expensive and the excessive number of tracings could be due to (1) creating @tf.function repeatedly in a loop, (2) passing tensors with different shapes, (3) passing Python objects instead of tensors. For (1), please define your @tf.function outside of the loop. For (2), @tf.function has experimental_relax_shapes=True option that relaxes argument shapes that can avoid unnecessary retracing. For (3), please refer to https://www.tensorflow.org/guide/function#controlling_retracing and https://www.tensorflow.org/api_docs/python/tf/function for  more details.\n",
      "WARNING:tensorflow:5 out of the last 12 calls to <function Model.make_test_function.<locals>.test_function at 0x7f406013e430> triggered tf.function retracing. Tracing is expensive and the excessive number of tracings could be due to (1) creating @tf.function repeatedly in a loop, (2) passing tensors with different shapes, (3) passing Python objects instead of tensors. For (1), please define your @tf.function outside of the loop. For (2), @tf.function has experimental_relax_shapes=True option that relaxes argument shapes that can avoid unnecessary retracing. For (3), please refer to https://www.tensorflow.org/guide/function#controlling_retracing and https://www.tensorflow.org/api_docs/python/tf/function for  more details.\n",
      "WARNING:tensorflow:5 out of the last 10 calls to <function Model.make_test_function.<locals>.test_function at 0x7fe8d06f7dc0> triggered tf.function retracing. Tracing is expensive and the excessive number of tracings could be due to (1) creating @tf.function repeatedly in a loop, (2) passing tensors with different shapes, (3) passing Python objects instead of tensors. For (1), please define your @tf.function outside of the loop. For (2), @tf.function has experimental_relax_shapes=True option that relaxes argument shapes that can avoid unnecessary retracing. For (3), please refer to https://www.tensorflow.org/guide/function#controlling_retracing and https://www.tensorflow.org/api_docs/python/tf/function for  more details.\n",
      "WARNING:tensorflow:5 out of the last 11 calls to <function Model.make_test_function.<locals>.test_function at 0x7fcd103db430> triggered tf.function retracing. Tracing is expensive and the excessive number of tracings could be due to (1) creating @tf.function repeatedly in a loop, (2) passing tensors with different shapes, (3) passing Python objects instead of tensors. For (1), please define your @tf.function outside of the loop. For (2), @tf.function has experimental_relax_shapes=True option that relaxes argument shapes that can avoid unnecessary retracing. For (3), please refer to https://www.tensorflow.org/guide/function#controlling_retracing and https://www.tensorflow.org/api_docs/python/tf/function for  more details.\n",
      "WARNING:tensorflow:5 out of the last 11 calls to <function Model.make_test_function.<locals>.test_function at 0x7f7d607d3430> triggered tf.function retracing. Tracing is expensive and the excessive number of tracings could be due to (1) creating @tf.function repeatedly in a loop, (2) passing tensors with different shapes, (3) passing Python objects instead of tensors. For (1), please define your @tf.function outside of the loop. For (2), @tf.function has experimental_relax_shapes=True option that relaxes argument shapes that can avoid unnecessary retracing. For (3), please refer to https://www.tensorflow.org/guide/function#controlling_retracing and https://www.tensorflow.org/api_docs/python/tf/function for  more details.\n",
      "WARNING:tensorflow:6 out of the last 13 calls to <function Model.make_test_function.<locals>.test_function at 0x7f9dd828d430> triggered tf.function retracing. Tracing is expensive and the excessive number of tracings could be due to (1) creating @tf.function repeatedly in a loop, (2) passing tensors with different shapes, (3) passing Python objects instead of tensors. For (1), please define your @tf.function outside of the loop. For (2), @tf.function has experimental_relax_shapes=True option that relaxes argument shapes that can avoid unnecessary retracing. For (3), please refer to https://www.tensorflow.org/guide/function#controlling_retracing and https://www.tensorflow.org/api_docs/python/tf/function for  more details.\n"
     ]
    },
    {
     "name": "stderr",
     "output_type": "stream",
     "text": [
      "WARNING:tensorflow:5 out of the last 13 calls to <function Model.make_test_function.<locals>.test_function at 0x7fd9505fe430> triggered tf.function retracing. Tracing is expensive and the excessive number of tracings could be due to (1) creating @tf.function repeatedly in a loop, (2) passing tensors with different shapes, (3) passing Python objects instead of tensors. For (1), please define your @tf.function outside of the loop. For (2), @tf.function has experimental_relax_shapes=True option that relaxes argument shapes that can avoid unnecessary retracing. For (3), please refer to https://www.tensorflow.org/guide/function#controlling_retracing and https://www.tensorflow.org/api_docs/python/tf/function for  more details.\n",
      "WARNING:tensorflow:5 out of the last 12 calls to <function Model.make_test_function.<locals>.test_function at 0x7fb00b27a430> triggered tf.function retracing. Tracing is expensive and the excessive number of tracings could be due to (1) creating @tf.function repeatedly in a loop, (2) passing tensors with different shapes, (3) passing Python objects instead of tensors. For (1), please define your @tf.function outside of the loop. For (2), @tf.function has experimental_relax_shapes=True option that relaxes argument shapes that can avoid unnecessary retracing. For (3), please refer to https://www.tensorflow.org/guide/function#controlling_retracing and https://www.tensorflow.org/api_docs/python/tf/function for  more details.\n",
      "WARNING:tensorflow:6 out of the last 12 calls to <function Model.make_test_function.<locals>.test_function at 0x7fe8d0593430> triggered tf.function retracing. Tracing is expensive and the excessive number of tracings could be due to (1) creating @tf.function repeatedly in a loop, (2) passing tensors with different shapes, (3) passing Python objects instead of tensors. For (1), please define your @tf.function outside of the loop. For (2), @tf.function has experimental_relax_shapes=True option that relaxes argument shapes that can avoid unnecessary retracing. For (3), please refer to https://www.tensorflow.org/guide/function#controlling_retracing and https://www.tensorflow.org/api_docs/python/tf/function for  more details.\n",
      "WARNING:tensorflow:5 out of the last 11 calls to <function Model.make_test_function.<locals>.test_function at 0x7f2c0c553430> triggered tf.function retracing. Tracing is expensive and the excessive number of tracings could be due to (1) creating @tf.function repeatedly in a loop, (2) passing tensors with different shapes, (3) passing Python objects instead of tensors. For (1), please define your @tf.function outside of the loop. For (2), @tf.function has experimental_relax_shapes=True option that relaxes argument shapes that can avoid unnecessary retracing. For (3), please refer to https://www.tensorflow.org/guide/function#controlling_retracing and https://www.tensorflow.org/api_docs/python/tf/function for  more details.\n",
      "WARNING:tensorflow:5 out of the last 13 calls to <function Model.make_test_function.<locals>.test_function at 0x7f6ee07d4430> triggered tf.function retracing. Tracing is expensive and the excessive number of tracings could be due to (1) creating @tf.function repeatedly in a loop, (2) passing tensors with different shapes, (3) passing Python objects instead of tensors. For (1), please define your @tf.function outside of the loop. For (2), @tf.function has experimental_relax_shapes=True option that relaxes argument shapes that can avoid unnecessary retracing. For (3), please refer to https://www.tensorflow.org/guide/function#controlling_retracing and https://www.tensorflow.org/api_docs/python/tf/function for  more details.\n",
      "WARNING:tensorflow:5 out of the last 12 calls to <function Model.make_test_function.<locals>.test_function at 0x7fe2e00cc430> triggered tf.function retracing. Tracing is expensive and the excessive number of tracings could be due to (1) creating @tf.function repeatedly in a loop, (2) passing tensors with different shapes, (3) passing Python objects instead of tensors. For (1), please define your @tf.function outside of the loop. For (2), @tf.function has experimental_relax_shapes=True option that relaxes argument shapes that can avoid unnecessary retracing. For (3), please refer to https://www.tensorflow.org/guide/function#controlling_retracing and https://www.tensorflow.org/api_docs/python/tf/function for  more details.\n",
      "WARNING:tensorflow:5 out of the last 11 calls to <function Model.make_test_function.<locals>.test_function at 0x7f490409e430> triggered tf.function retracing. Tracing is expensive and the excessive number of tracings could be due to (1) creating @tf.function repeatedly in a loop, (2) passing tensors with different shapes, (3) passing Python objects instead of tensors. For (1), please define your @tf.function outside of the loop. For (2), @tf.function has experimental_relax_shapes=True option that relaxes argument shapes that can avoid unnecessary retracing. For (3), please refer to https://www.tensorflow.org/guide/function#controlling_retracing and https://www.tensorflow.org/api_docs/python/tf/function for  more details.\n"
     ]
    }
   ],
   "source": [
    "import warnings\n",
    "warnings.filterwarnings(\"ignore\", category=DeprecationWarning)\n",
    "import os\n",
    "os.environ['CUDA_VISIBLE_DEVICES'] = \"0\"\n",
    "from sklearn.model_selection import GridSearchCV, RandomizedSearchCV\n",
    "from keras.models import Sequential\n",
    "from keras.layers import Dense, Dropout\n",
    "from keras.wrappers.scikit_learn import KerasClassifier\n",
    "#from keras.optimizers import Adam\n",
    "\n",
    "def createmodel(n_layers, first_layer_nodes, second_layer_nodes, learning_rate=.1):\n",
    "    model = Sequential()\n",
    "    \n",
    "    #n_nodes = FindLayerNodesLinear(n_layers, first_layer_nodes, last_layer_nodes)\n",
    "    for i in range(2):\n",
    "        if i==1:\n",
    "            model.add(Dense(first_layer_nodes, activation='relu'))\n",
    "        else:\n",
    "            model.add(Dense(second_layer_nodes, activation='relu'))\n",
    "            \n",
    "    #Finally, the output layer should have a single node in binary classification\n",
    "    model.add(Dense(8, activation='sigmoid'))\n",
    "    model.compile(optimizer=SGD(learning_rate=learning_rate), \n",
    "                  loss='mse', metrics = [\"accuracy\"]) #note: metrics could also be 'mse'\n",
    "    \n",
    "    return model\n",
    "\n",
    "param_grid = dict(n_layers=[2], first_layer_nodes = [20, 10, 5], second_layer_nodes=[20,10,5],\n",
    "                  epochs = [150, 300, 500], learning_rate= [.01, .15, .3, .5])\n",
    "\n",
    "model = KerasClassifier(build_fn=createmodel, verbose=0)\n",
    "grid = GridSearchCV(estimator=model, param_grid=param_grid, n_jobs=-1, cv=3)\n",
    "grid_result = grid.fit(flagsScaled, rlgn)"
   ]
  },
  {
   "cell_type": "code",
   "execution_count": 63,
   "id": "aa4d3776",
   "metadata": {},
   "outputs": [
    {
     "name": "stdout",
     "output_type": "stream",
     "text": [
      "Best: 0.432933 using {'epochs': 300, 'first_layer_nodes': 10, 'learning_rate': 0.3, 'n_layers': 2, 'second_layer_nodes': 20}\n",
      "0.231250 (0.099036) with: {'epochs': 150, 'first_layer_nodes': 20, 'learning_rate': 0.01, 'n_layers': 2, 'second_layer_nodes': 20}\n",
      "0.159936 (0.059793) with: {'epochs': 150, 'first_layer_nodes': 20, 'learning_rate': 0.01, 'n_layers': 2, 'second_layer_nodes': 10}\n",
      "0.185577 (0.075381) with: {'epochs': 150, 'first_layer_nodes': 20, 'learning_rate': 0.01, 'n_layers': 2, 'second_layer_nodes': 5}\n",
      "0.330048 (0.037633) with: {'epochs': 150, 'first_layer_nodes': 20, 'learning_rate': 0.15, 'n_layers': 2, 'second_layer_nodes': 20}\n",
      "0.361138 (0.043404) with: {'epochs': 150, 'first_layer_nodes': 20, 'learning_rate': 0.15, 'n_layers': 2, 'second_layer_nodes': 10}\n",
      "0.325000 (0.040063) with: {'epochs': 150, 'first_layer_nodes': 20, 'learning_rate': 0.15, 'n_layers': 2, 'second_layer_nodes': 5}\n",
      "0.422676 (0.018851) with: {'epochs': 150, 'first_layer_nodes': 20, 'learning_rate': 0.3, 'n_layers': 2, 'second_layer_nodes': 20}\n",
      "0.381250 (0.068175) with: {'epochs': 150, 'first_layer_nodes': 20, 'learning_rate': 0.3, 'n_layers': 2, 'second_layer_nodes': 10}\n",
      "0.293830 (0.012745) with: {'epochs': 150, 'first_layer_nodes': 20, 'learning_rate': 0.3, 'n_layers': 2, 'second_layer_nodes': 5}\n",
      "0.427804 (0.037917) with: {'epochs': 150, 'first_layer_nodes': 20, 'learning_rate': 0.5, 'n_layers': 2, 'second_layer_nodes': 20}\n",
      "0.381490 (0.044437) with: {'epochs': 150, 'first_layer_nodes': 20, 'learning_rate': 0.5, 'n_layers': 2, 'second_layer_nodes': 10}\n",
      "0.381410 (0.025529) with: {'epochs': 150, 'first_layer_nodes': 20, 'learning_rate': 0.5, 'n_layers': 2, 'second_layer_nodes': 5}\n",
      "0.241827 (0.060837) with: {'epochs': 150, 'first_layer_nodes': 10, 'learning_rate': 0.01, 'n_layers': 2, 'second_layer_nodes': 20}\n",
      "0.169631 (0.099334) with: {'epochs': 150, 'first_layer_nodes': 10, 'learning_rate': 0.01, 'n_layers': 2, 'second_layer_nodes': 10}\n",
      "0.179888 (0.071957) with: {'epochs': 150, 'first_layer_nodes': 10, 'learning_rate': 0.01, 'n_layers': 2, 'second_layer_nodes': 5}\n",
      "0.304006 (0.017274) with: {'epochs': 150, 'first_layer_nodes': 10, 'learning_rate': 0.15, 'n_layers': 2, 'second_layer_nodes': 20}\n",
      "0.309375 (0.023039) with: {'epochs': 150, 'first_layer_nodes': 10, 'learning_rate': 0.15, 'n_layers': 2, 'second_layer_nodes': 10}\n",
      "0.340625 (0.060463) with: {'epochs': 150, 'first_layer_nodes': 10, 'learning_rate': 0.15, 'n_layers': 2, 'second_layer_nodes': 5}\n",
      "0.402163 (0.034358) with: {'epochs': 150, 'first_layer_nodes': 10, 'learning_rate': 0.3, 'n_layers': 2, 'second_layer_nodes': 20}\n",
      "0.381731 (0.046758) with: {'epochs': 150, 'first_layer_nodes': 10, 'learning_rate': 0.3, 'n_layers': 2, 'second_layer_nodes': 10}\n",
      "0.299599 (0.091988) with: {'epochs': 150, 'first_layer_nodes': 10, 'learning_rate': 0.3, 'n_layers': 2, 'second_layer_nodes': 5}\n",
      "0.387099 (0.068784) with: {'epochs': 150, 'first_layer_nodes': 10, 'learning_rate': 0.5, 'n_layers': 2, 'second_layer_nodes': 20}\n",
      "0.355369 (0.055954) with: {'epochs': 150, 'first_layer_nodes': 10, 'learning_rate': 0.5, 'n_layers': 2, 'second_layer_nodes': 10}\n",
      "0.365705 (0.057865) with: {'epochs': 150, 'first_layer_nodes': 10, 'learning_rate': 0.5, 'n_layers': 2, 'second_layer_nodes': 5}\n",
      "0.170673 (0.096483) with: {'epochs': 150, 'first_layer_nodes': 5, 'learning_rate': 0.01, 'n_layers': 2, 'second_layer_nodes': 20}\n",
      "0.113862 (0.084730) with: {'epochs': 150, 'first_layer_nodes': 5, 'learning_rate': 0.01, 'n_layers': 2, 'second_layer_nodes': 10}\n",
      "0.160016 (0.030483) with: {'epochs': 150, 'first_layer_nodes': 5, 'learning_rate': 0.01, 'n_layers': 2, 'second_layer_nodes': 5}\n",
      "0.319551 (0.038013) with: {'epochs': 150, 'first_layer_nodes': 5, 'learning_rate': 0.15, 'n_layers': 2, 'second_layer_nodes': 20}\n",
      "0.309375 (0.023039) with: {'epochs': 150, 'first_layer_nodes': 5, 'learning_rate': 0.15, 'n_layers': 2, 'second_layer_nodes': 10}\n",
      "0.309375 (0.023039) with: {'epochs': 150, 'first_layer_nodes': 5, 'learning_rate': 0.15, 'n_layers': 2, 'second_layer_nodes': 5}\n",
      "0.314744 (0.052930) with: {'epochs': 150, 'first_layer_nodes': 5, 'learning_rate': 0.3, 'n_layers': 2, 'second_layer_nodes': 20}\n",
      "0.319952 (0.053408) with: {'epochs': 150, 'first_layer_nodes': 5, 'learning_rate': 0.3, 'n_layers': 2, 'second_layer_nodes': 10}\n",
      "0.324760 (0.002380) with: {'epochs': 150, 'first_layer_nodes': 5, 'learning_rate': 0.3, 'n_layers': 2, 'second_layer_nodes': 5}\n",
      "0.329567 (0.055050) with: {'epochs': 150, 'first_layer_nodes': 5, 'learning_rate': 0.5, 'n_layers': 2, 'second_layer_nodes': 20}\n",
      "0.360978 (0.028187) with: {'epochs': 150, 'first_layer_nodes': 5, 'learning_rate': 0.5, 'n_layers': 2, 'second_layer_nodes': 10}\n",
      "0.314583 (0.027935) with: {'epochs': 150, 'first_layer_nodes': 5, 'learning_rate': 0.5, 'n_layers': 2, 'second_layer_nodes': 5}\n",
      "0.278606 (0.077455) with: {'epochs': 300, 'first_layer_nodes': 20, 'learning_rate': 0.01, 'n_layers': 2, 'second_layer_nodes': 20}\n",
      "0.232452 (0.101278) with: {'epochs': 300, 'first_layer_nodes': 20, 'learning_rate': 0.01, 'n_layers': 2, 'second_layer_nodes': 10}\n",
      "0.309375 (0.023039) with: {'epochs': 300, 'first_layer_nodes': 20, 'learning_rate': 0.01, 'n_layers': 2, 'second_layer_nodes': 5}\n",
      "0.401843 (0.030679) with: {'epochs': 300, 'first_layer_nodes': 20, 'learning_rate': 0.15, 'n_layers': 2, 'second_layer_nodes': 20}\n",
      "0.381490 (0.019919) with: {'epochs': 300, 'first_layer_nodes': 20, 'learning_rate': 0.15, 'n_layers': 2, 'second_layer_nodes': 10}\n",
      "0.345513 (0.021776) with: {'epochs': 300, 'first_layer_nodes': 20, 'learning_rate': 0.15, 'n_layers': 2, 'second_layer_nodes': 5}\n",
      "0.386619 (0.025282) with: {'epochs': 300, 'first_layer_nodes': 20, 'learning_rate': 0.3, 'n_layers': 2, 'second_layer_nodes': 20}\n",
      "0.376362 (0.051248) with: {'epochs': 300, 'first_layer_nodes': 20, 'learning_rate': 0.3, 'n_layers': 2, 'second_layer_nodes': 10}\n",
      "0.381490 (0.032061) with: {'epochs': 300, 'first_layer_nodes': 20, 'learning_rate': 0.3, 'n_layers': 2, 'second_layer_nodes': 5}\n",
      "0.386619 (0.037791) with: {'epochs': 300, 'first_layer_nodes': 20, 'learning_rate': 0.5, 'n_layers': 2, 'second_layer_nodes': 20}\n",
      "0.427644 (0.045884) with: {'epochs': 300, 'first_layer_nodes': 20, 'learning_rate': 0.5, 'n_layers': 2, 'second_layer_nodes': 10}\n",
      "0.391747 (0.018859) with: {'epochs': 300, 'first_layer_nodes': 20, 'learning_rate': 0.5, 'n_layers': 2, 'second_layer_nodes': 5}\n",
      "0.232372 (0.089350) with: {'epochs': 300, 'first_layer_nodes': 10, 'learning_rate': 0.01, 'n_layers': 2, 'second_layer_nodes': 20}\n",
      "0.215946 (0.075618) with: {'epochs': 300, 'first_layer_nodes': 10, 'learning_rate': 0.01, 'n_layers': 2, 'second_layer_nodes': 10}\n",
      "0.200801 (0.054086) with: {'epochs': 300, 'first_layer_nodes': 10, 'learning_rate': 0.01, 'n_layers': 2, 'second_layer_nodes': 5}\n",
      "0.376122 (0.029648) with: {'epochs': 300, 'first_layer_nodes': 10, 'learning_rate': 0.15, 'n_layers': 2, 'second_layer_nodes': 20}\n",
      "0.345673 (0.046795) with: {'epochs': 300, 'first_layer_nodes': 10, 'learning_rate': 0.15, 'n_layers': 2, 'second_layer_nodes': 10}\n",
      "0.340064 (0.019491) with: {'epochs': 300, 'first_layer_nodes': 10, 'learning_rate': 0.15, 'n_layers': 2, 'second_layer_nodes': 5}\n",
      "0.432933 (0.010029) with: {'epochs': 300, 'first_layer_nodes': 10, 'learning_rate': 0.3, 'n_layers': 2, 'second_layer_nodes': 20}\n",
      "0.376362 (0.010085) with: {'epochs': 300, 'first_layer_nodes': 10, 'learning_rate': 0.3, 'n_layers': 2, 'second_layer_nodes': 10}\n",
      "0.335417 (0.053514) with: {'epochs': 300, 'first_layer_nodes': 10, 'learning_rate': 0.3, 'n_layers': 2, 'second_layer_nodes': 5}\n",
      "0.423077 (0.066172) with: {'epochs': 300, 'first_layer_nodes': 10, 'learning_rate': 0.5, 'n_layers': 2, 'second_layer_nodes': 20}\n",
      "0.340224 (0.002493) with: {'epochs': 300, 'first_layer_nodes': 10, 'learning_rate': 0.5, 'n_layers': 2, 'second_layer_nodes': 10}\n",
      "0.412580 (0.034307) with: {'epochs': 300, 'first_layer_nodes': 10, 'learning_rate': 0.5, 'n_layers': 2, 'second_layer_nodes': 5}\n",
      "0.170272 (0.034217) with: {'epochs': 300, 'first_layer_nodes': 5, 'learning_rate': 0.01, 'n_layers': 2, 'second_layer_nodes': 20}\n",
      "0.200881 (0.042905) with: {'epochs': 300, 'first_layer_nodes': 5, 'learning_rate': 0.01, 'n_layers': 2, 'second_layer_nodes': 10}\n",
      "0.283734 (0.049045) with: {'epochs': 300, 'first_layer_nodes': 5, 'learning_rate': 0.01, 'n_layers': 2, 'second_layer_nodes': 5}\n",
      "0.376282 (0.043975) with: {'epochs': 300, 'first_layer_nodes': 5, 'learning_rate': 0.15, 'n_layers': 2, 'second_layer_nodes': 20}\n",
      "0.298798 (0.024283) with: {'epochs': 300, 'first_layer_nodes': 5, 'learning_rate': 0.15, 'n_layers': 2, 'second_layer_nodes': 10}\n",
      "0.304167 (0.031952) with: {'epochs': 300, 'first_layer_nodes': 5, 'learning_rate': 0.15, 'n_layers': 2, 'second_layer_nodes': 5}\n",
      "0.381410 (0.013354) with: {'epochs': 300, 'first_layer_nodes': 5, 'learning_rate': 0.3, 'n_layers': 2, 'second_layer_nodes': 20}\n",
      "0.381651 (0.042370) with: {'epochs': 300, 'first_layer_nodes': 5, 'learning_rate': 0.3, 'n_layers': 2, 'second_layer_nodes': 10}\n",
      "0.391907 (0.022102) with: {'epochs': 300, 'first_layer_nodes': 5, 'learning_rate': 0.3, 'n_layers': 2, 'second_layer_nodes': 5}\n",
      "0.401923 (0.022808) with: {'epochs': 300, 'first_layer_nodes': 5, 'learning_rate': 0.5, 'n_layers': 2, 'second_layer_nodes': 20}\n",
      "0.391907 (0.028356) with: {'epochs': 300, 'first_layer_nodes': 5, 'learning_rate': 0.5, 'n_layers': 2, 'second_layer_nodes': 10}\n",
      "0.376362 (0.027072) with: {'epochs': 300, 'first_layer_nodes': 5, 'learning_rate': 0.5, 'n_layers': 2, 'second_layer_nodes': 5}\n",
      "0.314423 (0.006426) with: {'epochs': 500, 'first_layer_nodes': 20, 'learning_rate': 0.01, 'n_layers': 2, 'second_layer_nodes': 20}\n",
      "0.309295 (0.025225) with: {'epochs': 500, 'first_layer_nodes': 20, 'learning_rate': 0.01, 'n_layers': 2, 'second_layer_nodes': 10}\n",
      "0.262500 (0.056281) with: {'epochs': 500, 'first_layer_nodes': 20, 'learning_rate': 0.01, 'n_layers': 2, 'second_layer_nodes': 5}\n",
      "0.417067 (0.088883) with: {'epochs': 500, 'first_layer_nodes': 20, 'learning_rate': 0.15, 'n_layers': 2, 'second_layer_nodes': 20}\n",
      "0.386458 (0.042271) with: {'epochs': 500, 'first_layer_nodes': 20, 'learning_rate': 0.15, 'n_layers': 2, 'second_layer_nodes': 10}\n",
      "0.365946 (0.050460) with: {'epochs': 500, 'first_layer_nodes': 20, 'learning_rate': 0.15, 'n_layers': 2, 'second_layer_nodes': 5}\n",
      "0.391747 (0.018859) with: {'epochs': 500, 'first_layer_nodes': 20, 'learning_rate': 0.3, 'n_layers': 2, 'second_layer_nodes': 20}\n",
      "0.386538 (0.032446) with: {'epochs': 500, 'first_layer_nodes': 20, 'learning_rate': 0.3, 'n_layers': 2, 'second_layer_nodes': 10}\n",
      "0.402003 (0.010207) with: {'epochs': 500, 'first_layer_nodes': 20, 'learning_rate': 0.3, 'n_layers': 2, 'second_layer_nodes': 5}\n",
      "0.381731 (0.054546) with: {'epochs': 500, 'first_layer_nodes': 20, 'learning_rate': 0.5, 'n_layers': 2, 'second_layer_nodes': 20}\n",
      "0.396875 (0.004419) with: {'epochs': 500, 'first_layer_nodes': 20, 'learning_rate': 0.5, 'n_layers': 2, 'second_layer_nodes': 10}\n",
      "0.350641 (0.030461) with: {'epochs': 500, 'first_layer_nodes': 20, 'learning_rate': 0.5, 'n_layers': 2, 'second_layer_nodes': 5}\n",
      "0.319631 (0.008690) with: {'epochs': 500, 'first_layer_nodes': 10, 'learning_rate': 0.01, 'n_layers': 2, 'second_layer_nodes': 20}\n",
      "0.309375 (0.023039) with: {'epochs': 500, 'first_layer_nodes': 10, 'learning_rate': 0.01, 'n_layers': 2, 'second_layer_nodes': 10}\n",
      "0.253045 (0.085493) with: {'epochs': 500, 'first_layer_nodes': 10, 'learning_rate': 0.01, 'n_layers': 2, 'second_layer_nodes': 5}\n",
      "0.391587 (0.038794) with: {'epochs': 500, 'first_layer_nodes': 10, 'learning_rate': 0.15, 'n_layers': 2, 'second_layer_nodes': 20}\n",
      "0.360737 (0.017380) with: {'epochs': 500, 'first_layer_nodes': 10, 'learning_rate': 0.15, 'n_layers': 2, 'second_layer_nodes': 10}\n",
      "0.401843 (0.030679) with: {'epochs': 500, 'first_layer_nodes': 10, 'learning_rate': 0.15, 'n_layers': 2, 'second_layer_nodes': 5}\n",
      "0.412340 (0.075492) with: {'epochs': 500, 'first_layer_nodes': 10, 'learning_rate': 0.3, 'n_layers': 2, 'second_layer_nodes': 20}\n",
      "0.376362 (0.010085) with: {'epochs': 500, 'first_layer_nodes': 10, 'learning_rate': 0.3, 'n_layers': 2, 'second_layer_nodes': 10}\n",
      "0.396955 (0.056907) with: {'epochs': 500, 'first_layer_nodes': 10, 'learning_rate': 0.3, 'n_layers': 2, 'second_layer_nodes': 5}\n",
      "0.397276 (0.096026) with: {'epochs': 500, 'first_layer_nodes': 10, 'learning_rate': 0.5, 'n_layers': 2, 'second_layer_nodes': 20}\n",
      "0.392067 (0.061619) with: {'epochs': 500, 'first_layer_nodes': 10, 'learning_rate': 0.5, 'n_layers': 2, 'second_layer_nodes': 10}\n",
      "0.366426 (0.071961) with: {'epochs': 500, 'first_layer_nodes': 10, 'learning_rate': 0.5, 'n_layers': 2, 'second_layer_nodes': 5}\n",
      "0.288542 (0.024852) with: {'epochs': 500, 'first_layer_nodes': 5, 'learning_rate': 0.01, 'n_layers': 2, 'second_layer_nodes': 20}\n",
      "0.241667 (0.084620) with: {'epochs': 500, 'first_layer_nodes': 5, 'learning_rate': 0.01, 'n_layers': 2, 'second_layer_nodes': 10}\n",
      "0.200881 (0.032432) with: {'epochs': 500, 'first_layer_nodes': 5, 'learning_rate': 0.01, 'n_layers': 2, 'second_layer_nodes': 5}\n",
      "0.335337 (0.073981) with: {'epochs': 500, 'first_layer_nodes': 5, 'learning_rate': 0.15, 'n_layers': 2, 'second_layer_nodes': 20}\n",
      "0.319471 (0.024705) with: {'epochs': 500, 'first_layer_nodes': 5, 'learning_rate': 0.15, 'n_layers': 2, 'second_layer_nodes': 10}\n",
      "0.324760 (0.012785) with: {'epochs': 500, 'first_layer_nodes': 5, 'learning_rate': 0.15, 'n_layers': 2, 'second_layer_nodes': 5}\n",
      "0.381651 (0.052364) with: {'epochs': 500, 'first_layer_nodes': 5, 'learning_rate': 0.3, 'n_layers': 2, 'second_layer_nodes': 20}\n",
      "0.422756 (0.010425) with: {'epochs': 500, 'first_layer_nodes': 5, 'learning_rate': 0.3, 'n_layers': 2, 'second_layer_nodes': 10}\n",
      "0.412340 (0.025489) with: {'epochs': 500, 'first_layer_nodes': 5, 'learning_rate': 0.3, 'n_layers': 2, 'second_layer_nodes': 5}\n",
      "0.402244 (0.045184) with: {'epochs': 500, 'first_layer_nodes': 5, 'learning_rate': 0.5, 'n_layers': 2, 'second_layer_nodes': 20}\n",
      "0.423077 (0.055824) with: {'epochs': 500, 'first_layer_nodes': 5, 'learning_rate': 0.5, 'n_layers': 2, 'second_layer_nodes': 10}\n",
      "0.422917 (0.034758) with: {'epochs': 500, 'first_layer_nodes': 5, 'learning_rate': 0.5, 'n_layers': 2, 'second_layer_nodes': 5}\n"
     ]
    }
   ],
   "source": [
    "print(\"Best: %f using %s\" % (grid_result.best_score_, grid_result.best_params_))\n",
    "means = grid_result.cv_results_['mean_test_score']\n",
    "stds = grid_result.cv_results_['std_test_score']\n",
    "params = grid_result.cv_results_['params']\n",
    "for mean, stdev, param in zip(means, stds, params):\n",
    "    print(\"%f (%f) with: %r\" % (mean, stdev, param))"
   ]
  },
  {
   "cell_type": "code",
   "execution_count": null,
   "id": "5cefc512",
   "metadata": {},
   "outputs": [],
   "source": []
  }
 ],
 "metadata": {
  "kernelspec": {
   "display_name": "Python 3 (ipykernel)",
   "language": "python",
   "name": "python3"
  },
  "language_info": {
   "codemirror_mode": {
    "name": "ipython",
    "version": 3
   },
   "file_extension": ".py",
   "mimetype": "text/x-python",
   "name": "python",
   "nbconvert_exporter": "python",
   "pygments_lexer": "ipython3",
   "version": "3.9.7"
  }
 },
 "nbformat": 4,
 "nbformat_minor": 5
}
