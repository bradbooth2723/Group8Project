{
 "cells": [
  {
   "cell_type": "markdown",
   "id": "7ac742b7",
   "metadata": {},
   "source": [
    "1.  Name:\t    Name of the country concerned\n",
    "2.  Landmass:\t1=N.America, 2=S.America, 3=Europe, 4=Africa, 4=Asia, 6=Oceania\n",
    "3.  Zone:\t    Geographic quadrant, based on Greenwich and the Equator: 1=NE, 2=SE, 3=SW, 4=NW\n",
    "4.  Area:\t    in thousands of square km\n",
    "5.  Population:\tin round millions\n",
    "6.  Language     1=English, 2=Spanish, 3=French, 4=German, 5=Slavic, 6=Other Indo-European, 7=Chinese, 8=Arabic, 9=Japanese/Turkish/Finnish/Magyar, 10=Others\n",
    "7.  Religion     0=Catholic, 1=Other Christian, 2=Muslim, 3=Buddhist, 4=Hindu, 5=Ethnic, 6=Marxist, 7=Others\n",
    "8.  Bars         Number of vertical bars in the flag\n",
    "9.  Stripes      Number of horizontal stripes in the flag\n",
    "10. Colours      Number of different colours in the flag\n",
    "11. Red          0 if red absent, 1 if red present in the flag\n",
    "12. Green        same for green\n",
    "13. Blue         same for blue\n",
    "14. Gold         same for gold (also yellow)\n",
    "15. White        same for white\n",
    "16. Black        same for black\n",
    "17. Orange       same for orange (also brown)\n",
    "18. Mainhue      predominant colour in the flag (tie-breaks decided by taking the topmost hue, if that fails then the most central hue, and if that fails the leftmost hue)\n",
    "19. Circles      Number of circles in the flag\n",
    "20. Crosses      Number of (upright) crosses\n",
    "21. Saltires     Number of diagonal crosses\n",
    "22. Quarters     Number of quartered sections\n",
    "23. Sunstars     Number of sun or star symbols\n",
    "24. Crescent     1 if a crescent moon symbol present, else 0\n",
    "25. Triangle     1 if any triangles present, 0 otherwise\n",
    "26. Icon         1 if an inanimate image present (e.g., a boat), otherwise 0\n",
    "27. Animate      1 if an animate image (e.g., an eagle, a tree, a human hand) present, 0 otherwise\n",
    "28. Text         1 if any letters or writing on the flag (e.g., a motto or slogan), 0 otherwise\n",
    "29. Topleft      Colour in the top-left corner (moving right to decide tie-breaks)\n",
    "30. Botright     Colour in the bottom-left corner (moving left to decide tie-breaks)\n"
   ]
  },
  {
   "cell_type": "code",
   "execution_count": 1,
   "id": "bea35230",
   "metadata": {
    "scrolled": false
   },
   "outputs": [
    {
     "name": "stdout",
     "output_type": "stream",
     "text": [
      "               Name  Landmass  Zone  Area  Population  Language  Religion  \\\n",
      "0       Afghanistan         5     1   648          16        10         2   \n",
      "1           Albania         3     1    29           3         6         6   \n",
      "2           Algeria         4     1  2388          20         8         2   \n",
      "3    American-Samoa         6     3     0           0         1         1   \n",
      "4           Andorra         3     1     0           0         6         0   \n",
      "..              ...       ...   ...   ...         ...       ...       ...   \n",
      "189   Western-Samoa         6     3     3           0         1         1   \n",
      "190      Yugoslavia         3     1   256          22         6         6   \n",
      "191           Zaire         4     2   905          28        10         5   \n",
      "192          Zambia         4     2   753           6        10         5   \n",
      "193        Zimbabwe         4     2   391           8        10         5   \n",
      "\n",
      "     Bars  Stripes  Colours  ...  Saltires  Quarters  Sunstars  Crescent  \\\n",
      "0       0        3        5  ...         0         0         1         0   \n",
      "1       0        0        3  ...         0         0         1         0   \n",
      "2       2        0        3  ...         0         0         1         1   \n",
      "3       0        0        5  ...         0         0         0         0   \n",
      "4       3        0        3  ...         0         0         0         0   \n",
      "..    ...      ...      ...  ...       ...       ...       ...       ...   \n",
      "189     0        0        3  ...         0         1         5         0   \n",
      "190     0        3        4  ...         0         0         1         0   \n",
      "191     0        0        4  ...         0         0         0         0   \n",
      "192     3        0        4  ...         0         0         0         0   \n",
      "193     0        7        5  ...         0         0         1         0   \n",
      "\n",
      "     Triangle  Icon  Animate Text  Topleft  Botright  \n",
      "0           0     1        0    0    black     green  \n",
      "1           0     0        1    0      red       red  \n",
      "2           0     0        0    0    green     white  \n",
      "3           1     1        1    0     blue       red  \n",
      "4           0     0        0    0     blue       red  \n",
      "..        ...   ...      ...  ...      ...       ...  \n",
      "189         0     0        0    0     blue       red  \n",
      "190         0     0        0    0     blue       red  \n",
      "191         0     1        1    0    green     green  \n",
      "192         0     0        1    0    green     brown  \n",
      "193         1     1        1    0    green     green  \n",
      "\n",
      "[194 rows x 30 columns]\n"
     ]
    }
   ],
   "source": [
    "import pandas as pd\n",
    "import numpy as np\n",
    "flags = pd.read_csv('./flag(1).data', sep=',')\n",
    "print(flags)"
   ]
  },
  {
   "cell_type": "markdown",
   "id": "0da1ee35",
   "metadata": {},
   "source": [
    "I think Name is an unimportant column so I think we will drop that.\n",
    "\n",
    "Columns with labels are Landmass, Zone, Language and Religion.  So those need to be encoded.\n",
    "\n",
    "For classifying output, I think I will do all of the columns with labels...I don't want landmass predicting religion or anything like that...this is simply about flags."
   ]
  },
  {
   "cell_type": "code",
   "execution_count": 2,
   "id": "45f657ae",
   "metadata": {},
   "outputs": [
    {
     "name": "stdout",
     "output_type": "stream",
     "text": [
      "Index(['Name', 'Landmass', 'Zone', 'Area', 'Population', 'Language',\n",
      "       'Religion', 'Bars', 'Stripes', 'Colours', 'Red', 'Green', 'Blue',\n",
      "       'Gold', 'White', 'Black', 'Orange', 'Mainhue', 'Circles', 'Crosses',\n",
      "       'Saltires', 'Quarters', 'Sunstars', 'Crescent', 'Triangle', 'Icon',\n",
      "       'Animate', 'Text', 'Topleft', 'Botright'],\n",
      "      dtype='object')\n"
     ]
    }
   ],
   "source": [
    "print(flags.columns)"
   ]
  },
  {
   "cell_type": "code",
   "execution_count": 3,
   "id": "0f1c606c",
   "metadata": {
    "scrolled": false
   },
   "outputs": [
    {
     "name": "stdout",
     "output_type": "stream",
     "text": [
      "[[0 0 0 0 1 0]\n",
      " [0 0 1 0 0 0]\n",
      " [0 0 0 1 0 0]\n",
      " ...\n",
      " [0 0 0 1 0 0]\n",
      " [0 0 0 1 0 0]\n",
      " [0 0 0 1 0 0]]\n",
      "[[0 0 0 ... 0 0 1]\n",
      " [0 0 0 ... 0 0 0]\n",
      " [0 0 0 ... 1 0 0]\n",
      " ...\n",
      " [0 0 0 ... 0 0 1]\n",
      " [0 0 0 ... 0 0 1]\n",
      " [0 0 0 ... 0 0 1]]\n"
     ]
    }
   ],
   "source": [
    "from sklearn.preprocessing import MinMaxScaler\n",
    "\n",
    "pd.set_option('display.max_columns', None)\n",
    "\n",
    "flagsOut = flags.drop('Name', axis = 1)\n",
    "\n",
    "landmass = pd.get_dummies(flagsOut.Landmass)\n",
    "language = pd.get_dummies(flagsOut.Language)\n",
    "religion = pd.get_dummies(flagsOut.Religion)\n",
    "zone = pd.get_dummies(flagsOut.Zone)\n",
    "\n",
    "flagsOut = flagsOut.drop('Landmass', axis = 1)\n",
    "flagsOut = flagsOut.drop('Language', axis = 1)\n",
    "flagsOut = flagsOut.drop('Religion', axis = 1)\n",
    "flagsOut = flagsOut.drop('Zone', axis = 1)\n",
    "\n",
    "x = pd.get_dummies(flagsOut.Topleft, prefix='topleft')\n",
    "y = pd.get_dummies(flagsOut.Botright, prefix = 'botright')\n",
    "z = pd.get_dummies(flagsOut.Mainhue, prefix = 'mainhue')\n",
    "\n",
    "flagsOut = flagsOut.drop('Botright', axis=1)\n",
    "flagsOut = flagsOut.drop('Topleft', axis=1)\n",
    "flagsOut = flagsOut.drop('Mainhue', axis=1)\n",
    "\n",
    "#flagsOut = flagsOut.join(w)\n",
    "flagsOut = flagsOut.join(x)\n",
    "flagsOut = flagsOut.join(y)\n",
    "flagsOut = flagsOut.join(z)\n",
    "\n",
    "scaler = MinMaxScaler()\n",
    "flagsScaled = scaler.fit_transform(flagsOut)  #flagsScaled is a numpy array\n",
    "land = landmass.to_numpy()\n",
    "lang = language.to_numpy()\n",
    "rlgn = religion.to_numpy()\n",
    "zn = zone.to_numpy()\n",
    "\n",
    "print(land)\n",
    "print(lang)"
   ]
  },
  {
   "cell_type": "markdown",
   "id": "a930d024",
   "metadata": {},
   "source": [
    "# Fun With Flags Episode 1: Can flag metrics predict land mass?\n",
    "*Hint: They do not"
   ]
  },
  {
   "cell_type": "code",
   "execution_count": 4,
   "id": "868ce09f",
   "metadata": {},
   "outputs": [],
   "source": [
    "from tensorflow.keras.models import Sequential\n",
    "from tensorflow.keras.layers import Dense\n",
    "from tensorflow.keras.optimizers import SGD\n",
    "\n",
    "model = Sequential()\n",
    "\n",
    "layers = [\n",
    "    Dense(20, activation='relu', name='layer1'),\n",
    "    Dense(10, activation='relu', name='layer2'),\n",
    "    Dense(6, activation='sigmoid', name='Output')\n",
    "]\n",
    "\n",
    "for layer in layers:\n",
    "    model.add(layer)\n",
    "\n",
    "model.compile(optimizer=SGD(learning_rate=.01), loss='mse', metrics=['accuracy'])\n",
    "hist = model.fit(flagsScaled, land, validation_split=.2, epochs=500, verbose=0)"
   ]
  },
  {
   "cell_type": "code",
   "execution_count": 5,
   "id": "1457a19a",
   "metadata": {},
   "outputs": [
    {
     "name": "stdout",
     "output_type": "stream",
     "text": [
      "Training Error: 0.136\n",
      "Training Accuracy: 0.355\n"
     ]
    }
   ],
   "source": [
    "from sklearn.model_selection import train_test_split\n",
    "\n",
    "flagsTrain, flagsTest, landTrain, landTest = train_test_split(flagsScaled, land, test_size = 0.20, random_state=5)\n",
    "\n",
    "pred_train= model.predict(flagsTrain)\n",
    "score, acc = model.evaluate(flagsTrain, landTrain, verbose=0)\n",
    "print('Training Error: %.3f' % score)\n",
    "print('Training Accuracy: %.3f' % acc)"
   ]
  },
  {
   "cell_type": "code",
   "execution_count": 6,
   "id": "720bc094",
   "metadata": {},
   "outputs": [
    {
     "name": "stdout",
     "output_type": "stream",
     "text": [
      "Test Error: 0.137\n",
      "Test Accuracy: 0.282\n"
     ]
    }
   ],
   "source": [
    "pred_train= model.predict(flagsTest)\n",
    "score, acc = model.evaluate(flagsTest, landTest, verbose=0)\n",
    "print('Test Error: %.3f' % score)\n",
    "print('Test Accuracy: %.3f' % acc)"
   ]
  },
  {
   "cell_type": "code",
   "execution_count": 7,
   "id": "b2859ee6",
   "metadata": {},
   "outputs": [
    {
     "data": {
      "image/png": "[encoded data removed]",
      "text/plain": [
       "<Figure size 432x288 with 1 Axes>"
      ]
     },
     "metadata": {
      "needs_background": "light"
     },
     "output_type": "display_data"
    }
   ],
   "source": [
    "import matplotlib.pyplot as plt\n",
    "\n",
    "plt.plot(hist.history['loss'])\n",
    "plt.plot(hist.history['val_loss'])\n",
    "plt.title('Model Loss Curve')\n",
    "plt.ylabel('Loss')\n",
    "plt.xlabel('Epoch')\n",
    "plt.legend(['train', 'test'], loc='upper right')\n",
    "plt.show()"
   ]
  },
  {
   "cell_type": "code",
   "execution_count": 8,
   "id": "3211f97a",
   "metadata": {},
   "outputs": [
    {
     "data": {
      "image/png": "[encoded data removed]",
      "text/plain": [
       "<Figure size 432x288 with 1 Axes>"
      ]
     },
     "metadata": {
      "needs_background": "light"
     },
     "output_type": "display_data"
    }
   ],
   "source": [
    "plt.plot(hist.history['accuracy'])\n",
    "plt.plot(hist.history['val_accuracy'])\n",
    "plt.title('Model Accuracy')\n",
    "plt.ylabel('Accuracy')\n",
    "plt.xlabel('Epochs')\n",
    "plt.legend(['train', 'test'], loc='upper left')\n",
    "plt.show()"
   ]
  },
  {
   "cell_type": "code",
   "execution_count": 9,
   "id": "c4d45970",
   "metadata": {
    "scrolled": true
   },
   "outputs": [],
   "source": [
    "import warnings\n",
    "warnings.filterwarnings(\"ignore\", category=DeprecationWarning)\n",
    "import os\n",
    "os.environ['CUDA_VISIBLE_DEVICES'] = \"0\"\n",
    "from sklearn.model_selection import GridSearchCV, RandomizedSearchCV\n",
    "from keras.models import Sequential\n",
    "from keras.layers import Dense, Dropout\n",
    "from keras.wrappers.scikit_learn import KerasClassifier\n",
    "#from keras.optimizers import Adam\n",
    "\n",
    "def createmodel(n_layers, first_layer_nodes, second_layer_nodes, learning_rate=.1):\n",
    "    model = Sequential()\n",
    "    \n",
    "    #n_nodes = FindLayerNodesLinear(n_layers, first_layer_nodes, last_layer_nodes)\n",
    "    for i in range(2):\n",
    "        if i==1:\n",
    "            model.add(Dense(first_layer_nodes, activation='relu'))\n",
    "        else:\n",
    "            model.add(Dense(second_layer_nodes, activation='relu'))\n",
    "            \n",
    "    #Finally, the output layer should have a single node in binary classification\n",
    "    model.add(Dense(6, activation='sigmoid'))\n",
    "    model.compile(optimizer=SGD(learning_rate=learning_rate), \n",
    "                  loss='mse', metrics = [\"accuracy\"]) #note: metrics could also be 'mse'\n",
    "    \n",
    "    return model\n",
    "\n",
    "param_grid = dict(n_layers=[2], first_layer_nodes = [20, 10, 5], second_layer_nodes=[20,10,5],\n",
    "                  epochs = [150, 300, 500], learning_rate= [.01, .15, .3, .5])\n",
    "\n",
    "model = KerasClassifier(build_fn=createmodel, verbose=0)\n",
    "grid = GridSearchCV(estimator=model, param_grid=param_grid, n_jobs=-1, cv=3)\n",
    "grid_result = grid.fit(flagsScaled, land)"
   ]
  },
  {
   "cell_type": "code",
   "execution_count": 10,
   "id": "dd882f5d",
   "metadata": {},
   "outputs": [
    {
     "name": "stdout",
     "output_type": "stream",
     "text": [
      "Best: 0.433013 using {'epochs': 150, 'first_layer_nodes': 10, 'learning_rate': 0.5, 'n_layers': 2, 'second_layer_nodes': 10}\n",
      "0.196394 (0.073507) with: {'epochs': 150, 'first_layer_nodes': 20, 'learning_rate': 0.01, 'n_layers': 2, 'second_layer_nodes': 20}\n",
      "0.190705 (0.044024) with: {'epochs': 150, 'first_layer_nodes': 20, 'learning_rate': 0.01, 'n_layers': 2, 'second_layer_nodes': 10}\n",
      "0.155048 (0.079634) with: {'epochs': 150, 'first_layer_nodes': 20, 'learning_rate': 0.01, 'n_layers': 2, 'second_layer_nodes': 5}\n",
      "0.324760 (0.037760) with: {'epochs': 150, 'first_layer_nodes': 20, 'learning_rate': 0.15, 'n_layers': 2, 'second_layer_nodes': 20}\n",
      "0.288702 (0.056821) with: {'epochs': 150, 'first_layer_nodes': 20, 'learning_rate': 0.15, 'n_layers': 2, 'second_layer_nodes': 10}\n",
      "0.304407 (0.063525) with: {'epochs': 150, 'first_layer_nodes': 20, 'learning_rate': 0.15, 'n_layers': 2, 'second_layer_nodes': 5}\n",
      "0.370994 (0.031659) with: {'epochs': 150, 'first_layer_nodes': 20, 'learning_rate': 0.3, 'n_layers': 2, 'second_layer_nodes': 20}\n",
      "0.314503 (0.026906) with: {'epochs': 150, 'first_layer_nodes': 20, 'learning_rate': 0.3, 'n_layers': 2, 'second_layer_nodes': 10}\n",
      "0.288141 (0.072264) with: {'epochs': 150, 'first_layer_nodes': 20, 'learning_rate': 0.3, 'n_layers': 2, 'second_layer_nodes': 5}\n",
      "0.401683 (0.060758) with: {'epochs': 150, 'first_layer_nodes': 20, 'learning_rate': 0.5, 'n_layers': 2, 'second_layer_nodes': 20}\n",
      "0.345673 (0.053113) with: {'epochs': 150, 'first_layer_nodes': 20, 'learning_rate': 0.5, 'n_layers': 2, 'second_layer_nodes': 10}\n",
      "0.329647 (0.050905) with: {'epochs': 150, 'first_layer_nodes': 20, 'learning_rate': 0.5, 'n_layers': 2, 'second_layer_nodes': 5}\n",
      "0.159936 (0.048092) with: {'epochs': 150, 'first_layer_nodes': 10, 'learning_rate': 0.01, 'n_layers': 2, 'second_layer_nodes': 20}\n",
      "0.226843 (0.031852) with: {'epochs': 150, 'first_layer_nodes': 10, 'learning_rate': 0.01, 'n_layers': 2, 'second_layer_nodes': 10}\n",
      "0.165465 (0.077474) with: {'epochs': 150, 'first_layer_nodes': 10, 'learning_rate': 0.01, 'n_layers': 2, 'second_layer_nodes': 5}\n",
      "0.335096 (0.044389) with: {'epochs': 150, 'first_layer_nodes': 10, 'learning_rate': 0.15, 'n_layers': 2, 'second_layer_nodes': 20}\n",
      "0.293670 (0.023474) with: {'epochs': 150, 'first_layer_nodes': 10, 'learning_rate': 0.15, 'n_layers': 2, 'second_layer_nodes': 10}\n",
      "0.268029 (0.006507) with: {'epochs': 150, 'first_layer_nodes': 10, 'learning_rate': 0.15, 'n_layers': 2, 'second_layer_nodes': 5}\n",
      "0.304247 (0.065037) with: {'epochs': 150, 'first_layer_nodes': 10, 'learning_rate': 0.3, 'n_layers': 2, 'second_layer_nodes': 20}\n",
      "0.314343 (0.027995) with: {'epochs': 150, 'first_layer_nodes': 10, 'learning_rate': 0.3, 'n_layers': 2, 'second_layer_nodes': 10}\n",
      "0.319471 (0.046779) with: {'epochs': 150, 'first_layer_nodes': 10, 'learning_rate': 0.3, 'n_layers': 2, 'second_layer_nodes': 5}\n",
      "0.330128 (0.059426) with: {'epochs': 150, 'first_layer_nodes': 10, 'learning_rate': 0.5, 'n_layers': 2, 'second_layer_nodes': 20}\n",
      "0.433013 (0.037818) with: {'epochs': 150, 'first_layer_nodes': 10, 'learning_rate': 0.5, 'n_layers': 2, 'second_layer_nodes': 10}\n",
      "0.319792 (0.042067) with: {'epochs': 150, 'first_layer_nodes': 10, 'learning_rate': 0.5, 'n_layers': 2, 'second_layer_nodes': 5}\n",
      "0.216667 (0.044449) with: {'epochs': 150, 'first_layer_nodes': 5, 'learning_rate': 0.01, 'n_layers': 2, 'second_layer_nodes': 20}\n",
      "0.205689 (0.081063) with: {'epochs': 150, 'first_layer_nodes': 5, 'learning_rate': 0.01, 'n_layers': 2, 'second_layer_nodes': 10}\n",
      "0.206410 (0.030823) with: {'epochs': 150, 'first_layer_nodes': 5, 'learning_rate': 0.01, 'n_layers': 2, 'second_layer_nodes': 5}\n",
      "0.309054 (0.031345) with: {'epochs': 150, 'first_layer_nodes': 5, 'learning_rate': 0.15, 'n_layers': 2, 'second_layer_nodes': 20}\n",
      "0.288622 (0.013600) with: {'epochs': 150, 'first_layer_nodes': 5, 'learning_rate': 0.15, 'n_layers': 2, 'second_layer_nodes': 10}\n",
      "0.283734 (0.031389) with: {'epochs': 150, 'first_layer_nodes': 5, 'learning_rate': 0.15, 'n_layers': 2, 'second_layer_nodes': 5}\n",
      "0.308974 (0.043552) with: {'epochs': 150, 'first_layer_nodes': 5, 'learning_rate': 0.3, 'n_layers': 2, 'second_layer_nodes': 20}\n",
      "0.324760 (0.002380) with: {'epochs': 150, 'first_layer_nodes': 5, 'learning_rate': 0.3, 'n_layers': 2, 'second_layer_nodes': 10}\n",
      "0.293830 (0.002153) with: {'epochs': 150, 'first_layer_nodes': 5, 'learning_rate': 0.3, 'n_layers': 2, 'second_layer_nodes': 5}\n",
      "0.386538 (0.010296) with: {'epochs': 150, 'first_layer_nodes': 5, 'learning_rate': 0.5, 'n_layers': 2, 'second_layer_nodes': 20}\n",
      "0.330128 (0.070367) with: {'epochs': 150, 'first_layer_nodes': 5, 'learning_rate': 0.5, 'n_layers': 2, 'second_layer_nodes': 10}\n",
      "0.329968 (0.026947) with: {'epochs': 150, 'first_layer_nodes': 5, 'learning_rate': 0.5, 'n_layers': 2, 'second_layer_nodes': 5}\n",
      "0.190705 (0.018978) with: {'epochs': 300, 'first_layer_nodes': 20, 'learning_rate': 0.01, 'n_layers': 2, 'second_layer_nodes': 20}\n",
      "0.288622 (0.013600) with: {'epochs': 300, 'first_layer_nodes': 20, 'learning_rate': 0.01, 'n_layers': 2, 'second_layer_nodes': 10}\n",
      "0.206010 (0.050155) with: {'epochs': 300, 'first_layer_nodes': 20, 'learning_rate': 0.01, 'n_layers': 2, 'second_layer_nodes': 5}\n",
      "0.345753 (0.073634) with: {'epochs': 300, 'first_layer_nodes': 20, 'learning_rate': 0.15, 'n_layers': 2, 'second_layer_nodes': 20}\n",
      "0.345593 (0.049336) with: {'epochs': 300, 'first_layer_nodes': 20, 'learning_rate': 0.15, 'n_layers': 2, 'second_layer_nodes': 10}\n",
      "0.304087 (0.038028) with: {'epochs': 300, 'first_layer_nodes': 20, 'learning_rate': 0.15, 'n_layers': 2, 'second_layer_nodes': 5}\n",
      "0.350481 (0.013433) with: {'epochs': 300, 'first_layer_nodes': 20, 'learning_rate': 0.3, 'n_layers': 2, 'second_layer_nodes': 20}\n",
      "0.391987 (0.070573) with: {'epochs': 300, 'first_layer_nodes': 20, 'learning_rate': 0.3, 'n_layers': 2, 'second_layer_nodes': 10}\n",
      "0.355849 (0.027613) with: {'epochs': 300, 'first_layer_nodes': 20, 'learning_rate': 0.3, 'n_layers': 2, 'second_layer_nodes': 5}\n",
      "0.392067 (0.047107) with: {'epochs': 300, 'first_layer_nodes': 20, 'learning_rate': 0.5, 'n_layers': 2, 'second_layer_nodes': 20}\n",
      "0.402404 (0.046914) with: {'epochs': 300, 'first_layer_nodes': 20, 'learning_rate': 0.5, 'n_layers': 2, 'second_layer_nodes': 10}\n",
      "0.340465 (0.056489) with: {'epochs': 300, 'first_layer_nodes': 20, 'learning_rate': 0.5, 'n_layers': 2, 'second_layer_nodes': 5}\n",
      "0.231811 (0.032289) with: {'epochs': 300, 'first_layer_nodes': 10, 'learning_rate': 0.01, 'n_layers': 2, 'second_layer_nodes': 20}\n",
      "0.257532 (0.030163) with: {'epochs': 300, 'first_layer_nodes': 10, 'learning_rate': 0.01, 'n_layers': 2, 'second_layer_nodes': 10}\n",
      "0.231651 (0.065660) with: {'epochs': 300, 'first_layer_nodes': 10, 'learning_rate': 0.01, 'n_layers': 2, 'second_layer_nodes': 5}\n",
      "0.376122 (0.029648) with: {'epochs': 300, 'first_layer_nodes': 10, 'learning_rate': 0.15, 'n_layers': 2, 'second_layer_nodes': 20}\n",
      "0.350401 (0.024559) with: {'epochs': 300, 'first_layer_nodes': 10, 'learning_rate': 0.15, 'n_layers': 2, 'second_layer_nodes': 10}\n",
      "0.288782 (0.052971) with: {'epochs': 300, 'first_layer_nodes': 10, 'learning_rate': 0.15, 'n_layers': 2, 'second_layer_nodes': 5}\n",
      "0.381330 (0.035032) with: {'epochs': 300, 'first_layer_nodes': 10, 'learning_rate': 0.3, 'n_layers': 2, 'second_layer_nodes': 20}\n",
      "0.360737 (0.017380) with: {'epochs': 300, 'first_layer_nodes': 10, 'learning_rate': 0.3, 'n_layers': 2, 'second_layer_nodes': 10}\n",
      "0.350641 (0.053116) with: {'epochs': 300, 'first_layer_nodes': 10, 'learning_rate': 0.3, 'n_layers': 2, 'second_layer_nodes': 5}\n",
      "0.382051 (0.084343) with: {'epochs': 300, 'first_layer_nodes': 10, 'learning_rate': 0.5, 'n_layers': 2, 'second_layer_nodes': 20}\n",
      "0.365785 (0.068220) with: {'epochs': 300, 'first_layer_nodes': 10, 'learning_rate': 0.5, 'n_layers': 2, 'second_layer_nodes': 10}\n",
      "0.391907 (0.037884) with: {'epochs': 300, 'first_layer_nodes': 10, 'learning_rate': 0.5, 'n_layers': 2, 'second_layer_nodes': 5}\n",
      "0.205929 (0.051518) with: {'epochs': 300, 'first_layer_nodes': 5, 'learning_rate': 0.01, 'n_layers': 2, 'second_layer_nodes': 20}\n",
      "0.283333 (0.039265) with: {'epochs': 300, 'first_layer_nodes': 5, 'learning_rate': 0.01, 'n_layers': 2, 'second_layer_nodes': 10}\n",
      "0.190865 (0.048184) with: {'epochs': 300, 'first_layer_nodes': 5, 'learning_rate': 0.01, 'n_layers': 2, 'second_layer_nodes': 5}\n",
      "0.345353 (0.006382) with: {'epochs': 300, 'first_layer_nodes': 5, 'learning_rate': 0.15, 'n_layers': 2, 'second_layer_nodes': 20}\n",
      "0.283253 (0.042728) with: {'epochs': 300, 'first_layer_nodes': 5, 'learning_rate': 0.15, 'n_layers': 2, 'second_layer_nodes': 10}\n",
      "0.257692 (0.050539) with: {'epochs': 300, 'first_layer_nodes': 5, 'learning_rate': 0.15, 'n_layers': 2, 'second_layer_nodes': 5}\n",
      "0.366106 (0.017338) with: {'epochs': 300, 'first_layer_nodes': 5, 'learning_rate': 0.3, 'n_layers': 2, 'second_layer_nodes': 20}\n",
      "0.355929 (0.040263) with: {'epochs': 300, 'first_layer_nodes': 5, 'learning_rate': 0.3, 'n_layers': 2, 'second_layer_nodes': 10}\n",
      "0.355529 (0.031728) with: {'epochs': 300, 'first_layer_nodes': 5, 'learning_rate': 0.3, 'n_layers': 2, 'second_layer_nodes': 5}\n",
      "0.412500 (0.021686) with: {'epochs': 300, 'first_layer_nodes': 5, 'learning_rate': 0.5, 'n_layers': 2, 'second_layer_nodes': 20}\n",
      "0.370913 (0.043608) with: {'epochs': 300, 'first_layer_nodes': 5, 'learning_rate': 0.5, 'n_layers': 2, 'second_layer_nodes': 10}\n",
      "0.350641 (0.053116) with: {'epochs': 300, 'first_layer_nodes': 5, 'learning_rate': 0.5, 'n_layers': 2, 'second_layer_nodes': 5}\n",
      "0.268109 (0.038813) with: {'epochs': 500, 'first_layer_nodes': 20, 'learning_rate': 0.01, 'n_layers': 2, 'second_layer_nodes': 20}\n",
      "0.278365 (0.012726) with: {'epochs': 500, 'first_layer_nodes': 20, 'learning_rate': 0.01, 'n_layers': 2, 'second_layer_nodes': 10}\n",
      "0.221314 (0.046434) with: {'epochs': 500, 'first_layer_nodes': 20, 'learning_rate': 0.01, 'n_layers': 2, 'second_layer_nodes': 5}\n",
      "0.392067 (0.061619) with: {'epochs': 500, 'first_layer_nodes': 20, 'learning_rate': 0.15, 'n_layers': 2, 'second_layer_nodes': 20}\n",
      "0.396715 (0.026403) with: {'epochs': 500, 'first_layer_nodes': 20, 'learning_rate': 0.15, 'n_layers': 2, 'second_layer_nodes': 10}\n",
      "0.361058 (0.049409) with: {'epochs': 500, 'first_layer_nodes': 20, 'learning_rate': 0.15, 'n_layers': 2, 'second_layer_nodes': 5}\n",
      "0.355689 (0.012829) with: {'epochs': 500, 'first_layer_nodes': 20, 'learning_rate': 0.3, 'n_layers': 2, 'second_layer_nodes': 20}\n",
      "0.402163 (0.034358) with: {'epochs': 500, 'first_layer_nodes': 20, 'learning_rate': 0.3, 'n_layers': 2, 'second_layer_nodes': 10}\n",
      "0.371474 (0.068588) with: {'epochs': 500, 'first_layer_nodes': 20, 'learning_rate': 0.3, 'n_layers': 2, 'second_layer_nodes': 5}\n",
      "0.412580 (0.029349) with: {'epochs': 500, 'first_layer_nodes': 20, 'learning_rate': 0.5, 'n_layers': 2, 'second_layer_nodes': 20}\n",
      "0.422917 (0.034758) with: {'epochs': 500, 'first_layer_nodes': 20, 'learning_rate': 0.5, 'n_layers': 2, 'second_layer_nodes': 10}\n",
      "0.381651 (0.034118) with: {'epochs': 500, 'first_layer_nodes': 20, 'learning_rate': 0.5, 'n_layers': 2, 'second_layer_nodes': 5}\n",
      "0.241907 (0.051089) with: {'epochs': 500, 'first_layer_nodes': 10, 'learning_rate': 0.01, 'n_layers': 2, 'second_layer_nodes': 20}\n",
      "0.241987 (0.039037) with: {'epochs': 500, 'first_layer_nodes': 10, 'learning_rate': 0.01, 'n_layers': 2, 'second_layer_nodes': 10}\n",
      "0.159615 (0.061599) with: {'epochs': 500, 'first_layer_nodes': 10, 'learning_rate': 0.01, 'n_layers': 2, 'second_layer_nodes': 5}\n",
      "0.396955 (0.019956) with: {'epochs': 500, 'first_layer_nodes': 10, 'learning_rate': 0.15, 'n_layers': 2, 'second_layer_nodes': 20}\n",
      "0.381330 (0.035032) with: {'epochs': 500, 'first_layer_nodes': 10, 'learning_rate': 0.15, 'n_layers': 2, 'second_layer_nodes': 10}\n",
      "0.396474 (0.062297) with: {'epochs': 500, 'first_layer_nodes': 10, 'learning_rate': 0.15, 'n_layers': 2, 'second_layer_nodes': 5}\n",
      "0.417788 (0.036579) with: {'epochs': 500, 'first_layer_nodes': 10, 'learning_rate': 0.3, 'n_layers': 2, 'second_layer_nodes': 20}\n",
      "0.386619 (0.012877) with: {'epochs': 500, 'first_layer_nodes': 10, 'learning_rate': 0.3, 'n_layers': 2, 'second_layer_nodes': 10}\n",
      "0.324760 (0.025235) with: {'epochs': 500, 'first_layer_nodes': 10, 'learning_rate': 0.3, 'n_layers': 2, 'second_layer_nodes': 5}\n",
      "0.397035 (0.021594) with: {'epochs': 500, 'first_layer_nodes': 10, 'learning_rate': 0.5, 'n_layers': 2, 'second_layer_nodes': 20}\n",
      "0.355929 (0.036132) with: {'epochs': 500, 'first_layer_nodes': 10, 'learning_rate': 0.5, 'n_layers': 2, 'second_layer_nodes': 10}\n",
      "0.386699 (0.046088) with: {'epochs': 500, 'first_layer_nodes': 10, 'learning_rate': 0.5, 'n_layers': 2, 'second_layer_nodes': 5}\n",
      "0.149359 (0.047219) with: {'epochs': 500, 'first_layer_nodes': 5, 'learning_rate': 0.01, 'n_layers': 2, 'second_layer_nodes': 20}\n",
      "0.185417 (0.054314) with: {'epochs': 500, 'first_layer_nodes': 5, 'learning_rate': 0.01, 'n_layers': 2, 'second_layer_nodes': 10}\n",
      "0.247436 (0.012692) with: {'epochs': 500, 'first_layer_nodes': 5, 'learning_rate': 0.01, 'n_layers': 2, 'second_layer_nodes': 5}\n",
      "0.335096 (0.019811) with: {'epochs': 500, 'first_layer_nodes': 5, 'learning_rate': 0.15, 'n_layers': 2, 'second_layer_nodes': 20}\n",
      "0.299199 (0.059305) with: {'epochs': 500, 'first_layer_nodes': 5, 'learning_rate': 0.15, 'n_layers': 2, 'second_layer_nodes': 10}\n",
      "0.330208 (0.061303) with: {'epochs': 500, 'first_layer_nodes': 5, 'learning_rate': 0.15, 'n_layers': 2, 'second_layer_nodes': 5}\n",
      "0.386779 (0.056040) with: {'epochs': 500, 'first_layer_nodes': 5, 'learning_rate': 0.3, 'n_layers': 2, 'second_layer_nodes': 20}\n",
      "0.371074 (0.010386) with: {'epochs': 500, 'first_layer_nodes': 5, 'learning_rate': 0.3, 'n_layers': 2, 'second_layer_nodes': 10}\n",
      "0.340304 (0.023170) with: {'epochs': 500, 'first_layer_nodes': 5, 'learning_rate': 0.3, 'n_layers': 2, 'second_layer_nodes': 5}\n",
      "0.334856 (0.026856) with: {'epochs': 500, 'first_layer_nodes': 5, 'learning_rate': 0.5, 'n_layers': 2, 'second_layer_nodes': 20}\n",
      "0.371314 (0.035234) with: {'epochs': 500, 'first_layer_nodes': 5, 'learning_rate': 0.5, 'n_layers': 2, 'second_layer_nodes': 10}\n",
      "0.350641 (0.114358) with: {'epochs': 500, 'first_layer_nodes': 5, 'learning_rate': 0.5, 'n_layers': 2, 'second_layer_nodes': 5}\n"
     ]
    }
   ],
   "source": [
    "print(\"Best: %f using %s\" % (grid_result.best_score_, grid_result.best_params_))\n",
    "means = grid_result.cv_results_['mean_test_score']\n",
    "stds = grid_result.cv_results_['std_test_score']\n",
    "params = grid_result.cv_results_['params']\n",
    "for mean, stdev, param in zip(means, stds, params):\n",
    "    print(\"%f (%f) with: %r\" % (mean, stdev, param))"
   ]
  },
  {
   "cell_type": "markdown",
   "id": "2462aae8",
   "metadata": {},
   "source": [
    "### Decision Trees"
   ]
  },
  {
   "cell_type": "code",
   "execution_count": 51,
   "id": "b7dde121",
   "metadata": {},
   "outputs": [],
   "source": [
    "import numpy as np\n",
    "from sklearn.tree import DecisionTreeClassifier\n",
    "from sklearn.model_selection import train_test_split\n",
    "from sklearn.metrics import confusion_matrix\n",
    "from sklearn.metrics import classification_report\n",
    "from sklearn.metrics import plot_confusion_matrix\n",
    "from sklearn.metrics import accuracy_score\n",
    "\n",
    "flagsTrain, flagsTest, landTrain, landTest = train_test_split(flagsScaled, land, test_size = 0.20, random_state=5)\n",
    "tree_model = DecisionTreeClassifier().fit(flagsTrain, landTrain)\n",
    "tree_pred = tree_model.predict(flagsTest)"
   ]
  },
  {
   "cell_type": "code",
   "execution_count": 53,
   "id": "6ace53e1",
   "metadata": {},
   "outputs": [
    {
     "name": "stdout",
     "output_type": "stream",
     "text": [
      "Accuracy:  0.4358974358974359\n",
      "Classification Report: \n",
      "               precision    recall  f1-score   support\n",
      "\n",
      "           0       0.56      0.56      0.56         9\n",
      "           1       0.00      0.00      0.00         2\n",
      "           2       0.75      0.33      0.46         9\n",
      "           3       0.70      0.64      0.67        11\n",
      "           4       0.20      0.25      0.22         4\n",
      "           5       0.17      0.25      0.20         4\n",
      "\n",
      "   micro avg       0.44      0.44      0.44        39\n",
      "   macro avg       0.40      0.34      0.35        39\n",
      "weighted avg       0.54      0.44      0.47        39\n",
      " samples avg       0.44      0.44      0.44        39\n",
      "\n",
      "Confusion Matrix: \n",
      " [[5 1 0 1 2 0]\n",
      " [0 0 0 1 0 1]\n",
      " [1 2 3 0 1 2]\n",
      " [0 1 1 7 1 1]\n",
      " [0 1 0 1 1 1]\n",
      " [3 0 0 0 0 1]]\n"
     ]
    }
   ],
   "source": [
    "print(\"Accuracy: \", accuracy_score(landTest, tree_pred))\n",
    "print(\"Classification Report: \\n\", classification_report(landTest, tree_pred))\n",
    "print(\"Confusion Matrix: \\n\", confusion_matrix(np.argmax(landTest, axis=1), np.argmax(tree_pred, axis=1)))"
   ]
  },
  {
   "cell_type": "markdown",
   "id": "842c9342",
   "metadata": {},
   "source": [
    "# TODO//Do hyper tension to see if we can get better results\n",
    "As of now, elements of a flag are not a good characterist to see what landmass the flag is from.  Stay tuned for another episode of fun with flags."
   ]
  },
  {
   "cell_type": "markdown",
   "id": "ea3df003",
   "metadata": {},
   "source": [
    "# Fun With Flags Episode 2: Can flag metrics predict language?\n",
    "Probably not lol"
   ]
  },
  {
   "cell_type": "code",
   "execution_count": 35,
   "id": "e86c28b4",
   "metadata": {},
   "outputs": [],
   "source": [
    "from tensorflow.keras.models import Sequential\n",
    "from tensorflow.keras.layers import Dense\n",
    "from tensorflow.keras.optimizers import SGD\n",
    "\n",
    "model = Sequential()\n",
    "\n",
    "layers = [\n",
    "    Dense(20, activation='relu', name='layer1'),\n",
    "    Dense(15, activation='relu', name='layer2'),\n",
    "    Dense(10, activation='sigmoid', name='Output')\n",
    "]\n",
    "\n",
    "for layer in layers:\n",
    "    model.add(layer)\n",
    "\n",
    "model.compile(optimizer=SGD(learning_rate=.3), loss='mse', metrics=['accuracy'])\n",
    "hist = model.fit(flagsScaled, lang, validation_split=.2, epochs=150, verbose=0)"
   ]
  },
  {
   "cell_type": "code",
   "execution_count": 36,
   "id": "39087648",
   "metadata": {},
   "outputs": [
    {
     "name": "stdout",
     "output_type": "stream",
     "text": [
      "Training Error: 0.078\n",
      "Training Accuracy: 0.348\n"
     ]
    }
   ],
   "source": [
    "from sklearn.model_selection import train_test_split\n",
    "\n",
    "flagsTrain, flagsTest, langTrain, langTest = train_test_split(flagsScaled, lang, test_size = 0.20, random_state=5)\n",
    "\n",
    "pred_train= model.predict(flagsTrain)\n",
    "score, acc = model.evaluate(flagsTrain, langTrain, verbose=0)\n",
    "print('Training Error: %.3f' % score)\n",
    "print('Training Accuracy: %.3f' % acc)"
   ]
  },
  {
   "cell_type": "code",
   "execution_count": 37,
   "id": "4004cccb",
   "metadata": {},
   "outputs": [
    {
     "name": "stdout",
     "output_type": "stream",
     "text": [
      "Test Error: 0.070\n",
      "Test Accuracy: 0.385\n"
     ]
    }
   ],
   "source": [
    "pred_train= model.predict(flagsTest)\n",
    "score, acc = model.evaluate(flagsTest, langTest, verbose=0)\n",
    "print('Test Error: %.3f' % score)\n",
    "print('Test Accuracy: %.3f' % acc)"
   ]
  },
  {
   "cell_type": "code",
   "execution_count": 38,
   "id": "5f3d67c2",
   "metadata": {},
   "outputs": [
    {
     "data": {
      "image/png": "[encoded data removed]",
      "text/plain": [
       "<Figure size 432x288 with 1 Axes>"
      ]
     },
     "metadata": {
      "needs_background": "light"
     },
     "output_type": "display_data"
    }
   ],
   "source": [
    "import matplotlib.pyplot as plt\n",
    "\n",
    "plt.plot(hist.history['loss'])\n",
    "plt.plot(hist.history['val_loss'])\n",
    "plt.title('Model Loss Curve')\n",
    "plt.ylabel('Loss')\n",
    "plt.xlabel('Epoch')\n",
    "plt.legend(['train', 'test'], loc='upper right')\n",
    "plt.show()"
   ]
  },
  {
   "cell_type": "code",
   "execution_count": 39,
   "id": "39af62c2",
   "metadata": {},
   "outputs": [
    {
     "data": {
      "image/png": "[encoded data removed]",
      "text/plain": [
       "<Figure size 432x288 with 1 Axes>"
      ]
     },
     "metadata": {
      "needs_background": "light"
     },
     "output_type": "display_data"
    }
   ],
   "source": [
    "plt.plot(hist.history['accuracy'])\n",
    "plt.plot(hist.history['val_accuracy'])\n",
    "plt.title('Model Accuracy')\n",
    "plt.ylabel('Accuracy')\n",
    "plt.xlabel('Epochs')\n",
    "plt.legend(['train', 'test'], loc='upper left')\n",
    "plt.show()"
   ]
  },
  {
   "cell_type": "code",
   "execution_count": 40,
   "id": "a4a0ddbf",
   "metadata": {},
   "outputs": [],
   "source": [
    "import warnings\n",
    "warnings.filterwarnings(\"ignore\", category=DeprecationWarning)\n",
    "import os\n",
    "os.environ['CUDA_VISIBLE_DEVICES'] = \"0\"\n",
    "from sklearn.model_selection import GridSearchCV, RandomizedSearchCV\n",
    "from keras.models import Sequential\n",
    "from keras.layers import Dense, Dropout\n",
    "from keras.wrappers.scikit_learn import KerasClassifier\n",
    "#from keras.optimizers import Adam\n",
    "\n",
    "def createmodel(n_layers, first_layer_nodes, second_layer_nodes, learning_rate=.1):\n",
    "    model = Sequential()\n",
    "    \n",
    "    #n_nodes = FindLayerNodesLinear(n_layers, first_layer_nodes, last_layer_nodes)\n",
    "    for i in range(2):\n",
    "        if i==1:\n",
    "            model.add(Dense(first_layer_nodes, activation='relu'))\n",
    "        else:\n",
    "            model.add(Dense(second_layer_nodes, activation='relu'))\n",
    "            \n",
    "    #Finally, the output layer should have a single node in binary classification\n",
    "    model.add(Dense(10, activation='sigmoid'))\n",
    "    model.compile(optimizer=SGD(learning_rate=learning_rate), \n",
    "                  loss='mse', metrics = [\"accuracy\"]) #note: metrics could also be 'mse'\n",
    "    \n",
    "    return model\n",
    "\n",
    "param_grid = dict(n_layers=[2], first_layer_nodes = [20, 10, 5], second_layer_nodes=[20,10,5],\n",
    "                  epochs = [150, 300, 500], learning_rate= [.01, .15, .3, .5])\n",
    "\n",
    "model = KerasClassifier(build_fn=createmodel, verbose=0)\n",
    "grid = GridSearchCV(estimator=model, param_grid=param_grid, n_jobs=-1, cv=3)\n",
    "grid_result = grid.fit(flagsScaled, lang)"
   ]
  },
  {
   "cell_type": "code",
   "execution_count": null,
   "id": "ff9df506",
   "metadata": {},
   "outputs": [],
   "source": [
    "print(\"Best: %f using %s\" % (grid_result.best_score_, grid_result.best_params_))\n",
    "means = grid_result.cv_results_['mean_test_score']\n",
    "stds = grid_result.cv_results_['std_test_score']\n",
    "params = grid_result.cv_results_['params']\n",
    "for mean, stdev, param in zip(means, stds, params):\n",
    "    print(\"%f (%f) with: %r\" % (mean, stdev, param))"
   ]
  },
  {
   "cell_type": "markdown",
   "id": "9ce4589a",
   "metadata": {},
   "source": [
    "# Fun With Flags episode 3: Religion"
   ]
  },
  {
   "cell_type": "code",
   "execution_count": null,
   "id": "5a3d6cc9",
   "metadata": {},
   "outputs": [],
   "source": [
    "from tensorflow.keras.models import Sequential\n",
    "from tensorflow.keras.layers import Dense\n",
    "from tensorflow.keras.optimizers import SGD\n",
    "\n",
    "model = Sequential()\n",
    "\n",
    "layers = [\n",
    "    Dense(20, activation='relu', name='layer1'),\n",
    "    Dense(15, activation='relu', name='layer2'),\n",
    "    Dense(8, activation='sigmoid', name='Output')\n",
    "]\n",
    "\n",
    "for layer in layers:\n",
    "    model.add(layer)\n",
    "\n",
    "model.compile(optimizer=SGD(learning_rate=.3), loss='mse', metrics=['accuracy'])\n",
    "hist = model.fit(flagsScaled, rlgn, validation_split=.2, epochs=50, verbose=0)"
   ]
  },
  {
   "cell_type": "code",
   "execution_count": null,
   "id": "bfbe4f0a",
   "metadata": {},
   "outputs": [],
   "source": [
    "from sklearn.model_selection import train_test_split\n",
    "\n",
    "flagsTrain, flagsTest, rlgnTrain, rlgnTest = train_test_split(flagsScaled, rlgn, test_size = 0.20, random_state=5)\n",
    "\n",
    "pred_train= model.predict(flagsTrain)\n",
    "score, acc = model.evaluate(flagsTrain, rlgnTrain, verbose=0)\n",
    "print('Training Error: %.3f' % score)\n",
    "print('Training Accuracy: %.3f' % acc)"
   ]
  },
  {
   "cell_type": "code",
   "execution_count": null,
   "id": "9e55a66e",
   "metadata": {},
   "outputs": [],
   "source": [
    "pred_train= model.predict(flagsTest)\n",
    "score, acc = model.evaluate(flagsTest, rlgnTest, verbose=0)\n",
    "print('Test Error: %.3f' % score)\n",
    "print('Test Accuracy: %.3f' % acc)"
   ]
  },
  {
   "cell_type": "code",
   "execution_count": null,
   "id": "b8bf0bd4",
   "metadata": {},
   "outputs": [],
   "source": [
    "plt.plot(hist.history['loss'])\n",
    "plt.plot(hist.history['val_loss'])\n",
    "plt.title('Model Loss Curve')\n",
    "plt.ylabel('Loss')\n",
    "plt.xlabel('Epoch')\n",
    "plt.legend(['train', 'test'], loc='upper right')\n",
    "plt.show()"
   ]
  },
  {
   "cell_type": "code",
   "execution_count": null,
   "id": "20e7f6e3",
   "metadata": {},
   "outputs": [],
   "source": [
    "plt.plot(hist.history['accuracy'])\n",
    "plt.plot(hist.history['val_accuracy'])\n",
    "plt.title('Model Accuracy')\n",
    "plt.ylabel('Accuracy')\n",
    "plt.xlabel('Epochs')\n",
    "plt.legend(['train', 'test'], loc='upper left')\n",
    "plt.show()"
   ]
  },
  {
   "cell_type": "code",
   "execution_count": null,
   "id": "446e512d",
   "metadata": {},
   "outputs": [],
   "source": [
    "import warnings\n",
    "warnings.filterwarnings(\"ignore\", category=DeprecationWarning)\n",
    "import os\n",
    "os.environ['CUDA_VISIBLE_DEVICES'] = \"0\"\n",
    "from sklearn.model_selection import GridSearchCV, RandomizedSearchCV\n",
    "from keras.models import Sequential\n",
    "from keras.layers import Dense, Dropout\n",
    "from keras.wrappers.scikit_learn import KerasClassifier\n",
    "#from keras.optimizers import Adam\n",
    "\n",
    "def createmodel(n_layers, first_layer_nodes, second_layer_nodes, learning_rate=.1):\n",
    "    model = Sequential()\n",
    "    \n",
    "    #n_nodes = FindLayerNodesLinear(n_layers, first_layer_nodes, last_layer_nodes)\n",
    "    for i in range(2):\n",
    "        if i==1:\n",
    "            model.add(Dense(first_layer_nodes, activation='relu'))\n",
    "        else:\n",
    "            model.add(Dense(second_layer_nodes, activation='relu'))\n",
    "            \n",
    "    #Finally, the output layer should have a single node in binary classification\n",
    "    model.add(Dense(8, activation='sigmoid'))\n",
    "    model.compile(optimizer=SGD(learning_rate=learning_rate), \n",
    "                  loss='mse', metrics = [\"accuracy\"]) #note: metrics could also be 'mse'\n",
    "    \n",
    "    return model\n",
    "\n",
    "param_grid = dict(n_layers=[2], first_layer_nodes = [20, 10, 5], second_layer_nodes=[20,10,5],\n",
    "                  epochs = [150, 300, 500], learning_rate= [.01, .15, .3, .5])\n",
    "\n",
    "model = KerasClassifier(build_fn=createmodel, verbose=0)\n",
    "grid = GridSearchCV(estimator=model, param_grid=param_grid, n_jobs=-1, cv=3)\n",
    "grid_result = grid.fit(flagsScaled, rlgn)"
   ]
  },
  {
   "cell_type": "code",
   "execution_count": null,
   "id": "aa4d3776",
   "metadata": {},
   "outputs": [],
   "source": [
    "print(\"Best: %f using %s\" % (grid_result.best_score_, grid_result.best_params_))\n",
    "means = grid_result.cv_results_['mean_test_score']\n",
    "stds = grid_result.cv_results_['std_test_score']\n",
    "params = grid_result.cv_results_['params']\n",
    "for mean, stdev, param in zip(means, stds, params):\n",
    "    print(\"%f (%f) with: %r\" % (mean, stdev, param))"
   ]
  }
 ],
 "metadata": {
  "kernelspec": {
   "display_name": "Python 3 (ipykernel)",
   "language": "python",
   "name": "python3"
  },
  "language_info": {
   "codemirror_mode": {
    "name": "ipython",
    "version": 3
   },
   "file_extension": ".py",
   "mimetype": "text/x-python",
   "name": "python",
   "nbconvert_exporter": "python",
   "pygments_lexer": "ipython3",
   "version": "3.8.9"
  }
 },
 "nbformat": 4,
 "nbformat_minor": 5
}
